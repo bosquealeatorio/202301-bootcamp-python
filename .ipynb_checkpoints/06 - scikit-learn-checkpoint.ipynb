{
 "cells": [
  {
   "cell_type": "markdown",
   "metadata": {},
   "source": [
    "# Scikit-learn for feature processing and training"
   ]
  },
  {
   "cell_type": "markdown",
   "metadata": {},
   "source": [
    "### environment"
   ]
  },
  {
   "cell_type": "code",
   "execution_count": 1,
   "metadata": {
    "scrolled": true
   },
   "outputs": [
    {
     "data": {
      "text/plain": [
       "'3.9.7 (default, Sep 16 2021, 08:50:36) \\n[Clang 10.0.0 ]'"
      ]
     },
     "execution_count": 1,
     "metadata": {},
     "output_type": "execute_result"
    }
   ],
   "source": [
    "import sys\n",
    "sys.version"
   ]
  },
  {
   "cell_type": "markdown",
   "metadata": {},
   "source": [
    "### imports"
   ]
  },
  {
   "cell_type": "code",
   "execution_count": 2,
   "metadata": {
    "scrolled": true
   },
   "outputs": [],
   "source": [
    "%load_ext autoreload\n",
    "%autoreload 2\n",
    "%matplotlib inline\n",
    "%config InlineBackend.figure_format = 'retina'\n",
    "\n",
    "#libraries\n",
    "######################################################################\n",
    "\n",
    "import os\n",
    "import numpy as np\n",
    "import pandas as pd\n",
    "import sklearn\n",
    "import matplotlib.pyplot as plt\n",
    "import seaborn as sns\n",
    "\n",
    "import pickle\n",
    "\n",
    "#configuration options\n",
    "######################################################################\n",
    "\n",
    "pd.set_option('display.max_columns', 1000)\n",
    "pd.set_option('display.max_rows', 400)\n",
    "sns.set()\n",
    "\n",
    "seed = 12345"
   ]
  },
  {
   "cell_type": "code",
   "execution_count": 3,
   "metadata": {
    "scrolled": false
   },
   "outputs": [
    {
     "data": {
      "text/plain": [
       "'1.3.4'"
      ]
     },
     "execution_count": 3,
     "metadata": {},
     "output_type": "execute_result"
    }
   ],
   "source": [
    "pd.__version__"
   ]
  },
  {
   "cell_type": "code",
   "execution_count": 4,
   "metadata": {
    "scrolled": true
   },
   "outputs": [
    {
     "data": {
      "text/plain": [
       "'1.21.0'"
      ]
     },
     "execution_count": 4,
     "metadata": {},
     "output_type": "execute_result"
    }
   ],
   "source": [
    "np.__version__"
   ]
  },
  {
   "cell_type": "code",
   "execution_count": 5,
   "metadata": {
    "scrolled": true
   },
   "outputs": [
    {
     "data": {
      "text/plain": [
       "'0.24.2'"
      ]
     },
     "execution_count": 5,
     "metadata": {},
     "output_type": "execute_result"
    }
   ],
   "source": [
    "sklearn.__version__"
   ]
  },
  {
   "cell_type": "markdown",
   "metadata": {},
   "source": [
    "## dataset"
   ]
  },
  {
   "cell_type": "code",
   "execution_count": 6,
   "metadata": {},
   "outputs": [],
   "source": [
    "from sklearn.datasets import fetch_openml\n",
    "from sklearn.model_selection import train_test_split"
   ]
  },
  {
   "cell_type": "code",
   "execution_count": 7,
   "metadata": {},
   "outputs": [],
   "source": [
    "X, y = fetch_openml(\"titanic\", version=1, as_frame=True, return_X_y=True)"
   ]
  },
  {
   "cell_type": "code",
   "execution_count": 8,
   "metadata": {},
   "outputs": [
    {
     "data": {
      "text/html": [
       "<div>\n",
       "<style scoped>\n",
       "    .dataframe tbody tr th:only-of-type {\n",
       "        vertical-align: middle;\n",
       "    }\n",
       "\n",
       "    .dataframe tbody tr th {\n",
       "        vertical-align: top;\n",
       "    }\n",
       "\n",
       "    .dataframe thead th {\n",
       "        text-align: right;\n",
       "    }\n",
       "</style>\n",
       "<table border=\"1\" class=\"dataframe\">\n",
       "  <thead>\n",
       "    <tr style=\"text-align: right;\">\n",
       "      <th></th>\n",
       "      <th>pclass</th>\n",
       "      <th>name</th>\n",
       "      <th>sex</th>\n",
       "      <th>age</th>\n",
       "      <th>sibsp</th>\n",
       "      <th>parch</th>\n",
       "      <th>ticket</th>\n",
       "      <th>fare</th>\n",
       "      <th>cabin</th>\n",
       "      <th>embarked</th>\n",
       "      <th>boat</th>\n",
       "      <th>body</th>\n",
       "      <th>home.dest</th>\n",
       "    </tr>\n",
       "  </thead>\n",
       "  <tbody>\n",
       "    <tr>\n",
       "      <th>0</th>\n",
       "      <td>1.0</td>\n",
       "      <td>Allen, Miss. Elisabeth Walton</td>\n",
       "      <td>female</td>\n",
       "      <td>29.0000</td>\n",
       "      <td>0.0</td>\n",
       "      <td>0.0</td>\n",
       "      <td>24160</td>\n",
       "      <td>211.3375</td>\n",
       "      <td>B5</td>\n",
       "      <td>S</td>\n",
       "      <td>2</td>\n",
       "      <td>NaN</td>\n",
       "      <td>St Louis, MO</td>\n",
       "    </tr>\n",
       "    <tr>\n",
       "      <th>1</th>\n",
       "      <td>1.0</td>\n",
       "      <td>Allison, Master. Hudson Trevor</td>\n",
       "      <td>male</td>\n",
       "      <td>0.9167</td>\n",
       "      <td>1.0</td>\n",
       "      <td>2.0</td>\n",
       "      <td>113781</td>\n",
       "      <td>151.5500</td>\n",
       "      <td>C22 C26</td>\n",
       "      <td>S</td>\n",
       "      <td>11</td>\n",
       "      <td>NaN</td>\n",
       "      <td>Montreal, PQ / Chesterville, ON</td>\n",
       "    </tr>\n",
       "    <tr>\n",
       "      <th>2</th>\n",
       "      <td>1.0</td>\n",
       "      <td>Allison, Miss. Helen Loraine</td>\n",
       "      <td>female</td>\n",
       "      <td>2.0000</td>\n",
       "      <td>1.0</td>\n",
       "      <td>2.0</td>\n",
       "      <td>113781</td>\n",
       "      <td>151.5500</td>\n",
       "      <td>C22 C26</td>\n",
       "      <td>S</td>\n",
       "      <td>None</td>\n",
       "      <td>NaN</td>\n",
       "      <td>Montreal, PQ / Chesterville, ON</td>\n",
       "    </tr>\n",
       "    <tr>\n",
       "      <th>3</th>\n",
       "      <td>1.0</td>\n",
       "      <td>Allison, Mr. Hudson Joshua Creighton</td>\n",
       "      <td>male</td>\n",
       "      <td>30.0000</td>\n",
       "      <td>1.0</td>\n",
       "      <td>2.0</td>\n",
       "      <td>113781</td>\n",
       "      <td>151.5500</td>\n",
       "      <td>C22 C26</td>\n",
       "      <td>S</td>\n",
       "      <td>None</td>\n",
       "      <td>135.0</td>\n",
       "      <td>Montreal, PQ / Chesterville, ON</td>\n",
       "    </tr>\n",
       "    <tr>\n",
       "      <th>4</th>\n",
       "      <td>1.0</td>\n",
       "      <td>Allison, Mrs. Hudson J C (Bessie Waldo Daniels)</td>\n",
       "      <td>female</td>\n",
       "      <td>25.0000</td>\n",
       "      <td>1.0</td>\n",
       "      <td>2.0</td>\n",
       "      <td>113781</td>\n",
       "      <td>151.5500</td>\n",
       "      <td>C22 C26</td>\n",
       "      <td>S</td>\n",
       "      <td>None</td>\n",
       "      <td>NaN</td>\n",
       "      <td>Montreal, PQ / Chesterville, ON</td>\n",
       "    </tr>\n",
       "  </tbody>\n",
       "</table>\n",
       "</div>"
      ],
      "text/plain": [
       "   pclass                                             name     sex      age  \\\n",
       "0     1.0                    Allen, Miss. Elisabeth Walton  female  29.0000   \n",
       "1     1.0                   Allison, Master. Hudson Trevor    male   0.9167   \n",
       "2     1.0                     Allison, Miss. Helen Loraine  female   2.0000   \n",
       "3     1.0             Allison, Mr. Hudson Joshua Creighton    male  30.0000   \n",
       "4     1.0  Allison, Mrs. Hudson J C (Bessie Waldo Daniels)  female  25.0000   \n",
       "\n",
       "   sibsp  parch  ticket      fare    cabin embarked  boat   body  \\\n",
       "0    0.0    0.0   24160  211.3375       B5        S     2    NaN   \n",
       "1    1.0    2.0  113781  151.5500  C22 C26        S    11    NaN   \n",
       "2    1.0    2.0  113781  151.5500  C22 C26        S  None    NaN   \n",
       "3    1.0    2.0  113781  151.5500  C22 C26        S  None  135.0   \n",
       "4    1.0    2.0  113781  151.5500  C22 C26        S  None    NaN   \n",
       "\n",
       "                         home.dest  \n",
       "0                     St Louis, MO  \n",
       "1  Montreal, PQ / Chesterville, ON  \n",
       "2  Montreal, PQ / Chesterville, ON  \n",
       "3  Montreal, PQ / Chesterville, ON  \n",
       "4  Montreal, PQ / Chesterville, ON  "
      ]
     },
     "execution_count": 8,
     "metadata": {},
     "output_type": "execute_result"
    }
   ],
   "source": [
    "X.head()"
   ]
  },
  {
   "cell_type": "code",
   "execution_count": 9,
   "metadata": {},
   "outputs": [
    {
     "data": {
      "text/plain": [
       "0    1\n",
       "1    1\n",
       "2    0\n",
       "3    0\n",
       "4    0\n",
       "Name: survived, dtype: category\n",
       "Categories (2, object): ['0', '1']"
      ]
     },
     "execution_count": 9,
     "metadata": {},
     "output_type": "execute_result"
    }
   ],
   "source": [
    "y.head()"
   ]
  },
  {
   "cell_type": "code",
   "execution_count": 10,
   "metadata": {},
   "outputs": [],
   "source": [
    "from sklearn.model_selection import train_test_split\n",
    "\n",
    "X_train, X_test, y_train, y_test = train_test_split(X, y, test_size=0.2, random_state=seed)"
   ]
  },
  {
   "cell_type": "code",
   "execution_count": 11,
   "metadata": {},
   "outputs": [
    {
     "data": {
      "text/plain": [
       "((1309, 13), (1309,))"
      ]
     },
     "execution_count": 11,
     "metadata": {},
     "output_type": "execute_result"
    }
   ],
   "source": [
    "X.shape, y.shape"
   ]
  },
  {
   "cell_type": "code",
   "execution_count": 12,
   "metadata": {},
   "outputs": [
    {
     "data": {
      "text/plain": [
       "((1047, 13), (262, 13))"
      ]
     },
     "execution_count": 12,
     "metadata": {},
     "output_type": "execute_result"
    }
   ],
   "source": [
    "X_train.shape, X_test.shape"
   ]
  },
  {
   "cell_type": "code",
   "execution_count": 13,
   "metadata": {},
   "outputs": [
    {
     "data": {
      "text/plain": [
       "((1047,), (262,))"
      ]
     },
     "execution_count": 13,
     "metadata": {},
     "output_type": "execute_result"
    }
   ],
   "source": [
    "y_train.shape, y_test.shape"
   ]
  },
  {
   "cell_type": "markdown",
   "metadata": {},
   "source": [
    "# preprocessing"
   ]
  },
  {
   "cell_type": "markdown",
   "metadata": {},
   "source": [
    "### na imputation"
   ]
  },
  {
   "cell_type": "code",
   "execution_count": 14,
   "metadata": {},
   "outputs": [
    {
     "data": {
      "text/plain": [
       "pclass         0\n",
       "name           0\n",
       "sex            0\n",
       "age          203\n",
       "sibsp          0\n",
       "parch          0\n",
       "ticket         0\n",
       "fare           1\n",
       "cabin        820\n",
       "embarked       1\n",
       "boat         676\n",
       "body         950\n",
       "home.dest    438\n",
       "dtype: int64"
      ]
     },
     "execution_count": 14,
     "metadata": {},
     "output_type": "execute_result"
    }
   ],
   "source": [
    "X_train.isna().sum()"
   ]
  },
  {
   "cell_type": "code",
   "execution_count": 15,
   "metadata": {},
   "outputs": [
    {
     "data": {
      "text/plain": [
       "pclass        float64\n",
       "name           object\n",
       "sex          category\n",
       "age           float64\n",
       "sibsp         float64\n",
       "parch         float64\n",
       "ticket         object\n",
       "fare          float64\n",
       "cabin          object\n",
       "embarked     category\n",
       "boat           object\n",
       "body          float64\n",
       "home.dest      object\n",
       "dtype: object"
      ]
     },
     "execution_count": 15,
     "metadata": {},
     "output_type": "execute_result"
    }
   ],
   "source": [
    "X_train.dtypes"
   ]
  },
  {
   "cell_type": "markdown",
   "metadata": {},
   "source": [
    "the `pandas` way"
   ]
  },
  {
   "cell_type": "markdown",
   "metadata": {},
   "source": [
    "you can separate categorical from numeric and impute with different techniques"
   ]
  },
  {
   "cell_type": "code",
   "execution_count": 16,
   "metadata": {},
   "outputs": [
    {
     "data": {
      "text/html": [
       "<div>\n",
       "<style scoped>\n",
       "    .dataframe tbody tr th:only-of-type {\n",
       "        vertical-align: middle;\n",
       "    }\n",
       "\n",
       "    .dataframe tbody tr th {\n",
       "        vertical-align: top;\n",
       "    }\n",
       "\n",
       "    .dataframe thead th {\n",
       "        text-align: right;\n",
       "    }\n",
       "</style>\n",
       "<table border=\"1\" class=\"dataframe\">\n",
       "  <thead>\n",
       "    <tr style=\"text-align: right;\">\n",
       "      <th></th>\n",
       "      <th>pclass</th>\n",
       "      <th>age</th>\n",
       "      <th>sibsp</th>\n",
       "      <th>parch</th>\n",
       "      <th>fare</th>\n",
       "      <th>body</th>\n",
       "    </tr>\n",
       "  </thead>\n",
       "  <tbody>\n",
       "    <tr>\n",
       "      <th>0</th>\n",
       "      <td>1.0</td>\n",
       "      <td>29.0</td>\n",
       "      <td>0.0</td>\n",
       "      <td>0.0</td>\n",
       "      <td>211.3375</td>\n",
       "      <td>NaN</td>\n",
       "    </tr>\n",
       "    <tr>\n",
       "      <th>394</th>\n",
       "      <td>2.0</td>\n",
       "      <td>18.0</td>\n",
       "      <td>0.0</td>\n",
       "      <td>0.0</td>\n",
       "      <td>73.5000</td>\n",
       "      <td>NaN</td>\n",
       "    </tr>\n",
       "    <tr>\n",
       "      <th>547</th>\n",
       "      <td>2.0</td>\n",
       "      <td>23.0</td>\n",
       "      <td>0.0</td>\n",
       "      <td>0.0</td>\n",
       "      <td>15.0458</td>\n",
       "      <td>NaN</td>\n",
       "    </tr>\n",
       "    <tr>\n",
       "      <th>1155</th>\n",
       "      <td>3.0</td>\n",
       "      <td>NaN</td>\n",
       "      <td>0.0</td>\n",
       "      <td>0.0</td>\n",
       "      <td>7.7750</td>\n",
       "      <td>NaN</td>\n",
       "    </tr>\n",
       "    <tr>\n",
       "      <th>1178</th>\n",
       "      <td>3.0</td>\n",
       "      <td>NaN</td>\n",
       "      <td>8.0</td>\n",
       "      <td>2.0</td>\n",
       "      <td>69.5500</td>\n",
       "      <td>NaN</td>\n",
       "    </tr>\n",
       "  </tbody>\n",
       "</table>\n",
       "</div>"
      ],
      "text/plain": [
       "      pclass   age  sibsp  parch      fare  body\n",
       "0        1.0  29.0    0.0    0.0  211.3375   NaN\n",
       "394      2.0  18.0    0.0    0.0   73.5000   NaN\n",
       "547      2.0  23.0    0.0    0.0   15.0458   NaN\n",
       "1155     3.0   NaN    0.0    0.0    7.7750   NaN\n",
       "1178     3.0   NaN    8.0    2.0   69.5500   NaN"
      ]
     },
     "execution_count": 16,
     "metadata": {},
     "output_type": "execute_result"
    }
   ],
   "source": [
    "X_train.select_dtypes('number').head()"
   ]
  },
  {
   "cell_type": "code",
   "execution_count": 17,
   "metadata": {},
   "outputs": [
    {
     "data": {
      "text/html": [
       "<div>\n",
       "<style scoped>\n",
       "    .dataframe tbody tr th:only-of-type {\n",
       "        vertical-align: middle;\n",
       "    }\n",
       "\n",
       "    .dataframe tbody tr th {\n",
       "        vertical-align: top;\n",
       "    }\n",
       "\n",
       "    .dataframe thead th {\n",
       "        text-align: right;\n",
       "    }\n",
       "</style>\n",
       "<table border=\"1\" class=\"dataframe\">\n",
       "  <thead>\n",
       "    <tr style=\"text-align: right;\">\n",
       "      <th></th>\n",
       "      <th>name</th>\n",
       "      <th>ticket</th>\n",
       "      <th>cabin</th>\n",
       "      <th>boat</th>\n",
       "      <th>home.dest</th>\n",
       "    </tr>\n",
       "  </thead>\n",
       "  <tbody>\n",
       "    <tr>\n",
       "      <th>0</th>\n",
       "      <td>Allen, Miss. Elisabeth Walton</td>\n",
       "      <td>24160</td>\n",
       "      <td>B5</td>\n",
       "      <td>2</td>\n",
       "      <td>St Louis, MO</td>\n",
       "    </tr>\n",
       "    <tr>\n",
       "      <th>394</th>\n",
       "      <td>Dibden, Mr. William</td>\n",
       "      <td>S.O.C. 14879</td>\n",
       "      <td>None</td>\n",
       "      <td>None</td>\n",
       "      <td>New Forest, England</td>\n",
       "    </tr>\n",
       "    <tr>\n",
       "      <th>547</th>\n",
       "      <td>Richard, Mr. Emile</td>\n",
       "      <td>SC/PARIS 2133</td>\n",
       "      <td>None</td>\n",
       "      <td>None</td>\n",
       "      <td>Paris / Montreal, PQ</td>\n",
       "    </tr>\n",
       "    <tr>\n",
       "      <th>1155</th>\n",
       "      <td>Rommetvedt, Mr. Knud Paust</td>\n",
       "      <td>312993</td>\n",
       "      <td>None</td>\n",
       "      <td>None</td>\n",
       "      <td>None</td>\n",
       "    </tr>\n",
       "    <tr>\n",
       "      <th>1178</th>\n",
       "      <td>Sage, Mr. George John Jr</td>\n",
       "      <td>CA. 2343</td>\n",
       "      <td>None</td>\n",
       "      <td>None</td>\n",
       "      <td>None</td>\n",
       "    </tr>\n",
       "  </tbody>\n",
       "</table>\n",
       "</div>"
      ],
      "text/plain": [
       "                               name         ticket cabin  boat  \\\n",
       "0     Allen, Miss. Elisabeth Walton          24160    B5     2   \n",
       "394             Dibden, Mr. William   S.O.C. 14879  None  None   \n",
       "547              Richard, Mr. Emile  SC/PARIS 2133  None  None   \n",
       "1155     Rommetvedt, Mr. Knud Paust         312993  None  None   \n",
       "1178       Sage, Mr. George John Jr       CA. 2343  None  None   \n",
       "\n",
       "                 home.dest  \n",
       "0             St Louis, MO  \n",
       "394    New Forest, England  \n",
       "547   Paris / Montreal, PQ  \n",
       "1155                  None  \n",
       "1178                  None  "
      ]
     },
     "execution_count": 17,
     "metadata": {},
     "output_type": "execute_result"
    }
   ],
   "source": [
    "X_train.select_dtypes('object').head()"
   ]
  },
  {
   "cell_type": "code",
   "execution_count": 18,
   "metadata": {},
   "outputs": [],
   "source": [
    "X_copy = X_train.copy()"
   ]
  },
  {
   "cell_type": "markdown",
   "metadata": {},
   "source": [
    "you can use pandas functions to fill null values"
   ]
  },
  {
   "cell_type": "code",
   "execution_count": 19,
   "metadata": {},
   "outputs": [],
   "source": [
    "X_copy.age = X_copy.age.fillna(X_copy.age.median())"
   ]
  },
  {
   "cell_type": "code",
   "execution_count": 20,
   "metadata": {},
   "outputs": [
    {
     "data": {
      "text/plain": [
       "C23 C25 C27    5\n",
       "G6             5\n",
       "F2             4\n",
       "A34            3\n",
       "C101           3\n",
       "Name: cabin, dtype: int64"
      ]
     },
     "execution_count": 20,
     "metadata": {},
     "output_type": "execute_result"
    }
   ],
   "source": [
    "X_copy.cabin.value_counts().head()"
   ]
  },
  {
   "cell_type": "code",
   "execution_count": 21,
   "metadata": {},
   "outputs": [],
   "source": [
    "X_copy.cabin = X_copy.cabin.fillna('Other')"
   ]
  },
  {
   "cell_type": "code",
   "execution_count": 22,
   "metadata": {},
   "outputs": [
    {
     "data": {
      "text/plain": [
       "pclass         0\n",
       "name           0\n",
       "sex            0\n",
       "age            0\n",
       "sibsp          0\n",
       "parch          0\n",
       "ticket         0\n",
       "fare           1\n",
       "cabin          0\n",
       "embarked       1\n",
       "boat         676\n",
       "body         950\n",
       "home.dest    438\n",
       "dtype: int64"
      ]
     },
     "execution_count": 22,
     "metadata": {},
     "output_type": "execute_result"
    }
   ],
   "source": [
    "X_copy.isna().sum()"
   ]
  },
  {
   "cell_type": "markdown",
   "metadata": {},
   "source": [
    "the `scikit-learn` way"
   ]
  },
  {
   "cell_type": "code",
   "execution_count": 23,
   "metadata": {},
   "outputs": [],
   "source": [
    "from sklearn.impute import SimpleImputer"
   ]
  },
  {
   "cell_type": "code",
   "execution_count": 24,
   "metadata": {},
   "outputs": [
    {
     "data": {
      "text/plain": [
       "pclass         0\n",
       "name           0\n",
       "sex            0\n",
       "age          203\n",
       "sibsp          0\n",
       "parch          0\n",
       "ticket         0\n",
       "fare           1\n",
       "cabin        820\n",
       "embarked       1\n",
       "boat         676\n",
       "body         950\n",
       "home.dest    438\n",
       "dtype: int64"
      ]
     },
     "execution_count": 24,
     "metadata": {},
     "output_type": "execute_result"
    }
   ],
   "source": [
    "X_train.isna().sum()"
   ]
  },
  {
   "cell_type": "code",
   "execution_count": 25,
   "metadata": {},
   "outputs": [],
   "source": [
    "X_copy = X_train.copy()"
   ]
  },
  {
   "cell_type": "code",
   "execution_count": 26,
   "metadata": {},
   "outputs": [],
   "source": [
    "imputer = SimpleImputer(strategy = 'median')"
   ]
  },
  {
   "cell_type": "code",
   "execution_count": 27,
   "metadata": {},
   "outputs": [
    {
     "data": {
      "text/html": [
       "<div>\n",
       "<style scoped>\n",
       "    .dataframe tbody tr th:only-of-type {\n",
       "        vertical-align: middle;\n",
       "    }\n",
       "\n",
       "    .dataframe tbody tr th {\n",
       "        vertical-align: top;\n",
       "    }\n",
       "\n",
       "    .dataframe thead th {\n",
       "        text-align: right;\n",
       "    }\n",
       "</style>\n",
       "<table border=\"1\" class=\"dataframe\">\n",
       "  <thead>\n",
       "    <tr style=\"text-align: right;\">\n",
       "      <th></th>\n",
       "      <th>pclass</th>\n",
       "      <th>age</th>\n",
       "      <th>sibsp</th>\n",
       "      <th>parch</th>\n",
       "      <th>fare</th>\n",
       "      <th>body</th>\n",
       "    </tr>\n",
       "  </thead>\n",
       "  <tbody>\n",
       "    <tr>\n",
       "      <th>0</th>\n",
       "      <td>1.0</td>\n",
       "      <td>29.0</td>\n",
       "      <td>0.0</td>\n",
       "      <td>0.0</td>\n",
       "      <td>211.3375</td>\n",
       "      <td>NaN</td>\n",
       "    </tr>\n",
       "  </tbody>\n",
       "</table>\n",
       "</div>"
      ],
      "text/plain": [
       "   pclass   age  sibsp  parch      fare  body\n",
       "0     1.0  29.0    0.0    0.0  211.3375   NaN"
      ]
     },
     "execution_count": 27,
     "metadata": {},
     "output_type": "execute_result"
    }
   ],
   "source": [
    "X_copy_num = X_copy.select_dtypes('number')\n",
    "X_copy_num.head(1)"
   ]
  },
  {
   "cell_type": "code",
   "execution_count": 28,
   "metadata": {},
   "outputs": [
    {
     "data": {
      "text/plain": [
       "SimpleImputer(strategy='median')"
      ]
     },
     "execution_count": 28,
     "metadata": {},
     "output_type": "execute_result"
    }
   ],
   "source": [
    "imputer.fit(X_copy_num)"
   ]
  },
  {
   "cell_type": "code",
   "execution_count": 29,
   "metadata": {},
   "outputs": [
    {
     "data": {
      "text/plain": [
       "Index(['pclass', 'age', 'sibsp', 'parch', 'fare', 'body'], dtype='object')"
      ]
     },
     "execution_count": 29,
     "metadata": {},
     "output_type": "execute_result"
    }
   ],
   "source": [
    "X_copy_num.columns"
   ]
  },
  {
   "cell_type": "code",
   "execution_count": 30,
   "metadata": {},
   "outputs": [
    {
     "data": {
      "text/plain": [
       "array([  3. ,  28. ,   0. ,   0. ,  14.5, 165. ])"
      ]
     },
     "execution_count": 30,
     "metadata": {},
     "output_type": "execute_result"
    }
   ],
   "source": [
    "imputer.statistics_"
   ]
  },
  {
   "cell_type": "code",
   "execution_count": 31,
   "metadata": {},
   "outputs": [
    {
     "data": {
      "text/plain": [
       "array([[  1.    ,  29.    ,   0.    ,   0.    , 211.3375, 165.    ],\n",
       "       [  2.    ,  18.    ,   0.    ,   0.    ,  73.5   , 165.    ],\n",
       "       [  2.    ,  23.    ,   0.    ,   0.    ,  15.0458, 165.    ],\n",
       "       ...,\n",
       "       [  2.    ,  28.    ,   0.    ,   0.    ,  21.    , 165.    ],\n",
       "       [  1.    ,  35.    ,   0.    ,   0.    , 211.5   , 165.    ],\n",
       "       [  2.    ,  17.    ,   0.    ,   0.    ,  12.    , 165.    ]])"
      ]
     },
     "execution_count": 31,
     "metadata": {},
     "output_type": "execute_result"
    }
   ],
   "source": [
    "X_copy_num = imputer.transform(X_copy_num)\n",
    "X_copy_num"
   ]
  },
  {
   "cell_type": "code",
   "execution_count": 32,
   "metadata": {},
   "outputs": [],
   "source": [
    "# X_copy_num = pd.DataFrame(data = X_copy_num, columns=X_train.select_dtypes('number').columns)\n",
    "# X_copy_num.isna().sum()"
   ]
  },
  {
   "cell_type": "code",
   "execution_count": 33,
   "metadata": {},
   "outputs": [
    {
     "data": {
      "text/plain": [
       "((1047, 13), (262, 13))"
      ]
     },
     "execution_count": 33,
     "metadata": {},
     "output_type": "execute_result"
    }
   ],
   "source": [
    "X_train.shape, X_test.shape"
   ]
  },
  {
   "cell_type": "markdown",
   "metadata": {},
   "source": [
    "**summary**"
   ]
  },
  {
   "cell_type": "markdown",
   "metadata": {},
   "source": [
    "*numeric*"
   ]
  },
  {
   "cell_type": "code",
   "execution_count": 34,
   "metadata": {},
   "outputs": [],
   "source": [
    "X_train_num = X_train.select_dtypes('number')\n",
    "X_test_num = X_test.select_dtypes('number')\n",
    "\n",
    "imputer = SimpleImputer(strategy = 'median')"
   ]
  },
  {
   "cell_type": "code",
   "execution_count": 35,
   "metadata": {
    "scrolled": false
   },
   "outputs": [
    {
     "data": {
      "text/plain": [
       "SimpleImputer(strategy='median')"
      ]
     },
     "execution_count": 35,
     "metadata": {},
     "output_type": "execute_result"
    }
   ],
   "source": [
    "imputer.fit(X_train_num)"
   ]
  },
  {
   "cell_type": "code",
   "execution_count": 36,
   "metadata": {},
   "outputs": [
    {
     "data": {
      "text/plain": [
       "array([  3. ,  28. ,   0. ,   0. ,  14.5, 165. ])"
      ]
     },
     "execution_count": 36,
     "metadata": {},
     "output_type": "execute_result"
    }
   ],
   "source": [
    "imputer.statistics_"
   ]
  },
  {
   "cell_type": "code",
   "execution_count": 37,
   "metadata": {},
   "outputs": [],
   "source": [
    "X_train_imp = imputer.transform(X_train_num)\n",
    "X_test_imp = imputer.transform(X_test_num)"
   ]
  },
  {
   "cell_type": "markdown",
   "metadata": {},
   "source": [
    "*categories*"
   ]
  },
  {
   "cell_type": "code",
   "execution_count": 38,
   "metadata": {},
   "outputs": [],
   "source": [
    "X_train_cat = X_train.get(['age', 'embarked'])\n",
    "X_test_cat = X_train.get(['age', 'embarked'])"
   ]
  },
  {
   "cell_type": "code",
   "execution_count": 39,
   "metadata": {},
   "outputs": [],
   "source": [
    "imputer_cat = SimpleImputer(strategy='constant', fill_value = 'Other')"
   ]
  },
  {
   "cell_type": "code",
   "execution_count": 40,
   "metadata": {},
   "outputs": [
    {
     "data": {
      "text/plain": [
       "SimpleImputer(fill_value='Other', strategy='constant')"
      ]
     },
     "execution_count": 40,
     "metadata": {},
     "output_type": "execute_result"
    }
   ],
   "source": [
    "imputer_cat.fit(X_train_cat)"
   ]
  },
  {
   "cell_type": "code",
   "execution_count": 41,
   "metadata": {},
   "outputs": [
    {
     "data": {
      "text/plain": [
       "array(['Other', 'Other'], dtype=object)"
      ]
     },
     "execution_count": 41,
     "metadata": {},
     "output_type": "execute_result"
    }
   ],
   "source": [
    "imputer_cat.statistics_"
   ]
  },
  {
   "cell_type": "code",
   "execution_count": 42,
   "metadata": {},
   "outputs": [],
   "source": [
    "X_train_cat_imp = imputer_cat.transform(X_train_cat)\n",
    "X_test_cat_imp = imputer_cat.transform(X_test_cat)"
   ]
  },
  {
   "cell_type": "markdown",
   "metadata": {},
   "source": [
    "### one hot encoding"
   ]
  },
  {
   "cell_type": "markdown",
   "metadata": {},
   "source": [
    "the `pandas` way"
   ]
  },
  {
   "cell_type": "code",
   "execution_count": 43,
   "metadata": {},
   "outputs": [
    {
     "data": {
      "text/html": [
       "<div>\n",
       "<style scoped>\n",
       "    .dataframe tbody tr th:only-of-type {\n",
       "        vertical-align: middle;\n",
       "    }\n",
       "\n",
       "    .dataframe tbody tr th {\n",
       "        vertical-align: top;\n",
       "    }\n",
       "\n",
       "    .dataframe thead th {\n",
       "        text-align: right;\n",
       "    }\n",
       "</style>\n",
       "<table border=\"1\" class=\"dataframe\">\n",
       "  <thead>\n",
       "    <tr style=\"text-align: right;\">\n",
       "      <th></th>\n",
       "      <th>pclass</th>\n",
       "      <th>name</th>\n",
       "      <th>sex</th>\n",
       "      <th>age</th>\n",
       "      <th>sibsp</th>\n",
       "      <th>parch</th>\n",
       "      <th>ticket</th>\n",
       "      <th>fare</th>\n",
       "      <th>cabin</th>\n",
       "      <th>embarked</th>\n",
       "      <th>boat</th>\n",
       "      <th>body</th>\n",
       "      <th>home.dest</th>\n",
       "    </tr>\n",
       "  </thead>\n",
       "  <tbody>\n",
       "    <tr>\n",
       "      <th>0</th>\n",
       "      <td>1.0</td>\n",
       "      <td>Allen, Miss. Elisabeth Walton</td>\n",
       "      <td>female</td>\n",
       "      <td>29.0</td>\n",
       "      <td>0.0</td>\n",
       "      <td>0.0</td>\n",
       "      <td>24160</td>\n",
       "      <td>211.3375</td>\n",
       "      <td>B5</td>\n",
       "      <td>S</td>\n",
       "      <td>2</td>\n",
       "      <td>NaN</td>\n",
       "      <td>St Louis, MO</td>\n",
       "    </tr>\n",
       "    <tr>\n",
       "      <th>394</th>\n",
       "      <td>2.0</td>\n",
       "      <td>Dibden, Mr. William</td>\n",
       "      <td>male</td>\n",
       "      <td>18.0</td>\n",
       "      <td>0.0</td>\n",
       "      <td>0.0</td>\n",
       "      <td>S.O.C. 14879</td>\n",
       "      <td>73.5000</td>\n",
       "      <td>None</td>\n",
       "      <td>S</td>\n",
       "      <td>None</td>\n",
       "      <td>NaN</td>\n",
       "      <td>New Forest, England</td>\n",
       "    </tr>\n",
       "    <tr>\n",
       "      <th>547</th>\n",
       "      <td>2.0</td>\n",
       "      <td>Richard, Mr. Emile</td>\n",
       "      <td>male</td>\n",
       "      <td>23.0</td>\n",
       "      <td>0.0</td>\n",
       "      <td>0.0</td>\n",
       "      <td>SC/PARIS 2133</td>\n",
       "      <td>15.0458</td>\n",
       "      <td>None</td>\n",
       "      <td>C</td>\n",
       "      <td>None</td>\n",
       "      <td>NaN</td>\n",
       "      <td>Paris / Montreal, PQ</td>\n",
       "    </tr>\n",
       "    <tr>\n",
       "      <th>1155</th>\n",
       "      <td>3.0</td>\n",
       "      <td>Rommetvedt, Mr. Knud Paust</td>\n",
       "      <td>male</td>\n",
       "      <td>NaN</td>\n",
       "      <td>0.0</td>\n",
       "      <td>0.0</td>\n",
       "      <td>312993</td>\n",
       "      <td>7.7750</td>\n",
       "      <td>None</td>\n",
       "      <td>S</td>\n",
       "      <td>None</td>\n",
       "      <td>NaN</td>\n",
       "      <td>None</td>\n",
       "    </tr>\n",
       "    <tr>\n",
       "      <th>1178</th>\n",
       "      <td>3.0</td>\n",
       "      <td>Sage, Mr. George John Jr</td>\n",
       "      <td>male</td>\n",
       "      <td>NaN</td>\n",
       "      <td>8.0</td>\n",
       "      <td>2.0</td>\n",
       "      <td>CA. 2343</td>\n",
       "      <td>69.5500</td>\n",
       "      <td>None</td>\n",
       "      <td>S</td>\n",
       "      <td>None</td>\n",
       "      <td>NaN</td>\n",
       "      <td>None</td>\n",
       "    </tr>\n",
       "  </tbody>\n",
       "</table>\n",
       "</div>"
      ],
      "text/plain": [
       "      pclass                           name     sex   age  sibsp  parch  \\\n",
       "0        1.0  Allen, Miss. Elisabeth Walton  female  29.0    0.0    0.0   \n",
       "394      2.0            Dibden, Mr. William    male  18.0    0.0    0.0   \n",
       "547      2.0             Richard, Mr. Emile    male  23.0    0.0    0.0   \n",
       "1155     3.0     Rommetvedt, Mr. Knud Paust    male   NaN    0.0    0.0   \n",
       "1178     3.0       Sage, Mr. George John Jr    male   NaN    8.0    2.0   \n",
       "\n",
       "             ticket      fare cabin embarked  boat  body             home.dest  \n",
       "0             24160  211.3375    B5        S     2   NaN          St Louis, MO  \n",
       "394    S.O.C. 14879   73.5000  None        S  None   NaN   New Forest, England  \n",
       "547   SC/PARIS 2133   15.0458  None        C  None   NaN  Paris / Montreal, PQ  \n",
       "1155         312993    7.7750  None        S  None   NaN                  None  \n",
       "1178       CA. 2343   69.5500  None        S  None   NaN                  None  "
      ]
     },
     "execution_count": 43,
     "metadata": {},
     "output_type": "execute_result"
    }
   ],
   "source": [
    "X_train.head()"
   ]
  },
  {
   "cell_type": "code",
   "execution_count": 44,
   "metadata": {},
   "outputs": [
    {
     "data": {
      "text/plain": [
       "S    741\n",
       "C    211\n",
       "Q     94\n",
       "Name: embarked, dtype: int64"
      ]
     },
     "execution_count": 44,
     "metadata": {},
     "output_type": "execute_result"
    }
   ],
   "source": [
    "X_train.embarked.value_counts()"
   ]
  },
  {
   "cell_type": "code",
   "execution_count": 45,
   "metadata": {},
   "outputs": [
    {
     "data": {
      "text/html": [
       "<div>\n",
       "<style scoped>\n",
       "    .dataframe tbody tr th:only-of-type {\n",
       "        vertical-align: middle;\n",
       "    }\n",
       "\n",
       "    .dataframe tbody tr th {\n",
       "        vertical-align: top;\n",
       "    }\n",
       "\n",
       "    .dataframe thead th {\n",
       "        text-align: right;\n",
       "    }\n",
       "</style>\n",
       "<table border=\"1\" class=\"dataframe\">\n",
       "  <thead>\n",
       "    <tr style=\"text-align: right;\">\n",
       "      <th></th>\n",
       "      <th>embarked</th>\n",
       "      <th>sex</th>\n",
       "    </tr>\n",
       "  </thead>\n",
       "  <tbody>\n",
       "    <tr>\n",
       "      <th>0</th>\n",
       "      <td>S</td>\n",
       "      <td>female</td>\n",
       "    </tr>\n",
       "    <tr>\n",
       "      <th>394</th>\n",
       "      <td>S</td>\n",
       "      <td>male</td>\n",
       "    </tr>\n",
       "    <tr>\n",
       "      <th>547</th>\n",
       "      <td>C</td>\n",
       "      <td>male</td>\n",
       "    </tr>\n",
       "    <tr>\n",
       "      <th>1155</th>\n",
       "      <td>S</td>\n",
       "      <td>male</td>\n",
       "    </tr>\n",
       "    <tr>\n",
       "      <th>1178</th>\n",
       "      <td>S</td>\n",
       "      <td>male</td>\n",
       "    </tr>\n",
       "  </tbody>\n",
       "</table>\n",
       "</div>"
      ],
      "text/plain": [
       "     embarked     sex\n",
       "0           S  female\n",
       "394         S    male\n",
       "547         C    male\n",
       "1155        S    male\n",
       "1178        S    male"
      ]
     },
     "execution_count": 45,
     "metadata": {},
     "output_type": "execute_result"
    }
   ],
   "source": [
    "X_train[['embarked', 'sex']].head()"
   ]
  },
  {
   "cell_type": "code",
   "execution_count": 46,
   "metadata": {},
   "outputs": [
    {
     "data": {
      "text/html": [
       "<div>\n",
       "<style scoped>\n",
       "    .dataframe tbody tr th:only-of-type {\n",
       "        vertical-align: middle;\n",
       "    }\n",
       "\n",
       "    .dataframe tbody tr th {\n",
       "        vertical-align: top;\n",
       "    }\n",
       "\n",
       "    .dataframe thead th {\n",
       "        text-align: right;\n",
       "    }\n",
       "</style>\n",
       "<table border=\"1\" class=\"dataframe\">\n",
       "  <thead>\n",
       "    <tr style=\"text-align: right;\">\n",
       "      <th></th>\n",
       "      <th>embarked_C</th>\n",
       "      <th>embarked_Q</th>\n",
       "      <th>embarked_S</th>\n",
       "      <th>sex_female</th>\n",
       "      <th>sex_male</th>\n",
       "    </tr>\n",
       "  </thead>\n",
       "  <tbody>\n",
       "    <tr>\n",
       "      <th>0</th>\n",
       "      <td>0</td>\n",
       "      <td>0</td>\n",
       "      <td>1</td>\n",
       "      <td>1</td>\n",
       "      <td>0</td>\n",
       "    </tr>\n",
       "    <tr>\n",
       "      <th>394</th>\n",
       "      <td>0</td>\n",
       "      <td>0</td>\n",
       "      <td>1</td>\n",
       "      <td>0</td>\n",
       "      <td>1</td>\n",
       "    </tr>\n",
       "    <tr>\n",
       "      <th>547</th>\n",
       "      <td>1</td>\n",
       "      <td>0</td>\n",
       "      <td>0</td>\n",
       "      <td>0</td>\n",
       "      <td>1</td>\n",
       "    </tr>\n",
       "    <tr>\n",
       "      <th>1155</th>\n",
       "      <td>0</td>\n",
       "      <td>0</td>\n",
       "      <td>1</td>\n",
       "      <td>0</td>\n",
       "      <td>1</td>\n",
       "    </tr>\n",
       "    <tr>\n",
       "      <th>1178</th>\n",
       "      <td>0</td>\n",
       "      <td>0</td>\n",
       "      <td>1</td>\n",
       "      <td>0</td>\n",
       "      <td>1</td>\n",
       "    </tr>\n",
       "  </tbody>\n",
       "</table>\n",
       "</div>"
      ],
      "text/plain": [
       "      embarked_C  embarked_Q  embarked_S  sex_female  sex_male\n",
       "0              0           0           1           1         0\n",
       "394            0           0           1           0         1\n",
       "547            1           0           0           0         1\n",
       "1155           0           0           1           0         1\n",
       "1178           0           0           1           0         1"
      ]
     },
     "execution_count": 46,
     "metadata": {},
     "output_type": "execute_result"
    }
   ],
   "source": [
    "pd.get_dummies(X_train[['embarked', 'sex']].head())"
   ]
  },
  {
   "cell_type": "markdown",
   "metadata": {},
   "source": [
    "the `scikit-learn` way"
   ]
  },
  {
   "cell_type": "code",
   "execution_count": 47,
   "metadata": {},
   "outputs": [],
   "source": [
    "from sklearn.preprocessing import OneHotEncoder"
   ]
  },
  {
   "cell_type": "code",
   "execution_count": 48,
   "metadata": {},
   "outputs": [],
   "source": [
    "X_train_cat = X_train.copy().get(['sex', 'embarked'])\n",
    "X_test_cat = X_test.copy().get(['sex', 'embarked'])\n",
    "\n",
    "ohe = OneHotEncoder(handle_unknown = 'ignore')"
   ]
  },
  {
   "cell_type": "code",
   "execution_count": 49,
   "metadata": {},
   "outputs": [
    {
     "data": {
      "text/plain": [
       "OneHotEncoder(handle_unknown='ignore')"
      ]
     },
     "execution_count": 49,
     "metadata": {},
     "output_type": "execute_result"
    }
   ],
   "source": [
    "ohe.fit(X_train_cat)"
   ]
  },
  {
   "cell_type": "code",
   "execution_count": 50,
   "metadata": {},
   "outputs": [
    {
     "data": {
      "text/plain": [
       "<1047x6 sparse matrix of type '<class 'numpy.float64'>'\n",
       "\twith 2094 stored elements in Compressed Sparse Row format>"
      ]
     },
     "execution_count": 50,
     "metadata": {},
     "output_type": "execute_result"
    }
   ],
   "source": [
    "ohe.transform(X_train_cat)"
   ]
  },
  {
   "cell_type": "code",
   "execution_count": 51,
   "metadata": {},
   "outputs": [
    {
     "data": {
      "text/plain": [
       "array(['sex_female', 'sex_male', 'embarked_C', 'embarked_Q', 'embarked_S',\n",
       "       'embarked_nan'], dtype=object)"
      ]
     },
     "execution_count": 51,
     "metadata": {},
     "output_type": "execute_result"
    }
   ],
   "source": [
    "ohe.get_feature_names(input_features = X_train_cat.columns)"
   ]
  },
  {
   "cell_type": "markdown",
   "metadata": {},
   "source": [
    "## full dataprep with scikit pipelines"
   ]
  },
  {
   "cell_type": "code",
   "execution_count": 52,
   "metadata": {},
   "outputs": [],
   "source": [
    "from sklearn.pipeline import Pipeline\n",
    "from sklearn.compose import ColumnTransformer\n",
    "\n",
    "from sklearn.impute import SimpleImputer\n",
    "from sklearn.preprocessing import StandardScaler, OneHotEncoder"
   ]
  },
  {
   "cell_type": "code",
   "execution_count": 53,
   "metadata": {},
   "outputs": [],
   "source": [
    "from sklearn import set_config\n",
    "\n",
    "set_config(display='diagram')"
   ]
  },
  {
   "cell_type": "code",
   "execution_count": 54,
   "metadata": {},
   "outputs": [],
   "source": [
    "pipe = Pipeline(steps = [('imputer', SimpleImputer(strategy = 'median')),\n",
    "                        ('scaler', StandardScaler())])"
   ]
  },
  {
   "cell_type": "code",
   "execution_count": 55,
   "metadata": {},
   "outputs": [
    {
     "data": {
      "text/html": [
       "<style>#sk-694d7f67-966d-42aa-a956-0b816b5ae92c {color: black;background-color: white;}#sk-694d7f67-966d-42aa-a956-0b816b5ae92c pre{padding: 0;}#sk-694d7f67-966d-42aa-a956-0b816b5ae92c div.sk-toggleable {background-color: white;}#sk-694d7f67-966d-42aa-a956-0b816b5ae92c label.sk-toggleable__label {cursor: pointer;display: block;width: 100%;margin-bottom: 0;padding: 0.2em 0.3em;box-sizing: border-box;text-align: center;}#sk-694d7f67-966d-42aa-a956-0b816b5ae92c div.sk-toggleable__content {max-height: 0;max-width: 0;overflow: hidden;text-align: left;background-color: #f0f8ff;}#sk-694d7f67-966d-42aa-a956-0b816b5ae92c div.sk-toggleable__content pre {margin: 0.2em;color: black;border-radius: 0.25em;background-color: #f0f8ff;}#sk-694d7f67-966d-42aa-a956-0b816b5ae92c input.sk-toggleable__control:checked~div.sk-toggleable__content {max-height: 200px;max-width: 100%;overflow: auto;}#sk-694d7f67-966d-42aa-a956-0b816b5ae92c div.sk-estimator input.sk-toggleable__control:checked~label.sk-toggleable__label {background-color: #d4ebff;}#sk-694d7f67-966d-42aa-a956-0b816b5ae92c div.sk-label input.sk-toggleable__control:checked~label.sk-toggleable__label {background-color: #d4ebff;}#sk-694d7f67-966d-42aa-a956-0b816b5ae92c input.sk-hidden--visually {border: 0;clip: rect(1px 1px 1px 1px);clip: rect(1px, 1px, 1px, 1px);height: 1px;margin: -1px;overflow: hidden;padding: 0;position: absolute;width: 1px;}#sk-694d7f67-966d-42aa-a956-0b816b5ae92c div.sk-estimator {font-family: monospace;background-color: #f0f8ff;margin: 0.25em 0.25em;border: 1px dotted black;border-radius: 0.25em;box-sizing: border-box;}#sk-694d7f67-966d-42aa-a956-0b816b5ae92c div.sk-estimator:hover {background-color: #d4ebff;}#sk-694d7f67-966d-42aa-a956-0b816b5ae92c div.sk-parallel-item::after {content: \"\";width: 100%;border-bottom: 1px solid gray;flex-grow: 1;}#sk-694d7f67-966d-42aa-a956-0b816b5ae92c div.sk-label:hover label.sk-toggleable__label {background-color: #d4ebff;}#sk-694d7f67-966d-42aa-a956-0b816b5ae92c div.sk-serial::before {content: \"\";position: absolute;border-left: 1px solid gray;box-sizing: border-box;top: 2em;bottom: 0;left: 50%;}#sk-694d7f67-966d-42aa-a956-0b816b5ae92c div.sk-serial {display: flex;flex-direction: column;align-items: center;background-color: white;}#sk-694d7f67-966d-42aa-a956-0b816b5ae92c div.sk-item {z-index: 1;}#sk-694d7f67-966d-42aa-a956-0b816b5ae92c div.sk-parallel {display: flex;align-items: stretch;justify-content: center;background-color: white;}#sk-694d7f67-966d-42aa-a956-0b816b5ae92c div.sk-parallel-item {display: flex;flex-direction: column;position: relative;background-color: white;}#sk-694d7f67-966d-42aa-a956-0b816b5ae92c div.sk-parallel-item:first-child::after {align-self: flex-end;width: 50%;}#sk-694d7f67-966d-42aa-a956-0b816b5ae92c div.sk-parallel-item:last-child::after {align-self: flex-start;width: 50%;}#sk-694d7f67-966d-42aa-a956-0b816b5ae92c div.sk-parallel-item:only-child::after {width: 0;}#sk-694d7f67-966d-42aa-a956-0b816b5ae92c div.sk-dashed-wrapped {border: 1px dashed gray;margin: 0.2em;box-sizing: border-box;padding-bottom: 0.1em;background-color: white;position: relative;}#sk-694d7f67-966d-42aa-a956-0b816b5ae92c div.sk-label label {font-family: monospace;font-weight: bold;background-color: white;display: inline-block;line-height: 1.2em;}#sk-694d7f67-966d-42aa-a956-0b816b5ae92c div.sk-label-container {position: relative;z-index: 2;text-align: center;}#sk-694d7f67-966d-42aa-a956-0b816b5ae92c div.sk-container {display: inline-block;position: relative;}</style><div id=\"sk-694d7f67-966d-42aa-a956-0b816b5ae92c\" class\"sk-top-container\"><div class=\"sk-container\"><div class=\"sk-item sk-dashed-wrapped\"><div class=\"sk-label-container\"><div class=\"sk-label sk-toggleable\"><input class=\"sk-toggleable__control sk-hidden--visually\" id=\"54c5b2e9-caf4-4504-9874-7ca3d3f0cc2f\" type=\"checkbox\" ><label class=\"sk-toggleable__label\" for=\"54c5b2e9-caf4-4504-9874-7ca3d3f0cc2f\">Pipeline</label><div class=\"sk-toggleable__content\"><pre>Pipeline(steps=[('imputer', SimpleImputer(strategy='median')),\n",
       "                ('scaler', StandardScaler())])</pre></div></div></div><div class=\"sk-serial\"><div class=\"sk-item\"><div class=\"sk-estimator sk-toggleable\"><input class=\"sk-toggleable__control sk-hidden--visually\" id=\"99a03231-7e7a-401a-92fd-f1f1aa5a5228\" type=\"checkbox\" ><label class=\"sk-toggleable__label\" for=\"99a03231-7e7a-401a-92fd-f1f1aa5a5228\">SimpleImputer</label><div class=\"sk-toggleable__content\"><pre>SimpleImputer(strategy='median')</pre></div></div></div><div class=\"sk-item\"><div class=\"sk-estimator sk-toggleable\"><input class=\"sk-toggleable__control sk-hidden--visually\" id=\"72c3957c-14ec-49dd-afe3-8a96bdda16ff\" type=\"checkbox\" ><label class=\"sk-toggleable__label\" for=\"72c3957c-14ec-49dd-afe3-8a96bdda16ff\">StandardScaler</label><div class=\"sk-toggleable__content\"><pre>StandardScaler()</pre></div></div></div></div></div></div></div>"
      ],
      "text/plain": [
       "Pipeline(steps=[('imputer', SimpleImputer(strategy='median')),\n",
       "                ('scaler', StandardScaler())])"
      ]
     },
     "execution_count": 55,
     "metadata": {},
     "output_type": "execute_result"
    }
   ],
   "source": [
    "pipe"
   ]
  },
  {
   "cell_type": "code",
   "execution_count": 56,
   "metadata": {},
   "outputs": [],
   "source": [
    "X_train_num = X_train.copy().select_dtypes('number')\n",
    "X_test_num = X_test.copy().select_dtypes('number')"
   ]
  },
  {
   "cell_type": "code",
   "execution_count": 57,
   "metadata": {},
   "outputs": [
    {
     "data": {
      "text/html": [
       "<style>#sk-2b820149-ac55-4a6f-b2b8-8ad2a8294d7d {color: black;background-color: white;}#sk-2b820149-ac55-4a6f-b2b8-8ad2a8294d7d pre{padding: 0;}#sk-2b820149-ac55-4a6f-b2b8-8ad2a8294d7d div.sk-toggleable {background-color: white;}#sk-2b820149-ac55-4a6f-b2b8-8ad2a8294d7d label.sk-toggleable__label {cursor: pointer;display: block;width: 100%;margin-bottom: 0;padding: 0.2em 0.3em;box-sizing: border-box;text-align: center;}#sk-2b820149-ac55-4a6f-b2b8-8ad2a8294d7d div.sk-toggleable__content {max-height: 0;max-width: 0;overflow: hidden;text-align: left;background-color: #f0f8ff;}#sk-2b820149-ac55-4a6f-b2b8-8ad2a8294d7d div.sk-toggleable__content pre {margin: 0.2em;color: black;border-radius: 0.25em;background-color: #f0f8ff;}#sk-2b820149-ac55-4a6f-b2b8-8ad2a8294d7d input.sk-toggleable__control:checked~div.sk-toggleable__content {max-height: 200px;max-width: 100%;overflow: auto;}#sk-2b820149-ac55-4a6f-b2b8-8ad2a8294d7d div.sk-estimator input.sk-toggleable__control:checked~label.sk-toggleable__label {background-color: #d4ebff;}#sk-2b820149-ac55-4a6f-b2b8-8ad2a8294d7d div.sk-label input.sk-toggleable__control:checked~label.sk-toggleable__label {background-color: #d4ebff;}#sk-2b820149-ac55-4a6f-b2b8-8ad2a8294d7d input.sk-hidden--visually {border: 0;clip: rect(1px 1px 1px 1px);clip: rect(1px, 1px, 1px, 1px);height: 1px;margin: -1px;overflow: hidden;padding: 0;position: absolute;width: 1px;}#sk-2b820149-ac55-4a6f-b2b8-8ad2a8294d7d div.sk-estimator {font-family: monospace;background-color: #f0f8ff;margin: 0.25em 0.25em;border: 1px dotted black;border-radius: 0.25em;box-sizing: border-box;}#sk-2b820149-ac55-4a6f-b2b8-8ad2a8294d7d div.sk-estimator:hover {background-color: #d4ebff;}#sk-2b820149-ac55-4a6f-b2b8-8ad2a8294d7d div.sk-parallel-item::after {content: \"\";width: 100%;border-bottom: 1px solid gray;flex-grow: 1;}#sk-2b820149-ac55-4a6f-b2b8-8ad2a8294d7d div.sk-label:hover label.sk-toggleable__label {background-color: #d4ebff;}#sk-2b820149-ac55-4a6f-b2b8-8ad2a8294d7d div.sk-serial::before {content: \"\";position: absolute;border-left: 1px solid gray;box-sizing: border-box;top: 2em;bottom: 0;left: 50%;}#sk-2b820149-ac55-4a6f-b2b8-8ad2a8294d7d div.sk-serial {display: flex;flex-direction: column;align-items: center;background-color: white;}#sk-2b820149-ac55-4a6f-b2b8-8ad2a8294d7d div.sk-item {z-index: 1;}#sk-2b820149-ac55-4a6f-b2b8-8ad2a8294d7d div.sk-parallel {display: flex;align-items: stretch;justify-content: center;background-color: white;}#sk-2b820149-ac55-4a6f-b2b8-8ad2a8294d7d div.sk-parallel-item {display: flex;flex-direction: column;position: relative;background-color: white;}#sk-2b820149-ac55-4a6f-b2b8-8ad2a8294d7d div.sk-parallel-item:first-child::after {align-self: flex-end;width: 50%;}#sk-2b820149-ac55-4a6f-b2b8-8ad2a8294d7d div.sk-parallel-item:last-child::after {align-self: flex-start;width: 50%;}#sk-2b820149-ac55-4a6f-b2b8-8ad2a8294d7d div.sk-parallel-item:only-child::after {width: 0;}#sk-2b820149-ac55-4a6f-b2b8-8ad2a8294d7d div.sk-dashed-wrapped {border: 1px dashed gray;margin: 0.2em;box-sizing: border-box;padding-bottom: 0.1em;background-color: white;position: relative;}#sk-2b820149-ac55-4a6f-b2b8-8ad2a8294d7d div.sk-label label {font-family: monospace;font-weight: bold;background-color: white;display: inline-block;line-height: 1.2em;}#sk-2b820149-ac55-4a6f-b2b8-8ad2a8294d7d div.sk-label-container {position: relative;z-index: 2;text-align: center;}#sk-2b820149-ac55-4a6f-b2b8-8ad2a8294d7d div.sk-container {display: inline-block;position: relative;}</style><div id=\"sk-2b820149-ac55-4a6f-b2b8-8ad2a8294d7d\" class\"sk-top-container\"><div class=\"sk-container\"><div class=\"sk-item sk-dashed-wrapped\"><div class=\"sk-label-container\"><div class=\"sk-label sk-toggleable\"><input class=\"sk-toggleable__control sk-hidden--visually\" id=\"0693e777-c0e5-45a5-a4fe-fe9abd36f637\" type=\"checkbox\" ><label class=\"sk-toggleable__label\" for=\"0693e777-c0e5-45a5-a4fe-fe9abd36f637\">Pipeline</label><div class=\"sk-toggleable__content\"><pre>Pipeline(steps=[('imputer', SimpleImputer(strategy='median')),\n",
       "                ('scaler', StandardScaler())])</pre></div></div></div><div class=\"sk-serial\"><div class=\"sk-item\"><div class=\"sk-estimator sk-toggleable\"><input class=\"sk-toggleable__control sk-hidden--visually\" id=\"c35ac4fb-3b5c-43ca-b7c2-ca1af889ae6f\" type=\"checkbox\" ><label class=\"sk-toggleable__label\" for=\"c35ac4fb-3b5c-43ca-b7c2-ca1af889ae6f\">SimpleImputer</label><div class=\"sk-toggleable__content\"><pre>SimpleImputer(strategy='median')</pre></div></div></div><div class=\"sk-item\"><div class=\"sk-estimator sk-toggleable\"><input class=\"sk-toggleable__control sk-hidden--visually\" id=\"8023ae57-d7d7-4189-94bd-3e6eb069be48\" type=\"checkbox\" ><label class=\"sk-toggleable__label\" for=\"8023ae57-d7d7-4189-94bd-3e6eb069be48\">StandardScaler</label><div class=\"sk-toggleable__content\"><pre>StandardScaler()</pre></div></div></div></div></div></div></div>"
      ],
      "text/plain": [
       "Pipeline(steps=[('imputer', SimpleImputer(strategy='median')),\n",
       "                ('scaler', StandardScaler())])"
      ]
     },
     "execution_count": 57,
     "metadata": {},
     "output_type": "execute_result"
    }
   ],
   "source": [
    "pipe.fit(X_train_num)"
   ]
  },
  {
   "cell_type": "code",
   "execution_count": 58,
   "metadata": {},
   "outputs": [],
   "source": [
    "X_train_num_transformed = pipe.transform(X_train_num)\n",
    "X_test_num_transformed = pipe.transform(X_test_num)"
   ]
  },
  {
   "cell_type": "code",
   "execution_count": 59,
   "metadata": {},
   "outputs": [
    {
     "data": {
      "text/plain": [
       "array([  3. ,  28. ,   0. ,   0. ,  14.5, 165. ])"
      ]
     },
     "execution_count": 59,
     "metadata": {},
     "output_type": "execute_result"
    }
   ],
   "source": [
    "pipe['imputer'].statistics_"
   ]
  },
  {
   "cell_type": "markdown",
   "metadata": {},
   "source": [
    "### everything together with ColumnTransformer"
   ]
  },
  {
   "cell_type": "markdown",
   "metadata": {},
   "source": [
    "numeric dataprep"
   ]
  },
  {
   "cell_type": "code",
   "execution_count": 60,
   "metadata": {},
   "outputs": [],
   "source": [
    "numeric_features = ['age', 'fare']\n",
    "numeric_transformer = Pipeline(steps=[\n",
    "    ('imputer', SimpleImputer(strategy='median')),\n",
    "    ('scaler', StandardScaler())])"
   ]
  },
  {
   "cell_type": "code",
   "execution_count": 61,
   "metadata": {},
   "outputs": [
    {
     "data": {
      "text/html": [
       "<style>#sk-baa57300-fdeb-4fba-aebb-7144c4adeaee {color: black;background-color: white;}#sk-baa57300-fdeb-4fba-aebb-7144c4adeaee pre{padding: 0;}#sk-baa57300-fdeb-4fba-aebb-7144c4adeaee div.sk-toggleable {background-color: white;}#sk-baa57300-fdeb-4fba-aebb-7144c4adeaee label.sk-toggleable__label {cursor: pointer;display: block;width: 100%;margin-bottom: 0;padding: 0.2em 0.3em;box-sizing: border-box;text-align: center;}#sk-baa57300-fdeb-4fba-aebb-7144c4adeaee div.sk-toggleable__content {max-height: 0;max-width: 0;overflow: hidden;text-align: left;background-color: #f0f8ff;}#sk-baa57300-fdeb-4fba-aebb-7144c4adeaee div.sk-toggleable__content pre {margin: 0.2em;color: black;border-radius: 0.25em;background-color: #f0f8ff;}#sk-baa57300-fdeb-4fba-aebb-7144c4adeaee input.sk-toggleable__control:checked~div.sk-toggleable__content {max-height: 200px;max-width: 100%;overflow: auto;}#sk-baa57300-fdeb-4fba-aebb-7144c4adeaee div.sk-estimator input.sk-toggleable__control:checked~label.sk-toggleable__label {background-color: #d4ebff;}#sk-baa57300-fdeb-4fba-aebb-7144c4adeaee div.sk-label input.sk-toggleable__control:checked~label.sk-toggleable__label {background-color: #d4ebff;}#sk-baa57300-fdeb-4fba-aebb-7144c4adeaee input.sk-hidden--visually {border: 0;clip: rect(1px 1px 1px 1px);clip: rect(1px, 1px, 1px, 1px);height: 1px;margin: -1px;overflow: hidden;padding: 0;position: absolute;width: 1px;}#sk-baa57300-fdeb-4fba-aebb-7144c4adeaee div.sk-estimator {font-family: monospace;background-color: #f0f8ff;margin: 0.25em 0.25em;border: 1px dotted black;border-radius: 0.25em;box-sizing: border-box;}#sk-baa57300-fdeb-4fba-aebb-7144c4adeaee div.sk-estimator:hover {background-color: #d4ebff;}#sk-baa57300-fdeb-4fba-aebb-7144c4adeaee div.sk-parallel-item::after {content: \"\";width: 100%;border-bottom: 1px solid gray;flex-grow: 1;}#sk-baa57300-fdeb-4fba-aebb-7144c4adeaee div.sk-label:hover label.sk-toggleable__label {background-color: #d4ebff;}#sk-baa57300-fdeb-4fba-aebb-7144c4adeaee div.sk-serial::before {content: \"\";position: absolute;border-left: 1px solid gray;box-sizing: border-box;top: 2em;bottom: 0;left: 50%;}#sk-baa57300-fdeb-4fba-aebb-7144c4adeaee div.sk-serial {display: flex;flex-direction: column;align-items: center;background-color: white;}#sk-baa57300-fdeb-4fba-aebb-7144c4adeaee div.sk-item {z-index: 1;}#sk-baa57300-fdeb-4fba-aebb-7144c4adeaee div.sk-parallel {display: flex;align-items: stretch;justify-content: center;background-color: white;}#sk-baa57300-fdeb-4fba-aebb-7144c4adeaee div.sk-parallel-item {display: flex;flex-direction: column;position: relative;background-color: white;}#sk-baa57300-fdeb-4fba-aebb-7144c4adeaee div.sk-parallel-item:first-child::after {align-self: flex-end;width: 50%;}#sk-baa57300-fdeb-4fba-aebb-7144c4adeaee div.sk-parallel-item:last-child::after {align-self: flex-start;width: 50%;}#sk-baa57300-fdeb-4fba-aebb-7144c4adeaee div.sk-parallel-item:only-child::after {width: 0;}#sk-baa57300-fdeb-4fba-aebb-7144c4adeaee div.sk-dashed-wrapped {border: 1px dashed gray;margin: 0.2em;box-sizing: border-box;padding-bottom: 0.1em;background-color: white;position: relative;}#sk-baa57300-fdeb-4fba-aebb-7144c4adeaee div.sk-label label {font-family: monospace;font-weight: bold;background-color: white;display: inline-block;line-height: 1.2em;}#sk-baa57300-fdeb-4fba-aebb-7144c4adeaee div.sk-label-container {position: relative;z-index: 2;text-align: center;}#sk-baa57300-fdeb-4fba-aebb-7144c4adeaee div.sk-container {display: inline-block;position: relative;}</style><div id=\"sk-baa57300-fdeb-4fba-aebb-7144c4adeaee\" class\"sk-top-container\"><div class=\"sk-container\"><div class=\"sk-item sk-dashed-wrapped\"><div class=\"sk-label-container\"><div class=\"sk-label sk-toggleable\"><input class=\"sk-toggleable__control sk-hidden--visually\" id=\"ca1d344b-8794-4005-9aee-cceb478b476d\" type=\"checkbox\" ><label class=\"sk-toggleable__label\" for=\"ca1d344b-8794-4005-9aee-cceb478b476d\">Pipeline</label><div class=\"sk-toggleable__content\"><pre>Pipeline(steps=[('imputer', SimpleImputer(strategy='median')),\n",
       "                ('scaler', StandardScaler())])</pre></div></div></div><div class=\"sk-serial\"><div class=\"sk-item\"><div class=\"sk-estimator sk-toggleable\"><input class=\"sk-toggleable__control sk-hidden--visually\" id=\"a09b0657-094d-4212-b136-e3b3fca98227\" type=\"checkbox\" ><label class=\"sk-toggleable__label\" for=\"a09b0657-094d-4212-b136-e3b3fca98227\">SimpleImputer</label><div class=\"sk-toggleable__content\"><pre>SimpleImputer(strategy='median')</pre></div></div></div><div class=\"sk-item\"><div class=\"sk-estimator sk-toggleable\"><input class=\"sk-toggleable__control sk-hidden--visually\" id=\"f7338866-47cc-45a7-98ed-7b4efc4f1d0e\" type=\"checkbox\" ><label class=\"sk-toggleable__label\" for=\"f7338866-47cc-45a7-98ed-7b4efc4f1d0e\">StandardScaler</label><div class=\"sk-toggleable__content\"><pre>StandardScaler()</pre></div></div></div></div></div></div></div>"
      ],
      "text/plain": [
       "Pipeline(steps=[('imputer', SimpleImputer(strategy='median')),\n",
       "                ('scaler', StandardScaler())])"
      ]
     },
     "execution_count": 61,
     "metadata": {},
     "output_type": "execute_result"
    }
   ],
   "source": [
    "numeric_transformer"
   ]
  },
  {
   "cell_type": "markdown",
   "metadata": {},
   "source": [
    "categorical dataprep"
   ]
  },
  {
   "cell_type": "code",
   "execution_count": 62,
   "metadata": {},
   "outputs": [],
   "source": [
    "categorical_features = ['embarked', 'sex']\n",
    "categorical_transformer = Pipeline(steps=[\n",
    "    ('imputer', SimpleImputer(strategy='most_frequent')),\n",
    "    ('ohe', OneHotEncoder(handle_unknown='ignore'))])"
   ]
  },
  {
   "cell_type": "code",
   "execution_count": 63,
   "metadata": {},
   "outputs": [
    {
     "data": {
      "text/html": [
       "<style>#sk-b4b0bb8f-c673-4f66-8882-09a45cf67dfd {color: black;background-color: white;}#sk-b4b0bb8f-c673-4f66-8882-09a45cf67dfd pre{padding: 0;}#sk-b4b0bb8f-c673-4f66-8882-09a45cf67dfd div.sk-toggleable {background-color: white;}#sk-b4b0bb8f-c673-4f66-8882-09a45cf67dfd label.sk-toggleable__label {cursor: pointer;display: block;width: 100%;margin-bottom: 0;padding: 0.2em 0.3em;box-sizing: border-box;text-align: center;}#sk-b4b0bb8f-c673-4f66-8882-09a45cf67dfd div.sk-toggleable__content {max-height: 0;max-width: 0;overflow: hidden;text-align: left;background-color: #f0f8ff;}#sk-b4b0bb8f-c673-4f66-8882-09a45cf67dfd div.sk-toggleable__content pre {margin: 0.2em;color: black;border-radius: 0.25em;background-color: #f0f8ff;}#sk-b4b0bb8f-c673-4f66-8882-09a45cf67dfd input.sk-toggleable__control:checked~div.sk-toggleable__content {max-height: 200px;max-width: 100%;overflow: auto;}#sk-b4b0bb8f-c673-4f66-8882-09a45cf67dfd div.sk-estimator input.sk-toggleable__control:checked~label.sk-toggleable__label {background-color: #d4ebff;}#sk-b4b0bb8f-c673-4f66-8882-09a45cf67dfd div.sk-label input.sk-toggleable__control:checked~label.sk-toggleable__label {background-color: #d4ebff;}#sk-b4b0bb8f-c673-4f66-8882-09a45cf67dfd input.sk-hidden--visually {border: 0;clip: rect(1px 1px 1px 1px);clip: rect(1px, 1px, 1px, 1px);height: 1px;margin: -1px;overflow: hidden;padding: 0;position: absolute;width: 1px;}#sk-b4b0bb8f-c673-4f66-8882-09a45cf67dfd div.sk-estimator {font-family: monospace;background-color: #f0f8ff;margin: 0.25em 0.25em;border: 1px dotted black;border-radius: 0.25em;box-sizing: border-box;}#sk-b4b0bb8f-c673-4f66-8882-09a45cf67dfd div.sk-estimator:hover {background-color: #d4ebff;}#sk-b4b0bb8f-c673-4f66-8882-09a45cf67dfd div.sk-parallel-item::after {content: \"\";width: 100%;border-bottom: 1px solid gray;flex-grow: 1;}#sk-b4b0bb8f-c673-4f66-8882-09a45cf67dfd div.sk-label:hover label.sk-toggleable__label {background-color: #d4ebff;}#sk-b4b0bb8f-c673-4f66-8882-09a45cf67dfd div.sk-serial::before {content: \"\";position: absolute;border-left: 1px solid gray;box-sizing: border-box;top: 2em;bottom: 0;left: 50%;}#sk-b4b0bb8f-c673-4f66-8882-09a45cf67dfd div.sk-serial {display: flex;flex-direction: column;align-items: center;background-color: white;}#sk-b4b0bb8f-c673-4f66-8882-09a45cf67dfd div.sk-item {z-index: 1;}#sk-b4b0bb8f-c673-4f66-8882-09a45cf67dfd div.sk-parallel {display: flex;align-items: stretch;justify-content: center;background-color: white;}#sk-b4b0bb8f-c673-4f66-8882-09a45cf67dfd div.sk-parallel-item {display: flex;flex-direction: column;position: relative;background-color: white;}#sk-b4b0bb8f-c673-4f66-8882-09a45cf67dfd div.sk-parallel-item:first-child::after {align-self: flex-end;width: 50%;}#sk-b4b0bb8f-c673-4f66-8882-09a45cf67dfd div.sk-parallel-item:last-child::after {align-self: flex-start;width: 50%;}#sk-b4b0bb8f-c673-4f66-8882-09a45cf67dfd div.sk-parallel-item:only-child::after {width: 0;}#sk-b4b0bb8f-c673-4f66-8882-09a45cf67dfd div.sk-dashed-wrapped {border: 1px dashed gray;margin: 0.2em;box-sizing: border-box;padding-bottom: 0.1em;background-color: white;position: relative;}#sk-b4b0bb8f-c673-4f66-8882-09a45cf67dfd div.sk-label label {font-family: monospace;font-weight: bold;background-color: white;display: inline-block;line-height: 1.2em;}#sk-b4b0bb8f-c673-4f66-8882-09a45cf67dfd div.sk-label-container {position: relative;z-index: 2;text-align: center;}#sk-b4b0bb8f-c673-4f66-8882-09a45cf67dfd div.sk-container {display: inline-block;position: relative;}</style><div id=\"sk-b4b0bb8f-c673-4f66-8882-09a45cf67dfd\" class\"sk-top-container\"><div class=\"sk-container\"><div class=\"sk-item sk-dashed-wrapped\"><div class=\"sk-label-container\"><div class=\"sk-label sk-toggleable\"><input class=\"sk-toggleable__control sk-hidden--visually\" id=\"bb111c53-7c58-4031-a6f5-80f22a0c865a\" type=\"checkbox\" ><label class=\"sk-toggleable__label\" for=\"bb111c53-7c58-4031-a6f5-80f22a0c865a\">Pipeline</label><div class=\"sk-toggleable__content\"><pre>Pipeline(steps=[('imputer', SimpleImputer(strategy='most_frequent')),\n",
       "                ('ohe', OneHotEncoder(handle_unknown='ignore'))])</pre></div></div></div><div class=\"sk-serial\"><div class=\"sk-item\"><div class=\"sk-estimator sk-toggleable\"><input class=\"sk-toggleable__control sk-hidden--visually\" id=\"fd7d205a-3e4e-43cf-82d4-e7a470997830\" type=\"checkbox\" ><label class=\"sk-toggleable__label\" for=\"fd7d205a-3e4e-43cf-82d4-e7a470997830\">SimpleImputer</label><div class=\"sk-toggleable__content\"><pre>SimpleImputer(strategy='most_frequent')</pre></div></div></div><div class=\"sk-item\"><div class=\"sk-estimator sk-toggleable\"><input class=\"sk-toggleable__control sk-hidden--visually\" id=\"5d23cddb-4613-4d92-bdb6-12117a11fb84\" type=\"checkbox\" ><label class=\"sk-toggleable__label\" for=\"5d23cddb-4613-4d92-bdb6-12117a11fb84\">OneHotEncoder</label><div class=\"sk-toggleable__content\"><pre>OneHotEncoder(handle_unknown='ignore')</pre></div></div></div></div></div></div></div>"
      ],
      "text/plain": [
       "Pipeline(steps=[('imputer', SimpleImputer(strategy='most_frequent')),\n",
       "                ('ohe', OneHotEncoder(handle_unknown='ignore'))])"
      ]
     },
     "execution_count": 63,
     "metadata": {},
     "output_type": "execute_result"
    }
   ],
   "source": [
    "categorical_transformer"
   ]
  },
  {
   "cell_type": "markdown",
   "metadata": {},
   "source": [
    "both together with `ColumnTransformer`"
   ]
  },
  {
   "cell_type": "code",
   "execution_count": 64,
   "metadata": {},
   "outputs": [],
   "source": [
    "preprocessor = ColumnTransformer(transformers=[\n",
    "    ('num', numeric_transformer, numeric_features),\n",
    "    ('cat', categorical_transformer, categorical_features)])"
   ]
  },
  {
   "cell_type": "code",
   "execution_count": 65,
   "metadata": {},
   "outputs": [
    {
     "data": {
      "text/html": [
       "<style>#sk-d50b0c9a-2ace-4e5c-854a-1fbae53fb755 {color: black;background-color: white;}#sk-d50b0c9a-2ace-4e5c-854a-1fbae53fb755 pre{padding: 0;}#sk-d50b0c9a-2ace-4e5c-854a-1fbae53fb755 div.sk-toggleable {background-color: white;}#sk-d50b0c9a-2ace-4e5c-854a-1fbae53fb755 label.sk-toggleable__label {cursor: pointer;display: block;width: 100%;margin-bottom: 0;padding: 0.2em 0.3em;box-sizing: border-box;text-align: center;}#sk-d50b0c9a-2ace-4e5c-854a-1fbae53fb755 div.sk-toggleable__content {max-height: 0;max-width: 0;overflow: hidden;text-align: left;background-color: #f0f8ff;}#sk-d50b0c9a-2ace-4e5c-854a-1fbae53fb755 div.sk-toggleable__content pre {margin: 0.2em;color: black;border-radius: 0.25em;background-color: #f0f8ff;}#sk-d50b0c9a-2ace-4e5c-854a-1fbae53fb755 input.sk-toggleable__control:checked~div.sk-toggleable__content {max-height: 200px;max-width: 100%;overflow: auto;}#sk-d50b0c9a-2ace-4e5c-854a-1fbae53fb755 div.sk-estimator input.sk-toggleable__control:checked~label.sk-toggleable__label {background-color: #d4ebff;}#sk-d50b0c9a-2ace-4e5c-854a-1fbae53fb755 div.sk-label input.sk-toggleable__control:checked~label.sk-toggleable__label {background-color: #d4ebff;}#sk-d50b0c9a-2ace-4e5c-854a-1fbae53fb755 input.sk-hidden--visually {border: 0;clip: rect(1px 1px 1px 1px);clip: rect(1px, 1px, 1px, 1px);height: 1px;margin: -1px;overflow: hidden;padding: 0;position: absolute;width: 1px;}#sk-d50b0c9a-2ace-4e5c-854a-1fbae53fb755 div.sk-estimator {font-family: monospace;background-color: #f0f8ff;margin: 0.25em 0.25em;border: 1px dotted black;border-radius: 0.25em;box-sizing: border-box;}#sk-d50b0c9a-2ace-4e5c-854a-1fbae53fb755 div.sk-estimator:hover {background-color: #d4ebff;}#sk-d50b0c9a-2ace-4e5c-854a-1fbae53fb755 div.sk-parallel-item::after {content: \"\";width: 100%;border-bottom: 1px solid gray;flex-grow: 1;}#sk-d50b0c9a-2ace-4e5c-854a-1fbae53fb755 div.sk-label:hover label.sk-toggleable__label {background-color: #d4ebff;}#sk-d50b0c9a-2ace-4e5c-854a-1fbae53fb755 div.sk-serial::before {content: \"\";position: absolute;border-left: 1px solid gray;box-sizing: border-box;top: 2em;bottom: 0;left: 50%;}#sk-d50b0c9a-2ace-4e5c-854a-1fbae53fb755 div.sk-serial {display: flex;flex-direction: column;align-items: center;background-color: white;}#sk-d50b0c9a-2ace-4e5c-854a-1fbae53fb755 div.sk-item {z-index: 1;}#sk-d50b0c9a-2ace-4e5c-854a-1fbae53fb755 div.sk-parallel {display: flex;align-items: stretch;justify-content: center;background-color: white;}#sk-d50b0c9a-2ace-4e5c-854a-1fbae53fb755 div.sk-parallel-item {display: flex;flex-direction: column;position: relative;background-color: white;}#sk-d50b0c9a-2ace-4e5c-854a-1fbae53fb755 div.sk-parallel-item:first-child::after {align-self: flex-end;width: 50%;}#sk-d50b0c9a-2ace-4e5c-854a-1fbae53fb755 div.sk-parallel-item:last-child::after {align-self: flex-start;width: 50%;}#sk-d50b0c9a-2ace-4e5c-854a-1fbae53fb755 div.sk-parallel-item:only-child::after {width: 0;}#sk-d50b0c9a-2ace-4e5c-854a-1fbae53fb755 div.sk-dashed-wrapped {border: 1px dashed gray;margin: 0.2em;box-sizing: border-box;padding-bottom: 0.1em;background-color: white;position: relative;}#sk-d50b0c9a-2ace-4e5c-854a-1fbae53fb755 div.sk-label label {font-family: monospace;font-weight: bold;background-color: white;display: inline-block;line-height: 1.2em;}#sk-d50b0c9a-2ace-4e5c-854a-1fbae53fb755 div.sk-label-container {position: relative;z-index: 2;text-align: center;}#sk-d50b0c9a-2ace-4e5c-854a-1fbae53fb755 div.sk-container {display: inline-block;position: relative;}</style><div id=\"sk-d50b0c9a-2ace-4e5c-854a-1fbae53fb755\" class\"sk-top-container\"><div class=\"sk-container\"><div class=\"sk-item sk-dashed-wrapped\"><div class=\"sk-label-container\"><div class=\"sk-label sk-toggleable\"><input class=\"sk-toggleable__control sk-hidden--visually\" id=\"2ed141b5-612a-4041-ba63-b03b429d0e90\" type=\"checkbox\" ><label class=\"sk-toggleable__label\" for=\"2ed141b5-612a-4041-ba63-b03b429d0e90\">ColumnTransformer</label><div class=\"sk-toggleable__content\"><pre>ColumnTransformer(transformers=[('num',\n",
       "                                 Pipeline(steps=[('imputer',\n",
       "                                                  SimpleImputer(strategy='median')),\n",
       "                                                 ('scaler', StandardScaler())]),\n",
       "                                 ['age', 'fare']),\n",
       "                                ('cat',\n",
       "                                 Pipeline(steps=[('imputer',\n",
       "                                                  SimpleImputer(strategy='most_frequent')),\n",
       "                                                 ('ohe',\n",
       "                                                  OneHotEncoder(handle_unknown='ignore'))]),\n",
       "                                 ['embarked', 'sex'])])</pre></div></div></div><div class=\"sk-parallel\"><div class=\"sk-parallel-item\"><div class=\"sk-item\"><div class=\"sk-label-container\"><div class=\"sk-label sk-toggleable\"><input class=\"sk-toggleable__control sk-hidden--visually\" id=\"214523dc-318b-4c7f-ace4-88e7af1e61e3\" type=\"checkbox\" ><label class=\"sk-toggleable__label\" for=\"214523dc-318b-4c7f-ace4-88e7af1e61e3\">num</label><div class=\"sk-toggleable__content\"><pre>['age', 'fare']</pre></div></div></div><div class=\"sk-serial\"><div class=\"sk-item\"><div class=\"sk-serial\"><div class=\"sk-item\"><div class=\"sk-estimator sk-toggleable\"><input class=\"sk-toggleable__control sk-hidden--visually\" id=\"0e1d7e4f-7196-467c-943c-2ed7822349d5\" type=\"checkbox\" ><label class=\"sk-toggleable__label\" for=\"0e1d7e4f-7196-467c-943c-2ed7822349d5\">SimpleImputer</label><div class=\"sk-toggleable__content\"><pre>SimpleImputer(strategy='median')</pre></div></div></div><div class=\"sk-item\"><div class=\"sk-estimator sk-toggleable\"><input class=\"sk-toggleable__control sk-hidden--visually\" id=\"e1349641-3f0f-4f6f-b68d-6b2e469be552\" type=\"checkbox\" ><label class=\"sk-toggleable__label\" for=\"e1349641-3f0f-4f6f-b68d-6b2e469be552\">StandardScaler</label><div class=\"sk-toggleable__content\"><pre>StandardScaler()</pre></div></div></div></div></div></div></div></div><div class=\"sk-parallel-item\"><div class=\"sk-item\"><div class=\"sk-label-container\"><div class=\"sk-label sk-toggleable\"><input class=\"sk-toggleable__control sk-hidden--visually\" id=\"b4cd5eab-fb17-4540-a6fa-17ef15eb04a0\" type=\"checkbox\" ><label class=\"sk-toggleable__label\" for=\"b4cd5eab-fb17-4540-a6fa-17ef15eb04a0\">cat</label><div class=\"sk-toggleable__content\"><pre>['embarked', 'sex']</pre></div></div></div><div class=\"sk-serial\"><div class=\"sk-item\"><div class=\"sk-serial\"><div class=\"sk-item\"><div class=\"sk-estimator sk-toggleable\"><input class=\"sk-toggleable__control sk-hidden--visually\" id=\"e454f7a6-651c-4c48-8b91-3bbff8ee4920\" type=\"checkbox\" ><label class=\"sk-toggleable__label\" for=\"e454f7a6-651c-4c48-8b91-3bbff8ee4920\">SimpleImputer</label><div class=\"sk-toggleable__content\"><pre>SimpleImputer(strategy='most_frequent')</pre></div></div></div><div class=\"sk-item\"><div class=\"sk-estimator sk-toggleable\"><input class=\"sk-toggleable__control sk-hidden--visually\" id=\"80ab0260-8bd0-4b5a-9968-0182a31adb1e\" type=\"checkbox\" ><label class=\"sk-toggleable__label\" for=\"80ab0260-8bd0-4b5a-9968-0182a31adb1e\">OneHotEncoder</label><div class=\"sk-toggleable__content\"><pre>OneHotEncoder(handle_unknown='ignore')</pre></div></div></div></div></div></div></div></div></div></div></div></div>"
      ],
      "text/plain": [
       "ColumnTransformer(transformers=[('num',\n",
       "                                 Pipeline(steps=[('imputer',\n",
       "                                                  SimpleImputer(strategy='median')),\n",
       "                                                 ('scaler', StandardScaler())]),\n",
       "                                 ['age', 'fare']),\n",
       "                                ('cat',\n",
       "                                 Pipeline(steps=[('imputer',\n",
       "                                                  SimpleImputer(strategy='most_frequent')),\n",
       "                                                 ('ohe',\n",
       "                                                  OneHotEncoder(handle_unknown='ignore'))]),\n",
       "                                 ['embarked', 'sex'])])"
      ]
     },
     "execution_count": 65,
     "metadata": {},
     "output_type": "execute_result"
    }
   ],
   "source": [
    "preprocessor"
   ]
  },
  {
   "cell_type": "code",
   "execution_count": 66,
   "metadata": {},
   "outputs": [
    {
     "data": {
      "text/html": [
       "<div>\n",
       "<style scoped>\n",
       "    .dataframe tbody tr th:only-of-type {\n",
       "        vertical-align: middle;\n",
       "    }\n",
       "\n",
       "    .dataframe tbody tr th {\n",
       "        vertical-align: top;\n",
       "    }\n",
       "\n",
       "    .dataframe thead th {\n",
       "        text-align: right;\n",
       "    }\n",
       "</style>\n",
       "<table border=\"1\" class=\"dataframe\">\n",
       "  <thead>\n",
       "    <tr style=\"text-align: right;\">\n",
       "      <th></th>\n",
       "      <th>pclass</th>\n",
       "      <th>name</th>\n",
       "      <th>sex</th>\n",
       "      <th>age</th>\n",
       "      <th>sibsp</th>\n",
       "      <th>parch</th>\n",
       "      <th>ticket</th>\n",
       "      <th>fare</th>\n",
       "      <th>cabin</th>\n",
       "      <th>embarked</th>\n",
       "      <th>boat</th>\n",
       "      <th>body</th>\n",
       "      <th>home.dest</th>\n",
       "    </tr>\n",
       "  </thead>\n",
       "  <tbody>\n",
       "    <tr>\n",
       "      <th>0</th>\n",
       "      <td>1.0</td>\n",
       "      <td>Allen, Miss. Elisabeth Walton</td>\n",
       "      <td>female</td>\n",
       "      <td>29.0</td>\n",
       "      <td>0.0</td>\n",
       "      <td>0.0</td>\n",
       "      <td>24160</td>\n",
       "      <td>211.3375</td>\n",
       "      <td>B5</td>\n",
       "      <td>S</td>\n",
       "      <td>2</td>\n",
       "      <td>NaN</td>\n",
       "      <td>St Louis, MO</td>\n",
       "    </tr>\n",
       "  </tbody>\n",
       "</table>\n",
       "</div>"
      ],
      "text/plain": [
       "   pclass                           name     sex   age  sibsp  parch ticket  \\\n",
       "0     1.0  Allen, Miss. Elisabeth Walton  female  29.0    0.0    0.0  24160   \n",
       "\n",
       "       fare cabin embarked boat  body     home.dest  \n",
       "0  211.3375    B5        S    2   NaN  St Louis, MO  "
      ]
     },
     "execution_count": 66,
     "metadata": {},
     "output_type": "execute_result"
    }
   ],
   "source": [
    "X_train.head(1)"
   ]
  },
  {
   "cell_type": "code",
   "execution_count": 67,
   "metadata": {},
   "outputs": [
    {
     "data": {
      "text/html": [
       "<style>#sk-8ebf467b-7d3b-41fd-960e-aaf41cb646b7 {color: black;background-color: white;}#sk-8ebf467b-7d3b-41fd-960e-aaf41cb646b7 pre{padding: 0;}#sk-8ebf467b-7d3b-41fd-960e-aaf41cb646b7 div.sk-toggleable {background-color: white;}#sk-8ebf467b-7d3b-41fd-960e-aaf41cb646b7 label.sk-toggleable__label {cursor: pointer;display: block;width: 100%;margin-bottom: 0;padding: 0.2em 0.3em;box-sizing: border-box;text-align: center;}#sk-8ebf467b-7d3b-41fd-960e-aaf41cb646b7 div.sk-toggleable__content {max-height: 0;max-width: 0;overflow: hidden;text-align: left;background-color: #f0f8ff;}#sk-8ebf467b-7d3b-41fd-960e-aaf41cb646b7 div.sk-toggleable__content pre {margin: 0.2em;color: black;border-radius: 0.25em;background-color: #f0f8ff;}#sk-8ebf467b-7d3b-41fd-960e-aaf41cb646b7 input.sk-toggleable__control:checked~div.sk-toggleable__content {max-height: 200px;max-width: 100%;overflow: auto;}#sk-8ebf467b-7d3b-41fd-960e-aaf41cb646b7 div.sk-estimator input.sk-toggleable__control:checked~label.sk-toggleable__label {background-color: #d4ebff;}#sk-8ebf467b-7d3b-41fd-960e-aaf41cb646b7 div.sk-label input.sk-toggleable__control:checked~label.sk-toggleable__label {background-color: #d4ebff;}#sk-8ebf467b-7d3b-41fd-960e-aaf41cb646b7 input.sk-hidden--visually {border: 0;clip: rect(1px 1px 1px 1px);clip: rect(1px, 1px, 1px, 1px);height: 1px;margin: -1px;overflow: hidden;padding: 0;position: absolute;width: 1px;}#sk-8ebf467b-7d3b-41fd-960e-aaf41cb646b7 div.sk-estimator {font-family: monospace;background-color: #f0f8ff;margin: 0.25em 0.25em;border: 1px dotted black;border-radius: 0.25em;box-sizing: border-box;}#sk-8ebf467b-7d3b-41fd-960e-aaf41cb646b7 div.sk-estimator:hover {background-color: #d4ebff;}#sk-8ebf467b-7d3b-41fd-960e-aaf41cb646b7 div.sk-parallel-item::after {content: \"\";width: 100%;border-bottom: 1px solid gray;flex-grow: 1;}#sk-8ebf467b-7d3b-41fd-960e-aaf41cb646b7 div.sk-label:hover label.sk-toggleable__label {background-color: #d4ebff;}#sk-8ebf467b-7d3b-41fd-960e-aaf41cb646b7 div.sk-serial::before {content: \"\";position: absolute;border-left: 1px solid gray;box-sizing: border-box;top: 2em;bottom: 0;left: 50%;}#sk-8ebf467b-7d3b-41fd-960e-aaf41cb646b7 div.sk-serial {display: flex;flex-direction: column;align-items: center;background-color: white;}#sk-8ebf467b-7d3b-41fd-960e-aaf41cb646b7 div.sk-item {z-index: 1;}#sk-8ebf467b-7d3b-41fd-960e-aaf41cb646b7 div.sk-parallel {display: flex;align-items: stretch;justify-content: center;background-color: white;}#sk-8ebf467b-7d3b-41fd-960e-aaf41cb646b7 div.sk-parallel-item {display: flex;flex-direction: column;position: relative;background-color: white;}#sk-8ebf467b-7d3b-41fd-960e-aaf41cb646b7 div.sk-parallel-item:first-child::after {align-self: flex-end;width: 50%;}#sk-8ebf467b-7d3b-41fd-960e-aaf41cb646b7 div.sk-parallel-item:last-child::after {align-self: flex-start;width: 50%;}#sk-8ebf467b-7d3b-41fd-960e-aaf41cb646b7 div.sk-parallel-item:only-child::after {width: 0;}#sk-8ebf467b-7d3b-41fd-960e-aaf41cb646b7 div.sk-dashed-wrapped {border: 1px dashed gray;margin: 0.2em;box-sizing: border-box;padding-bottom: 0.1em;background-color: white;position: relative;}#sk-8ebf467b-7d3b-41fd-960e-aaf41cb646b7 div.sk-label label {font-family: monospace;font-weight: bold;background-color: white;display: inline-block;line-height: 1.2em;}#sk-8ebf467b-7d3b-41fd-960e-aaf41cb646b7 div.sk-label-container {position: relative;z-index: 2;text-align: center;}#sk-8ebf467b-7d3b-41fd-960e-aaf41cb646b7 div.sk-container {display: inline-block;position: relative;}</style><div id=\"sk-8ebf467b-7d3b-41fd-960e-aaf41cb646b7\" class\"sk-top-container\"><div class=\"sk-container\"><div class=\"sk-item sk-dashed-wrapped\"><div class=\"sk-label-container\"><div class=\"sk-label sk-toggleable\"><input class=\"sk-toggleable__control sk-hidden--visually\" id=\"ad3d889b-203c-4f7e-a7d2-ec25853e3425\" type=\"checkbox\" ><label class=\"sk-toggleable__label\" for=\"ad3d889b-203c-4f7e-a7d2-ec25853e3425\">ColumnTransformer</label><div class=\"sk-toggleable__content\"><pre>ColumnTransformer(transformers=[('num',\n",
       "                                 Pipeline(steps=[('imputer',\n",
       "                                                  SimpleImputer(strategy='median')),\n",
       "                                                 ('scaler', StandardScaler())]),\n",
       "                                 ['age', 'fare']),\n",
       "                                ('cat',\n",
       "                                 Pipeline(steps=[('imputer',\n",
       "                                                  SimpleImputer(strategy='most_frequent')),\n",
       "                                                 ('ohe',\n",
       "                                                  OneHotEncoder(handle_unknown='ignore'))]),\n",
       "                                 ['embarked', 'sex'])])</pre></div></div></div><div class=\"sk-parallel\"><div class=\"sk-parallel-item\"><div class=\"sk-item\"><div class=\"sk-label-container\"><div class=\"sk-label sk-toggleable\"><input class=\"sk-toggleable__control sk-hidden--visually\" id=\"b96276c0-098a-44ac-8a9e-b5822a57d880\" type=\"checkbox\" ><label class=\"sk-toggleable__label\" for=\"b96276c0-098a-44ac-8a9e-b5822a57d880\">num</label><div class=\"sk-toggleable__content\"><pre>['age', 'fare']</pre></div></div></div><div class=\"sk-serial\"><div class=\"sk-item\"><div class=\"sk-serial\"><div class=\"sk-item\"><div class=\"sk-estimator sk-toggleable\"><input class=\"sk-toggleable__control sk-hidden--visually\" id=\"6b3662fb-4898-49dd-8ee2-20a5762c4ca4\" type=\"checkbox\" ><label class=\"sk-toggleable__label\" for=\"6b3662fb-4898-49dd-8ee2-20a5762c4ca4\">SimpleImputer</label><div class=\"sk-toggleable__content\"><pre>SimpleImputer(strategy='median')</pre></div></div></div><div class=\"sk-item\"><div class=\"sk-estimator sk-toggleable\"><input class=\"sk-toggleable__control sk-hidden--visually\" id=\"72d9ed4d-8d57-4f4e-b1f3-2da4810611b9\" type=\"checkbox\" ><label class=\"sk-toggleable__label\" for=\"72d9ed4d-8d57-4f4e-b1f3-2da4810611b9\">StandardScaler</label><div class=\"sk-toggleable__content\"><pre>StandardScaler()</pre></div></div></div></div></div></div></div></div><div class=\"sk-parallel-item\"><div class=\"sk-item\"><div class=\"sk-label-container\"><div class=\"sk-label sk-toggleable\"><input class=\"sk-toggleable__control sk-hidden--visually\" id=\"35d18753-e612-4ebd-bd62-c3014a91ffc0\" type=\"checkbox\" ><label class=\"sk-toggleable__label\" for=\"35d18753-e612-4ebd-bd62-c3014a91ffc0\">cat</label><div class=\"sk-toggleable__content\"><pre>['embarked', 'sex']</pre></div></div></div><div class=\"sk-serial\"><div class=\"sk-item\"><div class=\"sk-serial\"><div class=\"sk-item\"><div class=\"sk-estimator sk-toggleable\"><input class=\"sk-toggleable__control sk-hidden--visually\" id=\"be63fdd2-9625-4b0f-b03f-28cd071f3ce8\" type=\"checkbox\" ><label class=\"sk-toggleable__label\" for=\"be63fdd2-9625-4b0f-b03f-28cd071f3ce8\">SimpleImputer</label><div class=\"sk-toggleable__content\"><pre>SimpleImputer(strategy='most_frequent')</pre></div></div></div><div class=\"sk-item\"><div class=\"sk-estimator sk-toggleable\"><input class=\"sk-toggleable__control sk-hidden--visually\" id=\"0e03718e-6c8c-4018-b99c-172ba345ac06\" type=\"checkbox\" ><label class=\"sk-toggleable__label\" for=\"0e03718e-6c8c-4018-b99c-172ba345ac06\">OneHotEncoder</label><div class=\"sk-toggleable__content\"><pre>OneHotEncoder(handle_unknown='ignore')</pre></div></div></div></div></div></div></div></div></div></div></div></div>"
      ],
      "text/plain": [
       "ColumnTransformer(transformers=[('num',\n",
       "                                 Pipeline(steps=[('imputer',\n",
       "                                                  SimpleImputer(strategy='median')),\n",
       "                                                 ('scaler', StandardScaler())]),\n",
       "                                 ['age', 'fare']),\n",
       "                                ('cat',\n",
       "                                 Pipeline(steps=[('imputer',\n",
       "                                                  SimpleImputer(strategy='most_frequent')),\n",
       "                                                 ('ohe',\n",
       "                                                  OneHotEncoder(handle_unknown='ignore'))]),\n",
       "                                 ['embarked', 'sex'])])"
      ]
     },
     "execution_count": 67,
     "metadata": {},
     "output_type": "execute_result"
    }
   ],
   "source": [
    "preprocessor.fit(X_train)"
   ]
  },
  {
   "cell_type": "code",
   "execution_count": 68,
   "metadata": {},
   "outputs": [
    {
     "data": {
      "text/html": [
       "<style>#sk-2c074b13-5aa9-4efe-b7db-d8ed6127aaf5 {color: black;background-color: white;}#sk-2c074b13-5aa9-4efe-b7db-d8ed6127aaf5 pre{padding: 0;}#sk-2c074b13-5aa9-4efe-b7db-d8ed6127aaf5 div.sk-toggleable {background-color: white;}#sk-2c074b13-5aa9-4efe-b7db-d8ed6127aaf5 label.sk-toggleable__label {cursor: pointer;display: block;width: 100%;margin-bottom: 0;padding: 0.2em 0.3em;box-sizing: border-box;text-align: center;}#sk-2c074b13-5aa9-4efe-b7db-d8ed6127aaf5 div.sk-toggleable__content {max-height: 0;max-width: 0;overflow: hidden;text-align: left;background-color: #f0f8ff;}#sk-2c074b13-5aa9-4efe-b7db-d8ed6127aaf5 div.sk-toggleable__content pre {margin: 0.2em;color: black;border-radius: 0.25em;background-color: #f0f8ff;}#sk-2c074b13-5aa9-4efe-b7db-d8ed6127aaf5 input.sk-toggleable__control:checked~div.sk-toggleable__content {max-height: 200px;max-width: 100%;overflow: auto;}#sk-2c074b13-5aa9-4efe-b7db-d8ed6127aaf5 div.sk-estimator input.sk-toggleable__control:checked~label.sk-toggleable__label {background-color: #d4ebff;}#sk-2c074b13-5aa9-4efe-b7db-d8ed6127aaf5 div.sk-label input.sk-toggleable__control:checked~label.sk-toggleable__label {background-color: #d4ebff;}#sk-2c074b13-5aa9-4efe-b7db-d8ed6127aaf5 input.sk-hidden--visually {border: 0;clip: rect(1px 1px 1px 1px);clip: rect(1px, 1px, 1px, 1px);height: 1px;margin: -1px;overflow: hidden;padding: 0;position: absolute;width: 1px;}#sk-2c074b13-5aa9-4efe-b7db-d8ed6127aaf5 div.sk-estimator {font-family: monospace;background-color: #f0f8ff;margin: 0.25em 0.25em;border: 1px dotted black;border-radius: 0.25em;box-sizing: border-box;}#sk-2c074b13-5aa9-4efe-b7db-d8ed6127aaf5 div.sk-estimator:hover {background-color: #d4ebff;}#sk-2c074b13-5aa9-4efe-b7db-d8ed6127aaf5 div.sk-parallel-item::after {content: \"\";width: 100%;border-bottom: 1px solid gray;flex-grow: 1;}#sk-2c074b13-5aa9-4efe-b7db-d8ed6127aaf5 div.sk-label:hover label.sk-toggleable__label {background-color: #d4ebff;}#sk-2c074b13-5aa9-4efe-b7db-d8ed6127aaf5 div.sk-serial::before {content: \"\";position: absolute;border-left: 1px solid gray;box-sizing: border-box;top: 2em;bottom: 0;left: 50%;}#sk-2c074b13-5aa9-4efe-b7db-d8ed6127aaf5 div.sk-serial {display: flex;flex-direction: column;align-items: center;background-color: white;}#sk-2c074b13-5aa9-4efe-b7db-d8ed6127aaf5 div.sk-item {z-index: 1;}#sk-2c074b13-5aa9-4efe-b7db-d8ed6127aaf5 div.sk-parallel {display: flex;align-items: stretch;justify-content: center;background-color: white;}#sk-2c074b13-5aa9-4efe-b7db-d8ed6127aaf5 div.sk-parallel-item {display: flex;flex-direction: column;position: relative;background-color: white;}#sk-2c074b13-5aa9-4efe-b7db-d8ed6127aaf5 div.sk-parallel-item:first-child::after {align-self: flex-end;width: 50%;}#sk-2c074b13-5aa9-4efe-b7db-d8ed6127aaf5 div.sk-parallel-item:last-child::after {align-self: flex-start;width: 50%;}#sk-2c074b13-5aa9-4efe-b7db-d8ed6127aaf5 div.sk-parallel-item:only-child::after {width: 0;}#sk-2c074b13-5aa9-4efe-b7db-d8ed6127aaf5 div.sk-dashed-wrapped {border: 1px dashed gray;margin: 0.2em;box-sizing: border-box;padding-bottom: 0.1em;background-color: white;position: relative;}#sk-2c074b13-5aa9-4efe-b7db-d8ed6127aaf5 div.sk-label label {font-family: monospace;font-weight: bold;background-color: white;display: inline-block;line-height: 1.2em;}#sk-2c074b13-5aa9-4efe-b7db-d8ed6127aaf5 div.sk-label-container {position: relative;z-index: 2;text-align: center;}#sk-2c074b13-5aa9-4efe-b7db-d8ed6127aaf5 div.sk-container {display: inline-block;position: relative;}</style><div id=\"sk-2c074b13-5aa9-4efe-b7db-d8ed6127aaf5\" class\"sk-top-container\"><div class=\"sk-container\"><div class=\"sk-item sk-dashed-wrapped\"><div class=\"sk-label-container\"><div class=\"sk-label sk-toggleable\"><input class=\"sk-toggleable__control sk-hidden--visually\" id=\"ee92cf83-bd60-42df-a296-85898e8a4b27\" type=\"checkbox\" ><label class=\"sk-toggleable__label\" for=\"ee92cf83-bd60-42df-a296-85898e8a4b27\">ColumnTransformer</label><div class=\"sk-toggleable__content\"><pre>ColumnTransformer(transformers=[('num',\n",
       "                                 Pipeline(steps=[('imputer',\n",
       "                                                  SimpleImputer(strategy='median')),\n",
       "                                                 ('scaler', StandardScaler())]),\n",
       "                                 ['age', 'fare']),\n",
       "                                ('cat',\n",
       "                                 Pipeline(steps=[('imputer',\n",
       "                                                  SimpleImputer(strategy='most_frequent')),\n",
       "                                                 ('ohe',\n",
       "                                                  OneHotEncoder(handle_unknown='ignore'))]),\n",
       "                                 ['embarked', 'sex'])])</pre></div></div></div><div class=\"sk-parallel\"><div class=\"sk-parallel-item\"><div class=\"sk-item\"><div class=\"sk-label-container\"><div class=\"sk-label sk-toggleable\"><input class=\"sk-toggleable__control sk-hidden--visually\" id=\"49726f3a-d8e2-4cb1-8e80-0210707f882b\" type=\"checkbox\" ><label class=\"sk-toggleable__label\" for=\"49726f3a-d8e2-4cb1-8e80-0210707f882b\">num</label><div class=\"sk-toggleable__content\"><pre>['age', 'fare']</pre></div></div></div><div class=\"sk-serial\"><div class=\"sk-item\"><div class=\"sk-serial\"><div class=\"sk-item\"><div class=\"sk-estimator sk-toggleable\"><input class=\"sk-toggleable__control sk-hidden--visually\" id=\"41ee273c-b0ee-46e4-b7be-b51d533b3d76\" type=\"checkbox\" ><label class=\"sk-toggleable__label\" for=\"41ee273c-b0ee-46e4-b7be-b51d533b3d76\">SimpleImputer</label><div class=\"sk-toggleable__content\"><pre>SimpleImputer(strategy='median')</pre></div></div></div><div class=\"sk-item\"><div class=\"sk-estimator sk-toggleable\"><input class=\"sk-toggleable__control sk-hidden--visually\" id=\"f21ed8f0-7684-4a31-ba69-e3a8b8c0fed2\" type=\"checkbox\" ><label class=\"sk-toggleable__label\" for=\"f21ed8f0-7684-4a31-ba69-e3a8b8c0fed2\">StandardScaler</label><div class=\"sk-toggleable__content\"><pre>StandardScaler()</pre></div></div></div></div></div></div></div></div><div class=\"sk-parallel-item\"><div class=\"sk-item\"><div class=\"sk-label-container\"><div class=\"sk-label sk-toggleable\"><input class=\"sk-toggleable__control sk-hidden--visually\" id=\"4094157b-2f9b-473e-8636-653a8291a68f\" type=\"checkbox\" ><label class=\"sk-toggleable__label\" for=\"4094157b-2f9b-473e-8636-653a8291a68f\">cat</label><div class=\"sk-toggleable__content\"><pre>['embarked', 'sex']</pre></div></div></div><div class=\"sk-serial\"><div class=\"sk-item\"><div class=\"sk-serial\"><div class=\"sk-item\"><div class=\"sk-estimator sk-toggleable\"><input class=\"sk-toggleable__control sk-hidden--visually\" id=\"acc8dbe4-a054-4dfc-b1f3-2d29a25c13a2\" type=\"checkbox\" ><label class=\"sk-toggleable__label\" for=\"acc8dbe4-a054-4dfc-b1f3-2d29a25c13a2\">SimpleImputer</label><div class=\"sk-toggleable__content\"><pre>SimpleImputer(strategy='most_frequent')</pre></div></div></div><div class=\"sk-item\"><div class=\"sk-estimator sk-toggleable\"><input class=\"sk-toggleable__control sk-hidden--visually\" id=\"d96c5945-e110-4739-8b5d-727597d82ee8\" type=\"checkbox\" ><label class=\"sk-toggleable__label\" for=\"d96c5945-e110-4739-8b5d-727597d82ee8\">OneHotEncoder</label><div class=\"sk-toggleable__content\"><pre>OneHotEncoder(handle_unknown='ignore')</pre></div></div></div></div></div></div></div></div></div></div></div></div>"
      ],
      "text/plain": [
       "ColumnTransformer(transformers=[('num',\n",
       "                                 Pipeline(steps=[('imputer',\n",
       "                                                  SimpleImputer(strategy='median')),\n",
       "                                                 ('scaler', StandardScaler())]),\n",
       "                                 ['age', 'fare']),\n",
       "                                ('cat',\n",
       "                                 Pipeline(steps=[('imputer',\n",
       "                                                  SimpleImputer(strategy='most_frequent')),\n",
       "                                                 ('ohe',\n",
       "                                                  OneHotEncoder(handle_unknown='ignore'))]),\n",
       "                                 ['embarked', 'sex'])])"
      ]
     },
     "execution_count": 68,
     "metadata": {},
     "output_type": "execute_result"
    }
   ],
   "source": [
    "preprocessor"
   ]
  },
  {
   "cell_type": "code",
   "execution_count": 69,
   "metadata": {},
   "outputs": [
    {
     "data": {
      "text/plain": [
       "{'num': Pipeline(steps=[('imputer', SimpleImputer(strategy='median')),\n",
       "                 ('scaler', StandardScaler())]),\n",
       " 'cat': Pipeline(steps=[('imputer', SimpleImputer(strategy='most_frequent')),\n",
       "                 ('ohe', OneHotEncoder(handle_unknown='ignore'))]),\n",
       " 'remainder': 'drop'}"
      ]
     },
     "execution_count": 69,
     "metadata": {},
     "output_type": "execute_result"
    }
   ],
   "source": [
    "preprocessor.named_transformers_"
   ]
  },
  {
   "cell_type": "markdown",
   "metadata": {},
   "source": [
    "access individual elements with keys"
   ]
  },
  {
   "cell_type": "code",
   "execution_count": 70,
   "metadata": {},
   "outputs": [
    {
     "data": {
      "text/html": [
       "<style>#sk-5dd2d257-820e-48dc-b6d6-85363d06bc6b {color: black;background-color: white;}#sk-5dd2d257-820e-48dc-b6d6-85363d06bc6b pre{padding: 0;}#sk-5dd2d257-820e-48dc-b6d6-85363d06bc6b div.sk-toggleable {background-color: white;}#sk-5dd2d257-820e-48dc-b6d6-85363d06bc6b label.sk-toggleable__label {cursor: pointer;display: block;width: 100%;margin-bottom: 0;padding: 0.2em 0.3em;box-sizing: border-box;text-align: center;}#sk-5dd2d257-820e-48dc-b6d6-85363d06bc6b div.sk-toggleable__content {max-height: 0;max-width: 0;overflow: hidden;text-align: left;background-color: #f0f8ff;}#sk-5dd2d257-820e-48dc-b6d6-85363d06bc6b div.sk-toggleable__content pre {margin: 0.2em;color: black;border-radius: 0.25em;background-color: #f0f8ff;}#sk-5dd2d257-820e-48dc-b6d6-85363d06bc6b input.sk-toggleable__control:checked~div.sk-toggleable__content {max-height: 200px;max-width: 100%;overflow: auto;}#sk-5dd2d257-820e-48dc-b6d6-85363d06bc6b div.sk-estimator input.sk-toggleable__control:checked~label.sk-toggleable__label {background-color: #d4ebff;}#sk-5dd2d257-820e-48dc-b6d6-85363d06bc6b div.sk-label input.sk-toggleable__control:checked~label.sk-toggleable__label {background-color: #d4ebff;}#sk-5dd2d257-820e-48dc-b6d6-85363d06bc6b input.sk-hidden--visually {border: 0;clip: rect(1px 1px 1px 1px);clip: rect(1px, 1px, 1px, 1px);height: 1px;margin: -1px;overflow: hidden;padding: 0;position: absolute;width: 1px;}#sk-5dd2d257-820e-48dc-b6d6-85363d06bc6b div.sk-estimator {font-family: monospace;background-color: #f0f8ff;margin: 0.25em 0.25em;border: 1px dotted black;border-radius: 0.25em;box-sizing: border-box;}#sk-5dd2d257-820e-48dc-b6d6-85363d06bc6b div.sk-estimator:hover {background-color: #d4ebff;}#sk-5dd2d257-820e-48dc-b6d6-85363d06bc6b div.sk-parallel-item::after {content: \"\";width: 100%;border-bottom: 1px solid gray;flex-grow: 1;}#sk-5dd2d257-820e-48dc-b6d6-85363d06bc6b div.sk-label:hover label.sk-toggleable__label {background-color: #d4ebff;}#sk-5dd2d257-820e-48dc-b6d6-85363d06bc6b div.sk-serial::before {content: \"\";position: absolute;border-left: 1px solid gray;box-sizing: border-box;top: 2em;bottom: 0;left: 50%;}#sk-5dd2d257-820e-48dc-b6d6-85363d06bc6b div.sk-serial {display: flex;flex-direction: column;align-items: center;background-color: white;}#sk-5dd2d257-820e-48dc-b6d6-85363d06bc6b div.sk-item {z-index: 1;}#sk-5dd2d257-820e-48dc-b6d6-85363d06bc6b div.sk-parallel {display: flex;align-items: stretch;justify-content: center;background-color: white;}#sk-5dd2d257-820e-48dc-b6d6-85363d06bc6b div.sk-parallel-item {display: flex;flex-direction: column;position: relative;background-color: white;}#sk-5dd2d257-820e-48dc-b6d6-85363d06bc6b div.sk-parallel-item:first-child::after {align-self: flex-end;width: 50%;}#sk-5dd2d257-820e-48dc-b6d6-85363d06bc6b div.sk-parallel-item:last-child::after {align-self: flex-start;width: 50%;}#sk-5dd2d257-820e-48dc-b6d6-85363d06bc6b div.sk-parallel-item:only-child::after {width: 0;}#sk-5dd2d257-820e-48dc-b6d6-85363d06bc6b div.sk-dashed-wrapped {border: 1px dashed gray;margin: 0.2em;box-sizing: border-box;padding-bottom: 0.1em;background-color: white;position: relative;}#sk-5dd2d257-820e-48dc-b6d6-85363d06bc6b div.sk-label label {font-family: monospace;font-weight: bold;background-color: white;display: inline-block;line-height: 1.2em;}#sk-5dd2d257-820e-48dc-b6d6-85363d06bc6b div.sk-label-container {position: relative;z-index: 2;text-align: center;}#sk-5dd2d257-820e-48dc-b6d6-85363d06bc6b div.sk-container {display: inline-block;position: relative;}</style><div id=\"sk-5dd2d257-820e-48dc-b6d6-85363d06bc6b\" class\"sk-top-container\"><div class=\"sk-container\"><div class=\"sk-item\"><div class=\"sk-estimator sk-toggleable\"><input class=\"sk-toggleable__control sk-hidden--visually\" id=\"9385b53c-02a1-44f2-8bbb-575e3ced1374\" type=\"checkbox\" checked><label class=\"sk-toggleable__label\" for=\"9385b53c-02a1-44f2-8bbb-575e3ced1374\">SimpleImputer</label><div class=\"sk-toggleable__content\"><pre>SimpleImputer(strategy='median')</pre></div></div></div></div></div>"
      ],
      "text/plain": [
       "SimpleImputer(strategy='median')"
      ]
     },
     "execution_count": 70,
     "metadata": {},
     "output_type": "execute_result"
    }
   ],
   "source": [
    "preprocessor.named_transformers_['num']['imputer']"
   ]
  },
  {
   "cell_type": "markdown",
   "metadata": {},
   "source": [
    "we can also use the pipeline to transform the test in one line"
   ]
  },
  {
   "cell_type": "code",
   "execution_count": 71,
   "metadata": {},
   "outputs": [],
   "source": [
    "X_train_transformed = preprocessor.transform(X_train)\n",
    "X_test_transformed = preprocessor.transform(X_test)"
   ]
  },
  {
   "cell_type": "code",
   "execution_count": 73,
   "metadata": {},
   "outputs": [
    {
     "data": {
      "text/html": [
       "<style>#sk-3a7296e4-60aa-4b06-b9af-f80078f02c71 {color: black;background-color: white;}#sk-3a7296e4-60aa-4b06-b9af-f80078f02c71 pre{padding: 0;}#sk-3a7296e4-60aa-4b06-b9af-f80078f02c71 div.sk-toggleable {background-color: white;}#sk-3a7296e4-60aa-4b06-b9af-f80078f02c71 label.sk-toggleable__label {cursor: pointer;display: block;width: 100%;margin-bottom: 0;padding: 0.2em 0.3em;box-sizing: border-box;text-align: center;}#sk-3a7296e4-60aa-4b06-b9af-f80078f02c71 div.sk-toggleable__content {max-height: 0;max-width: 0;overflow: hidden;text-align: left;background-color: #f0f8ff;}#sk-3a7296e4-60aa-4b06-b9af-f80078f02c71 div.sk-toggleable__content pre {margin: 0.2em;color: black;border-radius: 0.25em;background-color: #f0f8ff;}#sk-3a7296e4-60aa-4b06-b9af-f80078f02c71 input.sk-toggleable__control:checked~div.sk-toggleable__content {max-height: 200px;max-width: 100%;overflow: auto;}#sk-3a7296e4-60aa-4b06-b9af-f80078f02c71 div.sk-estimator input.sk-toggleable__control:checked~label.sk-toggleable__label {background-color: #d4ebff;}#sk-3a7296e4-60aa-4b06-b9af-f80078f02c71 div.sk-label input.sk-toggleable__control:checked~label.sk-toggleable__label {background-color: #d4ebff;}#sk-3a7296e4-60aa-4b06-b9af-f80078f02c71 input.sk-hidden--visually {border: 0;clip: rect(1px 1px 1px 1px);clip: rect(1px, 1px, 1px, 1px);height: 1px;margin: -1px;overflow: hidden;padding: 0;position: absolute;width: 1px;}#sk-3a7296e4-60aa-4b06-b9af-f80078f02c71 div.sk-estimator {font-family: monospace;background-color: #f0f8ff;margin: 0.25em 0.25em;border: 1px dotted black;border-radius: 0.25em;box-sizing: border-box;}#sk-3a7296e4-60aa-4b06-b9af-f80078f02c71 div.sk-estimator:hover {background-color: #d4ebff;}#sk-3a7296e4-60aa-4b06-b9af-f80078f02c71 div.sk-parallel-item::after {content: \"\";width: 100%;border-bottom: 1px solid gray;flex-grow: 1;}#sk-3a7296e4-60aa-4b06-b9af-f80078f02c71 div.sk-label:hover label.sk-toggleable__label {background-color: #d4ebff;}#sk-3a7296e4-60aa-4b06-b9af-f80078f02c71 div.sk-serial::before {content: \"\";position: absolute;border-left: 1px solid gray;box-sizing: border-box;top: 2em;bottom: 0;left: 50%;}#sk-3a7296e4-60aa-4b06-b9af-f80078f02c71 div.sk-serial {display: flex;flex-direction: column;align-items: center;background-color: white;}#sk-3a7296e4-60aa-4b06-b9af-f80078f02c71 div.sk-item {z-index: 1;}#sk-3a7296e4-60aa-4b06-b9af-f80078f02c71 div.sk-parallel {display: flex;align-items: stretch;justify-content: center;background-color: white;}#sk-3a7296e4-60aa-4b06-b9af-f80078f02c71 div.sk-parallel-item {display: flex;flex-direction: column;position: relative;background-color: white;}#sk-3a7296e4-60aa-4b06-b9af-f80078f02c71 div.sk-parallel-item:first-child::after {align-self: flex-end;width: 50%;}#sk-3a7296e4-60aa-4b06-b9af-f80078f02c71 div.sk-parallel-item:last-child::after {align-self: flex-start;width: 50%;}#sk-3a7296e4-60aa-4b06-b9af-f80078f02c71 div.sk-parallel-item:only-child::after {width: 0;}#sk-3a7296e4-60aa-4b06-b9af-f80078f02c71 div.sk-dashed-wrapped {border: 1px dashed gray;margin: 0.2em;box-sizing: border-box;padding-bottom: 0.1em;background-color: white;position: relative;}#sk-3a7296e4-60aa-4b06-b9af-f80078f02c71 div.sk-label label {font-family: monospace;font-weight: bold;background-color: white;display: inline-block;line-height: 1.2em;}#sk-3a7296e4-60aa-4b06-b9af-f80078f02c71 div.sk-label-container {position: relative;z-index: 2;text-align: center;}#sk-3a7296e4-60aa-4b06-b9af-f80078f02c71 div.sk-container {display: inline-block;position: relative;}</style><div id=\"sk-3a7296e4-60aa-4b06-b9af-f80078f02c71\" class\"sk-top-container\"><div class=\"sk-container\"><div class=\"sk-item sk-dashed-wrapped\"><div class=\"sk-label-container\"><div class=\"sk-label sk-toggleable\"><input class=\"sk-toggleable__control sk-hidden--visually\" id=\"11855816-9909-4377-a948-345a417fc369\" type=\"checkbox\" ><label class=\"sk-toggleable__label\" for=\"11855816-9909-4377-a948-345a417fc369\">ColumnTransformer</label><div class=\"sk-toggleable__content\"><pre>ColumnTransformer(transformers=[('num',\n",
       "                                 Pipeline(steps=[('imputer',\n",
       "                                                  SimpleImputer(strategy='median')),\n",
       "                                                 ('scaler', StandardScaler())]),\n",
       "                                 ['age', 'fare']),\n",
       "                                ('cat',\n",
       "                                 Pipeline(steps=[('imputer',\n",
       "                                                  SimpleImputer(strategy='most_frequent')),\n",
       "                                                 ('ohe',\n",
       "                                                  OneHotEncoder(handle_unknown='ignore'))]),\n",
       "                                 ['embarked', 'sex'])])</pre></div></div></div><div class=\"sk-parallel\"><div class=\"sk-parallel-item\"><div class=\"sk-item\"><div class=\"sk-label-container\"><div class=\"sk-label sk-toggleable\"><input class=\"sk-toggleable__control sk-hidden--visually\" id=\"b58d7e91-8dba-4a03-92ba-323162b4f234\" type=\"checkbox\" ><label class=\"sk-toggleable__label\" for=\"b58d7e91-8dba-4a03-92ba-323162b4f234\">num</label><div class=\"sk-toggleable__content\"><pre>['age', 'fare']</pre></div></div></div><div class=\"sk-serial\"><div class=\"sk-item\"><div class=\"sk-serial\"><div class=\"sk-item\"><div class=\"sk-estimator sk-toggleable\"><input class=\"sk-toggleable__control sk-hidden--visually\" id=\"b20663e4-de25-4816-b104-dd0661896428\" type=\"checkbox\" ><label class=\"sk-toggleable__label\" for=\"b20663e4-de25-4816-b104-dd0661896428\">SimpleImputer</label><div class=\"sk-toggleable__content\"><pre>SimpleImputer(strategy='median')</pre></div></div></div><div class=\"sk-item\"><div class=\"sk-estimator sk-toggleable\"><input class=\"sk-toggleable__control sk-hidden--visually\" id=\"fb9dcd5c-840c-4ac9-9e01-e1e30d24afa1\" type=\"checkbox\" ><label class=\"sk-toggleable__label\" for=\"fb9dcd5c-840c-4ac9-9e01-e1e30d24afa1\">StandardScaler</label><div class=\"sk-toggleable__content\"><pre>StandardScaler()</pre></div></div></div></div></div></div></div></div><div class=\"sk-parallel-item\"><div class=\"sk-item\"><div class=\"sk-label-container\"><div class=\"sk-label sk-toggleable\"><input class=\"sk-toggleable__control sk-hidden--visually\" id=\"a047c859-2a09-4515-aa12-e2a6d34814d5\" type=\"checkbox\" ><label class=\"sk-toggleable__label\" for=\"a047c859-2a09-4515-aa12-e2a6d34814d5\">cat</label><div class=\"sk-toggleable__content\"><pre>['embarked', 'sex']</pre></div></div></div><div class=\"sk-serial\"><div class=\"sk-item\"><div class=\"sk-serial\"><div class=\"sk-item\"><div class=\"sk-estimator sk-toggleable\"><input class=\"sk-toggleable__control sk-hidden--visually\" id=\"5e2e2b91-089b-4add-a4ad-f8ba6c4e7f74\" type=\"checkbox\" ><label class=\"sk-toggleable__label\" for=\"5e2e2b91-089b-4add-a4ad-f8ba6c4e7f74\">SimpleImputer</label><div class=\"sk-toggleable__content\"><pre>SimpleImputer(strategy='most_frequent')</pre></div></div></div><div class=\"sk-item\"><div class=\"sk-estimator sk-toggleable\"><input class=\"sk-toggleable__control sk-hidden--visually\" id=\"936e3097-c217-4627-9c05-26eecec48183\" type=\"checkbox\" ><label class=\"sk-toggleable__label\" for=\"936e3097-c217-4627-9c05-26eecec48183\">OneHotEncoder</label><div class=\"sk-toggleable__content\"><pre>OneHotEncoder(handle_unknown='ignore')</pre></div></div></div></div></div></div></div></div></div></div></div></div>"
      ],
      "text/plain": [
       "ColumnTransformer(transformers=[('num',\n",
       "                                 Pipeline(steps=[('imputer',\n",
       "                                                  SimpleImputer(strategy='median')),\n",
       "                                                 ('scaler', StandardScaler())]),\n",
       "                                 ['age', 'fare']),\n",
       "                                ('cat',\n",
       "                                 Pipeline(steps=[('imputer',\n",
       "                                                  SimpleImputer(strategy='most_frequent')),\n",
       "                                                 ('ohe',\n",
       "                                                  OneHotEncoder(handle_unknown='ignore'))]),\n",
       "                                 ['embarked', 'sex'])])"
      ]
     },
     "execution_count": 73,
     "metadata": {},
     "output_type": "execute_result"
    }
   ],
   "source": [
    "preprocessor"
   ]
  },
  {
   "cell_type": "markdown",
   "metadata": {},
   "source": [
    "## pipelines with training"
   ]
  },
  {
   "cell_type": "code",
   "execution_count": 74,
   "metadata": {},
   "outputs": [
    {
     "data": {
      "text/html": [
       "<style>#sk-93363430-3c7e-41d0-bdf0-40ab2d318084 {color: black;background-color: white;}#sk-93363430-3c7e-41d0-bdf0-40ab2d318084 pre{padding: 0;}#sk-93363430-3c7e-41d0-bdf0-40ab2d318084 div.sk-toggleable {background-color: white;}#sk-93363430-3c7e-41d0-bdf0-40ab2d318084 label.sk-toggleable__label {cursor: pointer;display: block;width: 100%;margin-bottom: 0;padding: 0.2em 0.3em;box-sizing: border-box;text-align: center;}#sk-93363430-3c7e-41d0-bdf0-40ab2d318084 div.sk-toggleable__content {max-height: 0;max-width: 0;overflow: hidden;text-align: left;background-color: #f0f8ff;}#sk-93363430-3c7e-41d0-bdf0-40ab2d318084 div.sk-toggleable__content pre {margin: 0.2em;color: black;border-radius: 0.25em;background-color: #f0f8ff;}#sk-93363430-3c7e-41d0-bdf0-40ab2d318084 input.sk-toggleable__control:checked~div.sk-toggleable__content {max-height: 200px;max-width: 100%;overflow: auto;}#sk-93363430-3c7e-41d0-bdf0-40ab2d318084 div.sk-estimator input.sk-toggleable__control:checked~label.sk-toggleable__label {background-color: #d4ebff;}#sk-93363430-3c7e-41d0-bdf0-40ab2d318084 div.sk-label input.sk-toggleable__control:checked~label.sk-toggleable__label {background-color: #d4ebff;}#sk-93363430-3c7e-41d0-bdf0-40ab2d318084 input.sk-hidden--visually {border: 0;clip: rect(1px 1px 1px 1px);clip: rect(1px, 1px, 1px, 1px);height: 1px;margin: -1px;overflow: hidden;padding: 0;position: absolute;width: 1px;}#sk-93363430-3c7e-41d0-bdf0-40ab2d318084 div.sk-estimator {font-family: monospace;background-color: #f0f8ff;margin: 0.25em 0.25em;border: 1px dotted black;border-radius: 0.25em;box-sizing: border-box;}#sk-93363430-3c7e-41d0-bdf0-40ab2d318084 div.sk-estimator:hover {background-color: #d4ebff;}#sk-93363430-3c7e-41d0-bdf0-40ab2d318084 div.sk-parallel-item::after {content: \"\";width: 100%;border-bottom: 1px solid gray;flex-grow: 1;}#sk-93363430-3c7e-41d0-bdf0-40ab2d318084 div.sk-label:hover label.sk-toggleable__label {background-color: #d4ebff;}#sk-93363430-3c7e-41d0-bdf0-40ab2d318084 div.sk-serial::before {content: \"\";position: absolute;border-left: 1px solid gray;box-sizing: border-box;top: 2em;bottom: 0;left: 50%;}#sk-93363430-3c7e-41d0-bdf0-40ab2d318084 div.sk-serial {display: flex;flex-direction: column;align-items: center;background-color: white;}#sk-93363430-3c7e-41d0-bdf0-40ab2d318084 div.sk-item {z-index: 1;}#sk-93363430-3c7e-41d0-bdf0-40ab2d318084 div.sk-parallel {display: flex;align-items: stretch;justify-content: center;background-color: white;}#sk-93363430-3c7e-41d0-bdf0-40ab2d318084 div.sk-parallel-item {display: flex;flex-direction: column;position: relative;background-color: white;}#sk-93363430-3c7e-41d0-bdf0-40ab2d318084 div.sk-parallel-item:first-child::after {align-self: flex-end;width: 50%;}#sk-93363430-3c7e-41d0-bdf0-40ab2d318084 div.sk-parallel-item:last-child::after {align-self: flex-start;width: 50%;}#sk-93363430-3c7e-41d0-bdf0-40ab2d318084 div.sk-parallel-item:only-child::after {width: 0;}#sk-93363430-3c7e-41d0-bdf0-40ab2d318084 div.sk-dashed-wrapped {border: 1px dashed gray;margin: 0.2em;box-sizing: border-box;padding-bottom: 0.1em;background-color: white;position: relative;}#sk-93363430-3c7e-41d0-bdf0-40ab2d318084 div.sk-label label {font-family: monospace;font-weight: bold;background-color: white;display: inline-block;line-height: 1.2em;}#sk-93363430-3c7e-41d0-bdf0-40ab2d318084 div.sk-label-container {position: relative;z-index: 2;text-align: center;}#sk-93363430-3c7e-41d0-bdf0-40ab2d318084 div.sk-container {display: inline-block;position: relative;}</style><div id=\"sk-93363430-3c7e-41d0-bdf0-40ab2d318084\" class\"sk-top-container\"><div class=\"sk-container\"><div class=\"sk-item sk-dashed-wrapped\"><div class=\"sk-label-container\"><div class=\"sk-label sk-toggleable\"><input class=\"sk-toggleable__control sk-hidden--visually\" id=\"15fb2019-539e-4831-b190-c90c92949626\" type=\"checkbox\" ><label class=\"sk-toggleable__label\" for=\"15fb2019-539e-4831-b190-c90c92949626\">Pipeline</label><div class=\"sk-toggleable__content\"><pre>Pipeline(steps=[('preprocessor',\n",
       "                 ColumnTransformer(transformers=[('num',\n",
       "                                                  Pipeline(steps=[('imputer',\n",
       "                                                                   SimpleImputer(strategy='median')),\n",
       "                                                                  ('scaler',\n",
       "                                                                   StandardScaler())]),\n",
       "                                                  ['age', 'fare']),\n",
       "                                                 ('cat',\n",
       "                                                  Pipeline(steps=[('imputer',\n",
       "                                                                   SimpleImputer(strategy='most_frequent')),\n",
       "                                                                  ('ohe',\n",
       "                                                                   OneHotEncoder(handle_unknown='ignore'))]),\n",
       "                                                  ['embarked', 'sex'])])),\n",
       "                ('classifier', LogisticRegression())])</pre></div></div></div><div class=\"sk-serial\"><div class=\"sk-item sk-dashed-wrapped\"><div class=\"sk-label-container\"><div class=\"sk-label sk-toggleable\"><input class=\"sk-toggleable__control sk-hidden--visually\" id=\"a55455a3-e9fe-4808-8b48-3faafeaf2a41\" type=\"checkbox\" ><label class=\"sk-toggleable__label\" for=\"a55455a3-e9fe-4808-8b48-3faafeaf2a41\">preprocessor: ColumnTransformer</label><div class=\"sk-toggleable__content\"><pre>ColumnTransformer(transformers=[('num',\n",
       "                                 Pipeline(steps=[('imputer',\n",
       "                                                  SimpleImputer(strategy='median')),\n",
       "                                                 ('scaler', StandardScaler())]),\n",
       "                                 ['age', 'fare']),\n",
       "                                ('cat',\n",
       "                                 Pipeline(steps=[('imputer',\n",
       "                                                  SimpleImputer(strategy='most_frequent')),\n",
       "                                                 ('ohe',\n",
       "                                                  OneHotEncoder(handle_unknown='ignore'))]),\n",
       "                                 ['embarked', 'sex'])])</pre></div></div></div><div class=\"sk-parallel\"><div class=\"sk-parallel-item\"><div class=\"sk-item\"><div class=\"sk-label-container\"><div class=\"sk-label sk-toggleable\"><input class=\"sk-toggleable__control sk-hidden--visually\" id=\"6158d201-81d5-4ccd-9fe2-ee0db8ecbed6\" type=\"checkbox\" ><label class=\"sk-toggleable__label\" for=\"6158d201-81d5-4ccd-9fe2-ee0db8ecbed6\">num</label><div class=\"sk-toggleable__content\"><pre>['age', 'fare']</pre></div></div></div><div class=\"sk-serial\"><div class=\"sk-item\"><div class=\"sk-serial\"><div class=\"sk-item\"><div class=\"sk-estimator sk-toggleable\"><input class=\"sk-toggleable__control sk-hidden--visually\" id=\"002de8e4-9074-4734-a6df-762498e5e370\" type=\"checkbox\" ><label class=\"sk-toggleable__label\" for=\"002de8e4-9074-4734-a6df-762498e5e370\">SimpleImputer</label><div class=\"sk-toggleable__content\"><pre>SimpleImputer(strategy='median')</pre></div></div></div><div class=\"sk-item\"><div class=\"sk-estimator sk-toggleable\"><input class=\"sk-toggleable__control sk-hidden--visually\" id=\"ef21bc51-eec2-4512-8536-2d3233aa467a\" type=\"checkbox\" ><label class=\"sk-toggleable__label\" for=\"ef21bc51-eec2-4512-8536-2d3233aa467a\">StandardScaler</label><div class=\"sk-toggleable__content\"><pre>StandardScaler()</pre></div></div></div></div></div></div></div></div><div class=\"sk-parallel-item\"><div class=\"sk-item\"><div class=\"sk-label-container\"><div class=\"sk-label sk-toggleable\"><input class=\"sk-toggleable__control sk-hidden--visually\" id=\"d0627597-ecce-44c5-84fb-5aa6270b15e3\" type=\"checkbox\" ><label class=\"sk-toggleable__label\" for=\"d0627597-ecce-44c5-84fb-5aa6270b15e3\">cat</label><div class=\"sk-toggleable__content\"><pre>['embarked', 'sex']</pre></div></div></div><div class=\"sk-serial\"><div class=\"sk-item\"><div class=\"sk-serial\"><div class=\"sk-item\"><div class=\"sk-estimator sk-toggleable\"><input class=\"sk-toggleable__control sk-hidden--visually\" id=\"8d348ff0-dd66-4318-b0b6-eabb7cdeca98\" type=\"checkbox\" ><label class=\"sk-toggleable__label\" for=\"8d348ff0-dd66-4318-b0b6-eabb7cdeca98\">SimpleImputer</label><div class=\"sk-toggleable__content\"><pre>SimpleImputer(strategy='most_frequent')</pre></div></div></div><div class=\"sk-item\"><div class=\"sk-estimator sk-toggleable\"><input class=\"sk-toggleable__control sk-hidden--visually\" id=\"b0dfa36f-44d3-4732-8757-a8fbdfc558ed\" type=\"checkbox\" ><label class=\"sk-toggleable__label\" for=\"b0dfa36f-44d3-4732-8757-a8fbdfc558ed\">OneHotEncoder</label><div class=\"sk-toggleable__content\"><pre>OneHotEncoder(handle_unknown='ignore')</pre></div></div></div></div></div></div></div></div></div></div><div class=\"sk-item\"><div class=\"sk-estimator sk-toggleable\"><input class=\"sk-toggleable__control sk-hidden--visually\" id=\"29881f74-854b-48f2-aed3-106296a19a23\" type=\"checkbox\" ><label class=\"sk-toggleable__label\" for=\"29881f74-854b-48f2-aed3-106296a19a23\">LogisticRegression</label><div class=\"sk-toggleable__content\"><pre>LogisticRegression()</pre></div></div></div></div></div></div></div>"
      ],
      "text/plain": [
       "Pipeline(steps=[('preprocessor',\n",
       "                 ColumnTransformer(transformers=[('num',\n",
       "                                                  Pipeline(steps=[('imputer',\n",
       "                                                                   SimpleImputer(strategy='median')),\n",
       "                                                                  ('scaler',\n",
       "                                                                   StandardScaler())]),\n",
       "                                                  ['age', 'fare']),\n",
       "                                                 ('cat',\n",
       "                                                  Pipeline(steps=[('imputer',\n",
       "                                                                   SimpleImputer(strategy='most_frequent')),\n",
       "                                                                  ('ohe',\n",
       "                                                                   OneHotEncoder(handle_unknown='ignore'))]),\n",
       "                                                  ['embarked', 'sex'])])),\n",
       "                ('classifier', LogisticRegression())])"
      ]
     },
     "execution_count": 74,
     "metadata": {},
     "output_type": "execute_result"
    }
   ],
   "source": [
    "from sklearn.linear_model import LogisticRegression\n",
    "\n",
    "classifier = Pipeline(steps = [('preprocessor', preprocessor),\n",
    "                              ('classifier', LogisticRegression())])\n",
    "\n",
    "classifier"
   ]
  },
  {
   "cell_type": "code",
   "execution_count": 75,
   "metadata": {},
   "outputs": [
    {
     "data": {
      "text/html": [
       "<style>#sk-df6cd72e-be8c-4979-9668-93a80ca3def5 {color: black;background-color: white;}#sk-df6cd72e-be8c-4979-9668-93a80ca3def5 pre{padding: 0;}#sk-df6cd72e-be8c-4979-9668-93a80ca3def5 div.sk-toggleable {background-color: white;}#sk-df6cd72e-be8c-4979-9668-93a80ca3def5 label.sk-toggleable__label {cursor: pointer;display: block;width: 100%;margin-bottom: 0;padding: 0.2em 0.3em;box-sizing: border-box;text-align: center;}#sk-df6cd72e-be8c-4979-9668-93a80ca3def5 div.sk-toggleable__content {max-height: 0;max-width: 0;overflow: hidden;text-align: left;background-color: #f0f8ff;}#sk-df6cd72e-be8c-4979-9668-93a80ca3def5 div.sk-toggleable__content pre {margin: 0.2em;color: black;border-radius: 0.25em;background-color: #f0f8ff;}#sk-df6cd72e-be8c-4979-9668-93a80ca3def5 input.sk-toggleable__control:checked~div.sk-toggleable__content {max-height: 200px;max-width: 100%;overflow: auto;}#sk-df6cd72e-be8c-4979-9668-93a80ca3def5 div.sk-estimator input.sk-toggleable__control:checked~label.sk-toggleable__label {background-color: #d4ebff;}#sk-df6cd72e-be8c-4979-9668-93a80ca3def5 div.sk-label input.sk-toggleable__control:checked~label.sk-toggleable__label {background-color: #d4ebff;}#sk-df6cd72e-be8c-4979-9668-93a80ca3def5 input.sk-hidden--visually {border: 0;clip: rect(1px 1px 1px 1px);clip: rect(1px, 1px, 1px, 1px);height: 1px;margin: -1px;overflow: hidden;padding: 0;position: absolute;width: 1px;}#sk-df6cd72e-be8c-4979-9668-93a80ca3def5 div.sk-estimator {font-family: monospace;background-color: #f0f8ff;margin: 0.25em 0.25em;border: 1px dotted black;border-radius: 0.25em;box-sizing: border-box;}#sk-df6cd72e-be8c-4979-9668-93a80ca3def5 div.sk-estimator:hover {background-color: #d4ebff;}#sk-df6cd72e-be8c-4979-9668-93a80ca3def5 div.sk-parallel-item::after {content: \"\";width: 100%;border-bottom: 1px solid gray;flex-grow: 1;}#sk-df6cd72e-be8c-4979-9668-93a80ca3def5 div.sk-label:hover label.sk-toggleable__label {background-color: #d4ebff;}#sk-df6cd72e-be8c-4979-9668-93a80ca3def5 div.sk-serial::before {content: \"\";position: absolute;border-left: 1px solid gray;box-sizing: border-box;top: 2em;bottom: 0;left: 50%;}#sk-df6cd72e-be8c-4979-9668-93a80ca3def5 div.sk-serial {display: flex;flex-direction: column;align-items: center;background-color: white;}#sk-df6cd72e-be8c-4979-9668-93a80ca3def5 div.sk-item {z-index: 1;}#sk-df6cd72e-be8c-4979-9668-93a80ca3def5 div.sk-parallel {display: flex;align-items: stretch;justify-content: center;background-color: white;}#sk-df6cd72e-be8c-4979-9668-93a80ca3def5 div.sk-parallel-item {display: flex;flex-direction: column;position: relative;background-color: white;}#sk-df6cd72e-be8c-4979-9668-93a80ca3def5 div.sk-parallel-item:first-child::after {align-self: flex-end;width: 50%;}#sk-df6cd72e-be8c-4979-9668-93a80ca3def5 div.sk-parallel-item:last-child::after {align-self: flex-start;width: 50%;}#sk-df6cd72e-be8c-4979-9668-93a80ca3def5 div.sk-parallel-item:only-child::after {width: 0;}#sk-df6cd72e-be8c-4979-9668-93a80ca3def5 div.sk-dashed-wrapped {border: 1px dashed gray;margin: 0.2em;box-sizing: border-box;padding-bottom: 0.1em;background-color: white;position: relative;}#sk-df6cd72e-be8c-4979-9668-93a80ca3def5 div.sk-label label {font-family: monospace;font-weight: bold;background-color: white;display: inline-block;line-height: 1.2em;}#sk-df6cd72e-be8c-4979-9668-93a80ca3def5 div.sk-label-container {position: relative;z-index: 2;text-align: center;}#sk-df6cd72e-be8c-4979-9668-93a80ca3def5 div.sk-container {display: inline-block;position: relative;}</style><div id=\"sk-df6cd72e-be8c-4979-9668-93a80ca3def5\" class\"sk-top-container\"><div class=\"sk-container\"><div class=\"sk-item sk-dashed-wrapped\"><div class=\"sk-label-container\"><div class=\"sk-label sk-toggleable\"><input class=\"sk-toggleable__control sk-hidden--visually\" id=\"ecb96ef0-b0ca-4fad-9d7a-74e0406565a5\" type=\"checkbox\" ><label class=\"sk-toggleable__label\" for=\"ecb96ef0-b0ca-4fad-9d7a-74e0406565a5\">Pipeline</label><div class=\"sk-toggleable__content\"><pre>Pipeline(steps=[('preprocessor',\n",
       "                 ColumnTransformer(transformers=[('num',\n",
       "                                                  Pipeline(steps=[('imputer',\n",
       "                                                                   SimpleImputer(strategy='median')),\n",
       "                                                                  ('scaler',\n",
       "                                                                   StandardScaler())]),\n",
       "                                                  ['age', 'fare']),\n",
       "                                                 ('cat',\n",
       "                                                  Pipeline(steps=[('imputer',\n",
       "                                                                   SimpleImputer(strategy='most_frequent')),\n",
       "                                                                  ('ohe',\n",
       "                                                                   OneHotEncoder(handle_unknown='ignore'))]),\n",
       "                                                  ['embarked', 'sex'])])),\n",
       "                ('classifier', LogisticRegression())])</pre></div></div></div><div class=\"sk-serial\"><div class=\"sk-item sk-dashed-wrapped\"><div class=\"sk-label-container\"><div class=\"sk-label sk-toggleable\"><input class=\"sk-toggleable__control sk-hidden--visually\" id=\"875d8181-4e8c-46fb-b246-db6ca58b72c8\" type=\"checkbox\" ><label class=\"sk-toggleable__label\" for=\"875d8181-4e8c-46fb-b246-db6ca58b72c8\">preprocessor: ColumnTransformer</label><div class=\"sk-toggleable__content\"><pre>ColumnTransformer(transformers=[('num',\n",
       "                                 Pipeline(steps=[('imputer',\n",
       "                                                  SimpleImputer(strategy='median')),\n",
       "                                                 ('scaler', StandardScaler())]),\n",
       "                                 ['age', 'fare']),\n",
       "                                ('cat',\n",
       "                                 Pipeline(steps=[('imputer',\n",
       "                                                  SimpleImputer(strategy='most_frequent')),\n",
       "                                                 ('ohe',\n",
       "                                                  OneHotEncoder(handle_unknown='ignore'))]),\n",
       "                                 ['embarked', 'sex'])])</pre></div></div></div><div class=\"sk-parallel\"><div class=\"sk-parallel-item\"><div class=\"sk-item\"><div class=\"sk-label-container\"><div class=\"sk-label sk-toggleable\"><input class=\"sk-toggleable__control sk-hidden--visually\" id=\"798f107e-c6fd-4906-a90a-88e63e632499\" type=\"checkbox\" ><label class=\"sk-toggleable__label\" for=\"798f107e-c6fd-4906-a90a-88e63e632499\">num</label><div class=\"sk-toggleable__content\"><pre>['age', 'fare']</pre></div></div></div><div class=\"sk-serial\"><div class=\"sk-item\"><div class=\"sk-serial\"><div class=\"sk-item\"><div class=\"sk-estimator sk-toggleable\"><input class=\"sk-toggleable__control sk-hidden--visually\" id=\"7e3ad2b5-4045-4b96-b38e-83238bb5b35a\" type=\"checkbox\" ><label class=\"sk-toggleable__label\" for=\"7e3ad2b5-4045-4b96-b38e-83238bb5b35a\">SimpleImputer</label><div class=\"sk-toggleable__content\"><pre>SimpleImputer(strategy='median')</pre></div></div></div><div class=\"sk-item\"><div class=\"sk-estimator sk-toggleable\"><input class=\"sk-toggleable__control sk-hidden--visually\" id=\"455b4392-875d-470e-9fbc-31fd2771364e\" type=\"checkbox\" ><label class=\"sk-toggleable__label\" for=\"455b4392-875d-470e-9fbc-31fd2771364e\">StandardScaler</label><div class=\"sk-toggleable__content\"><pre>StandardScaler()</pre></div></div></div></div></div></div></div></div><div class=\"sk-parallel-item\"><div class=\"sk-item\"><div class=\"sk-label-container\"><div class=\"sk-label sk-toggleable\"><input class=\"sk-toggleable__control sk-hidden--visually\" id=\"93957d2f-73eb-4f1f-b5b3-ead814c77a0b\" type=\"checkbox\" ><label class=\"sk-toggleable__label\" for=\"93957d2f-73eb-4f1f-b5b3-ead814c77a0b\">cat</label><div class=\"sk-toggleable__content\"><pre>['embarked', 'sex']</pre></div></div></div><div class=\"sk-serial\"><div class=\"sk-item\"><div class=\"sk-serial\"><div class=\"sk-item\"><div class=\"sk-estimator sk-toggleable\"><input class=\"sk-toggleable__control sk-hidden--visually\" id=\"3b447728-1304-4ac7-ae0a-15af9276c1d6\" type=\"checkbox\" ><label class=\"sk-toggleable__label\" for=\"3b447728-1304-4ac7-ae0a-15af9276c1d6\">SimpleImputer</label><div class=\"sk-toggleable__content\"><pre>SimpleImputer(strategy='most_frequent')</pre></div></div></div><div class=\"sk-item\"><div class=\"sk-estimator sk-toggleable\"><input class=\"sk-toggleable__control sk-hidden--visually\" id=\"13cf58c6-ca5c-44ba-a477-fe16f1c15b64\" type=\"checkbox\" ><label class=\"sk-toggleable__label\" for=\"13cf58c6-ca5c-44ba-a477-fe16f1c15b64\">OneHotEncoder</label><div class=\"sk-toggleable__content\"><pre>OneHotEncoder(handle_unknown='ignore')</pre></div></div></div></div></div></div></div></div></div></div><div class=\"sk-item\"><div class=\"sk-estimator sk-toggleable\"><input class=\"sk-toggleable__control sk-hidden--visually\" id=\"e4c6e687-3b0f-4c72-a640-acc84e2ea779\" type=\"checkbox\" ><label class=\"sk-toggleable__label\" for=\"e4c6e687-3b0f-4c72-a640-acc84e2ea779\">LogisticRegression</label><div class=\"sk-toggleable__content\"><pre>LogisticRegression()</pre></div></div></div></div></div></div></div>"
      ],
      "text/plain": [
       "Pipeline(steps=[('preprocessor',\n",
       "                 ColumnTransformer(transformers=[('num',\n",
       "                                                  Pipeline(steps=[('imputer',\n",
       "                                                                   SimpleImputer(strategy='median')),\n",
       "                                                                  ('scaler',\n",
       "                                                                   StandardScaler())]),\n",
       "                                                  ['age', 'fare']),\n",
       "                                                 ('cat',\n",
       "                                                  Pipeline(steps=[('imputer',\n",
       "                                                                   SimpleImputer(strategy='most_frequent')),\n",
       "                                                                  ('ohe',\n",
       "                                                                   OneHotEncoder(handle_unknown='ignore'))]),\n",
       "                                                  ['embarked', 'sex'])])),\n",
       "                ('classifier', LogisticRegression())])"
      ]
     },
     "execution_count": 75,
     "metadata": {},
     "output_type": "execute_result"
    }
   ],
   "source": [
    "classifier.fit(X_train, y_train)"
   ]
  },
  {
   "cell_type": "code",
   "execution_count": 76,
   "metadata": {},
   "outputs": [
    {
     "data": {
      "text/plain": [
       "0.775549188156638"
      ]
     },
     "execution_count": 76,
     "metadata": {},
     "output_type": "execute_result"
    }
   ],
   "source": [
    "classifier.score(X_train, y_train)"
   ]
  },
  {
   "cell_type": "code",
   "execution_count": 77,
   "metadata": {},
   "outputs": [
    {
     "data": {
      "text/plain": [
       "0.7824427480916031"
      ]
     },
     "execution_count": 77,
     "metadata": {},
     "output_type": "execute_result"
    }
   ],
   "source": [
    "classifier.score(X_test, y_test)"
   ]
  },
  {
   "cell_type": "markdown",
   "metadata": {},
   "source": [
    "## pipelines with grid search"
   ]
  },
  {
   "cell_type": "code",
   "execution_count": 78,
   "metadata": {},
   "outputs": [],
   "source": [
    "from sklearn.model_selection import GridSearchCV\n",
    "from sklearn.tree import DecisionTreeClassifier"
   ]
  },
  {
   "cell_type": "code",
   "execution_count": 79,
   "metadata": {},
   "outputs": [],
   "source": [
    "classifier = Pipeline(steps=[('preprocessor', preprocessor),\n",
    "                             ('classifier', DecisionTreeClassifier())])"
   ]
  },
  {
   "cell_type": "code",
   "execution_count": 80,
   "metadata": {},
   "outputs": [
    {
     "data": {
      "text/html": [
       "<style>#sk-02aaf2d0-2eaf-4c38-90fd-cf8e0cf95818 {color: black;background-color: white;}#sk-02aaf2d0-2eaf-4c38-90fd-cf8e0cf95818 pre{padding: 0;}#sk-02aaf2d0-2eaf-4c38-90fd-cf8e0cf95818 div.sk-toggleable {background-color: white;}#sk-02aaf2d0-2eaf-4c38-90fd-cf8e0cf95818 label.sk-toggleable__label {cursor: pointer;display: block;width: 100%;margin-bottom: 0;padding: 0.2em 0.3em;box-sizing: border-box;text-align: center;}#sk-02aaf2d0-2eaf-4c38-90fd-cf8e0cf95818 div.sk-toggleable__content {max-height: 0;max-width: 0;overflow: hidden;text-align: left;background-color: #f0f8ff;}#sk-02aaf2d0-2eaf-4c38-90fd-cf8e0cf95818 div.sk-toggleable__content pre {margin: 0.2em;color: black;border-radius: 0.25em;background-color: #f0f8ff;}#sk-02aaf2d0-2eaf-4c38-90fd-cf8e0cf95818 input.sk-toggleable__control:checked~div.sk-toggleable__content {max-height: 200px;max-width: 100%;overflow: auto;}#sk-02aaf2d0-2eaf-4c38-90fd-cf8e0cf95818 div.sk-estimator input.sk-toggleable__control:checked~label.sk-toggleable__label {background-color: #d4ebff;}#sk-02aaf2d0-2eaf-4c38-90fd-cf8e0cf95818 div.sk-label input.sk-toggleable__control:checked~label.sk-toggleable__label {background-color: #d4ebff;}#sk-02aaf2d0-2eaf-4c38-90fd-cf8e0cf95818 input.sk-hidden--visually {border: 0;clip: rect(1px 1px 1px 1px);clip: rect(1px, 1px, 1px, 1px);height: 1px;margin: -1px;overflow: hidden;padding: 0;position: absolute;width: 1px;}#sk-02aaf2d0-2eaf-4c38-90fd-cf8e0cf95818 div.sk-estimator {font-family: monospace;background-color: #f0f8ff;margin: 0.25em 0.25em;border: 1px dotted black;border-radius: 0.25em;box-sizing: border-box;}#sk-02aaf2d0-2eaf-4c38-90fd-cf8e0cf95818 div.sk-estimator:hover {background-color: #d4ebff;}#sk-02aaf2d0-2eaf-4c38-90fd-cf8e0cf95818 div.sk-parallel-item::after {content: \"\";width: 100%;border-bottom: 1px solid gray;flex-grow: 1;}#sk-02aaf2d0-2eaf-4c38-90fd-cf8e0cf95818 div.sk-label:hover label.sk-toggleable__label {background-color: #d4ebff;}#sk-02aaf2d0-2eaf-4c38-90fd-cf8e0cf95818 div.sk-serial::before {content: \"\";position: absolute;border-left: 1px solid gray;box-sizing: border-box;top: 2em;bottom: 0;left: 50%;}#sk-02aaf2d0-2eaf-4c38-90fd-cf8e0cf95818 div.sk-serial {display: flex;flex-direction: column;align-items: center;background-color: white;}#sk-02aaf2d0-2eaf-4c38-90fd-cf8e0cf95818 div.sk-item {z-index: 1;}#sk-02aaf2d0-2eaf-4c38-90fd-cf8e0cf95818 div.sk-parallel {display: flex;align-items: stretch;justify-content: center;background-color: white;}#sk-02aaf2d0-2eaf-4c38-90fd-cf8e0cf95818 div.sk-parallel-item {display: flex;flex-direction: column;position: relative;background-color: white;}#sk-02aaf2d0-2eaf-4c38-90fd-cf8e0cf95818 div.sk-parallel-item:first-child::after {align-self: flex-end;width: 50%;}#sk-02aaf2d0-2eaf-4c38-90fd-cf8e0cf95818 div.sk-parallel-item:last-child::after {align-self: flex-start;width: 50%;}#sk-02aaf2d0-2eaf-4c38-90fd-cf8e0cf95818 div.sk-parallel-item:only-child::after {width: 0;}#sk-02aaf2d0-2eaf-4c38-90fd-cf8e0cf95818 div.sk-dashed-wrapped {border: 1px dashed gray;margin: 0.2em;box-sizing: border-box;padding-bottom: 0.1em;background-color: white;position: relative;}#sk-02aaf2d0-2eaf-4c38-90fd-cf8e0cf95818 div.sk-label label {font-family: monospace;font-weight: bold;background-color: white;display: inline-block;line-height: 1.2em;}#sk-02aaf2d0-2eaf-4c38-90fd-cf8e0cf95818 div.sk-label-container {position: relative;z-index: 2;text-align: center;}#sk-02aaf2d0-2eaf-4c38-90fd-cf8e0cf95818 div.sk-container {display: inline-block;position: relative;}</style><div id=\"sk-02aaf2d0-2eaf-4c38-90fd-cf8e0cf95818\" class\"sk-top-container\"><div class=\"sk-container\"><div class=\"sk-item sk-dashed-wrapped\"><div class=\"sk-label-container\"><div class=\"sk-label sk-toggleable\"><input class=\"sk-toggleable__control sk-hidden--visually\" id=\"dcf1dd1f-c80c-4593-b6fb-93ffcedb4713\" type=\"checkbox\" ><label class=\"sk-toggleable__label\" for=\"dcf1dd1f-c80c-4593-b6fb-93ffcedb4713\">Pipeline</label><div class=\"sk-toggleable__content\"><pre>Pipeline(steps=[('preprocessor',\n",
       "                 ColumnTransformer(transformers=[('num',\n",
       "                                                  Pipeline(steps=[('imputer',\n",
       "                                                                   SimpleImputer(strategy='median')),\n",
       "                                                                  ('scaler',\n",
       "                                                                   StandardScaler())]),\n",
       "                                                  ['age', 'fare']),\n",
       "                                                 ('cat',\n",
       "                                                  Pipeline(steps=[('imputer',\n",
       "                                                                   SimpleImputer(strategy='most_frequent')),\n",
       "                                                                  ('ohe',\n",
       "                                                                   OneHotEncoder(handle_unknown='ignore'))]),\n",
       "                                                  ['embarked', 'sex'])])),\n",
       "                ('classifier', DecisionTreeClassifier())])</pre></div></div></div><div class=\"sk-serial\"><div class=\"sk-item sk-dashed-wrapped\"><div class=\"sk-label-container\"><div class=\"sk-label sk-toggleable\"><input class=\"sk-toggleable__control sk-hidden--visually\" id=\"1827ba12-3bea-436e-8720-8c947c19197b\" type=\"checkbox\" ><label class=\"sk-toggleable__label\" for=\"1827ba12-3bea-436e-8720-8c947c19197b\">preprocessor: ColumnTransformer</label><div class=\"sk-toggleable__content\"><pre>ColumnTransformer(transformers=[('num',\n",
       "                                 Pipeline(steps=[('imputer',\n",
       "                                                  SimpleImputer(strategy='median')),\n",
       "                                                 ('scaler', StandardScaler())]),\n",
       "                                 ['age', 'fare']),\n",
       "                                ('cat',\n",
       "                                 Pipeline(steps=[('imputer',\n",
       "                                                  SimpleImputer(strategy='most_frequent')),\n",
       "                                                 ('ohe',\n",
       "                                                  OneHotEncoder(handle_unknown='ignore'))]),\n",
       "                                 ['embarked', 'sex'])])</pre></div></div></div><div class=\"sk-parallel\"><div class=\"sk-parallel-item\"><div class=\"sk-item\"><div class=\"sk-label-container\"><div class=\"sk-label sk-toggleable\"><input class=\"sk-toggleable__control sk-hidden--visually\" id=\"4847fea4-2a09-417c-bd5c-372d6b487d20\" type=\"checkbox\" ><label class=\"sk-toggleable__label\" for=\"4847fea4-2a09-417c-bd5c-372d6b487d20\">num</label><div class=\"sk-toggleable__content\"><pre>['age', 'fare']</pre></div></div></div><div class=\"sk-serial\"><div class=\"sk-item\"><div class=\"sk-serial\"><div class=\"sk-item\"><div class=\"sk-estimator sk-toggleable\"><input class=\"sk-toggleable__control sk-hidden--visually\" id=\"3e3ae12f-a3c7-4b4e-b4bd-7ec959daa0b6\" type=\"checkbox\" ><label class=\"sk-toggleable__label\" for=\"3e3ae12f-a3c7-4b4e-b4bd-7ec959daa0b6\">SimpleImputer</label><div class=\"sk-toggleable__content\"><pre>SimpleImputer(strategy='median')</pre></div></div></div><div class=\"sk-item\"><div class=\"sk-estimator sk-toggleable\"><input class=\"sk-toggleable__control sk-hidden--visually\" id=\"014cc9c3-1aa6-407b-ae57-42c9a862058a\" type=\"checkbox\" ><label class=\"sk-toggleable__label\" for=\"014cc9c3-1aa6-407b-ae57-42c9a862058a\">StandardScaler</label><div class=\"sk-toggleable__content\"><pre>StandardScaler()</pre></div></div></div></div></div></div></div></div><div class=\"sk-parallel-item\"><div class=\"sk-item\"><div class=\"sk-label-container\"><div class=\"sk-label sk-toggleable\"><input class=\"sk-toggleable__control sk-hidden--visually\" id=\"ba68f8cb-00a8-42bb-824c-3a3e737c4c1b\" type=\"checkbox\" ><label class=\"sk-toggleable__label\" for=\"ba68f8cb-00a8-42bb-824c-3a3e737c4c1b\">cat</label><div class=\"sk-toggleable__content\"><pre>['embarked', 'sex']</pre></div></div></div><div class=\"sk-serial\"><div class=\"sk-item\"><div class=\"sk-serial\"><div class=\"sk-item\"><div class=\"sk-estimator sk-toggleable\"><input class=\"sk-toggleable__control sk-hidden--visually\" id=\"22c62b29-037a-4dde-99e7-e7c67f9290d4\" type=\"checkbox\" ><label class=\"sk-toggleable__label\" for=\"22c62b29-037a-4dde-99e7-e7c67f9290d4\">SimpleImputer</label><div class=\"sk-toggleable__content\"><pre>SimpleImputer(strategy='most_frequent')</pre></div></div></div><div class=\"sk-item\"><div class=\"sk-estimator sk-toggleable\"><input class=\"sk-toggleable__control sk-hidden--visually\" id=\"08ffdae5-6b63-4b1a-9520-ecab1c46b92a\" type=\"checkbox\" ><label class=\"sk-toggleable__label\" for=\"08ffdae5-6b63-4b1a-9520-ecab1c46b92a\">OneHotEncoder</label><div class=\"sk-toggleable__content\"><pre>OneHotEncoder(handle_unknown='ignore')</pre></div></div></div></div></div></div></div></div></div></div><div class=\"sk-item\"><div class=\"sk-estimator sk-toggleable\"><input class=\"sk-toggleable__control sk-hidden--visually\" id=\"5d584a80-fade-4425-aa27-0ae8345f45bb\" type=\"checkbox\" ><label class=\"sk-toggleable__label\" for=\"5d584a80-fade-4425-aa27-0ae8345f45bb\">DecisionTreeClassifier</label><div class=\"sk-toggleable__content\"><pre>DecisionTreeClassifier()</pre></div></div></div></div></div></div></div>"
      ],
      "text/plain": [
       "Pipeline(steps=[('preprocessor',\n",
       "                 ColumnTransformer(transformers=[('num',\n",
       "                                                  Pipeline(steps=[('imputer',\n",
       "                                                                   SimpleImputer(strategy='median')),\n",
       "                                                                  ('scaler',\n",
       "                                                                   StandardScaler())]),\n",
       "                                                  ['age', 'fare']),\n",
       "                                                 ('cat',\n",
       "                                                  Pipeline(steps=[('imputer',\n",
       "                                                                   SimpleImputer(strategy='most_frequent')),\n",
       "                                                                  ('ohe',\n",
       "                                                                   OneHotEncoder(handle_unknown='ignore'))]),\n",
       "                                                  ['embarked', 'sex'])])),\n",
       "                ('classifier', DecisionTreeClassifier())])"
      ]
     },
     "execution_count": 80,
     "metadata": {},
     "output_type": "execute_result"
    }
   ],
   "source": [
    "classifier"
   ]
  },
  {
   "cell_type": "code",
   "execution_count": 81,
   "metadata": {},
   "outputs": [
    {
     "data": {
      "text/plain": [
       "{'memory': None,\n",
       " 'steps': [('preprocessor',\n",
       "   ColumnTransformer(transformers=[('num',\n",
       "                                    Pipeline(steps=[('imputer',\n",
       "                                                     SimpleImputer(strategy='median')),\n",
       "                                                    ('scaler', StandardScaler())]),\n",
       "                                    ['age', 'fare']),\n",
       "                                   ('cat',\n",
       "                                    Pipeline(steps=[('imputer',\n",
       "                                                     SimpleImputer(strategy='most_frequent')),\n",
       "                                                    ('ohe',\n",
       "                                                     OneHotEncoder(handle_unknown='ignore'))]),\n",
       "                                    ['embarked', 'sex'])])),\n",
       "  ('classifier', DecisionTreeClassifier())],\n",
       " 'verbose': False,\n",
       " 'preprocessor': ColumnTransformer(transformers=[('num',\n",
       "                                  Pipeline(steps=[('imputer',\n",
       "                                                   SimpleImputer(strategy='median')),\n",
       "                                                  ('scaler', StandardScaler())]),\n",
       "                                  ['age', 'fare']),\n",
       "                                 ('cat',\n",
       "                                  Pipeline(steps=[('imputer',\n",
       "                                                   SimpleImputer(strategy='most_frequent')),\n",
       "                                                  ('ohe',\n",
       "                                                   OneHotEncoder(handle_unknown='ignore'))]),\n",
       "                                  ['embarked', 'sex'])]),\n",
       " 'classifier': DecisionTreeClassifier(),\n",
       " 'preprocessor__n_jobs': None,\n",
       " 'preprocessor__remainder': 'drop',\n",
       " 'preprocessor__sparse_threshold': 0.3,\n",
       " 'preprocessor__transformer_weights': None,\n",
       " 'preprocessor__transformers': [('num',\n",
       "   Pipeline(steps=[('imputer', SimpleImputer(strategy='median')),\n",
       "                   ('scaler', StandardScaler())]),\n",
       "   ['age', 'fare']),\n",
       "  ('cat',\n",
       "   Pipeline(steps=[('imputer', SimpleImputer(strategy='most_frequent')),\n",
       "                   ('ohe', OneHotEncoder(handle_unknown='ignore'))]),\n",
       "   ['embarked', 'sex'])],\n",
       " 'preprocessor__verbose': False,\n",
       " 'preprocessor__num': Pipeline(steps=[('imputer', SimpleImputer(strategy='median')),\n",
       "                 ('scaler', StandardScaler())]),\n",
       " 'preprocessor__cat': Pipeline(steps=[('imputer', SimpleImputer(strategy='most_frequent')),\n",
       "                 ('ohe', OneHotEncoder(handle_unknown='ignore'))]),\n",
       " 'preprocessor__num__memory': None,\n",
       " 'preprocessor__num__steps': [('imputer', SimpleImputer(strategy='median')),\n",
       "  ('scaler', StandardScaler())],\n",
       " 'preprocessor__num__verbose': False,\n",
       " 'preprocessor__num__imputer': SimpleImputer(strategy='median'),\n",
       " 'preprocessor__num__scaler': StandardScaler(),\n",
       " 'preprocessor__num__imputer__add_indicator': False,\n",
       " 'preprocessor__num__imputer__copy': True,\n",
       " 'preprocessor__num__imputer__fill_value': None,\n",
       " 'preprocessor__num__imputer__missing_values': nan,\n",
       " 'preprocessor__num__imputer__strategy': 'median',\n",
       " 'preprocessor__num__imputer__verbose': 0,\n",
       " 'preprocessor__num__scaler__copy': True,\n",
       " 'preprocessor__num__scaler__with_mean': True,\n",
       " 'preprocessor__num__scaler__with_std': True,\n",
       " 'preprocessor__cat__memory': None,\n",
       " 'preprocessor__cat__steps': [('imputer',\n",
       "   SimpleImputer(strategy='most_frequent')),\n",
       "  ('ohe', OneHotEncoder(handle_unknown='ignore'))],\n",
       " 'preprocessor__cat__verbose': False,\n",
       " 'preprocessor__cat__imputer': SimpleImputer(strategy='most_frequent'),\n",
       " 'preprocessor__cat__ohe': OneHotEncoder(handle_unknown='ignore'),\n",
       " 'preprocessor__cat__imputer__add_indicator': False,\n",
       " 'preprocessor__cat__imputer__copy': True,\n",
       " 'preprocessor__cat__imputer__fill_value': None,\n",
       " 'preprocessor__cat__imputer__missing_values': nan,\n",
       " 'preprocessor__cat__imputer__strategy': 'most_frequent',\n",
       " 'preprocessor__cat__imputer__verbose': 0,\n",
       " 'preprocessor__cat__ohe__categories': 'auto',\n",
       " 'preprocessor__cat__ohe__drop': None,\n",
       " 'preprocessor__cat__ohe__dtype': numpy.float64,\n",
       " 'preprocessor__cat__ohe__handle_unknown': 'ignore',\n",
       " 'preprocessor__cat__ohe__sparse': True,\n",
       " 'classifier__ccp_alpha': 0.0,\n",
       " 'classifier__class_weight': None,\n",
       " 'classifier__criterion': 'gini',\n",
       " 'classifier__max_depth': None,\n",
       " 'classifier__max_features': None,\n",
       " 'classifier__max_leaf_nodes': None,\n",
       " 'classifier__min_impurity_decrease': 0.0,\n",
       " 'classifier__min_impurity_split': None,\n",
       " 'classifier__min_samples_leaf': 1,\n",
       " 'classifier__min_samples_split': 2,\n",
       " 'classifier__min_weight_fraction_leaf': 0.0,\n",
       " 'classifier__random_state': None,\n",
       " 'classifier__splitter': 'best'}"
      ]
     },
     "execution_count": 81,
     "metadata": {},
     "output_type": "execute_result"
    }
   ],
   "source": [
    "classifier.get_params()"
   ]
  },
  {
   "cell_type": "code",
   "execution_count": 82,
   "metadata": {},
   "outputs": [],
   "source": [
    "param_grid = {'preprocessor__num__imputer__strategy': ['mean', 'median'],\n",
    "              'classifier__max_depth': [2, 4, 6, 8, 10],\n",
    "              'classifier__min_samples_split': [10, 15, 20]}"
   ]
  },
  {
   "cell_type": "code",
   "execution_count": 83,
   "metadata": {},
   "outputs": [],
   "source": [
    "from sklearn.model_selection import GridSearchCV"
   ]
  },
  {
   "cell_type": "code",
   "execution_count": 84,
   "metadata": {},
   "outputs": [],
   "source": [
    "gs = GridSearchCV(classifier, param_grid=param_grid, scoring='roc_auc')"
   ]
  },
  {
   "cell_type": "code",
   "execution_count": 85,
   "metadata": {},
   "outputs": [
    {
     "data": {
      "text/html": [
       "<style>#sk-7f470f5d-13ff-42ec-a968-9587e43719cd {color: black;background-color: white;}#sk-7f470f5d-13ff-42ec-a968-9587e43719cd pre{padding: 0;}#sk-7f470f5d-13ff-42ec-a968-9587e43719cd div.sk-toggleable {background-color: white;}#sk-7f470f5d-13ff-42ec-a968-9587e43719cd label.sk-toggleable__label {cursor: pointer;display: block;width: 100%;margin-bottom: 0;padding: 0.2em 0.3em;box-sizing: border-box;text-align: center;}#sk-7f470f5d-13ff-42ec-a968-9587e43719cd div.sk-toggleable__content {max-height: 0;max-width: 0;overflow: hidden;text-align: left;background-color: #f0f8ff;}#sk-7f470f5d-13ff-42ec-a968-9587e43719cd div.sk-toggleable__content pre {margin: 0.2em;color: black;border-radius: 0.25em;background-color: #f0f8ff;}#sk-7f470f5d-13ff-42ec-a968-9587e43719cd input.sk-toggleable__control:checked~div.sk-toggleable__content {max-height: 200px;max-width: 100%;overflow: auto;}#sk-7f470f5d-13ff-42ec-a968-9587e43719cd div.sk-estimator input.sk-toggleable__control:checked~label.sk-toggleable__label {background-color: #d4ebff;}#sk-7f470f5d-13ff-42ec-a968-9587e43719cd div.sk-label input.sk-toggleable__control:checked~label.sk-toggleable__label {background-color: #d4ebff;}#sk-7f470f5d-13ff-42ec-a968-9587e43719cd input.sk-hidden--visually {border: 0;clip: rect(1px 1px 1px 1px);clip: rect(1px, 1px, 1px, 1px);height: 1px;margin: -1px;overflow: hidden;padding: 0;position: absolute;width: 1px;}#sk-7f470f5d-13ff-42ec-a968-9587e43719cd div.sk-estimator {font-family: monospace;background-color: #f0f8ff;margin: 0.25em 0.25em;border: 1px dotted black;border-radius: 0.25em;box-sizing: border-box;}#sk-7f470f5d-13ff-42ec-a968-9587e43719cd div.sk-estimator:hover {background-color: #d4ebff;}#sk-7f470f5d-13ff-42ec-a968-9587e43719cd div.sk-parallel-item::after {content: \"\";width: 100%;border-bottom: 1px solid gray;flex-grow: 1;}#sk-7f470f5d-13ff-42ec-a968-9587e43719cd div.sk-label:hover label.sk-toggleable__label {background-color: #d4ebff;}#sk-7f470f5d-13ff-42ec-a968-9587e43719cd div.sk-serial::before {content: \"\";position: absolute;border-left: 1px solid gray;box-sizing: border-box;top: 2em;bottom: 0;left: 50%;}#sk-7f470f5d-13ff-42ec-a968-9587e43719cd div.sk-serial {display: flex;flex-direction: column;align-items: center;background-color: white;}#sk-7f470f5d-13ff-42ec-a968-9587e43719cd div.sk-item {z-index: 1;}#sk-7f470f5d-13ff-42ec-a968-9587e43719cd div.sk-parallel {display: flex;align-items: stretch;justify-content: center;background-color: white;}#sk-7f470f5d-13ff-42ec-a968-9587e43719cd div.sk-parallel-item {display: flex;flex-direction: column;position: relative;background-color: white;}#sk-7f470f5d-13ff-42ec-a968-9587e43719cd div.sk-parallel-item:first-child::after {align-self: flex-end;width: 50%;}#sk-7f470f5d-13ff-42ec-a968-9587e43719cd div.sk-parallel-item:last-child::after {align-self: flex-start;width: 50%;}#sk-7f470f5d-13ff-42ec-a968-9587e43719cd div.sk-parallel-item:only-child::after {width: 0;}#sk-7f470f5d-13ff-42ec-a968-9587e43719cd div.sk-dashed-wrapped {border: 1px dashed gray;margin: 0.2em;box-sizing: border-box;padding-bottom: 0.1em;background-color: white;position: relative;}#sk-7f470f5d-13ff-42ec-a968-9587e43719cd div.sk-label label {font-family: monospace;font-weight: bold;background-color: white;display: inline-block;line-height: 1.2em;}#sk-7f470f5d-13ff-42ec-a968-9587e43719cd div.sk-label-container {position: relative;z-index: 2;text-align: center;}#sk-7f470f5d-13ff-42ec-a968-9587e43719cd div.sk-container {display: inline-block;position: relative;}</style><div id=\"sk-7f470f5d-13ff-42ec-a968-9587e43719cd\" class\"sk-top-container\"><div class=\"sk-container\"><div class=\"sk-item sk-dashed-wrapped\"><div class=\"sk-label-container\"><div class=\"sk-label sk-toggleable\"><input class=\"sk-toggleable__control sk-hidden--visually\" id=\"e5942581-667d-4eae-8e83-110a9fadf2c4\" type=\"checkbox\" ><label class=\"sk-toggleable__label\" for=\"e5942581-667d-4eae-8e83-110a9fadf2c4\">GridSearchCV</label><div class=\"sk-toggleable__content\"><pre>GridSearchCV(estimator=Pipeline(steps=[('preprocessor',\n",
       "                                        ColumnTransformer(transformers=[('num',\n",
       "                                                                         Pipeline(steps=[('imputer',\n",
       "                                                                                          SimpleImputer(strategy='median')),\n",
       "                                                                                         ('scaler',\n",
       "                                                                                          StandardScaler())]),\n",
       "                                                                         ['age',\n",
       "                                                                          'fare']),\n",
       "                                                                        ('cat',\n",
       "                                                                         Pipeline(steps=[('imputer',\n",
       "                                                                                          SimpleImputer(strategy='most_frequent')),\n",
       "                                                                                         ('ohe',\n",
       "                                                                                          OneHotEncoder(handle_unknown='ignore'))]),\n",
       "                                                                         ['embarked',\n",
       "                                                                          'sex'])])),\n",
       "                                       ('classifier',\n",
       "                                        DecisionTreeClassifier())]),\n",
       "             param_grid={'classifier__max_depth': [2, 4, 6, 8, 10],\n",
       "                         'classifier__min_samples_split': [10, 15, 20],\n",
       "                         'preprocessor__num__imputer__strategy': ['mean',\n",
       "                                                                  'median']},\n",
       "             scoring='roc_auc')</pre></div></div></div><div class=\"sk-parallel\"><div class=\"sk-parallel-item\"><div class=\"sk-item\"><div class=\"sk-serial\"><div class=\"sk-item\"><div class=\"sk-serial\"><div class=\"sk-item sk-dashed-wrapped\"><div class=\"sk-label-container\"><div class=\"sk-label sk-toggleable\"><input class=\"sk-toggleable__control sk-hidden--visually\" id=\"3803b413-d2a2-4ddb-bb31-c75bf69d5035\" type=\"checkbox\" ><label class=\"sk-toggleable__label\" for=\"3803b413-d2a2-4ddb-bb31-c75bf69d5035\">preprocessor: ColumnTransformer</label><div class=\"sk-toggleable__content\"><pre>ColumnTransformer(transformers=[('num',\n",
       "                                 Pipeline(steps=[('imputer',\n",
       "                                                  SimpleImputer(strategy='median')),\n",
       "                                                 ('scaler', StandardScaler())]),\n",
       "                                 ['age', 'fare']),\n",
       "                                ('cat',\n",
       "                                 Pipeline(steps=[('imputer',\n",
       "                                                  SimpleImputer(strategy='most_frequent')),\n",
       "                                                 ('ohe',\n",
       "                                                  OneHotEncoder(handle_unknown='ignore'))]),\n",
       "                                 ['embarked', 'sex'])])</pre></div></div></div><div class=\"sk-parallel\"><div class=\"sk-parallel-item\"><div class=\"sk-item\"><div class=\"sk-label-container\"><div class=\"sk-label sk-toggleable\"><input class=\"sk-toggleable__control sk-hidden--visually\" id=\"8e6ac71b-2d77-48d7-84c8-394df9e7f910\" type=\"checkbox\" ><label class=\"sk-toggleable__label\" for=\"8e6ac71b-2d77-48d7-84c8-394df9e7f910\">num</label><div class=\"sk-toggleable__content\"><pre>['age', 'fare']</pre></div></div></div><div class=\"sk-serial\"><div class=\"sk-item\"><div class=\"sk-serial\"><div class=\"sk-item\"><div class=\"sk-estimator sk-toggleable\"><input class=\"sk-toggleable__control sk-hidden--visually\" id=\"a1263565-c7da-425f-8467-2f5df9774077\" type=\"checkbox\" ><label class=\"sk-toggleable__label\" for=\"a1263565-c7da-425f-8467-2f5df9774077\">SimpleImputer</label><div class=\"sk-toggleable__content\"><pre>SimpleImputer(strategy='median')</pre></div></div></div><div class=\"sk-item\"><div class=\"sk-estimator sk-toggleable\"><input class=\"sk-toggleable__control sk-hidden--visually\" id=\"7a8855fa-a276-435e-a0d8-542937a249d2\" type=\"checkbox\" ><label class=\"sk-toggleable__label\" for=\"7a8855fa-a276-435e-a0d8-542937a249d2\">StandardScaler</label><div class=\"sk-toggleable__content\"><pre>StandardScaler()</pre></div></div></div></div></div></div></div></div><div class=\"sk-parallel-item\"><div class=\"sk-item\"><div class=\"sk-label-container\"><div class=\"sk-label sk-toggleable\"><input class=\"sk-toggleable__control sk-hidden--visually\" id=\"1633d14a-d33f-4ed1-bcf2-12cd99cafbdd\" type=\"checkbox\" ><label class=\"sk-toggleable__label\" for=\"1633d14a-d33f-4ed1-bcf2-12cd99cafbdd\">cat</label><div class=\"sk-toggleable__content\"><pre>['embarked', 'sex']</pre></div></div></div><div class=\"sk-serial\"><div class=\"sk-item\"><div class=\"sk-serial\"><div class=\"sk-item\"><div class=\"sk-estimator sk-toggleable\"><input class=\"sk-toggleable__control sk-hidden--visually\" id=\"3c479c42-9f92-4e1b-893c-123cc1fbca3a\" type=\"checkbox\" ><label class=\"sk-toggleable__label\" for=\"3c479c42-9f92-4e1b-893c-123cc1fbca3a\">SimpleImputer</label><div class=\"sk-toggleable__content\"><pre>SimpleImputer(strategy='most_frequent')</pre></div></div></div><div class=\"sk-item\"><div class=\"sk-estimator sk-toggleable\"><input class=\"sk-toggleable__control sk-hidden--visually\" id=\"bf3797f8-1d0a-4bdc-873d-8134d371abec\" type=\"checkbox\" ><label class=\"sk-toggleable__label\" for=\"bf3797f8-1d0a-4bdc-873d-8134d371abec\">OneHotEncoder</label><div class=\"sk-toggleable__content\"><pre>OneHotEncoder(handle_unknown='ignore')</pre></div></div></div></div></div></div></div></div></div></div><div class=\"sk-item\"><div class=\"sk-estimator sk-toggleable\"><input class=\"sk-toggleable__control sk-hidden--visually\" id=\"2c3e3ecb-9fa9-4cf5-8b5f-358dd12b30d8\" type=\"checkbox\" ><label class=\"sk-toggleable__label\" for=\"2c3e3ecb-9fa9-4cf5-8b5f-358dd12b30d8\">DecisionTreeClassifier</label><div class=\"sk-toggleable__content\"><pre>DecisionTreeClassifier()</pre></div></div></div></div></div></div></div></div></div></div></div></div>"
      ],
      "text/plain": [
       "GridSearchCV(estimator=Pipeline(steps=[('preprocessor',\n",
       "                                        ColumnTransformer(transformers=[('num',\n",
       "                                                                         Pipeline(steps=[('imputer',\n",
       "                                                                                          SimpleImputer(strategy='median')),\n",
       "                                                                                         ('scaler',\n",
       "                                                                                          StandardScaler())]),\n",
       "                                                                         ['age',\n",
       "                                                                          'fare']),\n",
       "                                                                        ('cat',\n",
       "                                                                         Pipeline(steps=[('imputer',\n",
       "                                                                                          SimpleImputer(strategy='most_frequent')),\n",
       "                                                                                         ('ohe',\n",
       "                                                                                          OneHotEncoder(handle_unknown='ignore'))]),\n",
       "                                                                         ['embarked',\n",
       "                                                                          'sex'])])),\n",
       "                                       ('classifier',\n",
       "                                        DecisionTreeClassifier())]),\n",
       "             param_grid={'classifier__max_depth': [2, 4, 6, 8, 10],\n",
       "                         'classifier__min_samples_split': [10, 15, 20],\n",
       "                         'preprocessor__num__imputer__strategy': ['mean',\n",
       "                                                                  'median']},\n",
       "             scoring='roc_auc')"
      ]
     },
     "execution_count": 85,
     "metadata": {},
     "output_type": "execute_result"
    }
   ],
   "source": [
    "gs.fit(X_train, y_train)"
   ]
  },
  {
   "cell_type": "code",
   "execution_count": 86,
   "metadata": {},
   "outputs": [
    {
     "data": {
      "text/plain": [
       "{'classifier__max_depth': 6,\n",
       " 'classifier__min_samples_split': 20,\n",
       " 'preprocessor__num__imputer__strategy': 'mean'}"
      ]
     },
     "execution_count": 86,
     "metadata": {},
     "output_type": "execute_result"
    }
   ],
   "source": [
    "gs.best_params_"
   ]
  },
  {
   "cell_type": "code",
   "execution_count": 87,
   "metadata": {},
   "outputs": [
    {
     "data": {
      "text/plain": [
       "0.8636735818604102"
      ]
     },
     "execution_count": 87,
     "metadata": {},
     "output_type": "execute_result"
    }
   ],
   "source": [
    "gs.score(X_train, y_train)"
   ]
  },
  {
   "cell_type": "code",
   "execution_count": 88,
   "metadata": {},
   "outputs": [
    {
     "data": {
      "text/plain": [
       "0.8446916195856874"
      ]
     },
     "execution_count": 88,
     "metadata": {},
     "output_type": "execute_result"
    }
   ],
   "source": [
    "gs.score(X_test, y_test)"
   ]
  },
  {
   "cell_type": "code",
   "execution_count": 89,
   "metadata": {},
   "outputs": [],
   "source": [
    "best_model = gs.best_estimator_"
   ]
  },
  {
   "cell_type": "code",
   "execution_count": 90,
   "metadata": {},
   "outputs": [
    {
     "data": {
      "text/html": [
       "<style>#sk-221aafab-e8de-4c59-b1ca-b08a7965271c {color: black;background-color: white;}#sk-221aafab-e8de-4c59-b1ca-b08a7965271c pre{padding: 0;}#sk-221aafab-e8de-4c59-b1ca-b08a7965271c div.sk-toggleable {background-color: white;}#sk-221aafab-e8de-4c59-b1ca-b08a7965271c label.sk-toggleable__label {cursor: pointer;display: block;width: 100%;margin-bottom: 0;padding: 0.2em 0.3em;box-sizing: border-box;text-align: center;}#sk-221aafab-e8de-4c59-b1ca-b08a7965271c div.sk-toggleable__content {max-height: 0;max-width: 0;overflow: hidden;text-align: left;background-color: #f0f8ff;}#sk-221aafab-e8de-4c59-b1ca-b08a7965271c div.sk-toggleable__content pre {margin: 0.2em;color: black;border-radius: 0.25em;background-color: #f0f8ff;}#sk-221aafab-e8de-4c59-b1ca-b08a7965271c input.sk-toggleable__control:checked~div.sk-toggleable__content {max-height: 200px;max-width: 100%;overflow: auto;}#sk-221aafab-e8de-4c59-b1ca-b08a7965271c div.sk-estimator input.sk-toggleable__control:checked~label.sk-toggleable__label {background-color: #d4ebff;}#sk-221aafab-e8de-4c59-b1ca-b08a7965271c div.sk-label input.sk-toggleable__control:checked~label.sk-toggleable__label {background-color: #d4ebff;}#sk-221aafab-e8de-4c59-b1ca-b08a7965271c input.sk-hidden--visually {border: 0;clip: rect(1px 1px 1px 1px);clip: rect(1px, 1px, 1px, 1px);height: 1px;margin: -1px;overflow: hidden;padding: 0;position: absolute;width: 1px;}#sk-221aafab-e8de-4c59-b1ca-b08a7965271c div.sk-estimator {font-family: monospace;background-color: #f0f8ff;margin: 0.25em 0.25em;border: 1px dotted black;border-radius: 0.25em;box-sizing: border-box;}#sk-221aafab-e8de-4c59-b1ca-b08a7965271c div.sk-estimator:hover {background-color: #d4ebff;}#sk-221aafab-e8de-4c59-b1ca-b08a7965271c div.sk-parallel-item::after {content: \"\";width: 100%;border-bottom: 1px solid gray;flex-grow: 1;}#sk-221aafab-e8de-4c59-b1ca-b08a7965271c div.sk-label:hover label.sk-toggleable__label {background-color: #d4ebff;}#sk-221aafab-e8de-4c59-b1ca-b08a7965271c div.sk-serial::before {content: \"\";position: absolute;border-left: 1px solid gray;box-sizing: border-box;top: 2em;bottom: 0;left: 50%;}#sk-221aafab-e8de-4c59-b1ca-b08a7965271c div.sk-serial {display: flex;flex-direction: column;align-items: center;background-color: white;}#sk-221aafab-e8de-4c59-b1ca-b08a7965271c div.sk-item {z-index: 1;}#sk-221aafab-e8de-4c59-b1ca-b08a7965271c div.sk-parallel {display: flex;align-items: stretch;justify-content: center;background-color: white;}#sk-221aafab-e8de-4c59-b1ca-b08a7965271c div.sk-parallel-item {display: flex;flex-direction: column;position: relative;background-color: white;}#sk-221aafab-e8de-4c59-b1ca-b08a7965271c div.sk-parallel-item:first-child::after {align-self: flex-end;width: 50%;}#sk-221aafab-e8de-4c59-b1ca-b08a7965271c div.sk-parallel-item:last-child::after {align-self: flex-start;width: 50%;}#sk-221aafab-e8de-4c59-b1ca-b08a7965271c div.sk-parallel-item:only-child::after {width: 0;}#sk-221aafab-e8de-4c59-b1ca-b08a7965271c div.sk-dashed-wrapped {border: 1px dashed gray;margin: 0.2em;box-sizing: border-box;padding-bottom: 0.1em;background-color: white;position: relative;}#sk-221aafab-e8de-4c59-b1ca-b08a7965271c div.sk-label label {font-family: monospace;font-weight: bold;background-color: white;display: inline-block;line-height: 1.2em;}#sk-221aafab-e8de-4c59-b1ca-b08a7965271c div.sk-label-container {position: relative;z-index: 2;text-align: center;}#sk-221aafab-e8de-4c59-b1ca-b08a7965271c div.sk-container {display: inline-block;position: relative;}</style><div id=\"sk-221aafab-e8de-4c59-b1ca-b08a7965271c\" class\"sk-top-container\"><div class=\"sk-container\"><div class=\"sk-item sk-dashed-wrapped\"><div class=\"sk-label-container\"><div class=\"sk-label sk-toggleable\"><input class=\"sk-toggleable__control sk-hidden--visually\" id=\"3142e7ad-7a27-488c-9461-266e20115243\" type=\"checkbox\" ><label class=\"sk-toggleable__label\" for=\"3142e7ad-7a27-488c-9461-266e20115243\">Pipeline</label><div class=\"sk-toggleable__content\"><pre>Pipeline(steps=[('preprocessor',\n",
       "                 ColumnTransformer(transformers=[('num',\n",
       "                                                  Pipeline(steps=[('imputer',\n",
       "                                                                   SimpleImputer()),\n",
       "                                                                  ('scaler',\n",
       "                                                                   StandardScaler())]),\n",
       "                                                  ['age', 'fare']),\n",
       "                                                 ('cat',\n",
       "                                                  Pipeline(steps=[('imputer',\n",
       "                                                                   SimpleImputer(strategy='most_frequent')),\n",
       "                                                                  ('ohe',\n",
       "                                                                   OneHotEncoder(handle_unknown='ignore'))]),\n",
       "                                                  ['embarked', 'sex'])])),\n",
       "                ('classifier',\n",
       "                 DecisionTreeClassifier(max_depth=6, min_samples_split=20))])</pre></div></div></div><div class=\"sk-serial\"><div class=\"sk-item sk-dashed-wrapped\"><div class=\"sk-label-container\"><div class=\"sk-label sk-toggleable\"><input class=\"sk-toggleable__control sk-hidden--visually\" id=\"8010cc4a-7cd5-420a-b3f7-6815cffd95b0\" type=\"checkbox\" ><label class=\"sk-toggleable__label\" for=\"8010cc4a-7cd5-420a-b3f7-6815cffd95b0\">preprocessor: ColumnTransformer</label><div class=\"sk-toggleable__content\"><pre>ColumnTransformer(transformers=[('num',\n",
       "                                 Pipeline(steps=[('imputer', SimpleImputer()),\n",
       "                                                 ('scaler', StandardScaler())]),\n",
       "                                 ['age', 'fare']),\n",
       "                                ('cat',\n",
       "                                 Pipeline(steps=[('imputer',\n",
       "                                                  SimpleImputer(strategy='most_frequent')),\n",
       "                                                 ('ohe',\n",
       "                                                  OneHotEncoder(handle_unknown='ignore'))]),\n",
       "                                 ['embarked', 'sex'])])</pre></div></div></div><div class=\"sk-parallel\"><div class=\"sk-parallel-item\"><div class=\"sk-item\"><div class=\"sk-label-container\"><div class=\"sk-label sk-toggleable\"><input class=\"sk-toggleable__control sk-hidden--visually\" id=\"60f10425-92b9-4caa-9304-0246f7f79e82\" type=\"checkbox\" ><label class=\"sk-toggleable__label\" for=\"60f10425-92b9-4caa-9304-0246f7f79e82\">num</label><div class=\"sk-toggleable__content\"><pre>['age', 'fare']</pre></div></div></div><div class=\"sk-serial\"><div class=\"sk-item\"><div class=\"sk-serial\"><div class=\"sk-item\"><div class=\"sk-estimator sk-toggleable\"><input class=\"sk-toggleable__control sk-hidden--visually\" id=\"b426c9cf-98b5-4736-8ec2-fafb092bf7af\" type=\"checkbox\" ><label class=\"sk-toggleable__label\" for=\"b426c9cf-98b5-4736-8ec2-fafb092bf7af\">SimpleImputer</label><div class=\"sk-toggleable__content\"><pre>SimpleImputer()</pre></div></div></div><div class=\"sk-item\"><div class=\"sk-estimator sk-toggleable\"><input class=\"sk-toggleable__control sk-hidden--visually\" id=\"26984a64-c71c-4083-adfb-9d0908e9ae9b\" type=\"checkbox\" ><label class=\"sk-toggleable__label\" for=\"26984a64-c71c-4083-adfb-9d0908e9ae9b\">StandardScaler</label><div class=\"sk-toggleable__content\"><pre>StandardScaler()</pre></div></div></div></div></div></div></div></div><div class=\"sk-parallel-item\"><div class=\"sk-item\"><div class=\"sk-label-container\"><div class=\"sk-label sk-toggleable\"><input class=\"sk-toggleable__control sk-hidden--visually\" id=\"d6c11ebe-6201-492c-8513-8198b45eaa61\" type=\"checkbox\" ><label class=\"sk-toggleable__label\" for=\"d6c11ebe-6201-492c-8513-8198b45eaa61\">cat</label><div class=\"sk-toggleable__content\"><pre>['embarked', 'sex']</pre></div></div></div><div class=\"sk-serial\"><div class=\"sk-item\"><div class=\"sk-serial\"><div class=\"sk-item\"><div class=\"sk-estimator sk-toggleable\"><input class=\"sk-toggleable__control sk-hidden--visually\" id=\"56279463-5d80-476d-b68d-be6f0f4e523b\" type=\"checkbox\" ><label class=\"sk-toggleable__label\" for=\"56279463-5d80-476d-b68d-be6f0f4e523b\">SimpleImputer</label><div class=\"sk-toggleable__content\"><pre>SimpleImputer(strategy='most_frequent')</pre></div></div></div><div class=\"sk-item\"><div class=\"sk-estimator sk-toggleable\"><input class=\"sk-toggleable__control sk-hidden--visually\" id=\"19bd7425-985c-42e0-a531-a19afc78c4b2\" type=\"checkbox\" ><label class=\"sk-toggleable__label\" for=\"19bd7425-985c-42e0-a531-a19afc78c4b2\">OneHotEncoder</label><div class=\"sk-toggleable__content\"><pre>OneHotEncoder(handle_unknown='ignore')</pre></div></div></div></div></div></div></div></div></div></div><div class=\"sk-item\"><div class=\"sk-estimator sk-toggleable\"><input class=\"sk-toggleable__control sk-hidden--visually\" id=\"836e55ee-e593-4e83-bf3b-007b5d6c95a0\" type=\"checkbox\" ><label class=\"sk-toggleable__label\" for=\"836e55ee-e593-4e83-bf3b-007b5d6c95a0\">DecisionTreeClassifier</label><div class=\"sk-toggleable__content\"><pre>DecisionTreeClassifier(max_depth=6, min_samples_split=20)</pre></div></div></div></div></div></div></div>"
      ],
      "text/plain": [
       "Pipeline(steps=[('preprocessor',\n",
       "                 ColumnTransformer(transformers=[('num',\n",
       "                                                  Pipeline(steps=[('imputer',\n",
       "                                                                   SimpleImputer()),\n",
       "                                                                  ('scaler',\n",
       "                                                                   StandardScaler())]),\n",
       "                                                  ['age', 'fare']),\n",
       "                                                 ('cat',\n",
       "                                                  Pipeline(steps=[('imputer',\n",
       "                                                                   SimpleImputer(strategy='most_frequent')),\n",
       "                                                                  ('ohe',\n",
       "                                                                   OneHotEncoder(handle_unknown='ignore'))]),\n",
       "                                                  ['embarked', 'sex'])])),\n",
       "                ('classifier',\n",
       "                 DecisionTreeClassifier(max_depth=6, min_samples_split=20))])"
      ]
     },
     "execution_count": 90,
     "metadata": {},
     "output_type": "execute_result"
    }
   ],
   "source": [
    "best_model"
   ]
  },
  {
   "cell_type": "code",
   "execution_count": 91,
   "metadata": {},
   "outputs": [
    {
     "data": {
      "text/plain": [
       "array(['1', '0', '0', ..., '1', '1', '1'], dtype=object)"
      ]
     },
     "execution_count": 91,
     "metadata": {},
     "output_type": "execute_result"
    }
   ],
   "source": [
    "predictions = best_model.predict(X_train)\n",
    "predictions"
   ]
  },
  {
   "cell_type": "markdown",
   "metadata": {},
   "source": [
    "### save model"
   ]
  },
  {
   "cell_type": "code",
   "execution_count": 94,
   "metadata": {},
   "outputs": [],
   "source": [
    "os.mkdir('output')"
   ]
  },
  {
   "cell_type": "code",
   "execution_count": 95,
   "metadata": {},
   "outputs": [],
   "source": [
    "import pickle"
   ]
  },
  {
   "cell_type": "code",
   "execution_count": 96,
   "metadata": {},
   "outputs": [],
   "source": [
    "with open('output/best_model.pkl', 'wb') as file:\n",
    "    pickle.dump(best_model, file)"
   ]
  },
  {
   "cell_type": "markdown",
   "metadata": {},
   "source": [
    "### read model"
   ]
  },
  {
   "cell_type": "code",
   "execution_count": 97,
   "metadata": {},
   "outputs": [],
   "source": [
    "with open('output/best_model.pkl', 'rb') as file:\n",
    "    best_model = pickle.load(file)"
   ]
  },
  {
   "cell_type": "code",
   "execution_count": 98,
   "metadata": {},
   "outputs": [
    {
     "data": {
      "text/plain": [
       "array(['1', '0', '0', ..., '1', '1', '1'], dtype=object)"
      ]
     },
     "execution_count": 98,
     "metadata": {},
     "output_type": "execute_result"
    }
   ],
   "source": [
    "best_model.predict(X_train)"
   ]
  },
  {
   "cell_type": "code",
   "execution_count": 99,
   "metadata": {},
   "outputs": [
    {
     "data": {
      "text/plain": [
       "array(['1', '1', '0', '0', '0', '1', '0', '1', '1', '0', '1', '0', '0',\n",
       "       '0', '1', '1', '0', '0', '0', '0', '0', '1', '0', '1', '1', '0',\n",
       "       '0', '1', '0', '0', '1', '1', '0', '0', '1', '0', '0', '1', '0',\n",
       "       '0', '1', '1', '1', '0', '0', '0', '0', '0', '0', '0', '0', '0',\n",
       "       '0', '1', '0', '0', '0', '1', '0', '0', '0', '1', '1', '0', '1',\n",
       "       '0', '0', '0', '0', '1', '0', '1', '0', '1', '0', '0', '1', '0',\n",
       "       '0', '1', '1', '0', '0', '0', '1', '0', '0', '1', '1', '0', '0',\n",
       "       '1', '0', '0', '0', '0', '0', '0', '1', '1', '1', '0', '1', '0',\n",
       "       '1', '0', '0', '1', '1', '0', '1', '1', '0', '0', '1', '1', '0',\n",
       "       '1', '0', '0', '1', '1', '0', '0', '0', '1', '1', '0', '1', '1',\n",
       "       '1', '1', '1', '0', '0', '0', '0', '0', '0', '0', '0', '1', '0',\n",
       "       '0', '0', '0', '0', '0', '1', '1', '1', '0', '0', '0', '0', '0',\n",
       "       '0', '0', '0', '0', '1', '1', '1', '1', '0', '1', '0', '0', '0',\n",
       "       '0', '0', '0', '0', '1', '0', '0', '1', '1', '0', '0', '1', '0',\n",
       "       '1', '0', '0', '1', '0', '0', '1', '0', '0', '0', '0', '0', '1',\n",
       "       '0', '1', '0', '1', '0', '0', '0', '1', '0', '0', '1', '0', '0',\n",
       "       '0', '1', '1', '0', '1', '1', '1', '0', '0', '0', '0', '0', '0',\n",
       "       '0', '1', '1', '1', '1', '1', '0', '0', '1', '0', '0', '0', '0',\n",
       "       '0', '0', '1', '1', '0', '0', '0', '0', '0', '0', '1', '0', '1',\n",
       "       '0', '1', '1', '0', '1', '1', '1', '0', '0', '0', '0', '1', '1',\n",
       "       '0', '0'], dtype=object)"
      ]
     },
     "execution_count": 99,
     "metadata": {},
     "output_type": "execute_result"
    }
   ],
   "source": [
    "best_model.predict(X_test)"
   ]
  },
  {
   "cell_type": "code",
   "execution_count": 102,
   "metadata": {},
   "outputs": [],
   "source": [
    "df_predictions = X_test.copy()\n",
    "predictions = best_model.predict(X_test)"
   ]
  },
  {
   "cell_type": "code",
   "execution_count": 103,
   "metadata": {},
   "outputs": [
    {
     "data": {
      "text/html": [
       "<div>\n",
       "<style scoped>\n",
       "    .dataframe tbody tr th:only-of-type {\n",
       "        vertical-align: middle;\n",
       "    }\n",
       "\n",
       "    .dataframe tbody tr th {\n",
       "        vertical-align: top;\n",
       "    }\n",
       "\n",
       "    .dataframe thead th {\n",
       "        text-align: right;\n",
       "    }\n",
       "</style>\n",
       "<table border=\"1\" class=\"dataframe\">\n",
       "  <thead>\n",
       "    <tr style=\"text-align: right;\">\n",
       "      <th></th>\n",
       "      <th>pclass</th>\n",
       "      <th>name</th>\n",
       "      <th>sex</th>\n",
       "      <th>age</th>\n",
       "      <th>sibsp</th>\n",
       "      <th>parch</th>\n",
       "      <th>ticket</th>\n",
       "      <th>fare</th>\n",
       "      <th>cabin</th>\n",
       "      <th>embarked</th>\n",
       "      <th>boat</th>\n",
       "      <th>body</th>\n",
       "      <th>home.dest</th>\n",
       "      <th>target</th>\n",
       "      <th>prediction</th>\n",
       "    </tr>\n",
       "  </thead>\n",
       "  <tbody>\n",
       "    <tr>\n",
       "      <th>1097</th>\n",
       "      <td>3.0</td>\n",
       "      <td>Palsson, Master. Paul Folke</td>\n",
       "      <td>male</td>\n",
       "      <td>6.0</td>\n",
       "      <td>3.0</td>\n",
       "      <td>1.0</td>\n",
       "      <td>349909</td>\n",
       "      <td>21.0750</td>\n",
       "      <td>None</td>\n",
       "      <td>S</td>\n",
       "      <td>None</td>\n",
       "      <td>NaN</td>\n",
       "      <td>None</td>\n",
       "      <td>0</td>\n",
       "      <td>1</td>\n",
       "    </tr>\n",
       "    <tr>\n",
       "      <th>281</th>\n",
       "      <td>1.0</td>\n",
       "      <td>Stengel, Mrs. Charles Emil Henry (Annie May Mo...</td>\n",
       "      <td>female</td>\n",
       "      <td>43.0</td>\n",
       "      <td>1.0</td>\n",
       "      <td>0.0</td>\n",
       "      <td>11778</td>\n",
       "      <td>55.4417</td>\n",
       "      <td>C116</td>\n",
       "      <td>C</td>\n",
       "      <td>5</td>\n",
       "      <td>NaN</td>\n",
       "      <td>Newark, NJ</td>\n",
       "      <td>1</td>\n",
       "      <td>1</td>\n",
       "    </tr>\n",
       "    <tr>\n",
       "      <th>1032</th>\n",
       "      <td>3.0</td>\n",
       "      <td>Morrow, Mr. Thomas Rowan</td>\n",
       "      <td>male</td>\n",
       "      <td>NaN</td>\n",
       "      <td>0.0</td>\n",
       "      <td>0.0</td>\n",
       "      <td>372622</td>\n",
       "      <td>7.7500</td>\n",
       "      <td>None</td>\n",
       "      <td>Q</td>\n",
       "      <td>None</td>\n",
       "      <td>NaN</td>\n",
       "      <td>None</td>\n",
       "      <td>0</td>\n",
       "      <td>0</td>\n",
       "    </tr>\n",
       "    <tr>\n",
       "      <th>942</th>\n",
       "      <td>3.0</td>\n",
       "      <td>Lahoud, Mr. Sarkis</td>\n",
       "      <td>male</td>\n",
       "      <td>NaN</td>\n",
       "      <td>0.0</td>\n",
       "      <td>0.0</td>\n",
       "      <td>2624</td>\n",
       "      <td>7.2250</td>\n",
       "      <td>None</td>\n",
       "      <td>C</td>\n",
       "      <td>None</td>\n",
       "      <td>NaN</td>\n",
       "      <td>None</td>\n",
       "      <td>0</td>\n",
       "      <td>0</td>\n",
       "    </tr>\n",
       "    <tr>\n",
       "      <th>1263</th>\n",
       "      <td>3.0</td>\n",
       "      <td>van Billiard, Master. Walter John</td>\n",
       "      <td>male</td>\n",
       "      <td>11.5</td>\n",
       "      <td>1.0</td>\n",
       "      <td>1.0</td>\n",
       "      <td>A/5. 851</td>\n",
       "      <td>14.5000</td>\n",
       "      <td>None</td>\n",
       "      <td>S</td>\n",
       "      <td>None</td>\n",
       "      <td>1.0</td>\n",
       "      <td>None</td>\n",
       "      <td>0</td>\n",
       "      <td>0</td>\n",
       "    </tr>\n",
       "  </tbody>\n",
       "</table>\n",
       "</div>"
      ],
      "text/plain": [
       "      pclass                                               name     sex   age  \\\n",
       "1097     3.0                        Palsson, Master. Paul Folke    male   6.0   \n",
       "281      1.0  Stengel, Mrs. Charles Emil Henry (Annie May Mo...  female  43.0   \n",
       "1032     3.0                           Morrow, Mr. Thomas Rowan    male   NaN   \n",
       "942      3.0                                 Lahoud, Mr. Sarkis    male   NaN   \n",
       "1263     3.0                  van Billiard, Master. Walter John    male  11.5   \n",
       "\n",
       "      sibsp  parch    ticket     fare cabin embarked  boat  body   home.dest  \\\n",
       "1097    3.0    1.0    349909  21.0750  None        S  None   NaN        None   \n",
       "281     1.0    0.0     11778  55.4417  C116        C     5   NaN  Newark, NJ   \n",
       "1032    0.0    0.0    372622   7.7500  None        Q  None   NaN        None   \n",
       "942     0.0    0.0      2624   7.2250  None        C  None   NaN        None   \n",
       "1263    1.0    1.0  A/5. 851  14.5000  None        S  None   1.0        None   \n",
       "\n",
       "     target prediction  \n",
       "1097      0          1  \n",
       "281       1          1  \n",
       "1032      0          0  \n",
       "942       0          0  \n",
       "1263      0          0  "
      ]
     },
     "execution_count": 103,
     "metadata": {},
     "output_type": "execute_result"
    }
   ],
   "source": [
    "df_predictions['target'] = y_test.values\n",
    "df_predictions['prediction'] = predictions\n",
    "\n",
    "df_predictions.head()"
   ]
  }
 ],
 "metadata": {
  "kernelspec": {
   "display_name": "Python 3 (ipykernel)",
   "language": "python",
   "name": "python3"
  },
  "language_info": {
   "codemirror_mode": {
    "name": "ipython",
    "version": 3
   },
   "file_extension": ".py",
   "mimetype": "text/x-python",
   "name": "python",
   "nbconvert_exporter": "python",
   "pygments_lexer": "ipython3",
   "version": "3.9.7"
  }
 },
 "nbformat": 4,
 "nbformat_minor": 4
}
