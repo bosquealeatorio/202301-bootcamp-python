{
 "cells": [
  {
   "cell_type": "markdown",
   "metadata": {},
   "source": [
    "# Python Inmersion Bootcamp - Loops\n",
    "Manuel Montoya Gamio| Data Scientist"
   ]
  },
  {
   "cell_type": "markdown",
   "metadata": {},
   "source": [
    "<img src='https://pbs.twimg.com/media/E1j_Pb_VIAIcrJi.jpg' width =250>"
   ]
  },
  {
   "cell_type": "markdown",
   "metadata": {},
   "source": [
    "## While"
   ]
  },
  {
   "cell_type": "markdown",
   "metadata": {},
   "source": [
    "```\n",
    "while condition:\n",
    "    \n",
    "    code to execute\n",
    "```"
   ]
  },
  {
   "cell_type": "markdown",
   "metadata": {},
   "source": [
    "while's anatomy"
   ]
  },
  {
   "cell_type": "code",
   "execution_count": 1,
   "metadata": {},
   "outputs": [
    {
     "name": "stdout",
     "output_type": "stream",
     "text": [
      "Not there yet ... x =  0\n",
      "Not there yet ... x =  1\n",
      "Not there yet ... x =  2\n",
      "Not there yet ... x =  3\n",
      "Not there yet ... x =  4\n",
      "x =  5\n"
     ]
    }
   ],
   "source": [
    "x = 0\n",
    "\n",
    "while x < 5:\n",
    "    print('Not there yet ... x = ', x)\n",
    "    x = x + 1\n",
    "\n",
    "print(\"x = \", x)"
   ]
  },
  {
   "cell_type": "markdown",
   "metadata": {},
   "source": [
    "variable initialization"
   ]
  },
  {
   "cell_type": "code",
   "execution_count": 4,
   "metadata": {},
   "outputs": [
    {
     "name": "stdout",
     "output_type": "stream",
     "text": [
      "2\n",
      "3\n",
      "4\n",
      "5\n",
      "6\n",
      "7\n",
      "8\n",
      "9\n"
     ]
    }
   ],
   "source": [
    "number = 2\n",
    "\n",
    "while number < 10:\n",
    "    print(number )\n",
    "    number  += 1"
   ]
  },
  {
   "cell_type": "markdown",
   "metadata": {},
   "source": [
    "pitfalls"
   ]
  },
  {
   "cell_type": "code",
   "execution_count": 6,
   "metadata": {},
   "outputs": [
    {
     "name": "stdout",
     "output_type": "stream",
     "text": [
      "45 362880\n"
     ]
    }
   ],
   "source": [
    "#does this work?\n",
    "\n",
    "x = 1\n",
    "number = 10\n",
    "\n",
    "#sum of numbers < 10\n",
    "sum = 0\n",
    "while x < 10:\n",
    "    sum += x #sum = sum + x\n",
    "    x += 1\n",
    "    \n",
    "# x = 10    \n",
    "# -------------------------    \n",
    "\n",
    "#product of numbers < 10\n",
    "x = 1\n",
    "product = 1\n",
    "while x < 10:\n",
    "    product *= x #product = product * x\n",
    "    x += 1\n",
    "    \n",
    "print(sum, product)"
   ]
  },
  {
   "cell_type": "markdown",
   "metadata": {},
   "source": [
    "infinite loops"
   ]
  },
  {
   "cell_type": "code",
   "execution_count": null,
   "metadata": {},
   "outputs": [],
   "source": [
    "x =1 \n",
    "sum = 0\n",
    "\n",
    "while x < 10:\n",
    "    sum += x #sum = sum + x\n",
    "    x += 1"
   ]
  },
  {
   "cell_type": "markdown",
   "metadata": {},
   "source": [
    "`break`"
   ]
  },
  {
   "cell_type": "code",
   "execution_count": 9,
   "metadata": {},
   "outputs": [
    {
     "name": "stdout",
     "output_type": "stream",
     "text": [
      "Guess a number between 1 and 10: 5\n"
     ]
    }
   ],
   "source": [
    "number = input(\"Guess a number between 1 and 10: \")"
   ]
  },
  {
   "cell_type": "code",
   "execution_count": 10,
   "metadata": {},
   "outputs": [
    {
     "data": {
      "text/plain": [
       "'5'"
      ]
     },
     "execution_count": 10,
     "metadata": {},
     "output_type": "execute_result"
    }
   ],
   "source": [
    "number"
   ]
  },
  {
   "cell_type": "code",
   "execution_count": 16,
   "metadata": {},
   "outputs": [],
   "source": [
    "lucky_number = 7\n",
    "\n",
    "def guess_my_number():\n",
    "    \n",
    "    while True:\n",
    "        \n",
    "        number = int(input(\"Guess a number between 1 and 10: \"))\n",
    "        \n",
    "        if number == lucky_number:\n",
    "            print('You guessed it!')\n",
    "            break\n",
    "            \n",
    "        else:\n",
    "            print('Try again!')"
   ]
  },
  {
   "cell_type": "code",
   "execution_count": 17,
   "metadata": {},
   "outputs": [
    {
     "name": "stdout",
     "output_type": "stream",
     "text": [
      "Guess a number between 1 and 10: 4\n",
      "Try again!\n",
      "Guess a number between 1 and 10: 6\n",
      "Try again!\n",
      "Guess a number between 1 and 10: 7\n",
      "You guessed it!\n"
     ]
    }
   ],
   "source": [
    "guess_my_number()"
   ]
  },
  {
   "cell_type": "markdown",
   "metadata": {},
   "source": [
    "# Exercises"
   ]
  },
  {
   "cell_type": "markdown",
   "metadata": {},
   "source": [
    "## 1.1 To infinity and beyond\n",
    "\n",
    "This function checks if the number is a power of two, but it has an error that can lead to an infinite loop. Fix the error."
   ]
  },
  {
   "cell_type": "code",
   "execution_count": 24,
   "metadata": {},
   "outputs": [],
   "source": [
    "def is_power_of_two(n):\n",
    "    \n",
    "    if n == 0:\n",
    "        return False\n",
    "    \n",
    "    while n % 2 == 0:\n",
    "        n = n / 2\n",
    "\n",
    "    # If after dividing by two the number is 1, it's a power of two\n",
    "    if n == 1:\n",
    "        return True\n",
    "    \n",
    "    return False"
   ]
  },
  {
   "cell_type": "code",
   "execution_count": 25,
   "metadata": {},
   "outputs": [
    {
     "data": {
      "text/plain": [
       "True"
      ]
     },
     "execution_count": 25,
     "metadata": {},
     "output_type": "execute_result"
    }
   ],
   "source": [
    "is_power_of_two(16)"
   ]
  },
  {
   "cell_type": "code",
   "execution_count": 26,
   "metadata": {},
   "outputs": [
    {
     "data": {
      "text/plain": [
       "False"
      ]
     },
     "execution_count": 26,
     "metadata": {},
     "output_type": "execute_result"
    }
   ],
   "source": [
    "is_power_of_two(5)"
   ]
  },
  {
   "cell_type": "code",
   "execution_count": 28,
   "metadata": {},
   "outputs": [
    {
     "data": {
      "text/plain": [
       "True"
      ]
     },
     "execution_count": 28,
     "metadata": {},
     "output_type": "execute_result"
    }
   ],
   "source": [
    "is_power_of_two(1)"
   ]
  },
  {
   "cell_type": "markdown",
   "metadata": {},
   "source": [
    "## 1.2 Divisors \n",
    "Fill in the empty function so that it prints all the divisors of a number. A divisor is a number that divides into another without a remainder."
   ]
  },
  {
   "cell_type": "code",
   "execution_count": 33,
   "metadata": {},
   "outputs": [
    {
     "name": "stdout",
     "output_type": "stream",
     "text": [
      "1\n",
      "2\n",
      "5\n",
      "10\n",
      "1\n",
      "2\n",
      "4\n",
      "5\n",
      "10\n",
      "20\n",
      "25\n",
      "50\n",
      "100\n",
      "1\n",
      "13\n",
      "169\n"
     ]
    }
   ],
   "source": [
    "def print_divisors(number):\n",
    "    \n",
    "    #your beautiful code here\n",
    "    divisor = 1\n",
    "    \n",
    "    while divisor <= number:\n",
    "        \n",
    "        if number % divisor == 0:\n",
    "            print(divisor)\n",
    "            \n",
    "        divisor +=1\n",
    "    \n",
    "\n",
    "#should be 1,2,5,10\n",
    "print_divisors(10)\n",
    "\n",
    "#should be 1,2,4,5,10,20,25,50,100\n",
    "print_divisors(100)\n",
    "\n",
    "\n",
    "#should be 1,13,169\n",
    "print_divisors(169)\n",
    "    "
   ]
  },
  {
   "cell_type": "markdown",
   "metadata": {},
   "source": [
    "## 1.3 Nobody is perfect (?)\n",
    "Write a function that checks if a number is perfect\n",
    "perfect number: https://en.wikipedia.org/wiki/Perfect_number"
   ]
  },
  {
   "cell_type": "code",
   "execution_count": null,
   "metadata": {},
   "outputs": [],
   "source": [
    "def check_perfect(number)\n",
    "\n",
    "    return "
   ]
  },
  {
   "cell_type": "markdown",
   "metadata": {},
   "source": [
    "# 1.4 Multiplication table\n",
    "The multiplication_table function prints the results of a number passed to it multiplied by 1 through 5. An additional requirement is that the result is not to exceed 25, which is done with the break statement. Fill in the blanks to complete the function to satisfy these conditions."
   ]
  },
  {
   "cell_type": "code",
   "execution_count": 7,
   "metadata": {},
   "outputs": [
    {
     "name": "stdout",
     "output_type": "stream",
     "text": [
      " 3x1=3 3x2=6 3x3=9 3x4=12 3x5=15\n",
      " 5x1=5 5x2=10 5x3=15 5x4=20 5x5=25\n",
      " 8x1=8 8x2=16 8x3=24\n"
     ]
    }
   ],
   "source": [
    "def multiplication_table(number):\n",
    "    #your beautiful code here\n",
    "    \n",
    "    factor = 1\n",
    "    result = ''\n",
    "    \n",
    "    while factor <= 5:\n",
    "        \n",
    "        product = number*factor\n",
    "        \n",
    "        if product <= 25:\n",
    "        \n",
    "            result = result + ' ' + str(number) + 'x' + str(factor) + '=' + str (number*factor)\n",
    "        \n",
    "        factor += 1\n",
    "        \n",
    "    print(result)\n",
    "\n",
    "multiplication_table(3) \n",
    "# Should print: 3x1=3 3x2=6 3x3=9 3x4=12 3x5=15\n",
    "\n",
    "multiplication_table(5) \n",
    "# Should print: 5x1=5 5x2=10 5x3=15 5x4=20 5x5=25\n",
    "\n",
    "multiplication_table(8)\t\n",
    "# Should print: 8x1=8 8x2=16 8x3=24"
   ]
  },
  {
   "cell_type": "code",
   "execution_count": 8,
   "metadata": {},
   "outputs": [
    {
     "name": "stdout",
     "output_type": "stream",
     "text": [
      "The Zen of Python, by Tim Peters\n",
      "\n",
      "Beautiful is better than ugly.\n",
      "Explicit is better than implicit.\n",
      "Simple is better than complex.\n",
      "Complex is better than complicated.\n",
      "Flat is better than nested.\n",
      "Sparse is better than dense.\n",
      "Readability counts.\n",
      "Special cases aren't special enough to break the rules.\n",
      "Although practicality beats purity.\n",
      "Errors should never pass silently.\n",
      "Unless explicitly silenced.\n",
      "In the face of ambiguity, refuse the temptation to guess.\n",
      "There should be one-- and preferably only one --obvious way to do it.\n",
      "Although that way may not be obvious at first unless you're Dutch.\n",
      "Now is better than never.\n",
      "Although never is often better than *right* now.\n",
      "If the implementation is hard to explain, it's a bad idea.\n",
      "If the implementation is easy to explain, it may be a good idea.\n",
      "Namespaces are one honking great idea -- let's do more of those!\n"
     ]
    }
   ],
   "source": [
    "import this"
   ]
  },
  {
   "cell_type": "markdown",
   "metadata": {},
   "source": [
    "# For"
   ]
  },
  {
   "cell_type": "markdown",
   "metadata": {},
   "source": [
    "<img src='https://i.imgflip.com/76n7yi.jpg' width='400'>"
   ]
  },
  {
   "cell_type": "markdown",
   "metadata": {},
   "source": [
    "```\n",
    "for value in sequence_of_values:\n",
    "\n",
    "    block of code\n",
    "```"
   ]
  },
  {
   "cell_type": "code",
   "execution_count": 9,
   "metadata": {},
   "outputs": [
    {
     "name": "stdout",
     "output_type": "stream",
     "text": [
      "1\n",
      "2\n",
      "3\n",
      "4\n",
      "5\n"
     ]
    }
   ],
   "source": [
    "for number in [1,2,3,4,5]:\n",
    "    print(number)"
   ]
  },
  {
   "cell_type": "markdown",
   "metadata": {},
   "source": [
    "`range`"
   ]
  },
  {
   "cell_type": "code",
   "execution_count": 12,
   "metadata": {},
   "outputs": [
    {
     "data": {
      "text/plain": [
       "range(0, 10)"
      ]
     },
     "execution_count": 12,
     "metadata": {},
     "output_type": "execute_result"
    }
   ],
   "source": [
    "range(10)"
   ]
  },
  {
   "cell_type": "code",
   "execution_count": 13,
   "metadata": {},
   "outputs": [
    {
     "name": "stdout",
     "output_type": "stream",
     "text": [
      "0\n",
      "1\n",
      "2\n",
      "3\n",
      "4\n",
      "5\n",
      "6\n",
      "7\n",
      "8\n",
      "9\n"
     ]
    }
   ],
   "source": [
    "for number in range(10):\n",
    "    print(number)"
   ]
  },
  {
   "cell_type": "code",
   "execution_count": 14,
   "metadata": {},
   "outputs": [
    {
     "name": "stdout",
     "output_type": "stream",
     "text": [
      "65.6\n"
     ]
    }
   ],
   "source": [
    "#calculate the average of numbers\n",
    "numbers = [50, 230, 15, 16, 17]\n",
    "\n",
    "sum = 0\n",
    "count = 0\n",
    "\n",
    "for number in numbers:\n",
    "    \n",
    "    sum += number\n",
    "    count += 1\n",
    "    \n",
    "print(sum/count)"
   ]
  },
  {
   "cell_type": "markdown",
   "metadata": {},
   "source": [
    "more `range` "
   ]
  },
  {
   "cell_type": "markdown",
   "metadata": {},
   "source": [
    "`range(start, end, step)`"
   ]
  },
  {
   "cell_type": "code",
   "execution_count": 16,
   "metadata": {},
   "outputs": [
    {
     "name": "stdout",
     "output_type": "stream",
     "text": [
      "0\n",
      "1\n",
      "2\n",
      "3\n",
      "4\n",
      "5\n",
      "6\n",
      "7\n",
      "8\n",
      "9\n"
     ]
    }
   ],
   "source": [
    "for number in range(10):\n",
    "    print(number)"
   ]
  },
  {
   "cell_type": "code",
   "execution_count": 19,
   "metadata": {},
   "outputs": [
    {
     "name": "stdout",
     "output_type": "stream",
     "text": [
      "1\n",
      "2\n",
      "3\n",
      "4\n",
      "5\n",
      "6\n",
      "7\n",
      "8\n",
      "9\n"
     ]
    }
   ],
   "source": [
    "for number in range(1, 10):\n",
    "    print(number)"
   ]
  },
  {
   "cell_type": "code",
   "execution_count": 20,
   "metadata": {},
   "outputs": [
    {
     "name": "stdout",
     "output_type": "stream",
     "text": [
      "1\n",
      "3\n",
      "5\n",
      "7\n",
      "9\n"
     ]
    }
   ],
   "source": [
    "for number in range(1,10,2):\n",
    "    print(number)"
   ]
  },
  {
   "cell_type": "markdown",
   "metadata": {},
   "source": [
    "# WARNING: while and for "
   ]
  },
  {
   "cell_type": "code",
   "execution_count": 25,
   "metadata": {},
   "outputs": [
    {
     "data": {
      "text/plain": [
       "10"
      ]
     },
     "execution_count": 25,
     "metadata": {},
     "output_type": "execute_result"
    }
   ],
   "source": [
    "x = 1\n",
    "\n",
    "while x < 10:\n",
    "    #print(x)\n",
    "    x += 1\n",
    "       \n",
    "x"
   ]
  },
  {
   "cell_type": "code",
   "execution_count": 23,
   "metadata": {},
   "outputs": [
    {
     "name": "stdout",
     "output_type": "stream",
     "text": [
      "1\n",
      "14\n",
      "27\n",
      "40\n",
      "53\n",
      "66\n",
      "79\n",
      "92\n"
     ]
    },
    {
     "data": {
      "text/plain": [
       "92"
      ]
     },
     "execution_count": 23,
     "metadata": {},
     "output_type": "execute_result"
    }
   ],
   "source": [
    "for number in range(1,100,13):\n",
    "    print(number)\n",
    "    \n",
    "number"
   ]
  },
  {
   "cell_type": "markdown",
   "metadata": {},
   "source": [
    "nesting"
   ]
  },
  {
   "cell_type": "code",
   "execution_count": 28,
   "metadata": {},
   "outputs": [
    {
     "name": "stdout",
     "output_type": "stream",
     "text": [
      "1 | 1\n",
      "1 | 2\n",
      "1 | 3\n",
      "1 | 4\n",
      "1 | 5\n",
      "1 | 6\n",
      "1 | 7\n",
      "1 | 8\n",
      "1 | 9\n",
      "2 | 1\n",
      "2 | 2\n",
      "2 | 3\n",
      "2 | 4\n",
      "2 | 5\n",
      "2 | 6\n",
      "2 | 7\n",
      "2 | 8\n",
      "2 | 9\n",
      "3 | 1\n",
      "3 | 2\n",
      "3 | 3\n",
      "3 | 4\n",
      "3 | 5\n",
      "3 | 6\n",
      "3 | 7\n",
      "3 | 8\n",
      "3 | 9\n",
      "4 | 1\n",
      "4 | 2\n",
      "4 | 3\n",
      "4 | 4\n",
      "4 | 5\n",
      "4 | 6\n",
      "4 | 7\n",
      "4 | 8\n",
      "4 | 9\n",
      "5 | 1\n",
      "5 | 2\n",
      "5 | 3\n",
      "5 | 4\n",
      "5 | 5\n",
      "5 | 6\n",
      "5 | 7\n",
      "5 | 8\n",
      "5 | 9\n",
      "6 | 1\n",
      "6 | 2\n",
      "6 | 3\n",
      "6 | 4\n",
      "6 | 5\n",
      "6 | 6\n",
      "6 | 7\n",
      "6 | 8\n",
      "6 | 9\n",
      "7 | 1\n",
      "7 | 2\n",
      "7 | 3\n",
      "7 | 4\n",
      "7 | 5\n",
      "7 | 6\n",
      "7 | 7\n",
      "7 | 8\n",
      "7 | 9\n",
      "8 | 1\n",
      "8 | 2\n",
      "8 | 3\n",
      "8 | 4\n",
      "8 | 5\n",
      "8 | 6\n",
      "8 | 7\n",
      "8 | 8\n",
      "8 | 9\n",
      "9 | 1\n",
      "9 | 2\n",
      "9 | 3\n",
      "9 | 4\n",
      "9 | 5\n",
      "9 | 6\n",
      "9 | 7\n",
      "9 | 8\n",
      "9 | 9\n"
     ]
    }
   ],
   "source": [
    "for number_x in range(1,10):\n",
    "    \n",
    "    for number_y in range(1,10):\n",
    "        \n",
    "        print(str(number_x) + ' | ' + str(number_y))"
   ]
  },
  {
   "cell_type": "markdown",
   "metadata": {},
   "source": [
    "domino pieces"
   ]
  },
  {
   "cell_type": "markdown",
   "metadata": {},
   "source": [
    "<img src='https://thumbs.dreamstime.com/z/domino-set-white-tiles-black-dots-complete-game-outline-pieces-203694505.jpg' width=400>"
   ]
  },
  {
   "cell_type": "code",
   "execution_count": 30,
   "metadata": {},
   "outputs": [
    {
     "name": "stdout",
     "output_type": "stream",
     "text": [
      "0 | 0\n",
      "0 | 1\n",
      "0 | 2\n",
      "0 | 3\n",
      "0 | 4\n",
      "0 | 5\n",
      "0 | 6\n",
      "1 | 1\n",
      "1 | 2\n",
      "1 | 3\n",
      "1 | 4\n",
      "1 | 5\n",
      "1 | 6\n",
      "2 | 2\n",
      "2 | 3\n",
      "2 | 4\n",
      "2 | 5\n",
      "2 | 6\n",
      "3 | 3\n",
      "3 | 4\n",
      "3 | 5\n",
      "3 | 6\n",
      "4 | 4\n",
      "4 | 5\n",
      "4 | 6\n",
      "5 | 5\n",
      "5 | 6\n",
      "6 | 6\n"
     ]
    }
   ],
   "source": [
    "for number_x in range(7):\n",
    "    \n",
    "    for number_y in range(7):\n",
    "        \n",
    "        if number_y >= number_x:\n",
    "            print(str(number_x) + ' | ' + str(number_y))"
   ]
  },
  {
   "cell_type": "code",
   "execution_count": 31,
   "metadata": {},
   "outputs": [
    {
     "name": "stdout",
     "output_type": "stream",
     "text": [
      "0 | 0\n",
      "0 | 1\n",
      "0 | 2\n",
      "0 | 3\n",
      "0 | 4\n",
      "0 | 5\n",
      "0 | 6\n",
      "1 | 1\n",
      "1 | 2\n",
      "1 | 3\n",
      "1 | 4\n",
      "1 | 5\n",
      "1 | 6\n",
      "2 | 2\n",
      "2 | 3\n",
      "2 | 4\n",
      "2 | 5\n",
      "2 | 6\n",
      "3 | 3\n",
      "3 | 4\n",
      "3 | 5\n",
      "3 | 6\n",
      "4 | 4\n",
      "4 | 5\n",
      "4 | 6\n",
      "5 | 5\n",
      "5 | 6\n",
      "6 | 6\n"
     ]
    }
   ],
   "source": [
    "for number_x in range(7):\n",
    "    \n",
    "    for number_y in range(number_x, 7):\n",
    "        \n",
    "            print(str(number_x) + ' | ' + str(number_y))"
   ]
  },
  {
   "cell_type": "code",
   "execution_count": 35,
   "metadata": {},
   "outputs": [
    {
     "name": "stdout",
     "output_type": "stream",
     "text": [
      "Real Madrid vs. Barcelona\n",
      "Real Madrid vs. Atletico Madrid\n",
      "Real Madrid vs. Betis\n",
      "Barcelona vs. Real Madrid\n",
      "Barcelona vs. Atletico Madrid\n",
      "Barcelona vs. Betis\n",
      "Atletico Madrid vs. Real Madrid\n",
      "Atletico Madrid vs. Barcelona\n",
      "Atletico Madrid vs. Betis\n",
      "Betis vs. Real Madrid\n",
      "Betis vs. Barcelona\n",
      "Betis vs. Atletico Madrid\n"
     ]
    }
   ],
   "source": [
    "#print all the local - away matches\n",
    "teams = ['Real Madrid', 'Barcelona', 'Atletico Madrid', 'Betis']\n",
    "\n",
    "for local_team in teams:\n",
    "    for away_team in teams:\n",
    "        \n",
    "        if local_team != away_team:\n",
    "            print(local_team + ' vs. ' + away_team)"
   ]
  },
  {
   "cell_type": "markdown",
   "metadata": {},
   "source": [
    "common errors"
   ]
  },
  {
   "cell_type": "code",
   "execution_count": 37,
   "metadata": {},
   "outputs": [
    {
     "name": "stdout",
     "output_type": "stream",
     "text": [
      "1\n",
      "2\n",
      "3\n",
      "4\n",
      "5\n",
      "6\n",
      "7\n",
      "8\n",
      "9\n"
     ]
    }
   ],
   "source": [
    "for x in range(1, 10):\n",
    "    print(x)"
   ]
  },
  {
   "cell_type": "code",
   "execution_count": 38,
   "metadata": {},
   "outputs": [
    {
     "ename": "TypeError",
     "evalue": "'int' object is not iterable",
     "output_type": "error",
     "traceback": [
      "\u001b[0;31m---------------------------------------------------------------------------\u001b[0m",
      "\u001b[0;31mTypeError\u001b[0m                                 Traceback (most recent call last)",
      "\u001b[0;32m/var/folders/m4/cywrtrdn0w70csynx5vlg40w0000gn/T/ipykernel_93988/3638524984.py\u001b[0m in \u001b[0;36m<module>\u001b[0;34m\u001b[0m\n\u001b[0;32m----> 1\u001b[0;31m \u001b[0;32mfor\u001b[0m \u001b[0mx\u001b[0m \u001b[0;32min\u001b[0m \u001b[0;36m25\u001b[0m\u001b[0;34m:\u001b[0m\u001b[0;34m\u001b[0m\u001b[0;34m\u001b[0m\u001b[0m\n\u001b[0m\u001b[1;32m      2\u001b[0m     \u001b[0mprint\u001b[0m\u001b[0;34m(\u001b[0m\u001b[0mx\u001b[0m\u001b[0;34m)\u001b[0m\u001b[0;34m\u001b[0m\u001b[0;34m\u001b[0m\u001b[0m\n",
      "\u001b[0;31mTypeError\u001b[0m: 'int' object is not iterable"
     ]
    }
   ],
   "source": [
    "#pls don't forget of range\n",
    "for x in 25:\n",
    "    print(x)"
   ]
  },
  {
   "cell_type": "code",
   "execution_count": 42,
   "metadata": {
    "scrolled": true
   },
   "outputs": [
    {
     "name": "stdout",
     "output_type": "stream",
     "text": [
      "Hello, Gabriela\n",
      "Hello, Patricia\n",
      "Hello, Nicole\n",
      "Hello, Sofia\n"
     ]
    }
   ],
   "source": [
    "friends = ['Gabriela', 'Patricia', 'Nicole', 'Sofia']\n",
    "\n",
    "def greet_friends(friends):\n",
    "    \n",
    "    for friend in friends:\n",
    "        print('Hello, ' + friend)\n",
    "\n",
    "greet_friends(friends)"
   ]
  },
  {
   "cell_type": "code",
   "execution_count": 40,
   "metadata": {},
   "outputs": [
    {
     "name": "stdout",
     "output_type": "stream",
     "text": [
      "Hello, G\n",
      "Hello, a\n",
      "Hello, b\n",
      "Hello, r\n",
      "Hello, i\n",
      "Hello, e\n",
      "Hello, l\n",
      "Hello, a\n"
     ]
    }
   ],
   "source": [
    "#??????\n",
    "greet_friends('Gabriela')"
   ]
  },
  {
   "cell_type": "markdown",
   "metadata": {},
   "source": [
    "# Exercises 2"
   ]
  },
  {
   "cell_type": "markdown",
   "metadata": {},
   "source": [
    "## 2.1 Only even\n",
    "Write a Python program that prints all even numbers from 0 to 20"
   ]
  },
  {
   "cell_type": "code",
   "execution_count": 43,
   "metadata": {},
   "outputs": [
    {
     "name": "stdout",
     "output_type": "stream",
     "text": [
      "0\n",
      "2\n",
      "4\n",
      "6\n",
      "8\n",
      "10\n",
      "12\n",
      "14\n",
      "16\n",
      "18\n",
      "20\n"
     ]
    }
   ],
   "source": [
    "for number in range(0, 21):\n",
    "    \n",
    "    if number % 2 == 0:\n",
    "        print(number)"
   ]
  },
  {
   "cell_type": "markdown",
   "metadata": {},
   "source": [
    "## 2.2 Rectangle pattern \n",
    "\n",
    "Write a python script that prints the following pattern using for loops\n",
    "\n",
    "```\n",
    "* * * * * * * * * * \n",
    "* * * * * * * * * * \n",
    "* * * * * * * * * * \n",
    "* * * * * * * * * * \n",
    "* * * * * * * * * * \n",
    "```"
   ]
  },
  {
   "cell_type": "code",
   "execution_count": 53,
   "metadata": {},
   "outputs": [
    {
     "name": "stdout",
     "output_type": "stream",
     "text": [
      "*\n",
      "*\n",
      "*\n",
      "*\n",
      "*\n",
      "*\n",
      "*\n",
      "*\n",
      "*\n",
      "*\n"
     ]
    }
   ],
   "source": [
    "for _ in range(10):\n",
    "    print('*')"
   ]
  },
  {
   "cell_type": "code",
   "execution_count": 55,
   "metadata": {},
   "outputs": [
    {
     "name": "stdout",
     "output_type": "stream",
     "text": [
      "* * * * * * * * * * * * * * * * * * * * \n",
      "* * * * * * * * * * * * * * * * * * * * \n",
      "* * * * * * * * * * * * * * * * * * * * \n",
      "* * * * * * * * * * * * * * * * * * * * \n"
     ]
    }
   ],
   "source": [
    "def print_rectangle(width, height):\n",
    "    \n",
    "    for _ in range(height):\n",
    "        \n",
    "        for _ in  range(width):\n",
    "            \n",
    "            print('*', end = ' ')\n",
    "            \n",
    "        print('')\n",
    "            \n",
    "print_rectangle(20, 4)"
   ]
  },
  {
   "cell_type": "markdown",
   "metadata": {},
   "source": [
    "## 2.3 Triangle pattern \n",
    "\n",
    "Write a python script that prints the following pattern using for loops\n",
    "\n",
    "```\n",
    "* \n",
    "* * \n",
    "* * * \n",
    "* * * * \n",
    "* * * * * \n",
    "* * * * \n",
    "* * * \n",
    "* * \n",
    "*\n",
    "```"
   ]
  },
  {
   "cell_type": "code",
   "execution_count": 59,
   "metadata": {},
   "outputs": [
    {
     "name": "stdout",
     "output_type": "stream",
     "text": [
      "10\n",
      "9\n",
      "8\n",
      "7\n",
      "6\n",
      "5\n",
      "4\n",
      "3\n",
      "2\n"
     ]
    }
   ],
   "source": [
    "for x in range(10,1,-1):\n",
    "    print(x)"
   ]
  },
  {
   "cell_type": "code",
   "execution_count": 63,
   "metadata": {},
   "outputs": [
    {
     "name": "stdout",
     "output_type": "stream",
     "text": [
      "\n",
      "* \n",
      "* * \n",
      "* * * \n",
      "* * * * \n",
      "* * * * * \n",
      "* * * * * * \n",
      "* * * * * * * \n",
      "* * * * * * * * \n",
      "* * * * * * * * * \n",
      "* * * * * * * * * * \n",
      "* * * * * * * * * * * \n",
      "* * * * * * * * * * * * \n",
      "* * * * * * * * * * * * * \n",
      "* * * * * * * * * * * * * * \n",
      "* * * * * * * * * * * * * * * \n",
      "* * * * * * * * * * * * * * * * \n",
      "* * * * * * * * * * * * * * * * * \n",
      "* * * * * * * * * * * * * * * * * * \n",
      "* * * * * * * * * * * * * * * * * * * \n",
      "* * * * * * * * * * * * * * * * * * * * \n",
      "* * * * * * * * * * * * * * * * * * * \n",
      "* * * * * * * * * * * * * * * * * * \n",
      "* * * * * * * * * * * * * * * * * \n",
      "* * * * * * * * * * * * * * * * \n",
      "* * * * * * * * * * * * * * * \n",
      "* * * * * * * * * * * * * * \n",
      "* * * * * * * * * * * * * \n",
      "* * * * * * * * * * * * \n",
      "* * * * * * * * * * * \n",
      "* * * * * * * * * * \n",
      "* * * * * * * * * \n",
      "* * * * * * * * \n",
      "* * * * * * * \n",
      "* * * * * * \n",
      "* * * * * \n",
      "* * * * \n",
      "* * * \n",
      "* * \n",
      "* \n"
     ]
    }
   ],
   "source": [
    "def triangle_pattern(star_number):\n",
    "    \n",
    "    for x in range(star_number + 1):\n",
    "        print('* ' * x)\n",
    "        \n",
    "    for y in range(star_number -1, 0, -1):\n",
    "        print('* ' * y)\n",
    "        \n",
    "\n",
    "triangle_pattern(20)"
   ]
  },
  {
   "cell_type": "markdown",
   "metadata": {},
   "source": [
    "## 2.4 Factorial\n",
    "Write a script that prints the factorial of a number. The factorial of a number is the product of all the positive numbers less than itself. For example factorial(5) = 5x4x3x2x1"
   ]
  },
  {
   "cell_type": "code",
   "execution_count": 64,
   "metadata": {},
   "outputs": [],
   "source": [
    "def factorial(number):\n",
    "    \n",
    "    product = 1\n",
    "    \n",
    "    for factor in range(1, number+1):\n",
    "        product *= factor\n",
    "        \n",
    "    return product"
   ]
  },
  {
   "cell_type": "code",
   "execution_count": 65,
   "metadata": {},
   "outputs": [
    {
     "data": {
      "text/plain": [
       "120"
      ]
     },
     "execution_count": 65,
     "metadata": {},
     "output_type": "execute_result"
    }
   ],
   "source": [
    "factorial(5)"
   ]
  },
  {
   "cell_type": "code",
   "execution_count": 66,
   "metadata": {},
   "outputs": [
    {
     "data": {
      "text/plain": [
       "3628800"
      ]
     },
     "execution_count": 66,
     "metadata": {},
     "output_type": "execute_result"
    }
   ],
   "source": [
    "factorial(10)"
   ]
  },
  {
   "cell_type": "markdown",
   "metadata": {},
   "source": [
    "## 2.5 Square of numbers\n",
    "Write a function that gets a number and prints the square of all the numbers smaller than it."
   ]
  },
  {
   "cell_type": "code",
   "execution_count": 67,
   "metadata": {},
   "outputs": [],
   "source": [
    "def squares(number):\n",
    "    \n",
    "    # your beautiful code here\n",
    "    for n in range(number):\n",
    "        print(n**2)"
   ]
  },
  {
   "cell_type": "code",
   "execution_count": 68,
   "metadata": {},
   "outputs": [
    {
     "name": "stdout",
     "output_type": "stream",
     "text": [
      "0\n",
      "1\n",
      "4\n",
      "9\n",
      "16\n",
      "25\n",
      "36\n",
      "49\n",
      "64\n",
      "81\n"
     ]
    }
   ],
   "source": [
    "squares(10)"
   ]
  },
  {
   "cell_type": "markdown",
   "metadata": {},
   "source": [
    "## 2.6 Prime divisors\n",
    "Write a function that prints the prime divisors of a number"
   ]
  },
  {
   "cell_type": "code",
   "execution_count": 4,
   "metadata": {},
   "outputs": [
    {
     "name": "stdout",
     "output_type": "stream",
     "text": [
      "2 2 5 5 \n",
      "3 5 13 \n",
      "3 3 5 5 \n"
     ]
    },
    {
     "data": {
      "text/plain": [
       "'Done'"
      ]
     },
     "execution_count": 4,
     "metadata": {},
     "output_type": "execute_result"
    }
   ],
   "source": [
    "def print_prime_factors(number):\n",
    "    \n",
    "    # Start with two, which is the first prime\n",
    "    factor = 2\n",
    "    \n",
    "    # Keep going until the factor is larger than the number\n",
    "    while factor <= number:\n",
    "    \n",
    "        # Check if factor is a divisor of number\n",
    "        if number % factor == 0:\n",
    "\n",
    "            # If it is, print it and divide the original number\n",
    "            print(factor, end = \" \")\n",
    "            number = number / factor\n",
    "\n",
    "        else:\n",
    "            # If it's not, increment the factor by one\n",
    "            factor += 1\n",
    "        \n",
    "    print()\n",
    "    \n",
    "    return \"Done\"\n",
    "\n",
    "# Should print 2,2,5,5\n",
    "print_prime_factors(100)\n",
    "\n",
    "# Should print 3,5,13\n",
    "print_prime_factors(195)\n",
    "\n",
    "# Should print 3, 3, 5,5\n",
    "print_prime_factors(225)"
   ]
  },
  {
   "cell_type": "markdown",
   "metadata": {},
   "source": [
    "## 2.7 Counter function\n",
    "The counter function counts down from start to stop when start is bigger than stop, and counts up from start to stop otherwise. Fill in the blanks to make this work correctly."
   ]
  },
  {
   "cell_type": "code",
   "execution_count": 6,
   "metadata": {},
   "outputs": [
    {
     "name": "stdout",
     "output_type": "stream",
     "text": [
      "Counting up: 1,2,3,4,5,6,7,8,9,10\n",
      "Counting down: 2,1\n",
      "Counting up: 5\n"
     ]
    }
   ],
   "source": [
    "def counter(start, stop):\n",
    "    x = start\n",
    "    if start > stop:\n",
    "        return_string = \"Counting down: \"\n",
    "        while x >= stop:\n",
    "            return_string += str(x)\n",
    "            if x > stop:\n",
    "                return_string += \",\"\n",
    "            x -= 1\n",
    "    else:\n",
    "        return_string = \"Counting up: \"\n",
    "        while x <= stop:\n",
    "            return_string += str(x)\n",
    "            if x < stop:\n",
    "                return_string += \",\"\n",
    "            x += 1\n",
    "    \n",
    "    return return_string\n",
    "\n",
    "print(counter(1, 10)) # Should be \"Counting up: 1,2,3,4,5,6,7,8,9,10\"\n",
    "print(counter(2, 1)) # Should be \"Counting down: 2,1\"\n",
    "print(counter(5, 5)) # Should be \"Counting up: 5\""
   ]
  },
  {
   "cell_type": "markdown",
   "metadata": {},
   "source": [
    "## 2.8 Separate string\n",
    "The show_letters function should print out each letter of a word on a separate line. Fill in the blanks to make that happen."
   ]
  },
  {
   "cell_type": "code",
   "execution_count": 7,
   "metadata": {},
   "outputs": [
    {
     "name": "stdout",
     "output_type": "stream",
     "text": [
      "H\n",
      "e\n",
      "l\n",
      "l\n",
      "o\n"
     ]
    }
   ],
   "source": [
    "def show_letters(word):\n",
    "    for character in word:\n",
    "        print(character)\n",
    "\n",
    "#should print\n",
    "#H\n",
    "#e\n",
    "#l\n",
    "#l\n",
    "#o\n",
    "show_letters(\"Hello\")"
   ]
  },
  {
   "cell_type": "markdown",
   "metadata": {},
   "source": [
    "## 2.9 How many digits?\n",
    "Complete the function digits(n) that returns how many digits the number has. For example: 25 has 2 digits and 144 has 3 digits. Tip: you can figure out the digits of a number by dividing it by 10 once per digit until there are no digits left."
   ]
  },
  {
   "cell_type": "code",
   "execution_count": 8,
   "metadata": {},
   "outputs": [
    {
     "name": "stdout",
     "output_type": "stream",
     "text": [
      "2\n",
      "3\n",
      "4\n",
      "1\n"
     ]
    }
   ],
   "source": [
    "def digits(n):\n",
    "    count = 0\n",
    "\n",
    "    if n == 0:\n",
    "        return 1\n",
    "    \n",
    "    while (n > 0):\n",
    "        count += 1\n",
    "        n = n // 10\n",
    "\n",
    "    return count\n",
    "\n",
    "print(digits(25))   # Should print 2\n",
    "print(digits(144))  # Should print 3\n",
    "print(digits(1000)) # Should print 4\n",
    "print(digits(0))    # Should print 1"
   ]
  },
  {
   "cell_type": "code",
   "execution_count": 9,
   "metadata": {},
   "outputs": [
    {
     "name": "stdout",
     "output_type": "stream",
     "text": [
      "2\n",
      "3\n",
      "4\n",
      "1\n"
     ]
    }
   ],
   "source": [
    "def digits(n):\n",
    "    return len(str(n))\n",
    "\n",
    "\n",
    "print(digits(25))   # Should print 2\n",
    "print(digits(144))  # Should print 3\n",
    "print(digits(1000)) # Should print 4\n",
    "print(digits(0))    # Should print 1"
   ]
  },
  {
   "cell_type": "markdown",
   "metadata": {},
   "source": [
    "## 2.10 Multiplication table 2\n",
    "This function prints out a multiplication table (where each number is the result of multiplying the first number of its row by the number at the top of its column). Fill in the blanks so that calling multiplication_table(1, 3) will print out:\n",
    "\n",
    "1 2 3 \n",
    "\n",
    "2 4 6 \n",
    "\n",
    "3 6 9"
   ]
  },
  {
   "cell_type": "code",
   "execution_count": 13,
   "metadata": {},
   "outputs": [
    {
     "name": "stdout",
     "output_type": "stream",
     "text": [
      "  1   2   3 \n",
      "  2   4   6 \n",
      "  3   6   9 \n"
     ]
    }
   ],
   "source": [
    "def multiplication_table(start, stop):\n",
    "    for x in range(start, stop +1):\n",
    "        for y in range(start, stop + 1):\n",
    "            print(f'{x*y: 3}', end=\" \")\n",
    "        print()\n",
    "\n",
    "multiplication_table(1, 3)\n",
    "# Should print the multiplication table shown above"
   ]
  },
  {
   "cell_type": "code",
   "execution_count": 14,
   "metadata": {},
   "outputs": [
    {
     "name": "stdout",
     "output_type": "stream",
     "text": [
      "  1   2   3   4   5   6   7   8   9  10 \n",
      "  2   4   6   8  10  12  14  16  18  20 \n",
      "  3   6   9  12  15  18  21  24  27  30 \n",
      "  4   8  12  16  20  24  28  32  36  40 \n",
      "  5  10  15  20  25  30  35  40  45  50 \n",
      "  6  12  18  24  30  36  42  48  54  60 \n",
      "  7  14  21  28  35  42  49  56  63  70 \n",
      "  8  16  24  32  40  48  56  64  72  80 \n",
      "  9  18  27  36  45  54  63  72  81  90 \n",
      " 10  20  30  40  50  60  70  80  90  100 \n"
     ]
    }
   ],
   "source": [
    "multiplication_table(1, 10)"
   ]
  },
  {
   "cell_type": "markdown",
   "metadata": {},
   "source": [
    "## Referencias\n",
    "\n",
    "* Python for everybody (Coursera): https://www.coursera.org/specializations/python\n",
    "* Python for everybody (book): https://www.py4e.com/book.php"
   ]
  },
  {
   "cell_type": "markdown",
   "metadata": {},
   "source": [
    "## Contact\n",
    "\n",
    "Manuel Montoya Gamio\n",
    "* Correo: manuel.montoya@pucp.edu.pe\n",
    "* Telegram / Whatsapp: +56942703126"
   ]
  }
 ],
 "metadata": {
  "kernelspec": {
   "display_name": "Python 3 (ipykernel)",
   "language": "python",
   "name": "python3"
  },
  "language_info": {
   "codemirror_mode": {
    "name": "ipython",
    "version": 3
   },
   "file_extension": ".py",
   "mimetype": "text/x-python",
   "name": "python",
   "nbconvert_exporter": "python",
   "pygments_lexer": "ipython3",
   "version": "3.9.7"
  }
 },
 "nbformat": 4,
 "nbformat_minor": 4
}
