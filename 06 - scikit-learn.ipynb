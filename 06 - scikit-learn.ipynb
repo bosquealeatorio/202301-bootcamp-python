{
 "cells": [
  {
   "cell_type": "markdown",
   "metadata": {},
   "source": [
    "# Scikit-learn for feature processing and training"
   ]
  },
  {
   "cell_type": "markdown",
   "metadata": {},
   "source": [
    "### environment"
   ]
  },
  {
   "cell_type": "code",
   "execution_count": 1,
   "metadata": {
    "scrolled": true
   },
   "outputs": [
    {
     "data": {
      "text/plain": [
       "'3.9.7 (default, Sep 16 2021, 08:50:36) \\n[Clang 10.0.0 ]'"
      ]
     },
     "execution_count": 1,
     "metadata": {},
     "output_type": "execute_result"
    }
   ],
   "source": [
    "import sys\n",
    "sys.version"
   ]
  },
  {
   "cell_type": "markdown",
   "metadata": {},
   "source": [
    "### imports"
   ]
  },
  {
   "cell_type": "code",
   "execution_count": 2,
   "metadata": {
    "scrolled": true
   },
   "outputs": [],
   "source": [
    "%load_ext autoreload\n",
    "%autoreload 2\n",
    "%matplotlib inline\n",
    "%config InlineBackend.figure_format = 'retina'\n",
    "\n",
    "#libraries\n",
    "######################################################################\n",
    "\n",
    "import os\n",
    "import numpy as np\n",
    "import pandas as pd\n",
    "import sklearn\n",
    "import matplotlib.pyplot as plt\n",
    "import seaborn as sns\n",
    "\n",
    "import pickle\n",
    "\n",
    "#configuration options\n",
    "######################################################################\n",
    "\n",
    "pd.set_option('display.max_columns', 1000)\n",
    "pd.set_option('display.max_rows', 400)\n",
    "sns.set()\n",
    "\n",
    "seed = 12345"
   ]
  },
  {
   "cell_type": "code",
   "execution_count": 3,
   "metadata": {
    "scrolled": false
   },
   "outputs": [
    {
     "data": {
      "text/plain": [
       "'1.3.4'"
      ]
     },
     "execution_count": 3,
     "metadata": {},
     "output_type": "execute_result"
    }
   ],
   "source": [
    "pd.__version__"
   ]
  },
  {
   "cell_type": "code",
   "execution_count": 4,
   "metadata": {
    "scrolled": true
   },
   "outputs": [
    {
     "data": {
      "text/plain": [
       "'1.21.0'"
      ]
     },
     "execution_count": 4,
     "metadata": {},
     "output_type": "execute_result"
    }
   ],
   "source": [
    "np.__version__"
   ]
  },
  {
   "cell_type": "code",
   "execution_count": 5,
   "metadata": {
    "scrolled": true
   },
   "outputs": [
    {
     "data": {
      "text/plain": [
       "'0.24.2'"
      ]
     },
     "execution_count": 5,
     "metadata": {},
     "output_type": "execute_result"
    }
   ],
   "source": [
    "sklearn.__version__"
   ]
  },
  {
   "cell_type": "markdown",
   "metadata": {},
   "source": [
    "## dataset"
   ]
  },
  {
   "cell_type": "code",
   "execution_count": 6,
   "metadata": {},
   "outputs": [],
   "source": [
    "from sklearn.datasets import fetch_openml\n",
    "from sklearn.model_selection import train_test_split"
   ]
  },
  {
   "cell_type": "code",
   "execution_count": 7,
   "metadata": {},
   "outputs": [],
   "source": [
    "X, y = fetch_openml(\"titanic\", version=1, as_frame=True, return_X_y=True)"
   ]
  },
  {
   "cell_type": "code",
   "execution_count": 10,
   "metadata": {},
   "outputs": [],
   "source": [
    "X_train, X_test, y_train, y_test = train_test_split(X, y, test_size=0.2, random_state=seed)"
   ]
  },
  {
   "cell_type": "markdown",
   "metadata": {},
   "source": [
    "## null values"
   ]
  },
  {
   "cell_type": "markdown",
   "metadata": {},
   "source": [
    "### na imputation"
   ]
  },
  {
   "cell_type": "markdown",
   "metadata": {},
   "source": [
    "the `pandas` way"
   ]
  },
  {
   "cell_type": "markdown",
   "metadata": {},
   "source": [
    "you can separate categorical from numeric and impute with different techniques"
   ]
  },
  {
   "cell_type": "markdown",
   "metadata": {},
   "source": [
    "you can use pandas functions to fill null values"
   ]
  },
  {
   "cell_type": "markdown",
   "metadata": {},
   "source": [
    "the `scikit-learn` way"
   ]
  },
  {
   "cell_type": "markdown",
   "metadata": {},
   "source": [
    "### one hot encoding"
   ]
  },
  {
   "cell_type": "markdown",
   "metadata": {},
   "source": [
    "the `pandas` way"
   ]
  },
  {
   "cell_type": "markdown",
   "metadata": {},
   "source": [
    "the `scikit-learn` way"
   ]
  },
  {
   "cell_type": "code",
   "execution_count": 42,
   "metadata": {},
   "outputs": [
    {
     "data": {
      "text/plain": [
       "<262x9 sparse matrix of type '<class 'numpy.float64'>'\n",
       "\twith 786 stored elements in Compressed Sparse Row format>"
      ]
     },
     "execution_count": 42,
     "metadata": {},
     "output_type": "execute_result"
    }
   ],
   "source": [
    "ohe.transform(X_test_cat)"
   ]
  },
  {
   "cell_type": "markdown",
   "metadata": {},
   "source": [
    "## full dataprep with scikit pipelines"
   ]
  },
  {
   "cell_type": "code",
   "execution_count": 43,
   "metadata": {},
   "outputs": [],
   "source": [
    "from sklearn.pipeline import Pipeline\n",
    "from sklearn.compose import ColumnTransformer\n",
    "\n",
    "from sklearn.impute import SimpleImputer\n",
    "from sklearn.preprocessing import StandardScaler, OneHotEncoder"
   ]
  },
  {
   "cell_type": "code",
   "execution_count": 44,
   "metadata": {},
   "outputs": [],
   "source": [
    "pipe = Pipeline(steps = [('imputer', SimpleImputer(strategy = 'median')),\n",
    "                        ('scaler', StandardScaler())])"
   ]
  },
  {
   "cell_type": "markdown",
   "metadata": {},
   "source": [
    "### todo en un solo paso con ColumnTransformer"
   ]
  },
  {
   "cell_type": "markdown",
   "metadata": {},
   "source": [
    "numeric dataprep"
   ]
  },
  {
   "cell_type": "code",
   "execution_count": 50,
   "metadata": {},
   "outputs": [],
   "source": [
    "numeric_features = ['age', 'fare']\n",
    "numeric_transformer = Pipeline(steps=[\n",
    "    ('imputer', SimpleImputer(strategy='median')),\n",
    "    ('scaler', StandardScaler())])"
   ]
  },
  {
   "cell_type": "markdown",
   "metadata": {},
   "source": [
    "categorical dataprep"
   ]
  },
  {
   "cell_type": "code",
   "execution_count": 51,
   "metadata": {},
   "outputs": [],
   "source": [
    "categorical_features = ['embarked', 'sex', 'pclass']\n",
    "categorical_transformer = Pipeline(steps=[\n",
    "    ('imputer', SimpleImputer(strategy='most_frequent')),\n",
    "    ('ohe', OneHotEncoder(handle_unknown='ignore'))])"
   ]
  },
  {
   "cell_type": "markdown",
   "metadata": {},
   "source": [
    "both together with `ColumnTransformer`"
   ]
  },
  {
   "cell_type": "code",
   "execution_count": 52,
   "metadata": {},
   "outputs": [],
   "source": [
    "preprocessor = ColumnTransformer(transformers=[\n",
    "    ('num', numeric_transformer, numeric_features),\n",
    "    ('cat', categorical_transformer, categorical_features)])"
   ]
  },
  {
   "cell_type": "code",
   "execution_count": 53,
   "metadata": {},
   "outputs": [
    {
     "data": {
      "text/plain": [
       "ColumnTransformer(transformers=[('num',\n",
       "                                 Pipeline(steps=[('imputer',\n",
       "                                                  SimpleImputer(strategy='median')),\n",
       "                                                 ('scaler', StandardScaler())]),\n",
       "                                 ['age', 'fare']),\n",
       "                                ('cat',\n",
       "                                 Pipeline(steps=[('imputer',\n",
       "                                                  SimpleImputer(strategy='most_frequent')),\n",
       "                                                 ('ohe',\n",
       "                                                  OneHotEncoder(handle_unknown='ignore'))]),\n",
       "                                 ['embarked', 'sex', 'pclass'])])"
      ]
     },
     "execution_count": 53,
     "metadata": {},
     "output_type": "execute_result"
    }
   ],
   "source": [
    "preprocessor.fit(X_train)"
   ]
  },
  {
   "cell_type": "code",
   "execution_count": 54,
   "metadata": {},
   "outputs": [],
   "source": [
    "from sklearn import set_config\n",
    "\n",
    "set_config(display='diagram')"
   ]
  },
  {
   "cell_type": "code",
   "execution_count": 55,
   "metadata": {},
   "outputs": [
    {
     "data": {
      "text/html": [
       "<style>#sk-10a17c36-63df-4508-9446-935fb678d280 {color: black;background-color: white;}#sk-10a17c36-63df-4508-9446-935fb678d280 pre{padding: 0;}#sk-10a17c36-63df-4508-9446-935fb678d280 div.sk-toggleable {background-color: white;}#sk-10a17c36-63df-4508-9446-935fb678d280 label.sk-toggleable__label {cursor: pointer;display: block;width: 100%;margin-bottom: 0;padding: 0.2em 0.3em;box-sizing: border-box;text-align: center;}#sk-10a17c36-63df-4508-9446-935fb678d280 div.sk-toggleable__content {max-height: 0;max-width: 0;overflow: hidden;text-align: left;background-color: #f0f8ff;}#sk-10a17c36-63df-4508-9446-935fb678d280 div.sk-toggleable__content pre {margin: 0.2em;color: black;border-radius: 0.25em;background-color: #f0f8ff;}#sk-10a17c36-63df-4508-9446-935fb678d280 input.sk-toggleable__control:checked~div.sk-toggleable__content {max-height: 200px;max-width: 100%;overflow: auto;}#sk-10a17c36-63df-4508-9446-935fb678d280 div.sk-estimator input.sk-toggleable__control:checked~label.sk-toggleable__label {background-color: #d4ebff;}#sk-10a17c36-63df-4508-9446-935fb678d280 div.sk-label input.sk-toggleable__control:checked~label.sk-toggleable__label {background-color: #d4ebff;}#sk-10a17c36-63df-4508-9446-935fb678d280 input.sk-hidden--visually {border: 0;clip: rect(1px 1px 1px 1px);clip: rect(1px, 1px, 1px, 1px);height: 1px;margin: -1px;overflow: hidden;padding: 0;position: absolute;width: 1px;}#sk-10a17c36-63df-4508-9446-935fb678d280 div.sk-estimator {font-family: monospace;background-color: #f0f8ff;margin: 0.25em 0.25em;border: 1px dotted black;border-radius: 0.25em;box-sizing: border-box;}#sk-10a17c36-63df-4508-9446-935fb678d280 div.sk-estimator:hover {background-color: #d4ebff;}#sk-10a17c36-63df-4508-9446-935fb678d280 div.sk-parallel-item::after {content: \"\";width: 100%;border-bottom: 1px solid gray;flex-grow: 1;}#sk-10a17c36-63df-4508-9446-935fb678d280 div.sk-label:hover label.sk-toggleable__label {background-color: #d4ebff;}#sk-10a17c36-63df-4508-9446-935fb678d280 div.sk-serial::before {content: \"\";position: absolute;border-left: 1px solid gray;box-sizing: border-box;top: 2em;bottom: 0;left: 50%;}#sk-10a17c36-63df-4508-9446-935fb678d280 div.sk-serial {display: flex;flex-direction: column;align-items: center;background-color: white;}#sk-10a17c36-63df-4508-9446-935fb678d280 div.sk-item {z-index: 1;}#sk-10a17c36-63df-4508-9446-935fb678d280 div.sk-parallel {display: flex;align-items: stretch;justify-content: center;background-color: white;}#sk-10a17c36-63df-4508-9446-935fb678d280 div.sk-parallel-item {display: flex;flex-direction: column;position: relative;background-color: white;}#sk-10a17c36-63df-4508-9446-935fb678d280 div.sk-parallel-item:first-child::after {align-self: flex-end;width: 50%;}#sk-10a17c36-63df-4508-9446-935fb678d280 div.sk-parallel-item:last-child::after {align-self: flex-start;width: 50%;}#sk-10a17c36-63df-4508-9446-935fb678d280 div.sk-parallel-item:only-child::after {width: 0;}#sk-10a17c36-63df-4508-9446-935fb678d280 div.sk-dashed-wrapped {border: 1px dashed gray;margin: 0.2em;box-sizing: border-box;padding-bottom: 0.1em;background-color: white;position: relative;}#sk-10a17c36-63df-4508-9446-935fb678d280 div.sk-label label {font-family: monospace;font-weight: bold;background-color: white;display: inline-block;line-height: 1.2em;}#sk-10a17c36-63df-4508-9446-935fb678d280 div.sk-label-container {position: relative;z-index: 2;text-align: center;}#sk-10a17c36-63df-4508-9446-935fb678d280 div.sk-container {display: inline-block;position: relative;}</style><div id=\"sk-10a17c36-63df-4508-9446-935fb678d280\" class\"sk-top-container\"><div class=\"sk-container\"><div class=\"sk-item sk-dashed-wrapped\"><div class=\"sk-label-container\"><div class=\"sk-label sk-toggleable\"><input class=\"sk-toggleable__control sk-hidden--visually\" id=\"a4358f02-fef1-4d7f-9e3f-e384ed3ed97a\" type=\"checkbox\" ><label class=\"sk-toggleable__label\" for=\"a4358f02-fef1-4d7f-9e3f-e384ed3ed97a\">ColumnTransformer</label><div class=\"sk-toggleable__content\"><pre>ColumnTransformer(transformers=[('num',\n",
       "                                 Pipeline(steps=[('imputer',\n",
       "                                                  SimpleImputer(strategy='median')),\n",
       "                                                 ('scaler', StandardScaler())]),\n",
       "                                 ['age', 'fare']),\n",
       "                                ('cat',\n",
       "                                 Pipeline(steps=[('imputer',\n",
       "                                                  SimpleImputer(strategy='most_frequent')),\n",
       "                                                 ('ohe',\n",
       "                                                  OneHotEncoder(handle_unknown='ignore'))]),\n",
       "                                 ['embarked', 'sex', 'pclass'])])</pre></div></div></div><div class=\"sk-parallel\"><div class=\"sk-parallel-item\"><div class=\"sk-item\"><div class=\"sk-label-container\"><div class=\"sk-label sk-toggleable\"><input class=\"sk-toggleable__control sk-hidden--visually\" id=\"66aa4847-388a-433e-b2a4-56cf86d453a3\" type=\"checkbox\" ><label class=\"sk-toggleable__label\" for=\"66aa4847-388a-433e-b2a4-56cf86d453a3\">num</label><div class=\"sk-toggleable__content\"><pre>['age', 'fare']</pre></div></div></div><div class=\"sk-serial\"><div class=\"sk-item\"><div class=\"sk-serial\"><div class=\"sk-item\"><div class=\"sk-estimator sk-toggleable\"><input class=\"sk-toggleable__control sk-hidden--visually\" id=\"ee9b94a5-f693-4091-885a-f7dcfa129470\" type=\"checkbox\" ><label class=\"sk-toggleable__label\" for=\"ee9b94a5-f693-4091-885a-f7dcfa129470\">SimpleImputer</label><div class=\"sk-toggleable__content\"><pre>SimpleImputer(strategy='median')</pre></div></div></div><div class=\"sk-item\"><div class=\"sk-estimator sk-toggleable\"><input class=\"sk-toggleable__control sk-hidden--visually\" id=\"8d20dd66-1f5b-46d0-a501-671020cfb402\" type=\"checkbox\" ><label class=\"sk-toggleable__label\" for=\"8d20dd66-1f5b-46d0-a501-671020cfb402\">StandardScaler</label><div class=\"sk-toggleable__content\"><pre>StandardScaler()</pre></div></div></div></div></div></div></div></div><div class=\"sk-parallel-item\"><div class=\"sk-item\"><div class=\"sk-label-container\"><div class=\"sk-label sk-toggleable\"><input class=\"sk-toggleable__control sk-hidden--visually\" id=\"393e17ca-d720-4826-970c-67b4ddceebfe\" type=\"checkbox\" ><label class=\"sk-toggleable__label\" for=\"393e17ca-d720-4826-970c-67b4ddceebfe\">cat</label><div class=\"sk-toggleable__content\"><pre>['embarked', 'sex', 'pclass']</pre></div></div></div><div class=\"sk-serial\"><div class=\"sk-item\"><div class=\"sk-serial\"><div class=\"sk-item\"><div class=\"sk-estimator sk-toggleable\"><input class=\"sk-toggleable__control sk-hidden--visually\" id=\"6d942def-4477-4521-b119-50374957e273\" type=\"checkbox\" ><label class=\"sk-toggleable__label\" for=\"6d942def-4477-4521-b119-50374957e273\">SimpleImputer</label><div class=\"sk-toggleable__content\"><pre>SimpleImputer(strategy='most_frequent')</pre></div></div></div><div class=\"sk-item\"><div class=\"sk-estimator sk-toggleable\"><input class=\"sk-toggleable__control sk-hidden--visually\" id=\"c63ef70a-9141-46fd-a5d7-14461e3b30a6\" type=\"checkbox\" ><label class=\"sk-toggleable__label\" for=\"c63ef70a-9141-46fd-a5d7-14461e3b30a6\">OneHotEncoder</label><div class=\"sk-toggleable__content\"><pre>OneHotEncoder(handle_unknown='ignore')</pre></div></div></div></div></div></div></div></div></div></div></div></div>"
      ],
      "text/plain": [
       "ColumnTransformer(transformers=[('num',\n",
       "                                 Pipeline(steps=[('imputer',\n",
       "                                                  SimpleImputer(strategy='median')),\n",
       "                                                 ('scaler', StandardScaler())]),\n",
       "                                 ['age', 'fare']),\n",
       "                                ('cat',\n",
       "                                 Pipeline(steps=[('imputer',\n",
       "                                                  SimpleImputer(strategy='most_frequent')),\n",
       "                                                 ('ohe',\n",
       "                                                  OneHotEncoder(handle_unknown='ignore'))]),\n",
       "                                 ['embarked', 'sex', 'pclass'])])"
      ]
     },
     "execution_count": 55,
     "metadata": {},
     "output_type": "execute_result"
    }
   ],
   "source": [
    "preprocessor"
   ]
  },
  {
   "cell_type": "code",
   "execution_count": 56,
   "metadata": {},
   "outputs": [
    {
     "data": {
      "text/plain": [
       "{'num': Pipeline(steps=[('imputer', SimpleImputer(strategy='median')),\n",
       "                 ('scaler', StandardScaler())]),\n",
       " 'cat': Pipeline(steps=[('imputer', SimpleImputer(strategy='most_frequent')),\n",
       "                 ('ohe', OneHotEncoder(handle_unknown='ignore'))]),\n",
       " 'remainder': 'drop'}"
      ]
     },
     "execution_count": 56,
     "metadata": {},
     "output_type": "execute_result"
    }
   ],
   "source": [
    "preprocessor.named_transformers_"
   ]
  },
  {
   "cell_type": "markdown",
   "metadata": {},
   "source": [
    "access individual elements with keys"
   ]
  },
  {
   "cell_type": "code",
   "execution_count": 57,
   "metadata": {},
   "outputs": [
    {
     "data": {
      "text/html": [
       "<style>#sk-ee6ff2d0-96f0-45cd-8495-6a54bdf5ae49 {color: black;background-color: white;}#sk-ee6ff2d0-96f0-45cd-8495-6a54bdf5ae49 pre{padding: 0;}#sk-ee6ff2d0-96f0-45cd-8495-6a54bdf5ae49 div.sk-toggleable {background-color: white;}#sk-ee6ff2d0-96f0-45cd-8495-6a54bdf5ae49 label.sk-toggleable__label {cursor: pointer;display: block;width: 100%;margin-bottom: 0;padding: 0.2em 0.3em;box-sizing: border-box;text-align: center;}#sk-ee6ff2d0-96f0-45cd-8495-6a54bdf5ae49 div.sk-toggleable__content {max-height: 0;max-width: 0;overflow: hidden;text-align: left;background-color: #f0f8ff;}#sk-ee6ff2d0-96f0-45cd-8495-6a54bdf5ae49 div.sk-toggleable__content pre {margin: 0.2em;color: black;border-radius: 0.25em;background-color: #f0f8ff;}#sk-ee6ff2d0-96f0-45cd-8495-6a54bdf5ae49 input.sk-toggleable__control:checked~div.sk-toggleable__content {max-height: 200px;max-width: 100%;overflow: auto;}#sk-ee6ff2d0-96f0-45cd-8495-6a54bdf5ae49 div.sk-estimator input.sk-toggleable__control:checked~label.sk-toggleable__label {background-color: #d4ebff;}#sk-ee6ff2d0-96f0-45cd-8495-6a54bdf5ae49 div.sk-label input.sk-toggleable__control:checked~label.sk-toggleable__label {background-color: #d4ebff;}#sk-ee6ff2d0-96f0-45cd-8495-6a54bdf5ae49 input.sk-hidden--visually {border: 0;clip: rect(1px 1px 1px 1px);clip: rect(1px, 1px, 1px, 1px);height: 1px;margin: -1px;overflow: hidden;padding: 0;position: absolute;width: 1px;}#sk-ee6ff2d0-96f0-45cd-8495-6a54bdf5ae49 div.sk-estimator {font-family: monospace;background-color: #f0f8ff;margin: 0.25em 0.25em;border: 1px dotted black;border-radius: 0.25em;box-sizing: border-box;}#sk-ee6ff2d0-96f0-45cd-8495-6a54bdf5ae49 div.sk-estimator:hover {background-color: #d4ebff;}#sk-ee6ff2d0-96f0-45cd-8495-6a54bdf5ae49 div.sk-parallel-item::after {content: \"\";width: 100%;border-bottom: 1px solid gray;flex-grow: 1;}#sk-ee6ff2d0-96f0-45cd-8495-6a54bdf5ae49 div.sk-label:hover label.sk-toggleable__label {background-color: #d4ebff;}#sk-ee6ff2d0-96f0-45cd-8495-6a54bdf5ae49 div.sk-serial::before {content: \"\";position: absolute;border-left: 1px solid gray;box-sizing: border-box;top: 2em;bottom: 0;left: 50%;}#sk-ee6ff2d0-96f0-45cd-8495-6a54bdf5ae49 div.sk-serial {display: flex;flex-direction: column;align-items: center;background-color: white;}#sk-ee6ff2d0-96f0-45cd-8495-6a54bdf5ae49 div.sk-item {z-index: 1;}#sk-ee6ff2d0-96f0-45cd-8495-6a54bdf5ae49 div.sk-parallel {display: flex;align-items: stretch;justify-content: center;background-color: white;}#sk-ee6ff2d0-96f0-45cd-8495-6a54bdf5ae49 div.sk-parallel-item {display: flex;flex-direction: column;position: relative;background-color: white;}#sk-ee6ff2d0-96f0-45cd-8495-6a54bdf5ae49 div.sk-parallel-item:first-child::after {align-self: flex-end;width: 50%;}#sk-ee6ff2d0-96f0-45cd-8495-6a54bdf5ae49 div.sk-parallel-item:last-child::after {align-self: flex-start;width: 50%;}#sk-ee6ff2d0-96f0-45cd-8495-6a54bdf5ae49 div.sk-parallel-item:only-child::after {width: 0;}#sk-ee6ff2d0-96f0-45cd-8495-6a54bdf5ae49 div.sk-dashed-wrapped {border: 1px dashed gray;margin: 0.2em;box-sizing: border-box;padding-bottom: 0.1em;background-color: white;position: relative;}#sk-ee6ff2d0-96f0-45cd-8495-6a54bdf5ae49 div.sk-label label {font-family: monospace;font-weight: bold;background-color: white;display: inline-block;line-height: 1.2em;}#sk-ee6ff2d0-96f0-45cd-8495-6a54bdf5ae49 div.sk-label-container {position: relative;z-index: 2;text-align: center;}#sk-ee6ff2d0-96f0-45cd-8495-6a54bdf5ae49 div.sk-container {display: inline-block;position: relative;}</style><div id=\"sk-ee6ff2d0-96f0-45cd-8495-6a54bdf5ae49\" class\"sk-top-container\"><div class=\"sk-container\"><div class=\"sk-item\"><div class=\"sk-estimator sk-toggleable\"><input class=\"sk-toggleable__control sk-hidden--visually\" id=\"8eccf975-6d91-4e6e-bb92-38d965b3bf65\" type=\"checkbox\" checked><label class=\"sk-toggleable__label\" for=\"8eccf975-6d91-4e6e-bb92-38d965b3bf65\">SimpleImputer</label><div class=\"sk-toggleable__content\"><pre>SimpleImputer(strategy='median')</pre></div></div></div></div></div>"
      ],
      "text/plain": [
       "SimpleImputer(strategy='median')"
      ]
     },
     "execution_count": 57,
     "metadata": {},
     "output_type": "execute_result"
    }
   ],
   "source": [
    "preprocessor.named_transformers_['num']['imputer']"
   ]
  },
  {
   "cell_type": "markdown",
   "metadata": {},
   "source": [
    "we can also use the pipeline to transform the test in one line"
   ]
  },
  {
   "cell_type": "markdown",
   "metadata": {},
   "source": [
    "## pipelines with training"
   ]
  },
  {
   "cell_type": "code",
   "execution_count": 59,
   "metadata": {},
   "outputs": [],
   "source": [
    "from sklearn.linear_model import LogisticRegression"
   ]
  },
  {
   "cell_type": "markdown",
   "metadata": {},
   "source": [
    "## pipelines with grid search"
   ]
  },
  {
   "cell_type": "code",
   "execution_count": 63,
   "metadata": {},
   "outputs": [],
   "source": [
    "from sklearn.model_selection import GridSearchCV\n",
    "from sklearn.tree import DecisionTreeClassifier"
   ]
  },
  {
   "cell_type": "code",
   "execution_count": 64,
   "metadata": {},
   "outputs": [],
   "source": [
    "classifier = Pipeline(steps=[('preprocessor', preprocessor),\n",
    "                             ('classifier', DecisionTreeClassifier())])"
   ]
  },
  {
   "cell_type": "code",
   "execution_count": 66,
   "metadata": {},
   "outputs": [
    {
     "data": {
      "text/html": [
       "<style>#sk-66ec9d21-9304-4a97-ae99-cff56f3fde0d {color: black;background-color: white;}#sk-66ec9d21-9304-4a97-ae99-cff56f3fde0d pre{padding: 0;}#sk-66ec9d21-9304-4a97-ae99-cff56f3fde0d div.sk-toggleable {background-color: white;}#sk-66ec9d21-9304-4a97-ae99-cff56f3fde0d label.sk-toggleable__label {cursor: pointer;display: block;width: 100%;margin-bottom: 0;padding: 0.2em 0.3em;box-sizing: border-box;text-align: center;}#sk-66ec9d21-9304-4a97-ae99-cff56f3fde0d div.sk-toggleable__content {max-height: 0;max-width: 0;overflow: hidden;text-align: left;background-color: #f0f8ff;}#sk-66ec9d21-9304-4a97-ae99-cff56f3fde0d div.sk-toggleable__content pre {margin: 0.2em;color: black;border-radius: 0.25em;background-color: #f0f8ff;}#sk-66ec9d21-9304-4a97-ae99-cff56f3fde0d input.sk-toggleable__control:checked~div.sk-toggleable__content {max-height: 200px;max-width: 100%;overflow: auto;}#sk-66ec9d21-9304-4a97-ae99-cff56f3fde0d div.sk-estimator input.sk-toggleable__control:checked~label.sk-toggleable__label {background-color: #d4ebff;}#sk-66ec9d21-9304-4a97-ae99-cff56f3fde0d div.sk-label input.sk-toggleable__control:checked~label.sk-toggleable__label {background-color: #d4ebff;}#sk-66ec9d21-9304-4a97-ae99-cff56f3fde0d input.sk-hidden--visually {border: 0;clip: rect(1px 1px 1px 1px);clip: rect(1px, 1px, 1px, 1px);height: 1px;margin: -1px;overflow: hidden;padding: 0;position: absolute;width: 1px;}#sk-66ec9d21-9304-4a97-ae99-cff56f3fde0d div.sk-estimator {font-family: monospace;background-color: #f0f8ff;margin: 0.25em 0.25em;border: 1px dotted black;border-radius: 0.25em;box-sizing: border-box;}#sk-66ec9d21-9304-4a97-ae99-cff56f3fde0d div.sk-estimator:hover {background-color: #d4ebff;}#sk-66ec9d21-9304-4a97-ae99-cff56f3fde0d div.sk-parallel-item::after {content: \"\";width: 100%;border-bottom: 1px solid gray;flex-grow: 1;}#sk-66ec9d21-9304-4a97-ae99-cff56f3fde0d div.sk-label:hover label.sk-toggleable__label {background-color: #d4ebff;}#sk-66ec9d21-9304-4a97-ae99-cff56f3fde0d div.sk-serial::before {content: \"\";position: absolute;border-left: 1px solid gray;box-sizing: border-box;top: 2em;bottom: 0;left: 50%;}#sk-66ec9d21-9304-4a97-ae99-cff56f3fde0d div.sk-serial {display: flex;flex-direction: column;align-items: center;background-color: white;}#sk-66ec9d21-9304-4a97-ae99-cff56f3fde0d div.sk-item {z-index: 1;}#sk-66ec9d21-9304-4a97-ae99-cff56f3fde0d div.sk-parallel {display: flex;align-items: stretch;justify-content: center;background-color: white;}#sk-66ec9d21-9304-4a97-ae99-cff56f3fde0d div.sk-parallel-item {display: flex;flex-direction: column;position: relative;background-color: white;}#sk-66ec9d21-9304-4a97-ae99-cff56f3fde0d div.sk-parallel-item:first-child::after {align-self: flex-end;width: 50%;}#sk-66ec9d21-9304-4a97-ae99-cff56f3fde0d div.sk-parallel-item:last-child::after {align-self: flex-start;width: 50%;}#sk-66ec9d21-9304-4a97-ae99-cff56f3fde0d div.sk-parallel-item:only-child::after {width: 0;}#sk-66ec9d21-9304-4a97-ae99-cff56f3fde0d div.sk-dashed-wrapped {border: 1px dashed gray;margin: 0.2em;box-sizing: border-box;padding-bottom: 0.1em;background-color: white;position: relative;}#sk-66ec9d21-9304-4a97-ae99-cff56f3fde0d div.sk-label label {font-family: monospace;font-weight: bold;background-color: white;display: inline-block;line-height: 1.2em;}#sk-66ec9d21-9304-4a97-ae99-cff56f3fde0d div.sk-label-container {position: relative;z-index: 2;text-align: center;}#sk-66ec9d21-9304-4a97-ae99-cff56f3fde0d div.sk-container {display: inline-block;position: relative;}</style><div id=\"sk-66ec9d21-9304-4a97-ae99-cff56f3fde0d\" class\"sk-top-container\"><div class=\"sk-container\"><div class=\"sk-item sk-dashed-wrapped\"><div class=\"sk-label-container\"><div class=\"sk-label sk-toggleable\"><input class=\"sk-toggleable__control sk-hidden--visually\" id=\"db1ede45-a343-4bfa-9a6a-7a5422dfce15\" type=\"checkbox\" ><label class=\"sk-toggleable__label\" for=\"db1ede45-a343-4bfa-9a6a-7a5422dfce15\">Pipeline</label><div class=\"sk-toggleable__content\"><pre>Pipeline(steps=[('preprocessor',\n",
       "                 ColumnTransformer(transformers=[('num',\n",
       "                                                  Pipeline(steps=[('imputer',\n",
       "                                                                   SimpleImputer(strategy='median')),\n",
       "                                                                  ('scaler',\n",
       "                                                                   StandardScaler())]),\n",
       "                                                  ['age', 'fare']),\n",
       "                                                 ('cat',\n",
       "                                                  Pipeline(steps=[('imputer',\n",
       "                                                                   SimpleImputer(strategy='most_frequent')),\n",
       "                                                                  ('ohe',\n",
       "                                                                   OneHotEncoder(handle_unknown='ignore'))]),\n",
       "                                                  ['embarked', 'sex',\n",
       "                                                   'pclass'])])),\n",
       "                ('classifier', DecisionTreeClassifier())])</pre></div></div></div><div class=\"sk-serial\"><div class=\"sk-item sk-dashed-wrapped\"><div class=\"sk-label-container\"><div class=\"sk-label sk-toggleable\"><input class=\"sk-toggleable__control sk-hidden--visually\" id=\"716a5ca1-3bd9-4fe1-a534-a1d16bd706d9\" type=\"checkbox\" ><label class=\"sk-toggleable__label\" for=\"716a5ca1-3bd9-4fe1-a534-a1d16bd706d9\">preprocessor: ColumnTransformer</label><div class=\"sk-toggleable__content\"><pre>ColumnTransformer(transformers=[('num',\n",
       "                                 Pipeline(steps=[('imputer',\n",
       "                                                  SimpleImputer(strategy='median')),\n",
       "                                                 ('scaler', StandardScaler())]),\n",
       "                                 ['age', 'fare']),\n",
       "                                ('cat',\n",
       "                                 Pipeline(steps=[('imputer',\n",
       "                                                  SimpleImputer(strategy='most_frequent')),\n",
       "                                                 ('ohe',\n",
       "                                                  OneHotEncoder(handle_unknown='ignore'))]),\n",
       "                                 ['embarked', 'sex', 'pclass'])])</pre></div></div></div><div class=\"sk-parallel\"><div class=\"sk-parallel-item\"><div class=\"sk-item\"><div class=\"sk-label-container\"><div class=\"sk-label sk-toggleable\"><input class=\"sk-toggleable__control sk-hidden--visually\" id=\"76143f3d-f8cf-4a0e-bfd3-05db587095f5\" type=\"checkbox\" ><label class=\"sk-toggleable__label\" for=\"76143f3d-f8cf-4a0e-bfd3-05db587095f5\">num</label><div class=\"sk-toggleable__content\"><pre>['age', 'fare']</pre></div></div></div><div class=\"sk-serial\"><div class=\"sk-item\"><div class=\"sk-serial\"><div class=\"sk-item\"><div class=\"sk-estimator sk-toggleable\"><input class=\"sk-toggleable__control sk-hidden--visually\" id=\"56dd51c8-c0d5-45fd-b978-5004d400d3f2\" type=\"checkbox\" ><label class=\"sk-toggleable__label\" for=\"56dd51c8-c0d5-45fd-b978-5004d400d3f2\">SimpleImputer</label><div class=\"sk-toggleable__content\"><pre>SimpleImputer(strategy='median')</pre></div></div></div><div class=\"sk-item\"><div class=\"sk-estimator sk-toggleable\"><input class=\"sk-toggleable__control sk-hidden--visually\" id=\"25421174-5262-4105-b113-9f5044146324\" type=\"checkbox\" ><label class=\"sk-toggleable__label\" for=\"25421174-5262-4105-b113-9f5044146324\">StandardScaler</label><div class=\"sk-toggleable__content\"><pre>StandardScaler()</pre></div></div></div></div></div></div></div></div><div class=\"sk-parallel-item\"><div class=\"sk-item\"><div class=\"sk-label-container\"><div class=\"sk-label sk-toggleable\"><input class=\"sk-toggleable__control sk-hidden--visually\" id=\"4831bc6a-fae9-471d-b34b-9ac0c2faf41b\" type=\"checkbox\" ><label class=\"sk-toggleable__label\" for=\"4831bc6a-fae9-471d-b34b-9ac0c2faf41b\">cat</label><div class=\"sk-toggleable__content\"><pre>['embarked', 'sex', 'pclass']</pre></div></div></div><div class=\"sk-serial\"><div class=\"sk-item\"><div class=\"sk-serial\"><div class=\"sk-item\"><div class=\"sk-estimator sk-toggleable\"><input class=\"sk-toggleable__control sk-hidden--visually\" id=\"d0bb67b1-dec2-4a48-8001-fcb64888bf08\" type=\"checkbox\" ><label class=\"sk-toggleable__label\" for=\"d0bb67b1-dec2-4a48-8001-fcb64888bf08\">SimpleImputer</label><div class=\"sk-toggleable__content\"><pre>SimpleImputer(strategy='most_frequent')</pre></div></div></div><div class=\"sk-item\"><div class=\"sk-estimator sk-toggleable\"><input class=\"sk-toggleable__control sk-hidden--visually\" id=\"d81d0edc-e2af-43c7-9c6e-77dd01ddb995\" type=\"checkbox\" ><label class=\"sk-toggleable__label\" for=\"d81d0edc-e2af-43c7-9c6e-77dd01ddb995\">OneHotEncoder</label><div class=\"sk-toggleable__content\"><pre>OneHotEncoder(handle_unknown='ignore')</pre></div></div></div></div></div></div></div></div></div></div><div class=\"sk-item\"><div class=\"sk-estimator sk-toggleable\"><input class=\"sk-toggleable__control sk-hidden--visually\" id=\"636efec4-f00e-43ea-975e-fa0e71a2e0c3\" type=\"checkbox\" ><label class=\"sk-toggleable__label\" for=\"636efec4-f00e-43ea-975e-fa0e71a2e0c3\">DecisionTreeClassifier</label><div class=\"sk-toggleable__content\"><pre>DecisionTreeClassifier()</pre></div></div></div></div></div></div></div>"
      ],
      "text/plain": [
       "Pipeline(steps=[('preprocessor',\n",
       "                 ColumnTransformer(transformers=[('num',\n",
       "                                                  Pipeline(steps=[('imputer',\n",
       "                                                                   SimpleImputer(strategy='median')),\n",
       "                                                                  ('scaler',\n",
       "                                                                   StandardScaler())]),\n",
       "                                                  ['age', 'fare']),\n",
       "                                                 ('cat',\n",
       "                                                  Pipeline(steps=[('imputer',\n",
       "                                                                   SimpleImputer(strategy='most_frequent')),\n",
       "                                                                  ('ohe',\n",
       "                                                                   OneHotEncoder(handle_unknown='ignore'))]),\n",
       "                                                  ['embarked', 'sex',\n",
       "                                                   'pclass'])])),\n",
       "                ('classifier', DecisionTreeClassifier())])"
      ]
     },
     "execution_count": 66,
     "metadata": {},
     "output_type": "execute_result"
    }
   ],
   "source": [
    "classifier"
   ]
  }
 ],
 "metadata": {
  "kernelspec": {
   "display_name": "Python 3 (ipykernel)",
   "language": "python",
   "name": "python3"
  },
  "language_info": {
   "codemirror_mode": {
    "name": "ipython",
    "version": 3
   },
   "file_extension": ".py",
   "mimetype": "text/x-python",
   "name": "python",
   "nbconvert_exporter": "python",
   "pygments_lexer": "ipython3",
   "version": "3.9.7"
  }
 },
 "nbformat": 4,
 "nbformat_minor": 4
}
