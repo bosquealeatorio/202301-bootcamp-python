{
 "cells": [
  {
   "cell_type": "markdown",
   "id": "2e29f720",
   "metadata": {},
   "source": [
    "# Python Inmersion Bootcamp - Basic Structures\n",
    "Manuel Montoya Gamio | Data Scientist"
   ]
  },
  {
   "cell_type": "code",
   "execution_count": 9,
   "id": "d8f2317a",
   "metadata": {},
   "outputs": [
    {
     "name": "stdout",
     "output_type": "stream",
     "text": [
      "The Zen of Python, by Tim Peters\n",
      "\n",
      "Beautiful is better than ugly.\n",
      "Explicit is better than implicit.\n",
      "Simple is better than complex.\n",
      "Complex is better than complicated.\n",
      "Flat is better than nested.\n",
      "Sparse is better than dense.\n",
      "Readability counts.\n",
      "Special cases aren't special enough to break the rules.\n",
      "Although practicality beats purity.\n",
      "Errors should never pass silently.\n",
      "Unless explicitly silenced.\n",
      "In the face of ambiguity, refuse the temptation to guess.\n",
      "There should be one-- and preferably only one --obvious way to do it.\n",
      "Although that way may not be obvious at first unless you're Dutch.\n",
      "Now is better than never.\n",
      "Although never is often better than *right* now.\n",
      "If the implementation is hard to explain, it's a bad idea.\n",
      "If the implementation is easy to explain, it may be a good idea.\n",
      "Namespaces are one honking great idea -- let's do more of those!\n"
     ]
    }
   ],
   "source": [
    "import this"
   ]
  },
  {
   "cell_type": "markdown",
   "id": "8bb9776d",
   "metadata": {},
   "source": [
    "# Strings"
   ]
  },
  {
   "cell_type": "code",
   "execution_count": 1,
   "id": "8f7f6740",
   "metadata": {},
   "outputs": [],
   "source": [
    "cadena = 'te felicito que bien actuas'"
   ]
  },
  {
   "cell_type": "code",
   "execution_count": 2,
   "id": "f1dc0b94",
   "metadata": {},
   "outputs": [
    {
     "data": {
      "text/plain": [
       "str"
      ]
     },
     "execution_count": 2,
     "metadata": {},
     "output_type": "execute_result"
    }
   ],
   "source": [
    "type(cadena)"
   ]
  },
  {
   "cell_type": "markdown",
   "id": "f9b83521",
   "metadata": {},
   "source": [
    "single, double, triple quotes"
   ]
  },
  {
   "cell_type": "code",
   "execution_count": 3,
   "id": "d0b524e3",
   "metadata": {},
   "outputs": [],
   "source": [
    "cadena2 = \"te felicito que bien actuas\""
   ]
  },
  {
   "cell_type": "code",
   "execution_count": 5,
   "id": "3cf46c18",
   "metadata": {},
   "outputs": [
    {
     "data": {
      "text/plain": [
       "'te felicito que bien actuas'"
      ]
     },
     "execution_count": 5,
     "metadata": {},
     "output_type": "execute_result"
    }
   ],
   "source": [
    "cadena"
   ]
  },
  {
   "cell_type": "code",
   "execution_count": 6,
   "id": "782b2051",
   "metadata": {},
   "outputs": [
    {
     "data": {
      "text/plain": [
       "'te felicito que bien actuas'"
      ]
     },
     "execution_count": 6,
     "metadata": {},
     "output_type": "execute_result"
    }
   ],
   "source": [
    "cadena2"
   ]
  },
  {
   "cell_type": "code",
   "execution_count": 10,
   "id": "3938e2a7",
   "metadata": {},
   "outputs": [
    {
     "data": {
      "text/plain": [
       "\"don't you want me\""
      ]
     },
     "execution_count": 10,
     "metadata": {},
     "output_type": "execute_result"
    }
   ],
   "source": [
    "cadena3 = \"don't you want me\"\n",
    "cadena3"
   ]
  },
  {
   "cell_type": "code",
   "execution_count": 11,
   "id": "aaab920f",
   "metadata": {},
   "outputs": [],
   "source": [
    "cadena4 = \"\"\"te felicito que bien actuas\"\"\""
   ]
  },
  {
   "cell_type": "code",
   "execution_count": 12,
   "id": "1c690270",
   "metadata": {},
   "outputs": [
    {
     "data": {
      "text/plain": [
       "'te felicito que bien actuas'"
      ]
     },
     "execution_count": 12,
     "metadata": {},
     "output_type": "execute_result"
    }
   ],
   "source": [
    "cadena4"
   ]
  },
  {
   "cell_type": "code",
   "execution_count": 13,
   "id": "90ad5e6d",
   "metadata": {},
   "outputs": [
    {
     "data": {
      "text/plain": [
       "True"
      ]
     },
     "execution_count": 13,
     "metadata": {},
     "output_type": "execute_result"
    }
   ],
   "source": [
    "cadena == cadena2"
   ]
  },
  {
   "cell_type": "code",
   "execution_count": 14,
   "id": "d86214b4",
   "metadata": {},
   "outputs": [
    {
     "data": {
      "text/plain": [
       "True"
      ]
     },
     "execution_count": 14,
     "metadata": {},
     "output_type": "execute_result"
    }
   ],
   "source": [
    "cadena == cadena4"
   ]
  },
  {
   "cell_type": "code",
   "execution_count": 15,
   "id": "14074d91",
   "metadata": {},
   "outputs": [],
   "source": [
    "cadena5 = \"\"\"\n",
    "te \n",
    "felicito\n",
    "que\n",
    "bien\n",
    "actuas\n",
    "\"\"\""
   ]
  },
  {
   "cell_type": "code",
   "execution_count": 16,
   "id": "145094eb",
   "metadata": {},
   "outputs": [
    {
     "data": {
      "text/plain": [
       "'\\nte \\nfelicito\\nque\\nbien\\nactuas\\n'"
      ]
     },
     "execution_count": 16,
     "metadata": {},
     "output_type": "execute_result"
    }
   ],
   "source": [
    "cadena5"
   ]
  },
  {
   "cell_type": "markdown",
   "id": "a2ee7429",
   "metadata": {},
   "source": [
    "concatenating"
   ]
  },
  {
   "cell_type": "code",
   "execution_count": 19,
   "id": "135e324f",
   "metadata": {},
   "outputs": [
    {
     "data": {
      "text/plain": [
       "\"don't you want me \\nte \\nfelicito\\nque\\nbien\\nactuas\\n\""
      ]
     },
     "execution_count": 19,
     "metadata": {},
     "output_type": "execute_result"
    }
   ],
   "source": [
    "cadena3 + ' ' + cadena5"
   ]
  },
  {
   "cell_type": "markdown",
   "id": "67c948df",
   "metadata": {},
   "source": [
    "multiplication (?)"
   ]
  },
  {
   "cell_type": "code",
   "execution_count": 20,
   "id": "584949d3",
   "metadata": {},
   "outputs": [
    {
     "data": {
      "text/plain": [
       "'ninjaninjaninjaninjaninja'"
      ]
     },
     "execution_count": 20,
     "metadata": {},
     "output_type": "execute_result"
    }
   ],
   "source": [
    "5 * 'ninja'"
   ]
  },
  {
   "cell_type": "code",
   "execution_count": 21,
   "id": "bd9c706c",
   "metadata": {},
   "outputs": [
    {
     "ename": "TypeError",
     "evalue": "can't multiply sequence by non-int of type 'str'",
     "output_type": "error",
     "traceback": [
      "\u001b[0;31m---------------------------------------------------------------------------\u001b[0m",
      "\u001b[0;31mTypeError\u001b[0m                                 Traceback (most recent call last)",
      "\u001b[0;32m/var/folders/m4/cywrtrdn0w70csynx5vlg40w0000gn/T/ipykernel_3280/2667353148.py\u001b[0m in \u001b[0;36m<module>\u001b[0;34m\u001b[0m\n\u001b[0;32m----> 1\u001b[0;31m \u001b[0;34m'5'\u001b[0m \u001b[0;34m*\u001b[0m \u001b[0;34m'ninja'\u001b[0m\u001b[0;34m\u001b[0m\u001b[0;34m\u001b[0m\u001b[0m\n\u001b[0m",
      "\u001b[0;31mTypeError\u001b[0m: can't multiply sequence by non-int of type 'str'"
     ]
    }
   ],
   "source": [
    "'5' * 'ninja'"
   ]
  },
  {
   "cell_type": "markdown",
   "id": "608d52b2",
   "metadata": {},
   "source": [
    "how long?"
   ]
  },
  {
   "cell_type": "code",
   "execution_count": 22,
   "id": "ee164625",
   "metadata": {},
   "outputs": [
    {
     "data": {
      "text/plain": [
       "'te felicito que bien actuas'"
      ]
     },
     "execution_count": 22,
     "metadata": {},
     "output_type": "execute_result"
    }
   ],
   "source": [
    "cadena"
   ]
  },
  {
   "cell_type": "code",
   "execution_count": 23,
   "id": "51565b70",
   "metadata": {},
   "outputs": [
    {
     "data": {
      "text/plain": [
       "27"
      ]
     },
     "execution_count": 23,
     "metadata": {},
     "output_type": "execute_result"
    }
   ],
   "source": [
    "len(cadena)"
   ]
  },
  {
   "cell_type": "markdown",
   "id": "2b283a9c",
   "metadata": {},
   "source": [
    "iterate over a string (?)"
   ]
  },
  {
   "cell_type": "code",
   "execution_count": 25,
   "id": "844b15d7",
   "metadata": {},
   "outputs": [
    {
     "name": "stdout",
     "output_type": "stream",
     "text": [
      "S\n",
      "q\n",
      "u\n",
      "i\n",
      "r\n",
      "t\n",
      "l\n",
      "e\n"
     ]
    }
   ],
   "source": [
    "word = \"Squirtle\"\n",
    "\n",
    "for char in word:\n",
    "    print(char)"
   ]
  },
  {
   "cell_type": "markdown",
   "id": "40ed6d49",
   "metadata": {},
   "source": [
    "indexing: positive and negative indexes"
   ]
  },
  {
   "cell_type": "code",
   "execution_count": 26,
   "id": "d4b4a0da",
   "metadata": {},
   "outputs": [
    {
     "data": {
      "text/plain": [
       "'Squirtle'"
      ]
     },
     "execution_count": 26,
     "metadata": {},
     "output_type": "execute_result"
    }
   ],
   "source": [
    "word"
   ]
  },
  {
   "cell_type": "code",
   "execution_count": 27,
   "id": "3134d155",
   "metadata": {},
   "outputs": [
    {
     "data": {
      "text/plain": [
       "'i'"
      ]
     },
     "execution_count": 27,
     "metadata": {},
     "output_type": "execute_result"
    }
   ],
   "source": [
    "word[3]"
   ]
  },
  {
   "cell_type": "code",
   "execution_count": 28,
   "id": "ad50663e",
   "metadata": {},
   "outputs": [
    {
     "data": {
      "text/plain": [
       "'e'"
      ]
     },
     "execution_count": 28,
     "metadata": {},
     "output_type": "execute_result"
    }
   ],
   "source": [
    "word[7]"
   ]
  },
  {
   "cell_type": "code",
   "execution_count": 29,
   "id": "b5ccf375",
   "metadata": {},
   "outputs": [
    {
     "data": {
      "text/plain": [
       "'e'"
      ]
     },
     "execution_count": 29,
     "metadata": {},
     "output_type": "execute_result"
    }
   ],
   "source": [
    "word[-1]"
   ]
  },
  {
   "cell_type": "code",
   "execution_count": 30,
   "id": "70ab97d1",
   "metadata": {},
   "outputs": [
    {
     "data": {
      "text/plain": [
       "'l'"
      ]
     },
     "execution_count": 30,
     "metadata": {},
     "output_type": "execute_result"
    }
   ],
   "source": [
    "word[-2]"
   ]
  },
  {
   "cell_type": "code",
   "execution_count": 35,
   "id": "a5766fd4",
   "metadata": {},
   "outputs": [
    {
     "data": {
      "text/plain": [
       "8"
      ]
     },
     "execution_count": 35,
     "metadata": {},
     "output_type": "execute_result"
    }
   ],
   "source": [
    "len(word)"
   ]
  },
  {
   "cell_type": "code",
   "execution_count": 36,
   "id": "0f134263",
   "metadata": {},
   "outputs": [
    {
     "ename": "IndexError",
     "evalue": "string index out of range",
     "output_type": "error",
     "traceback": [
      "\u001b[0;31m---------------------------------------------------------------------------\u001b[0m",
      "\u001b[0;31mIndexError\u001b[0m                                Traceback (most recent call last)",
      "\u001b[0;32m/var/folders/m4/cywrtrdn0w70csynx5vlg40w0000gn/T/ipykernel_3280/2393027609.py\u001b[0m in \u001b[0;36m<module>\u001b[0;34m\u001b[0m\n\u001b[0;32m----> 1\u001b[0;31m \u001b[0mword\u001b[0m\u001b[0;34m[\u001b[0m\u001b[0;36m20\u001b[0m\u001b[0;34m]\u001b[0m\u001b[0;34m\u001b[0m\u001b[0;34m\u001b[0m\u001b[0m\n\u001b[0m",
      "\u001b[0;31mIndexError\u001b[0m: string index out of range"
     ]
    }
   ],
   "source": [
    "word[20]"
   ]
  },
  {
   "cell_type": "markdown",
   "id": "2f4fae3d",
   "metadata": {},
   "source": [
    "slicing"
   ]
  },
  {
   "cell_type": "code",
   "execution_count": 39,
   "id": "3782a6c1",
   "metadata": {},
   "outputs": [
    {
     "data": {
      "text/plain": [
       "'Squirtle'"
      ]
     },
     "execution_count": 39,
     "metadata": {},
     "output_type": "execute_result"
    }
   ],
   "source": [
    "word"
   ]
  },
  {
   "cell_type": "code",
   "execution_count": 31,
   "id": "abbc2ff6",
   "metadata": {},
   "outputs": [
    {
     "data": {
      "text/plain": [
       "'uir'"
      ]
     },
     "execution_count": 31,
     "metadata": {},
     "output_type": "execute_result"
    }
   ],
   "source": [
    "word[2:5]"
   ]
  },
  {
   "cell_type": "code",
   "execution_count": 33,
   "id": "30fc304e",
   "metadata": {},
   "outputs": [
    {
     "data": {
      "text/plain": [
       "[3, 4, 5, 6, 7, 8, 9]"
      ]
     },
     "execution_count": 33,
     "metadata": {},
     "output_type": "execute_result"
    }
   ],
   "source": [
    "list(range(3,10))"
   ]
  },
  {
   "cell_type": "code",
   "execution_count": 34,
   "id": "47dde29b",
   "metadata": {},
   "outputs": [
    {
     "data": {
      "text/plain": [
       "'uirt'"
      ]
     },
     "execution_count": 34,
     "metadata": {},
     "output_type": "execute_result"
    }
   ],
   "source": [
    "word[2:6]"
   ]
  },
  {
   "cell_type": "code",
   "execution_count": 37,
   "id": "6bb2da0c",
   "metadata": {},
   "outputs": [
    {
     "data": {
      "text/plain": [
       "'uirtle'"
      ]
     },
     "execution_count": 37,
     "metadata": {},
     "output_type": "execute_result"
    }
   ],
   "source": [
    "word[2:20]"
   ]
  },
  {
   "cell_type": "code",
   "execution_count": 38,
   "id": "79de782f",
   "metadata": {},
   "outputs": [
    {
     "data": {
      "text/plain": [
       "''"
      ]
     },
     "execution_count": 38,
     "metadata": {},
     "output_type": "execute_result"
    }
   ],
   "source": [
    "word[20:50]"
   ]
  },
  {
   "cell_type": "markdown",
   "id": "ce1f50d1",
   "metadata": {},
   "source": [
    "inmutability"
   ]
  },
  {
   "cell_type": "code",
   "execution_count": 46,
   "id": "e3e606d7",
   "metadata": {},
   "outputs": [],
   "source": [
    "#fix this\n",
    "long_string = \"a kong string with a silly typo\""
   ]
  },
  {
   "cell_type": "code",
   "execution_count": 47,
   "id": "5d79c334",
   "metadata": {},
   "outputs": [
    {
     "data": {
      "text/plain": [
       "'k'"
      ]
     },
     "execution_count": 47,
     "metadata": {},
     "output_type": "execute_result"
    }
   ],
   "source": [
    "long_string[2]"
   ]
  },
  {
   "cell_type": "code",
   "execution_count": 48,
   "id": "82df57bb",
   "metadata": {},
   "outputs": [
    {
     "ename": "TypeError",
     "evalue": "'str' object does not support item assignment",
     "output_type": "error",
     "traceback": [
      "\u001b[0;31m---------------------------------------------------------------------------\u001b[0m",
      "\u001b[0;31mTypeError\u001b[0m                                 Traceback (most recent call last)",
      "\u001b[0;32m/var/folders/m4/cywrtrdn0w70csynx5vlg40w0000gn/T/ipykernel_3280/1209508184.py\u001b[0m in \u001b[0;36m<module>\u001b[0;34m\u001b[0m\n\u001b[0;32m----> 1\u001b[0;31m \u001b[0mlong_string\u001b[0m\u001b[0;34m[\u001b[0m\u001b[0;36m2\u001b[0m\u001b[0;34m]\u001b[0m \u001b[0;34m=\u001b[0m \u001b[0;34m'l'\u001b[0m\u001b[0;34m\u001b[0m\u001b[0;34m\u001b[0m\u001b[0m\n\u001b[0m",
      "\u001b[0;31mTypeError\u001b[0m: 'str' object does not support item assignment"
     ]
    }
   ],
   "source": [
    "long_string[2] = 'l'"
   ]
  },
  {
   "cell_type": "code",
   "execution_count": 54,
   "id": "dd155084",
   "metadata": {},
   "outputs": [
    {
     "data": {
      "text/plain": [
       "'a long string with a silly typo'"
      ]
     },
     "execution_count": 54,
     "metadata": {},
     "output_type": "execute_result"
    }
   ],
   "source": [
    "long_string[:2] + 'l' +long_string[3:]"
   ]
  },
  {
   "cell_type": "markdown",
   "id": "e79cb05f",
   "metadata": {},
   "source": [
    "`start:end:step`"
   ]
  },
  {
   "cell_type": "code",
   "execution_count": 56,
   "id": "b41c3bb1",
   "metadata": {},
   "outputs": [
    {
     "name": "stdout",
     "output_type": "stream",
     "text": [
      "10 17 24 31 38 45 52 59 66 73 80 87 94 "
     ]
    }
   ],
   "source": [
    "for number in range(10, 100, 7):\n",
    "    print(number, end = \" \")"
   ]
  },
  {
   "cell_type": "code",
   "execution_count": 62,
   "id": "1b7d6ba2",
   "metadata": {},
   "outputs": [
    {
     "data": {
      "text/plain": [
       "'a kong string with a silly typo'"
      ]
     },
     "execution_count": 62,
     "metadata": {},
     "output_type": "execute_result"
    }
   ],
   "source": [
    "long_string"
   ]
  },
  {
   "cell_type": "code",
   "execution_count": 68,
   "id": "6bb2a2fb",
   "metadata": {},
   "outputs": [
    {
     "data": {
      "text/plain": [
       "'g string with a silly typ'"
      ]
     },
     "execution_count": 68,
     "metadata": {},
     "output_type": "execute_result"
    }
   ],
   "source": [
    "long_string[5:30]"
   ]
  },
  {
   "cell_type": "code",
   "execution_count": 67,
   "id": "51565466",
   "metadata": {},
   "outputs": [
    {
     "data": {
      "text/plain": [
       "'gr hsyp'"
      ]
     },
     "execution_count": 67,
     "metadata": {},
     "output_type": "execute_result"
    }
   ],
   "source": [
    "long_string[5:30:4]"
   ]
  },
  {
   "cell_type": "code",
   "execution_count": 69,
   "id": "e6dac45a",
   "metadata": {},
   "outputs": [
    {
     "data": {
      "text/plain": [
       "'opyt yllis a htiw gnirts '"
      ]
     },
     "execution_count": 69,
     "metadata": {},
     "output_type": "execute_result"
    }
   ],
   "source": [
    "long_string[30:5:-1]"
   ]
  },
  {
   "cell_type": "code",
   "execution_count": 70,
   "id": "15cbe18c",
   "metadata": {},
   "outputs": [
    {
     "data": {
      "text/plain": [
       "'silly typo'"
      ]
     },
     "execution_count": 70,
     "metadata": {},
     "output_type": "execute_result"
    }
   ],
   "source": [
    "long_string[-10:]"
   ]
  },
  {
   "cell_type": "markdown",
   "id": "35347e76",
   "metadata": {},
   "source": [
    "index"
   ]
  },
  {
   "cell_type": "code",
   "execution_count": 71,
   "id": "1744326b",
   "metadata": {},
   "outputs": [],
   "source": [
    "long_string = \"a long string with a silly typo\""
   ]
  },
  {
   "cell_type": "code",
   "execution_count": 72,
   "id": "a94f33fb",
   "metadata": {},
   "outputs": [
    {
     "data": {
      "text/plain": [
       "7"
      ]
     },
     "execution_count": 72,
     "metadata": {},
     "output_type": "execute_result"
    }
   ],
   "source": [
    "long_string.index('s')"
   ]
  },
  {
   "cell_type": "code",
   "execution_count": 73,
   "id": "e4f27af1",
   "metadata": {},
   "outputs": [
    {
     "data": {
      "text/plain": [
       "14"
      ]
     },
     "execution_count": 73,
     "metadata": {},
     "output_type": "execute_result"
    }
   ],
   "source": [
    "long_string.index('with')"
   ]
  },
  {
   "cell_type": "code",
   "execution_count": 74,
   "id": "8b16668d",
   "metadata": {},
   "outputs": [
    {
     "data": {
      "text/plain": [
       "21"
      ]
     },
     "execution_count": 74,
     "metadata": {},
     "output_type": "execute_result"
    }
   ],
   "source": [
    "#find the index of x\n",
    "poppins = \"supercalifragilisticexpialidocious\"\n",
    "poppins.index('x')"
   ]
  },
  {
   "cell_type": "code",
   "execution_count": 75,
   "id": "17706ef8",
   "metadata": {},
   "outputs": [
    {
     "ename": "ValueError",
     "evalue": "substring not found",
     "output_type": "error",
     "traceback": [
      "\u001b[0;31m---------------------------------------------------------------------------\u001b[0m",
      "\u001b[0;31mValueError\u001b[0m                                Traceback (most recent call last)",
      "\u001b[0;32m/var/folders/m4/cywrtrdn0w70csynx5vlg40w0000gn/T/ipykernel_3280/1060082091.py\u001b[0m in \u001b[0;36m<module>\u001b[0;34m\u001b[0m\n\u001b[0;32m----> 1\u001b[0;31m \u001b[0mpoppins\u001b[0m\u001b[0;34m.\u001b[0m\u001b[0mindex\u001b[0m\u001b[0;34m(\u001b[0m\u001b[0;34m'5'\u001b[0m\u001b[0;34m)\u001b[0m\u001b[0;34m\u001b[0m\u001b[0;34m\u001b[0m\u001b[0m\n\u001b[0m",
      "\u001b[0;31mValueError\u001b[0m: substring not found"
     ]
    }
   ],
   "source": [
    "poppins.index('5')"
   ]
  },
  {
   "cell_type": "markdown",
   "id": "6ec559be",
   "metadata": {},
   "source": [
    "in"
   ]
  },
  {
   "cell_type": "code",
   "execution_count": 76,
   "id": "7198dbf7",
   "metadata": {},
   "outputs": [
    {
     "data": {
      "text/plain": [
       "True"
      ]
     },
     "execution_count": 76,
     "metadata": {},
     "output_type": "execute_result"
    }
   ],
   "source": [
    "'x' in poppins"
   ]
  },
  {
   "cell_type": "code",
   "execution_count": 77,
   "id": "ec8d68ae",
   "metadata": {},
   "outputs": [
    {
     "data": {
      "text/plain": [
       "False"
      ]
     },
     "execution_count": 77,
     "metadata": {},
     "output_type": "execute_result"
    }
   ],
   "source": [
    "'5' in poppins"
   ]
  },
  {
   "cell_type": "code",
   "execution_count": 82,
   "id": "f699a313",
   "metadata": {},
   "outputs": [
    {
     "name": "stdout",
     "output_type": "stream",
     "text": [
      "Character is not in the word\n"
     ]
    }
   ],
   "source": [
    "character = '5'\n",
    "\n",
    "if character in poppins:\n",
    "    \n",
    "    print('Character ' + character + ' is at index ' + str(poppins.index(character)))\n",
    "    \n",
    "else:\n",
    "    \n",
    "    print('Character is not in the word')"
   ]
  },
  {
   "cell_type": "markdown",
   "id": "bd4f788f",
   "metadata": {},
   "source": [
    "methods\n",
    "\n",
    "* upper, lower\n",
    "* strip\n",
    "* count\n",
    "* startswith, endswith\n",
    "* isnumeric\n",
    "* split, join\n",
    "\n",
    "String methods: https://www.w3schools.com/python/python_ref_string.asp"
   ]
  },
  {
   "cell_type": "code",
   "execution_count": 83,
   "id": "011a66f3",
   "metadata": {},
   "outputs": [],
   "source": [
    "cadena = \"moulin rouge\""
   ]
  },
  {
   "cell_type": "code",
   "execution_count": 85,
   "id": "69672ad4",
   "metadata": {},
   "outputs": [
    {
     "data": {
      "text/plain": [
       "'MOULIN ROUGE'"
      ]
     },
     "execution_count": 85,
     "metadata": {},
     "output_type": "execute_result"
    }
   ],
   "source": [
    "cadena.upper()"
   ]
  },
  {
   "cell_type": "code",
   "execution_count": 87,
   "id": "7eeccdb4",
   "metadata": {},
   "outputs": [
    {
     "data": {
      "text/plain": [
       "'Moulin rouge'"
      ]
     },
     "execution_count": 87,
     "metadata": {},
     "output_type": "execute_result"
    }
   ],
   "source": [
    "cadena.capitalize()"
   ]
  },
  {
   "cell_type": "code",
   "execution_count": 88,
   "id": "6caaa32b",
   "metadata": {},
   "outputs": [],
   "source": [
    "cadena2 = \"GAAAAAAAAA\""
   ]
  },
  {
   "cell_type": "code",
   "execution_count": 89,
   "id": "b648523d",
   "metadata": {},
   "outputs": [
    {
     "data": {
      "text/plain": [
       "'gaaaaaaaaa'"
      ]
     },
     "execution_count": 89,
     "metadata": {},
     "output_type": "execute_result"
    }
   ],
   "source": [
    "cadena2.lower()"
   ]
  },
  {
   "cell_type": "code",
   "execution_count": 90,
   "id": "d38329c0",
   "metadata": {},
   "outputs": [],
   "source": [
    "cadena = \"   this is a   string with extra   spaces    \""
   ]
  },
  {
   "cell_type": "code",
   "execution_count": 91,
   "id": "606ba10b",
   "metadata": {},
   "outputs": [
    {
     "data": {
      "text/plain": [
       "'this is a   string with extra   spaces'"
      ]
     },
     "execution_count": 91,
     "metadata": {},
     "output_type": "execute_result"
    }
   ],
   "source": [
    "cadena.strip()"
   ]
  },
  {
   "cell_type": "code",
   "execution_count": 92,
   "id": "42231fb5",
   "metadata": {},
   "outputs": [
    {
     "data": {
      "text/plain": [
       "'this is a   string with extra   spaces    '"
      ]
     },
     "execution_count": 92,
     "metadata": {},
     "output_type": "execute_result"
    }
   ],
   "source": [
    "cadena.lstrip()"
   ]
  },
  {
   "cell_type": "code",
   "execution_count": 93,
   "id": "493e96cd",
   "metadata": {},
   "outputs": [
    {
     "data": {
      "text/plain": [
       "'   this is a   string with extra   spaces'"
      ]
     },
     "execution_count": 93,
     "metadata": {},
     "output_type": "execute_result"
    }
   ],
   "source": [
    "cadena.rstrip()"
   ]
  },
  {
   "cell_type": "code",
   "execution_count": 94,
   "id": "d32cc98a",
   "metadata": {},
   "outputs": [
    {
     "data": {
      "text/plain": [
       "['this', 'is', 'a', 'string', 'with', 'extra', 'spaces']"
      ]
     },
     "execution_count": 94,
     "metadata": {},
     "output_type": "execute_result"
    }
   ],
   "source": [
    "cadena.split()"
   ]
  },
  {
   "cell_type": "code",
   "execution_count": 95,
   "id": "6c8a6d53",
   "metadata": {},
   "outputs": [
    {
     "data": {
      "text/plain": [
       "'this is a string with extra spaces'"
      ]
     },
     "execution_count": 95,
     "metadata": {},
     "output_type": "execute_result"
    }
   ],
   "source": [
    "\" \".join(cadena.split())"
   ]
  },
  {
   "cell_type": "code",
   "execution_count": 96,
   "id": "a21a10fc",
   "metadata": {},
   "outputs": [
    {
     "data": {
      "text/plain": [
       "'this,is,a,string,with,extra,spaces'"
      ]
     },
     "execution_count": 96,
     "metadata": {},
     "output_type": "execute_result"
    }
   ],
   "source": [
    "\",\".join(cadena.split())"
   ]
  },
  {
   "cell_type": "code",
   "execution_count": 97,
   "id": "754647fb",
   "metadata": {},
   "outputs": [
    {
     "data": {
      "text/plain": [
       "'this --> is --> a --> string --> with --> extra --> spaces'"
      ]
     },
     "execution_count": 97,
     "metadata": {},
     "output_type": "execute_result"
    }
   ],
   "source": [
    "\" --> \".join(cadena.split())"
   ]
  },
  {
   "cell_type": "code",
   "execution_count": 98,
   "id": "89fb5940",
   "metadata": {},
   "outputs": [
    {
     "data": {
      "text/plain": [
       "True"
      ]
     },
     "execution_count": 98,
     "metadata": {},
     "output_type": "execute_result"
    }
   ],
   "source": [
    "'palabra'.isalpha()"
   ]
  },
  {
   "cell_type": "code",
   "execution_count": 99,
   "id": "096853a8",
   "metadata": {},
   "outputs": [
    {
     "data": {
      "text/plain": [
       "False"
      ]
     },
     "execution_count": 99,
     "metadata": {},
     "output_type": "execute_result"
    }
   ],
   "source": [
    "'punto 40'.isalpha()"
   ]
  },
  {
   "cell_type": "code",
   "execution_count": 102,
   "id": "35af93b3",
   "metadata": {},
   "outputs": [
    {
     "data": {
      "text/plain": [
       "True"
      ]
     },
     "execution_count": 102,
     "metadata": {},
     "output_type": "execute_result"
    }
   ],
   "source": [
    "'142563'.isnumeric()"
   ]
  },
  {
   "cell_type": "code",
   "execution_count": 103,
   "id": "32a74482",
   "metadata": {},
   "outputs": [],
   "source": [
    "cadena = \"moulin rouge\""
   ]
  },
  {
   "cell_type": "code",
   "execution_count": 104,
   "id": "1afb8c65",
   "metadata": {},
   "outputs": [
    {
     "data": {
      "text/plain": [
       "True"
      ]
     },
     "execution_count": 104,
     "metadata": {},
     "output_type": "execute_result"
    }
   ],
   "source": [
    "cadena.startswith(\"m\")"
   ]
  },
  {
   "cell_type": "code",
   "execution_count": 106,
   "id": "d247101a",
   "metadata": {},
   "outputs": [
    {
     "data": {
      "text/plain": [
       "False"
      ]
     },
     "execution_count": 106,
     "metadata": {},
     "output_type": "execute_result"
    }
   ],
   "source": [
    "cadena.startswith('M')"
   ]
  },
  {
   "cell_type": "code",
   "execution_count": 107,
   "id": "1dcae730",
   "metadata": {},
   "outputs": [
    {
     "data": {
      "text/plain": [
       "True"
      ]
     },
     "execution_count": 107,
     "metadata": {},
     "output_type": "execute_result"
    }
   ],
   "source": [
    "cadena.endswith('e')"
   ]
  },
  {
   "cell_type": "markdown",
   "id": "dd1854ea",
   "metadata": {},
   "source": [
    "f strings"
   ]
  },
  {
   "cell_type": "code",
   "execution_count": 110,
   "id": "19221ced",
   "metadata": {},
   "outputs": [
    {
     "name": "stdout",
     "output_type": "stream",
     "text": [
      "La distancia del viaje es 72 kilometros\n"
     ]
    }
   ],
   "source": [
    "km = 72\n",
    "\n",
    "print('La distancia del viaje es ' + str(km) + ' kilometros')"
   ]
  },
  {
   "cell_type": "code",
   "execution_count": 111,
   "id": "cb0f7f84",
   "metadata": {},
   "outputs": [
    {
     "name": "stdout",
     "output_type": "stream",
     "text": [
      "La distancia del viaje es 72 kilometros\n"
     ]
    }
   ],
   "source": [
    "print(f'La distancia del viaje es {km} kilometros')"
   ]
  },
  {
   "cell_type": "code",
   "execution_count": 112,
   "id": "1164c89e",
   "metadata": {},
   "outputs": [
    {
     "name": "stdout",
     "output_type": "stream",
     "text": [
      "La distancia del viaje ida y vuelta es 144 kilometros\n"
     ]
    }
   ],
   "source": [
    "print(f'La distancia del viaje ida y vuelta es {2*km} kilometros')"
   ]
  },
  {
   "cell_type": "code",
   "execution_count": 113,
   "id": "fa86cfe7",
   "metadata": {},
   "outputs": [
    {
     "name": "stdout",
     "output_type": "stream",
     "text": [
      "La distancia del viaje a Cuzco es 72 kilometros\n"
     ]
    }
   ],
   "source": [
    "ciudad = 'Cuzco'\n",
    "\n",
    "print(f'La distancia del viaje a {ciudad} es {km} kilometros')"
   ]
  },
  {
   "cell_type": "code",
   "execution_count": 114,
   "id": "3987ad6a",
   "metadata": {},
   "outputs": [
    {
     "name": "stdout",
     "output_type": "stream",
     "text": [
      "La distancia del viaje a Cuzco es 72 kilometros\n"
     ]
    }
   ],
   "source": [
    "print('La distancia del viaje a {} es {} kilometros'.format(ciudad, km))"
   ]
  },
  {
   "cell_type": "markdown",
   "id": "7c1b99b8",
   "metadata": {},
   "source": [
    "f string formatting"
   ]
  },
  {
   "cell_type": "code",
   "execution_count": 124,
   "id": "39447b8a",
   "metadata": {},
   "outputs": [
    {
     "name": "stdout",
     "output_type": "stream",
     "text": [
      "El precio es      12.12\n"
     ]
    }
   ],
   "source": [
    "precio = 12.1231231\n",
    "\n",
    "print(f'El precio es {precio:10.2f}')"
   ]
  },
  {
   "cell_type": "markdown",
   "id": "b424b076",
   "metadata": {},
   "source": [
    "## Exercises"
   ]
  },
  {
   "cell_type": "markdown",
   "id": "dfa01221",
   "metadata": {},
   "source": [
    "Write a function that checks if a string is palindrome"
   ]
  },
  {
   "cell_type": "code",
   "execution_count": 9,
   "id": "8eb4a6e1",
   "metadata": {},
   "outputs": [
    {
     "name": "stdout",
     "output_type": "stream",
     "text": [
      "True\n",
      "True\n",
      "False\n"
     ]
    }
   ],
   "source": [
    "#hint: you can reverse a string and check if the reversed string is the same as the original one\n",
    "def is_palindrome(input_string):\n",
    "    \n",
    "    input_string = input_string.lower()\n",
    "    input_string = ''.join([char for char in input_string if char.isalpha()])\n",
    "    \n",
    "    return input_string == input_string[::-1]\n",
    "\n",
    "\n",
    "#should return True\n",
    "print(is_palindrome(\"kayak\"))\n",
    "\n",
    "#should return True\n",
    "print(is_palindrome(\"Never Odd or Even\"))\n",
    "\n",
    "#should return False\n",
    "print(is_palindrome(\"Never say never\"))"
   ]
  },
  {
   "cell_type": "markdown",
   "id": "2ebe4c28",
   "metadata": {},
   "source": [
    "Write a function that replaces the old domain of input emails for a new one. If the email does not belong to the old domain, the function should not modify it"
   ]
  },
  {
   "cell_type": "code",
   "execution_count": 11,
   "id": "8f2086e5",
   "metadata": {},
   "outputs": [
    {
     "name": "stdout",
     "output_type": "stream",
     "text": [
      "pikachu@pokemon.pe\n",
      "pikachu@breit.com\n"
     ]
    }
   ],
   "source": [
    "def replace_domain(email, old_domain, new_domain):\n",
    "\n",
    "    if old_domain in email:\n",
    "        return email.replace(old_domain, new_domain)\n",
    "    \n",
    "    return email\n",
    "    \n",
    "    \n",
    "    \n",
    "#should return 'pikachu@pokemon.pe'    \n",
    "print(replace_domain('pikachu@pokemon.com', 'pokemon.com', 'pokemon.pe'))\n",
    "\n",
    "\n",
    "#should return 'pikachu@breit.com'    \n",
    "print(replace_domain('pikachu@breit.com', 'pokemon.com', 'pokemon.edu'))"
   ]
  },
  {
   "cell_type": "markdown",
   "id": "e81f0284",
   "metadata": {},
   "source": [
    "Complete the function so it prints the output in the correct format"
   ]
  },
  {
   "cell_type": "code",
   "execution_count": 14,
   "id": "b64024ab",
   "metadata": {},
   "outputs": [
    {
     "name": "stdout",
     "output_type": "stream",
     "text": [
      "12 miles equals 19.2 km\n",
      "5.5 miles equals 8.8 km\n",
      "11 miles equals 17.6 km\n"
     ]
    }
   ],
   "source": [
    "def convert_distance(miles):\n",
    "    km = miles * 1.6\n",
    "    \n",
    "    return f\"{miles} miles equals {km:.1f} km\"\n",
    "\n",
    "\n",
    "print(convert_distance(12)) # Should be: 12 miles equals 19.2 km\n",
    "print(convert_distance(5.5)) # Should be: 5.5 miles equals 8.8 km\n",
    "print(convert_distance(11)) # Should be: 11 miles equals 17.6 km"
   ]
  },
  {
   "cell_type": "markdown",
   "id": "982320b9",
   "metadata": {},
   "source": [
    "Write a function that prints the nametag of the first and last name parameters"
   ]
  },
  {
   "cell_type": "code",
   "execution_count": 16,
   "id": "fccedbb3",
   "metadata": {},
   "outputs": [
    {
     "name": "stdout",
     "output_type": "stream",
     "text": [
      "Jane S.\n",
      "Francesco R.\n",
      "Jean-Luc G.\n"
     ]
    }
   ],
   "source": [
    "def nametag(first_name, last_name):\n",
    "    \n",
    "    return f\"{first_name} {last_name[0]}.\"\n",
    "\n",
    "# Should display \"Jane S.\" \n",
    "print(nametag(\"Jane\", \"Smith\")) \n",
    "\n",
    "# Should display \"Francesco R.\" \n",
    "print(nametag(\"Francesco\", \"Rinaldi\")) \n",
    "\n",
    "# Should display \"Jean-Luc G.\" \n",
    "print(nametag(\"Jean-Luc\", \"Grand-Pierre\")) "
   ]
  },
  {
   "cell_type": "markdown",
   "id": "b541aea6",
   "metadata": {},
   "source": [
    "Solve the minion game: https://www.hackerrank.com/challenges/the-minion-game/problem?isFullScreen=true"
   ]
  },
  {
   "cell_type": "markdown",
   "id": "52863b66",
   "metadata": {},
   "source": [
    "Kevin and Stuart want to play the 'The Minion Game'.\n",
    "\n",
    "*Game Rules*\n",
    "* Both players are given the same string.\n",
    "* Both players have to make substrings using the letters of the string .\n",
    "* Stuart has to make words starting with consonants.\n",
    "* Kevin has to make words starting with vowels. \n",
    "* The game ends when both players have made all possible substrings. \n",
    "\n",
    "*Scoring*\n",
    "* A player gets +1 point for each occurrence of the substring in the string .\n",
    "\n",
    "<img src = 'https://s3.amazonaws.com/hr-challenge-images/9693/1450330231-04db904008-banana.png'>"
   ]
  },
  {
   "cell_type": "code",
   "execution_count": 7,
   "id": "7341dce2",
   "metadata": {},
   "outputs": [],
   "source": [
    "def minion_game(word):\n",
    "    \n",
    "    word = word.lower()\n",
    "    len_word = len(word)\n",
    "    \n",
    "    vowels = 'aeiou'\n",
    "    \n",
    "    stuart = 0\n",
    "    kevin = 0\n",
    "    \n",
    "    for index, char in enumerate(word):\n",
    "        \n",
    "        if char in vowels:\n",
    "            \n",
    "            kevin += len_word - index\n",
    "            \n",
    "        else:\n",
    "            \n",
    "            stuart += len_word - index\n",
    "            \n",
    "            \n",
    "    print(stuart, kevin)\n",
    "        "
   ]
  },
  {
   "cell_type": "code",
   "execution_count": 9,
   "id": "1b8bf465",
   "metadata": {},
   "outputs": [
    {
     "name": "stdout",
     "output_type": "stream",
     "text": [
      "Stuart 90\n"
     ]
    }
   ],
   "source": [
    "def minion_game(word):\n",
    "    \n",
    "    vowels = 'aeiou'\n",
    "    \n",
    "    #number of possible words for each\n",
    "    kevin = 0\n",
    "    stuart = 0\n",
    "    \n",
    "    word = word.lower()\n",
    "    \n",
    "    for index, char in enumerate(word):\n",
    "        \n",
    "        #kevin\n",
    "        if char in vowels:\n",
    "            kevin += len(word) - index            \n",
    "        else:\n",
    "            stuart += len(word) - index\n",
    "            \n",
    "    if kevin > stuart:\n",
    "        print(f'Kevin {kevin}')\n",
    "    elif stuart > kevin:\n",
    "        print(f'Stuart {stuart}')\n",
    "    else:\n",
    "        print('Draw')\n",
    "        \n",
    "minion_game('BANANABANANABANANA')"
   ]
  },
  {
   "cell_type": "markdown",
   "id": "f22e75b6",
   "metadata": {},
   "source": [
    "## Challenge"
   ]
  },
  {
   "cell_type": "markdown",
   "id": "b641ee6c",
   "metadata": {},
   "source": [
    "Translate the enigma"
   ]
  },
  {
   "cell_type": "markdown",
   "id": "422e6af1",
   "metadata": {},
   "source": [
    "g fmnc wms bgblr rpylqjyrc gr zw fylb. rfyrq ufyr amknsrcpq ypc dmp. bmgle gr gl zw fylb gq glcddgagclr ylb rfyr'q ufw rfgq rcvr gq qm jmle"
   ]
  },
  {
   "cell_type": "markdown",
   "id": "1c3f4340",
   "metadata": {},
   "source": [
    "<img src='http://www.pythonchallenge.com/pc/def/map.jpg' width = 400 align='left'>"
   ]
  },
  {
   "cell_type": "code",
   "execution_count": 17,
   "id": "11c84e1a",
   "metadata": {},
   "outputs": [],
   "source": [
    "enigma = \"map\""
   ]
  },
  {
   "cell_type": "code",
   "execution_count": 18,
   "id": "f2daeabd",
   "metadata": {},
   "outputs": [
    {
     "name": "stdout",
     "output_type": "stream",
     "text": [
      "ocr\n"
     ]
    }
   ],
   "source": [
    "import string\n",
    "chars = string.ascii_lowercase\n",
    "translation = ''\n",
    "\n",
    "for char in enigma:\n",
    "    \n",
    "    if char.isalpha():\n",
    "        \n",
    "        new_index = chars.index(char) + 2\n",
    "        \n",
    "        try:\n",
    "            translation += chars[new_index]    \n",
    "        except:\n",
    "            translation += chars[new_index - len(chars)]\n",
    "            \n",
    "    else:\n",
    "        \n",
    "        translation += char\n",
    "            \n",
    "print(translation)"
   ]
  },
  {
   "cell_type": "markdown",
   "id": "aa06d9a6",
   "metadata": {},
   "source": [
    "# Lists"
   ]
  },
  {
   "cell_type": "code",
   "execution_count": 136,
   "id": "72cf3d3c",
   "metadata": {},
   "outputs": [
    {
     "data": {
      "text/plain": [
       "['Monica', 'Rachel', 'Phoebe', 'Joey', 'Chandler', 'Ross']"
      ]
     },
     "execution_count": 136,
     "metadata": {},
     "output_type": "execute_result"
    }
   ],
   "source": [
    "friends = ['Monica', 'Rachel', 'Phoebe', 'Joey', 'Chandler', 'Ross']\n",
    "friends"
   ]
  },
  {
   "cell_type": "code",
   "execution_count": 137,
   "id": "c8eac1bd",
   "metadata": {},
   "outputs": [
    {
     "data": {
      "text/plain": [
       "list"
      ]
     },
     "execution_count": 137,
     "metadata": {},
     "output_type": "execute_result"
    }
   ],
   "source": [
    "type(friends)"
   ]
  },
  {
   "cell_type": "code",
   "execution_count": 140,
   "id": "4688ea75",
   "metadata": {},
   "outputs": [
    {
     "data": {
      "text/plain": [
       "[3, 14.5, 'J Balvin', [1, 2, 3, 4, 5]]"
      ]
     },
     "execution_count": 140,
     "metadata": {},
     "output_type": "execute_result"
    }
   ],
   "source": [
    "lista = [3, 14.5, 'J Balvin', [1,2,3,4,5]]\n",
    "lista"
   ]
  },
  {
   "cell_type": "code",
   "execution_count": 141,
   "id": "184cd7b0",
   "metadata": {},
   "outputs": [
    {
     "data": {
      "text/plain": [
       "list"
      ]
     },
     "execution_count": 141,
     "metadata": {},
     "output_type": "execute_result"
    }
   ],
   "source": [
    "type(lista)"
   ]
  },
  {
   "cell_type": "markdown",
   "id": "c65f6e81",
   "metadata": {},
   "source": [
    "len, in"
   ]
  },
  {
   "cell_type": "code",
   "execution_count": 142,
   "id": "859132c8",
   "metadata": {},
   "outputs": [
    {
     "data": {
      "text/plain": [
       "6"
      ]
     },
     "execution_count": 142,
     "metadata": {},
     "output_type": "execute_result"
    }
   ],
   "source": [
    "len(friends)"
   ]
  },
  {
   "cell_type": "code",
   "execution_count": 143,
   "id": "9d4b9894",
   "metadata": {},
   "outputs": [
    {
     "data": {
      "text/plain": [
       "True"
      ]
     },
     "execution_count": 143,
     "metadata": {},
     "output_type": "execute_result"
    }
   ],
   "source": [
    "'Rachel' in friends"
   ]
  },
  {
   "cell_type": "code",
   "execution_count": 144,
   "id": "6c44f131",
   "metadata": {},
   "outputs": [
    {
     "data": {
      "text/plain": [
       "False"
      ]
     },
     "execution_count": 144,
     "metadata": {},
     "output_type": "execute_result"
    }
   ],
   "source": [
    "'Michael' in friends"
   ]
  },
  {
   "cell_type": "markdown",
   "id": "145399c8",
   "metadata": {},
   "source": [
    "indexing, slicing"
   ]
  },
  {
   "cell_type": "markdown",
   "id": "8891ddbd",
   "metadata": {},
   "source": [
    "<img src='https://www.programiz.com/sites/tutorial2program/files/python-list-negative-index.png'>"
   ]
  },
  {
   "cell_type": "code",
   "execution_count": 145,
   "id": "3d6a110a",
   "metadata": {},
   "outputs": [
    {
     "data": {
      "text/plain": [
       "['Monica', 'Rachel', 'Phoebe', 'Joey', 'Chandler', 'Ross']"
      ]
     },
     "execution_count": 145,
     "metadata": {},
     "output_type": "execute_result"
    }
   ],
   "source": [
    "friends"
   ]
  },
  {
   "cell_type": "code",
   "execution_count": 146,
   "id": "ea3b98bf",
   "metadata": {},
   "outputs": [
    {
     "data": {
      "text/plain": [
       "'Phoebe'"
      ]
     },
     "execution_count": 146,
     "metadata": {},
     "output_type": "execute_result"
    }
   ],
   "source": [
    "friends[2]"
   ]
  },
  {
   "cell_type": "code",
   "execution_count": 147,
   "id": "1f6a3573",
   "metadata": {},
   "outputs": [
    {
     "data": {
      "text/plain": [
       "'Ross'"
      ]
     },
     "execution_count": 147,
     "metadata": {},
     "output_type": "execute_result"
    }
   ],
   "source": [
    "friends[-1]"
   ]
  },
  {
   "cell_type": "code",
   "execution_count": 151,
   "id": "e8d3fcfa",
   "metadata": {},
   "outputs": [
    {
     "data": {
      "text/plain": [
       "['Phoebe', 'Joey', 'Chandler']"
      ]
     },
     "execution_count": 151,
     "metadata": {},
     "output_type": "execute_result"
    }
   ],
   "source": [
    "friends[2:5]"
   ]
  },
  {
   "cell_type": "markdown",
   "id": "5f7238be",
   "metadata": {},
   "source": [
    "modify a list"
   ]
  },
  {
   "cell_type": "code",
   "execution_count": 155,
   "id": "3ec76468",
   "metadata": {},
   "outputs": [
    {
     "ename": "TypeError",
     "evalue": "'str' object does not support item assignment",
     "output_type": "error",
     "traceback": [
      "\u001b[0;31m---------------------------------------------------------------------------\u001b[0m",
      "\u001b[0;31mTypeError\u001b[0m                                 Traceback (most recent call last)",
      "\u001b[0;32m/var/folders/m4/cywrtrdn0w70csynx5vlg40w0000gn/T/ipykernel_3280/2621156432.py\u001b[0m in \u001b[0;36m<module>\u001b[0;34m\u001b[0m\n\u001b[1;32m      1\u001b[0m \u001b[0mcadena\u001b[0m \u001b[0;34m=\u001b[0m \u001b[0;34m'Nintendo Switch'\u001b[0m\u001b[0;34m\u001b[0m\u001b[0;34m\u001b[0m\u001b[0m\n\u001b[0;32m----> 2\u001b[0;31m \u001b[0mcadena\u001b[0m\u001b[0;34m[\u001b[0m\u001b[0;36m3\u001b[0m\u001b[0;34m]\u001b[0m \u001b[0;34m=\u001b[0m \u001b[0;34m'M'\u001b[0m\u001b[0;34m\u001b[0m\u001b[0;34m\u001b[0m\u001b[0m\n\u001b[0m",
      "\u001b[0;31mTypeError\u001b[0m: 'str' object does not support item assignment"
     ]
    }
   ],
   "source": [
    "cadena = 'Nintendo Switch'\n",
    "cadena[3] = 'M'"
   ]
  },
  {
   "cell_type": "code",
   "execution_count": 152,
   "id": "225e7285",
   "metadata": {},
   "outputs": [
    {
     "data": {
      "text/plain": [
       "['Monica', 'Rachel', 'Phoebe', 'Joey', 'Chandler', 'Ross']"
      ]
     },
     "execution_count": 152,
     "metadata": {},
     "output_type": "execute_result"
    }
   ],
   "source": [
    "friends"
   ]
  },
  {
   "cell_type": "code",
   "execution_count": 156,
   "id": "7d7b59eb",
   "metadata": {},
   "outputs": [],
   "source": [
    "friends[2] = 'Janice'"
   ]
  },
  {
   "cell_type": "code",
   "execution_count": 157,
   "id": "164ad531",
   "metadata": {},
   "outputs": [
    {
     "data": {
      "text/plain": [
       "['Monica', 'Rachel', 'Janice', 'Joey', 'Chandler', 'Ross']"
      ]
     },
     "execution_count": 157,
     "metadata": {},
     "output_type": "execute_result"
    }
   ],
   "source": [
    "friends"
   ]
  },
  {
   "cell_type": "markdown",
   "id": "3653c068",
   "metadata": {},
   "source": [
    "append, insert, remove"
   ]
  },
  {
   "cell_type": "code",
   "execution_count": 158,
   "id": "f621ea9d",
   "metadata": {},
   "outputs": [
    {
     "data": {
      "text/plain": [
       "['Monica', 'Rachel', 'Janice', 'Joey', 'Chandler', 'Ross']"
      ]
     },
     "execution_count": 158,
     "metadata": {},
     "output_type": "execute_result"
    }
   ],
   "source": [
    "friends"
   ]
  },
  {
   "cell_type": "code",
   "execution_count": 159,
   "id": "159e4f67",
   "metadata": {},
   "outputs": [],
   "source": [
    "friends.append('Phoebe')"
   ]
  },
  {
   "cell_type": "code",
   "execution_count": 160,
   "id": "5e82e4b7",
   "metadata": {},
   "outputs": [
    {
     "data": {
      "text/plain": [
       "['Monica', 'Rachel', 'Janice', 'Joey', 'Chandler', 'Ross', 'Phoebe']"
      ]
     },
     "execution_count": 160,
     "metadata": {},
     "output_type": "execute_result"
    }
   ],
   "source": [
    "friends"
   ]
  },
  {
   "cell_type": "code",
   "execution_count": 164,
   "id": "4edff3f9",
   "metadata": {},
   "outputs": [],
   "source": [
    "new_friends = friends.append('Mike')"
   ]
  },
  {
   "cell_type": "code",
   "execution_count": 165,
   "id": "19f0c24e",
   "metadata": {},
   "outputs": [],
   "source": [
    "new_friends"
   ]
  },
  {
   "cell_type": "code",
   "execution_count": 161,
   "id": "f2e3166b",
   "metadata": {},
   "outputs": [],
   "source": [
    "cadena = 'minusculas'"
   ]
  },
  {
   "cell_type": "code",
   "execution_count": 162,
   "id": "7d913f34",
   "metadata": {},
   "outputs": [
    {
     "data": {
      "text/plain": [
       "'MINUSCULAS'"
      ]
     },
     "execution_count": 162,
     "metadata": {},
     "output_type": "execute_result"
    }
   ],
   "source": [
    "cadena.upper()"
   ]
  },
  {
   "cell_type": "code",
   "execution_count": 163,
   "id": "1ca02a4e",
   "metadata": {},
   "outputs": [
    {
     "data": {
      "text/plain": [
       "'minusculas'"
      ]
     },
     "execution_count": 163,
     "metadata": {},
     "output_type": "execute_result"
    }
   ],
   "source": [
    "cadena"
   ]
  },
  {
   "cell_type": "code",
   "execution_count": 166,
   "id": "b16d9089",
   "metadata": {},
   "outputs": [
    {
     "data": {
      "text/plain": [
       "['Monica', 'Rachel', 'Janice', 'Joey', 'Chandler', 'Ross', 'Phoebe', 'Mike']"
      ]
     },
     "execution_count": 166,
     "metadata": {},
     "output_type": "execute_result"
    }
   ],
   "source": [
    "friends"
   ]
  },
  {
   "cell_type": "code",
   "execution_count": 167,
   "id": "79f6a789",
   "metadata": {},
   "outputs": [
    {
     "data": {
      "text/plain": [
       "2"
      ]
     },
     "execution_count": 167,
     "metadata": {},
     "output_type": "execute_result"
    }
   ],
   "source": [
    "friends.index('Janice')"
   ]
  },
  {
   "cell_type": "code",
   "execution_count": 169,
   "id": "a96dda27",
   "metadata": {},
   "outputs": [],
   "source": [
    "friends.remove('Janice')"
   ]
  },
  {
   "cell_type": "code",
   "execution_count": 170,
   "id": "68bd9def",
   "metadata": {},
   "outputs": [
    {
     "data": {
      "text/plain": [
       "['Monica', 'Rachel', 'Joey', 'Chandler', 'Ross', 'Phoebe', 'Mike']"
      ]
     },
     "execution_count": 170,
     "metadata": {},
     "output_type": "execute_result"
    }
   ],
   "source": [
    "friends"
   ]
  },
  {
   "cell_type": "code",
   "execution_count": 171,
   "id": "e741136c",
   "metadata": {},
   "outputs": [],
   "source": [
    "friends.append('Rachel')"
   ]
  },
  {
   "cell_type": "code",
   "execution_count": 172,
   "id": "16c304b5",
   "metadata": {},
   "outputs": [
    {
     "data": {
      "text/plain": [
       "['Monica', 'Rachel', 'Joey', 'Chandler', 'Ross', 'Phoebe', 'Mike', 'Rachel']"
      ]
     },
     "execution_count": 172,
     "metadata": {},
     "output_type": "execute_result"
    }
   ],
   "source": [
    "friends"
   ]
  },
  {
   "cell_type": "code",
   "execution_count": 173,
   "id": "158d8214",
   "metadata": {},
   "outputs": [],
   "source": [
    "friends.remove('Rachel')"
   ]
  },
  {
   "cell_type": "code",
   "execution_count": 174,
   "id": "60657343",
   "metadata": {},
   "outputs": [
    {
     "data": {
      "text/plain": [
       "['Monica', 'Joey', 'Chandler', 'Ross', 'Phoebe', 'Mike', 'Rachel']"
      ]
     },
     "execution_count": 174,
     "metadata": {},
     "output_type": "execute_result"
    }
   ],
   "source": [
    "friends"
   ]
  },
  {
   "cell_type": "code",
   "execution_count": 175,
   "id": "d517bc34",
   "metadata": {},
   "outputs": [],
   "source": [
    "friends.insert(3, 'Janice')"
   ]
  },
  {
   "cell_type": "code",
   "execution_count": 176,
   "id": "99a7f44f",
   "metadata": {},
   "outputs": [
    {
     "data": {
      "text/plain": [
       "['Monica', 'Joey', 'Chandler', 'Janice', 'Ross', 'Phoebe', 'Mike', 'Rachel']"
      ]
     },
     "execution_count": 176,
     "metadata": {},
     "output_type": "execute_result"
    }
   ],
   "source": [
    "friends"
   ]
  },
  {
   "cell_type": "markdown",
   "id": "578fccac",
   "metadata": {},
   "source": [
    "operations"
   ]
  },
  {
   "cell_type": "code",
   "execution_count": 177,
   "id": "dffb879c",
   "metadata": {},
   "outputs": [
    {
     "data": {
      "text/plain": [
       "'abcdbe'"
      ]
     },
     "execution_count": 177,
     "metadata": {},
     "output_type": "execute_result"
    }
   ],
   "source": [
    "'abc' + 'dbe'"
   ]
  },
  {
   "cell_type": "code",
   "execution_count": 178,
   "id": "f027ce5e",
   "metadata": {},
   "outputs": [
    {
     "data": {
      "text/plain": [
       "[1, 2, 3, 4, 5, 6, 7]"
      ]
     },
     "execution_count": 178,
     "metadata": {},
     "output_type": "execute_result"
    }
   ],
   "source": [
    "[1, 2, 3, 4] + [5, 6, 7]"
   ]
  },
  {
   "cell_type": "code",
   "execution_count": 179,
   "id": "952a77a2",
   "metadata": {},
   "outputs": [],
   "source": [
    "lista1 = [1, 2, 3, 4]\n",
    "lista2 = [5, 6, 7]"
   ]
  },
  {
   "cell_type": "code",
   "execution_count": 181,
   "id": "32dca92d",
   "metadata": {},
   "outputs": [],
   "source": [
    "lista1.extend(lista2)"
   ]
  },
  {
   "cell_type": "code",
   "execution_count": 182,
   "id": "20dc1751",
   "metadata": {},
   "outputs": [
    {
     "data": {
      "text/plain": [
       "[1, 2, 3, 4, 5, 6, 7]"
      ]
     },
     "execution_count": 182,
     "metadata": {},
     "output_type": "execute_result"
    }
   ],
   "source": [
    "lista1"
   ]
  },
  {
   "cell_type": "code",
   "execution_count": 183,
   "id": "57e214c5",
   "metadata": {},
   "outputs": [
    {
     "data": {
      "text/plain": [
       "[5, 6, 7]"
      ]
     },
     "execution_count": 183,
     "metadata": {},
     "output_type": "execute_result"
    }
   ],
   "source": [
    "lista2"
   ]
  },
  {
   "cell_type": "code",
   "execution_count": 184,
   "id": "9e8466f3",
   "metadata": {},
   "outputs": [
    {
     "data": {
      "text/plain": [
       "['Monica', 'Joey', 'Chandler', 'Janice', 'Ross', 'Phoebe', 'Mike', 'Rachel']"
      ]
     },
     "execution_count": 184,
     "metadata": {},
     "output_type": "execute_result"
    }
   ],
   "source": [
    "friends"
   ]
  },
  {
   "cell_type": "code",
   "execution_count": 185,
   "id": "72dde4bd",
   "metadata": {},
   "outputs": [],
   "source": [
    "friends.sort()"
   ]
  },
  {
   "cell_type": "code",
   "execution_count": 186,
   "id": "744dcc1a",
   "metadata": {},
   "outputs": [
    {
     "data": {
      "text/plain": [
       "['Chandler', 'Janice', 'Joey', 'Mike', 'Monica', 'Phoebe', 'Rachel', 'Ross']"
      ]
     },
     "execution_count": 186,
     "metadata": {},
     "output_type": "execute_result"
    }
   ],
   "source": [
    "friends"
   ]
  },
  {
   "cell_type": "markdown",
   "id": "a057e728",
   "metadata": {},
   "source": [
    "List methods: https://www.w3schools.com/python/python_ref_list.asp"
   ]
  },
  {
   "cell_type": "code",
   "execution_count": 188,
   "id": "34aeada1",
   "metadata": {},
   "outputs": [
    {
     "data": {
      "text/plain": [
       "['red', 'white', 'black', 'blue']"
      ]
     },
     "execution_count": 188,
     "metadata": {},
     "output_type": "execute_result"
    }
   ],
   "source": [
    "colors = [\"red\", \"white\", \"blue\"]\n",
    "\n",
    "def add_color(colors, new_color):\n",
    "    \n",
    "    colors.insert(-1, new_color)\n",
    "    return colors\n",
    "\n",
    "add_color(colors, \"black\")"
   ]
  },
  {
   "cell_type": "code",
   "execution_count": 189,
   "id": "927eb6aa",
   "metadata": {},
   "outputs": [
    {
     "data": {
      "text/plain": [
       "['red', 'white', 'yellow', 'blue']"
      ]
     },
     "execution_count": 189,
     "metadata": {},
     "output_type": "execute_result"
    }
   ],
   "source": [
    "colors = [\"red\", \"white\", \"blue\"]\n",
    "colors.insert(2, \"yellow\")\n",
    "colors"
   ]
  },
  {
   "cell_type": "code",
   "execution_count": 192,
   "id": "c3850728",
   "metadata": {},
   "outputs": [
    {
     "data": {
      "text/plain": [
       "['red', 'white', 'blue', 'yellow']"
      ]
     },
     "execution_count": 192,
     "metadata": {},
     "output_type": "execute_result"
    }
   ],
   "source": [
    "colors = [\"red\", \"white\", \"blue\"]\n",
    "colors.insert(3, \"yellow\")\n",
    "colors"
   ]
  },
  {
   "cell_type": "markdown",
   "id": "0b756f37",
   "metadata": {},
   "source": [
    "## Tuples"
   ]
  },
  {
   "cell_type": "code",
   "execution_count": 193,
   "id": "04f18e83",
   "metadata": {},
   "outputs": [],
   "source": [
    "friends_list = ['Gabriela', 'Patricia', 'Nicole', 'Sofia']\n",
    "friends_tuple = ('Gabriela', 'Patricia', 'Nicole', 'Sofia')"
   ]
  },
  {
   "cell_type": "code",
   "execution_count": 194,
   "id": "04b160b6",
   "metadata": {},
   "outputs": [
    {
     "data": {
      "text/plain": [
       "['Gabriela', 'Patricia', 'Nicole', 'Sofia']"
      ]
     },
     "execution_count": 194,
     "metadata": {},
     "output_type": "execute_result"
    }
   ],
   "source": [
    "friends_list"
   ]
  },
  {
   "cell_type": "code",
   "execution_count": 195,
   "id": "4c6697a7",
   "metadata": {},
   "outputs": [
    {
     "data": {
      "text/plain": [
       "('Gabriela', 'Patricia', 'Nicole', 'Sofia')"
      ]
     },
     "execution_count": 195,
     "metadata": {},
     "output_type": "execute_result"
    }
   ],
   "source": [
    "friends_tuple"
   ]
  },
  {
   "cell_type": "code",
   "execution_count": 196,
   "id": "454f5fe9",
   "metadata": {},
   "outputs": [
    {
     "data": {
      "text/plain": [
       "list"
      ]
     },
     "execution_count": 196,
     "metadata": {},
     "output_type": "execute_result"
    }
   ],
   "source": [
    "type(friends_list)"
   ]
  },
  {
   "cell_type": "code",
   "execution_count": 197,
   "id": "050896fb",
   "metadata": {},
   "outputs": [
    {
     "data": {
      "text/plain": [
       "tuple"
      ]
     },
     "execution_count": 197,
     "metadata": {},
     "output_type": "execute_result"
    }
   ],
   "source": [
    "type(friends_tuple)"
   ]
  },
  {
   "cell_type": "code",
   "execution_count": 198,
   "id": "ab13a134",
   "metadata": {},
   "outputs": [],
   "source": [
    "friends_list[2] = 'Nicky Nicole'"
   ]
  },
  {
   "cell_type": "code",
   "execution_count": 199,
   "id": "a28bb077",
   "metadata": {},
   "outputs": [
    {
     "data": {
      "text/plain": [
       "['Gabriela', 'Patricia', 'Nicky Nicole', 'Sofia']"
      ]
     },
     "execution_count": 199,
     "metadata": {},
     "output_type": "execute_result"
    }
   ],
   "source": [
    "friends_list"
   ]
  },
  {
   "cell_type": "code",
   "execution_count": 200,
   "id": "c4b1c386",
   "metadata": {},
   "outputs": [
    {
     "ename": "TypeError",
     "evalue": "'tuple' object does not support item assignment",
     "output_type": "error",
     "traceback": [
      "\u001b[0;31m---------------------------------------------------------------------------\u001b[0m",
      "\u001b[0;31mTypeError\u001b[0m                                 Traceback (most recent call last)",
      "\u001b[0;32m/var/folders/m4/cywrtrdn0w70csynx5vlg40w0000gn/T/ipykernel_3280/3239610602.py\u001b[0m in \u001b[0;36m<module>\u001b[0;34m\u001b[0m\n\u001b[0;32m----> 1\u001b[0;31m \u001b[0mfriends_tuple\u001b[0m\u001b[0;34m[\u001b[0m\u001b[0;36m2\u001b[0m\u001b[0;34m]\u001b[0m \u001b[0;34m=\u001b[0m \u001b[0;34m'Nicky Nicole'\u001b[0m\u001b[0;34m\u001b[0m\u001b[0;34m\u001b[0m\u001b[0m\n\u001b[0m",
      "\u001b[0;31mTypeError\u001b[0m: 'tuple' object does not support item assignment"
     ]
    }
   ],
   "source": [
    "friends_tuple[2] = 'Nicky Nicole'"
   ]
  },
  {
   "cell_type": "code",
   "execution_count": 201,
   "id": "db0a05a8",
   "metadata": {},
   "outputs": [
    {
     "data": {
      "text/plain": [
       "(2, 46, 40)"
      ]
     },
     "execution_count": 201,
     "metadata": {},
     "output_type": "execute_result"
    }
   ],
   "source": [
    "def convert_seconds(seconds):\n",
    "    hours = seconds // 3600\n",
    "    minutes = (seconds - hours*3600) // 60\n",
    "    remaining_seconds = seconds - hours*3600 - minutes * 60\n",
    "    \n",
    "    return hours, minutes, remaining_seconds\n",
    "\n",
    "convert_seconds(10000)    "
   ]
  },
  {
   "cell_type": "code",
   "execution_count": 202,
   "id": "7dca3c5a",
   "metadata": {},
   "outputs": [
    {
     "data": {
      "text/plain": [
       "tuple"
      ]
     },
     "execution_count": 202,
     "metadata": {},
     "output_type": "execute_result"
    }
   ],
   "source": [
    "type(convert_seconds(10000))"
   ]
  },
  {
   "cell_type": "code",
   "execution_count": 204,
   "id": "24d71635",
   "metadata": {},
   "outputs": [
    {
     "data": {
      "text/plain": [
       "(2, 46, 40)"
      ]
     },
     "execution_count": 204,
     "metadata": {},
     "output_type": "execute_result"
    }
   ],
   "source": [
    "output = convert_seconds(10000)\n",
    "output"
   ]
  },
  {
   "cell_type": "code",
   "execution_count": 206,
   "id": "befcb6a1",
   "metadata": {},
   "outputs": [
    {
     "data": {
      "text/plain": [
       "(2, 46, 40)"
      ]
     },
     "execution_count": 206,
     "metadata": {},
     "output_type": "execute_result"
    }
   ],
   "source": [
    "output[0], output[1], output[2]"
   ]
  },
  {
   "cell_type": "code",
   "execution_count": 207,
   "id": "b0023cdb",
   "metadata": {},
   "outputs": [
    {
     "data": {
      "text/plain": [
       "2"
      ]
     },
     "execution_count": 207,
     "metadata": {},
     "output_type": "execute_result"
    }
   ],
   "source": [
    "hours, minutes, segundos = convert_seconds(10000)\n",
    "hours"
   ]
  },
  {
   "cell_type": "code",
   "execution_count": 208,
   "id": "12b890a1",
   "metadata": {},
   "outputs": [],
   "source": [
    "a = 5"
   ]
  },
  {
   "cell_type": "code",
   "execution_count": 209,
   "id": "dbf78047",
   "metadata": {},
   "outputs": [],
   "source": [
    "a, b = 5, 6 "
   ]
  },
  {
   "cell_type": "code",
   "execution_count": 210,
   "id": "2d23a0db",
   "metadata": {},
   "outputs": [
    {
     "data": {
      "text/plain": [
       "(5, 6)"
      ]
     },
     "execution_count": 210,
     "metadata": {},
     "output_type": "execute_result"
    }
   ],
   "source": [
    "5, 6 "
   ]
  },
  {
   "cell_type": "code",
   "execution_count": 211,
   "id": "b65664a5",
   "metadata": {},
   "outputs": [
    {
     "ename": "ValueError",
     "evalue": "not enough values to unpack (expected 3, got 2)",
     "output_type": "error",
     "traceback": [
      "\u001b[0;31m---------------------------------------------------------------------------\u001b[0m",
      "\u001b[0;31mValueError\u001b[0m                                Traceback (most recent call last)",
      "\u001b[0;32m/var/folders/m4/cywrtrdn0w70csynx5vlg40w0000gn/T/ipykernel_3280/3558122439.py\u001b[0m in \u001b[0;36m<module>\u001b[0;34m\u001b[0m\n\u001b[0;32m----> 1\u001b[0;31m \u001b[0ma\u001b[0m\u001b[0;34m,\u001b[0m \u001b[0mb\u001b[0m\u001b[0;34m,\u001b[0m \u001b[0mc\u001b[0m \u001b[0;34m=\u001b[0m \u001b[0;36m5\u001b[0m\u001b[0;34m,\u001b[0m \u001b[0;36m6\u001b[0m\u001b[0;34m\u001b[0m\u001b[0;34m\u001b[0m\u001b[0m\n\u001b[0m",
      "\u001b[0;31mValueError\u001b[0m: not enough values to unpack (expected 3, got 2)"
     ]
    }
   ],
   "source": [
    "a, b, c = 5, 6 "
   ]
  },
  {
   "cell_type": "markdown",
   "id": "5432cf62",
   "metadata": {},
   "source": [
    "## Iterate over lists"
   ]
  },
  {
   "cell_type": "code",
   "execution_count": 228,
   "id": "9a3e4f72",
   "metadata": {},
   "outputs": [
    {
     "name": "stdout",
     "output_type": "stream",
     "text": [
      "Gabriela\n",
      "Patricia\n",
      "Nicole\n",
      "Sofia\n"
     ]
    }
   ],
   "source": [
    "friends_list = [ 'Gabriela', 'Patricia', 'Nicole', 'Sofia']\n",
    "\n",
    "for friend in friends_list:\n",
    "    print(friend)"
   ]
  },
  {
   "cell_type": "markdown",
   "id": "348f8a6c",
   "metadata": {},
   "source": [
    "Calculate the total number of characters and the average number of characters of a list of names"
   ]
  },
  {
   "cell_type": "code",
   "execution_count": 215,
   "id": "84596f51",
   "metadata": {},
   "outputs": [
    {
     "data": {
      "text/plain": [
       "(27, 6.75)"
      ]
     },
     "execution_count": 215,
     "metadata": {},
     "output_type": "execute_result"
    }
   ],
   "source": [
    "friends_list = ['Gabriela', 'Patricia', 'Nicole', 'Sofia']\n",
    "\n",
    "total_characters = 0\n",
    "\n",
    "for friend in friends_list:\n",
    "    total_characters += len(friend)\n",
    "\n",
    "average_characters = total_characters / len(friends_list)\n",
    "total_characters, average_characters"
   ]
  },
  {
   "cell_type": "markdown",
   "id": "4ff32a93",
   "metadata": {},
   "source": [
    "Write a function that generates the email adresses of employees using the format name_lastname@domain"
   ]
  },
  {
   "cell_type": "code",
   "execution_count": 224,
   "id": "54710650",
   "metadata": {},
   "outputs": [
    {
     "name": "stdout",
     "output_type": "stream",
     "text": [
      "Manuel_Montoya@breit.pe\n",
      "Rebeca_Gomez@breit.pe\n",
      "Carolina_Giraldo@breit.pe\n",
      "Valentin_Oliva@breit.pe\n"
     ]
    }
   ],
   "source": [
    "domain = 'breit.pe'\n",
    "employees = [('Manuel', 'Montoya'), ('Rebeca', 'Gomez'), ('Carolina', 'Giraldo'), ('Valentin', 'Oliva')]\n",
    "\n",
    "for employee in employees:\n",
    "\n",
    "    email = f'{employee[0]}_{employee[1]}@{domain}'\n",
    "    print(email)"
   ]
  },
  {
   "cell_type": "code",
   "execution_count": 226,
   "id": "7c136bdf",
   "metadata": {},
   "outputs": [
    {
     "name": "stdout",
     "output_type": "stream",
     "text": [
      "manuel_montoya@breit.pe\n",
      "rebeca_gomez@breit.pe\n",
      "carolina_giraldo@breit.pe\n",
      "valentin_oliva@breit.pe\n"
     ]
    }
   ],
   "source": [
    "domain = 'breit.pe'\n",
    "employees = [('Manuel', 'Montoya'), ('Rebeca', 'Gomez'), ('Carolina', 'Giraldo'), ('Valentin', 'Oliva')]\n",
    "\n",
    "for name, lastname in employees:\n",
    "\n",
    "    email = f'{name}_{lastname}@{domain}'.lower()\n",
    "    print(email)"
   ]
  },
  {
   "cell_type": "markdown",
   "id": "7f3ebb18",
   "metadata": {},
   "source": [
    "For a list of names, calculate the ratio between the length of the name and the index of the name (starting with 1)"
   ]
  },
  {
   "cell_type": "code",
   "execution_count": 230,
   "id": "5fc63cdf",
   "metadata": {},
   "outputs": [
    {
     "name": "stdout",
     "output_type": "stream",
     "text": [
      "8.0\n",
      "4.0\n",
      "2.0\n",
      "1.25\n",
      "1.6\n"
     ]
    }
   ],
   "source": [
    "friends_list = ['Gabriela', 'Patricia', 'Nicole', 'Sofia', 'Patricia']\n",
    "\n",
    "index = 0\n",
    "for friend in friends_list:\n",
    "    \n",
    "    len_friend = len(friend)\n",
    "    index += 1\n",
    "    print(len_friend / (index))"
   ]
  },
  {
   "cell_type": "code",
   "execution_count": 232,
   "id": "7512ff4b",
   "metadata": {},
   "outputs": [
    {
     "name": "stdout",
     "output_type": "stream",
     "text": [
      "(0, 'Gabriela')\n",
      "(1, 'Patricia')\n",
      "(2, 'Nicole')\n",
      "(3, 'Sofia')\n",
      "(4, 'Patricia')\n"
     ]
    }
   ],
   "source": [
    "friends_list = ['Gabriela', 'Patricia', 'Nicole', 'Sofia', 'Patricia']\n",
    "\n",
    "for friend in enumerate(friends_list):\n",
    "    print(friend)"
   ]
  },
  {
   "cell_type": "code",
   "execution_count": 233,
   "id": "48982947",
   "metadata": {},
   "outputs": [
    {
     "name": "stdout",
     "output_type": "stream",
     "text": [
      "8.0\n",
      "4.0\n",
      "2.0\n",
      "1.25\n",
      "1.6\n"
     ]
    }
   ],
   "source": [
    "friends_list = ['Gabriela', 'Patricia', 'Nicole', 'Sofia', 'Patricia']\n",
    "\n",
    "for index, friend in enumerate(friends_list):\n",
    "    print(len(friend) / (index + 1))"
   ]
  },
  {
   "cell_type": "markdown",
   "id": "287fcb65",
   "metadata": {},
   "source": [
    "Write a function that returns every other elements of a list "
   ]
  },
  {
   "cell_type": "code",
   "execution_count": 235,
   "id": "fde29f12",
   "metadata": {},
   "outputs": [
    {
     "data": {
      "text/plain": [
       "['a', 'c', 'e', 'g', 'i', 'k', 'm']"
      ]
     },
     "execution_count": 235,
     "metadata": {},
     "output_type": "execute_result"
    }
   ],
   "source": [
    "def skip_elements(elements):\n",
    "\n",
    "    element_list = []\n",
    "    \n",
    "    for index, element in enumerate(elements):\n",
    "        if index % 2 == 0:\n",
    "            element_list.append(element)\n",
    "            \n",
    "    return element_list\n",
    "\n",
    "\n",
    "#should return ['a', 'c', 'e', 'g', 'i', 'k', 'm']\n",
    "skip_elements('abcdefghijklmn')"
   ]
  },
  {
   "cell_type": "markdown",
   "id": "e631ef27",
   "metadata": {},
   "source": [
    "list comprehension"
   ]
  },
  {
   "cell_type": "code",
   "execution_count": 236,
   "id": "15aa95d6",
   "metadata": {},
   "outputs": [
    {
     "data": {
      "text/plain": [
       "[0, 1, 2, 3, 4, 5, 6, 7, 8, 9]"
      ]
     },
     "execution_count": 236,
     "metadata": {},
     "output_type": "execute_result"
    }
   ],
   "source": [
    "lista = []\n",
    "\n",
    "for number in range(10):\n",
    "    lista.append(number)\n",
    "    \n",
    "lista"
   ]
  },
  {
   "cell_type": "code",
   "execution_count": 237,
   "id": "6f0adb09",
   "metadata": {},
   "outputs": [
    {
     "data": {
      "text/plain": [
       "[0, 1, 2, 3, 4, 5, 6, 7, 8, 9]"
      ]
     },
     "execution_count": 237,
     "metadata": {},
     "output_type": "execute_result"
    }
   ],
   "source": [
    "[number for number in range(10)]"
   ]
  },
  {
   "cell_type": "code",
   "execution_count": 238,
   "id": "4c772f8a",
   "metadata": {},
   "outputs": [
    {
     "data": {
      "text/plain": [
       "['Gabriela', 'Patricia', 'Nicole', 'Sofia', 'Patricia']"
      ]
     },
     "execution_count": 238,
     "metadata": {},
     "output_type": "execute_result"
    }
   ],
   "source": [
    "friends_list"
   ]
  },
  {
   "cell_type": "code",
   "execution_count": 239,
   "id": "9cdd3ce4",
   "metadata": {},
   "outputs": [
    {
     "data": {
      "text/plain": [
       "['Gabriela@friends.com',\n",
       " 'Patricia@friends.com',\n",
       " 'Nicole@friends.com',\n",
       " 'Sofia@friends.com',\n",
       " 'Patricia@friends.com']"
      ]
     },
     "execution_count": 239,
     "metadata": {},
     "output_type": "execute_result"
    }
   ],
   "source": [
    "friends_emails = []\n",
    "\n",
    "for friend in friends_list:\n",
    "    \n",
    "    friends_emails.append(f'{friend}@friends.com')\n",
    "    \n",
    "friends_emails"
   ]
  },
  {
   "cell_type": "code",
   "execution_count": 240,
   "id": "82851dd7",
   "metadata": {},
   "outputs": [
    {
     "data": {
      "text/plain": [
       "['Gabriela@friends.com',\n",
       " 'Patricia@friends.com',\n",
       " 'Nicole@friends.com',\n",
       " 'Sofia@friends.com',\n",
       " 'Patricia@friends.com']"
      ]
     },
     "execution_count": 240,
     "metadata": {},
     "output_type": "execute_result"
    }
   ],
   "source": [
    "[f'{friend}@friends.com' for friend in friends_list]"
   ]
  },
  {
   "cell_type": "markdown",
   "id": "7f31d16b",
   "metadata": {},
   "source": [
    "Write a function that returns a list of the first n positive squares"
   ]
  },
  {
   "cell_type": "code",
   "execution_count": 241,
   "id": "65635c6b",
   "metadata": {},
   "outputs": [],
   "source": [
    "def n_first_positive_squares(n):\n",
    "    \n",
    "    return [number ** 2 for number in range(1, n+1)]"
   ]
  },
  {
   "cell_type": "code",
   "execution_count": 242,
   "id": "c31c5621",
   "metadata": {},
   "outputs": [
    {
     "data": {
      "text/plain": [
       "[1, 4, 9, 16, 25]"
      ]
     },
     "execution_count": 242,
     "metadata": {},
     "output_type": "execute_result"
    }
   ],
   "source": [
    "n_first_positive_squares(5)"
   ]
  },
  {
   "cell_type": "markdown",
   "id": "113561f4",
   "metadata": {},
   "source": [
    "Write a function that returns a list of the divisors of a given number"
   ]
  },
  {
   "cell_type": "code",
   "execution_count": 244,
   "id": "9414b3a0",
   "metadata": {},
   "outputs": [
    {
     "data": {
      "text/plain": [
       "[1, 2, 5, 10]"
      ]
     },
     "execution_count": 244,
     "metadata": {},
     "output_type": "execute_result"
    }
   ],
   "source": [
    "def divisors(n):\n",
    "    \n",
    "    return [divisor for divisor in range(1, n+1) if n%divisor ==0]\n",
    "\n",
    "divisors(10)"
   ]
  },
  {
   "cell_type": "code",
   "execution_count": 245,
   "id": "345c9130",
   "metadata": {},
   "outputs": [
    {
     "data": {
      "text/plain": [
       "[1, 2, 5, 10]"
      ]
     },
     "execution_count": 245,
     "metadata": {},
     "output_type": "execute_result"
    }
   ],
   "source": [
    "n = 10\n",
    "divisors = []\n",
    "\n",
    "for divisor in range(1, n+1):\n",
    "    \n",
    "    if n%divisor == 0:\n",
    "        divisors.append(divisor)\n",
    "        \n",
    "divisors"
   ]
  },
  {
   "cell_type": "markdown",
   "id": "1f31eb07",
   "metadata": {},
   "source": [
    "## Exercises"
   ]
  },
  {
   "cell_type": "markdown",
   "id": "9e9eac62",
   "metadata": {},
   "source": [
    "Write a function that returns the nth word of a sentence (n is positive)"
   ]
  },
  {
   "cell_type": "code",
   "execution_count": 37,
   "id": "1b4d08e7",
   "metadata": {},
   "outputs": [
    {
     "name": "stdout",
     "output_type": "stream",
     "text": [
      "volvimos\n",
      "\n"
     ]
    }
   ],
   "source": [
    "def get_nth_word(sentence, n):\n",
    "    \n",
    "    words = sentence.split()\n",
    "    \n",
    "    if n <= len(words):\n",
    "        return words[n - 1]\n",
    "    \n",
    "    return \"\"\n",
    "\n",
    "\n",
    "\n",
    "#should return \"volvimos\"\n",
    "print(get_nth_word(\"muchachos ahora nos volvimos a ilusionar\", 4))\n",
    "\n",
    "#should return \"\"\n",
    "print(get_nth_word(\"muchachos ahora nos volvimos a ilusionar\", 10))"
   ]
  },
  {
   "cell_type": "markdown",
   "id": "4dfeb94c",
   "metadata": {},
   "source": [
    "Write a function that changes the extension of .csv files to .txt"
   ]
  },
  {
   "cell_type": "code",
   "execution_count": 41,
   "id": "fb93d9f5",
   "metadata": {},
   "outputs": [
    {
     "data": {
      "text/plain": [
       "['file1.txt', 'file2.txt', 'file3.xlsx', 'file4.txt', 'file5.ppt']"
      ]
     },
     "execution_count": 41,
     "metadata": {},
     "output_type": "execute_result"
    }
   ],
   "source": [
    "def change_csv_to_txt(filenames):\n",
    "    \n",
    "    return [file.replace('csv', 'txt') if file.endswith('.csv') else file for file in filenames ]\n",
    "\n",
    "\n",
    "#should return ['file1.txt', 'file2.txt', 'file3.xlsx', 'file4.txt', 'file5.ppt']\n",
    "change_csv_to_txt(['file1.txt', 'file2.csv', 'file3.xlsx', 'file4.csv', 'file5.ppt'])"
   ]
  },
  {
   "cell_type": "markdown",
   "id": "4f0cddd1",
   "metadata": {},
   "source": [
    "Write a function that turns text into pig latin: a simple text transformation that modifies each word moving the first character to the end and appending \"ay\" to the end. For example, python ends up as ythonpay"
   ]
  },
  {
   "cell_type": "code",
   "execution_count": 44,
   "id": "2a6627dc",
   "metadata": {},
   "outputs": [
    {
     "name": "stdout",
     "output_type": "stream",
     "text": [
      "ellohay owhay reaay ouyay\n",
      "rogrammingpay niay ythonpay siay unfay\n"
     ]
    }
   ],
   "source": [
    "def pig_latin(text):\n",
    "    \n",
    "    words = text.split()\n",
    "    \n",
    "    latin_words = [word[1:] + word[0] + 'ay' for word in words]\n",
    "\n",
    "    return ' '.join(latin_words)\n",
    "    \n",
    "print(pig_latin(\"hello how are you\")) # Should be \"ellohay owhay reaay ouyay\"\n",
    "print(pig_latin(\"programming in python is fun\")) # Should be \"rogrammingpay niay ythonpay siay unfay\""
   ]
  },
  {
   "cell_type": "markdown",
   "id": "fe6800bf",
   "metadata": {},
   "source": [
    "The group_list function accepts a group name and a list of members, and returns a string with the format: group_name: member1, member2, … For example, group_list(\"g\", [\"a\",\"b\",\"c\"]) returns \"g: a, b, c\". Fill in the gaps in this function to do that."
   ]
  },
  {
   "cell_type": "code",
   "execution_count": 47,
   "id": "c383bbb2",
   "metadata": {},
   "outputs": [
    {
     "name": "stdout",
     "output_type": "stream",
     "text": [
      "Blackpink: Jennie, Lalissa, Jisoo, Rose\n",
      "Backstreet Boys: Nick, Howie, AJ, Brian, Kevin\n",
      "One Direction: \n"
     ]
    }
   ],
   "source": [
    "def group_list(group, users):\n",
    "    \n",
    "    return group + ': ' + ', '.join(users)\n",
    "\n",
    "#should return Blackpink: Jennie,Lalissa,Jisoo,Rose\n",
    "print(group_list(\"Blackpink\", [\"Jennie\", \"Lalissa\", \"Jisoo\", \"Rose\"])) \n",
    "\n",
    "#should return Backstreet Boys: Nick,Howie,AJ,Brian,Kevin\n",
    "print(group_list(\"Backstreet Boys\", ['Nick', 'Howie', 'AJ', 'Brian', 'Kevin']))\n",
    "\n",
    "#should return One Direction: \n",
    "print(group_list(\"One Direction\", []))"
   ]
  },
  {
   "cell_type": "markdown",
   "id": "3efedf65",
   "metadata": {},
   "source": [
    "The guest_list function reads in a list of tuples with the name, age, and profession of each party guest, and prints the sentence \"Guest is X years old and works as __.\" for each one. For example, guest_list(('Ken', 30, \"Chef\"), (\"Pat\", 35, 'Lawyer'), ('Amanda', 25, \"Engineer\")) should print out: \n",
    "\n",
    "Ken is 30 years old and works as Chef. \n",
    "\n",
    "Pat is 35 years old and works as Lawyer. \n",
    "\n",
    "Amanda is 25 years old and works as Engineer. \n",
    "\n",
    "Complete the function"
   ]
  },
  {
   "cell_type": "code",
   "execution_count": 49,
   "id": "6c0fd0e3",
   "metadata": {},
   "outputs": [
    {
     "name": "stdout",
     "output_type": "stream",
     "text": [
      "Ken is 30 years old and works as Chef\n",
      "Pat is 35 years old and works as Lawyer\n",
      "Amanda is 25 years old and works as Engineer\n"
     ]
    }
   ],
   "source": [
    "def guest_list(guests):\n",
    "    \n",
    "    for guest, age, work in guests:\n",
    "        print(f'{guest} is {age} years old and works as {work}')\n",
    "    \n",
    "\n",
    "# Output should match:\n",
    "# Ken is 30 years old and works as Chef\n",
    "# Pat is 35 years old and works as Lawyer\n",
    "# Amanda is 25 years old and works as Engineer    \n",
    "guest_list([('Ken', 30, \"Chef\"), (\"Pat\", 35, 'Lawyer'), ('Amanda', 25, \"Engineer\")])"
   ]
  },
  {
   "cell_type": "markdown",
   "id": "c9a452fd",
   "metadata": {},
   "source": [
    "Use a list comprehension to create a list of squared numbers (n*n). The function receives the variables start and end, and returns a list of squares of consecutive numbers between start and end inclusively.\n",
    "For example, squares(2, 3) should return [4, 9]."
   ]
  },
  {
   "cell_type": "code",
   "execution_count": 50,
   "id": "66e99d54",
   "metadata": {},
   "outputs": [
    {
     "name": "stdout",
     "output_type": "stream",
     "text": [
      "[4, 9]\n",
      "[1, 4, 9, 16, 25]\n",
      "[0, 1, 4, 9, 16, 25, 36, 49, 64, 81, 100]\n"
     ]
    }
   ],
   "source": [
    "def squares(start, end):\n",
    "    return [number ** 2 for number in range(start, end + 1)]\n",
    "\n",
    "print(squares(2, 3)) # Should be [4, 9]\n",
    "print(squares(1, 5)) # Should be [1, 4, 9, 16, 25]\n",
    "print(squares(0, 10)) # Should be [0, 1, 4, 9, 16, 25, 36, 49, 64, 81, 100]"
   ]
  },
  {
   "cell_type": "markdown",
   "id": "4447b9aa",
   "metadata": {},
   "source": [
    "## Challenge"
   ]
  },
  {
   "cell_type": "markdown",
   "id": "31311a57",
   "metadata": {},
   "source": [
    "The permissions of a file in a Linux system are split into three sets of three permissions: read, write, and execute for the owner, group, and others. \n",
    "\n",
    "Each of the three values can be expressed as an octal number summing each permission, with 4 corresponding to read, 2 to write, and 1 to execute. Or it can be written with a string using the letters r, w, and x or - when the permission is not granted.\n",
    "\n",
    "For example: \n",
    "* 640 is read/write for the owner, read for the group, and no permissions for the others; converted to a string, it would be: \"rw-r-----\"\n",
    "* 755 is read/write/execute for the owner, and read/execute for group and others; converted to a string, it would be: \"rwxr-xr-x\"\n",
    " \n",
    "Write a function that converts a permission octal into a string format\n",
    " "
   ]
  },
  {
   "cell_type": "code",
   "execution_count": 57,
   "id": "6e075c56",
   "metadata": {},
   "outputs": [
    {
     "name": "stdout",
     "output_type": "stream",
     "text": [
      "rwxrwxrwx\n",
      "rwxr-xr-x\n",
      "rw-r--r--\n",
      "rwxr-x---\n",
      "rw-------\n"
     ]
    }
   ],
   "source": [
    "def octal_to_string(octal):\n",
    "    \n",
    "    result = \"\"\n",
    "    value_letters = [(4,\"r\"),(2,\"w\"),(1,\"x\")]\n",
    "    \n",
    "    # Iterate over each of the digits in octal\n",
    "    for number in [int(n) for n in str(octal)]:\n",
    "        \n",
    "        # each number should be translated into permissions rwx\n",
    "        # 7 in binary is 111 -> rwx\n",
    "        # 5 in binary is 101 -> r-x\n",
    "        \n",
    "        for value, letter in value_letters:\n",
    "            if number >= value:\n",
    "                result += letter\n",
    "                number = number - value\n",
    "            else:\n",
    "                result += '-'\n",
    "            \n",
    "    return result\n",
    "\n",
    "print(octal_to_string(777)) # Should be rwxrwxrwx\n",
    "print(octal_to_string(755)) # Should be rwxr-xr-x\n",
    "print(octal_to_string(644)) # Should be rw-r--r--\n",
    "print(octal_to_string(750)) # Should be rwxr-x---\n",
    "print(octal_to_string(600)) # Should be rw-------"
   ]
  },
  {
   "cell_type": "markdown",
   "id": "3a0bfebf",
   "metadata": {},
   "source": [
    "# Dictionaries"
   ]
  },
  {
   "cell_type": "markdown",
   "id": "9997d22b",
   "metadata": {},
   "source": [
    "<img src='https://s.wsj.net/public/resources/images/BN-QP214_bkrvwo_OR_20161102154653.jpg'>"
   ]
  },
  {
   "cell_type": "code",
   "execution_count": 246,
   "id": "df1ae9f0",
   "metadata": {},
   "outputs": [
    {
     "data": {
      "text/plain": [
       "dict"
      ]
     },
     "execution_count": 246,
     "metadata": {},
     "output_type": "execute_result"
    }
   ],
   "source": [
    "dictionary = {}\n",
    "type(dictionary)"
   ]
  },
  {
   "cell_type": "code",
   "execution_count": 247,
   "id": "b8ca4006",
   "metadata": {},
   "outputs": [
    {
     "data": {
      "text/plain": [
       "['Mark Zuckerberg', 'Eduardo Saverin']"
      ]
     },
     "execution_count": 247,
     "metadata": {},
     "output_type": "execute_result"
    }
   ],
   "source": [
    "facebook_list = [['Mark Zuckerberg', 'Eduardo Saverin'], 'www.facebook.com', 2.9]\n",
    "\n",
    "facebook_list[0]"
   ]
  },
  {
   "cell_type": "code",
   "execution_count": 249,
   "id": "4425cfe6",
   "metadata": {},
   "outputs": [],
   "source": [
    "facebook_dict = {'founders': ['Mark Zuckerberg', 'Eduardo Saverin'],\n",
    "                 'url': 'www.facebook.com',\n",
    "                 'number_of_users': 2.9}"
   ]
  },
  {
   "cell_type": "code",
   "execution_count": 250,
   "id": "4fcd1a2a",
   "metadata": {},
   "outputs": [
    {
     "data": {
      "text/plain": [
       "'www.facebook.com'"
      ]
     },
     "execution_count": 250,
     "metadata": {},
     "output_type": "execute_result"
    }
   ],
   "source": [
    "facebook_dict['url']"
   ]
  },
  {
   "cell_type": "code",
   "execution_count": 251,
   "id": "368df0f9",
   "metadata": {},
   "outputs": [
    {
     "data": {
      "text/plain": [
       "['Mark Zuckerberg', 'Eduardo Saverin']"
      ]
     },
     "execution_count": 251,
     "metadata": {},
     "output_type": "execute_result"
    }
   ],
   "source": [
    "facebook_dict['founders']"
   ]
  },
  {
   "cell_type": "markdown",
   "id": "2ceb4e48",
   "metadata": {},
   "source": [
    "are dictionaries mutable?"
   ]
  },
  {
   "cell_type": "code",
   "execution_count": 252,
   "id": "b04190bb",
   "metadata": {},
   "outputs": [],
   "source": [
    "facebook_dict['url'] = 'www.meta.com'"
   ]
  },
  {
   "cell_type": "code",
   "execution_count": 253,
   "id": "a98463da",
   "metadata": {},
   "outputs": [
    {
     "data": {
      "text/plain": [
       "{'founders': ['Mark Zuckerberg', 'Eduardo Saverin'],\n",
       " 'url': 'www.meta.com',\n",
       " 'number_of_users': 2.9}"
      ]
     },
     "execution_count": 253,
     "metadata": {},
     "output_type": "execute_result"
    }
   ],
   "source": [
    "facebook_dict"
   ]
  },
  {
   "cell_type": "markdown",
   "id": "13fa1df5",
   "metadata": {},
   "source": [
    "adding/replacing elements"
   ]
  },
  {
   "cell_type": "code",
   "execution_count": 254,
   "id": "771137a9",
   "metadata": {},
   "outputs": [],
   "source": [
    "facebook_dict['number_of_employees'] = 100000"
   ]
  },
  {
   "cell_type": "code",
   "execution_count": 255,
   "id": "942433fa",
   "metadata": {},
   "outputs": [
    {
     "data": {
      "text/plain": [
       "{'founders': ['Mark Zuckerberg', 'Eduardo Saverin'],\n",
       " 'url': 'www.meta.com',\n",
       " 'number_of_users': 2.9,\n",
       " 'number_of_employees': 100000}"
      ]
     },
     "execution_count": 255,
     "metadata": {},
     "output_type": "execute_result"
    }
   ],
   "source": [
    "facebook_dict"
   ]
  },
  {
   "cell_type": "markdown",
   "id": "952b1e86",
   "metadata": {},
   "source": [
    "deleting an element?"
   ]
  },
  {
   "cell_type": "code",
   "execution_count": 256,
   "id": "f8b57991",
   "metadata": {},
   "outputs": [],
   "source": [
    "del(facebook_dict['number_of_employees'])"
   ]
  },
  {
   "cell_type": "code",
   "execution_count": 257,
   "id": "9171e05a",
   "metadata": {},
   "outputs": [
    {
     "data": {
      "text/plain": [
       "{'founders': ['Mark Zuckerberg', 'Eduardo Saverin'],\n",
       " 'url': 'www.meta.com',\n",
       " 'number_of_users': 2.9}"
      ]
     },
     "execution_count": 257,
     "metadata": {},
     "output_type": "execute_result"
    }
   ],
   "source": [
    "facebook_dict"
   ]
  },
  {
   "cell_type": "code",
   "execution_count": 260,
   "id": "848b7dc4",
   "metadata": {},
   "outputs": [],
   "source": [
    "del(facebook_dict['number_of_users'])"
   ]
  },
  {
   "cell_type": "code",
   "execution_count": 261,
   "id": "13a7fc86",
   "metadata": {},
   "outputs": [
    {
     "data": {
      "text/plain": [
       "{'founders': ['Mark Zuckerberg', 'Eduardo Saverin'], 'url': 'www.meta.com'}"
      ]
     },
     "execution_count": 261,
     "metadata": {},
     "output_type": "execute_result"
    }
   ],
   "source": [
    "facebook_dict"
   ]
  },
  {
   "cell_type": "code",
   "execution_count": 262,
   "id": "ba76bc37",
   "metadata": {},
   "outputs": [
    {
     "data": {
      "text/plain": [
       "['Mark Zuckerberg', 'Eduardo Saverin']"
      ]
     },
     "execution_count": 262,
     "metadata": {},
     "output_type": "execute_result"
    }
   ],
   "source": [
    "facebook_dict.get('founders')"
   ]
  },
  {
   "cell_type": "code",
   "execution_count": 264,
   "id": "bd0b0aaf",
   "metadata": {},
   "outputs": [
    {
     "ename": "KeyError",
     "evalue": "'founder'",
     "output_type": "error",
     "traceback": [
      "\u001b[0;31m---------------------------------------------------------------------------\u001b[0m",
      "\u001b[0;31mKeyError\u001b[0m                                  Traceback (most recent call last)",
      "\u001b[0;32m/var/folders/m4/cywrtrdn0w70csynx5vlg40w0000gn/T/ipykernel_3280/918210285.py\u001b[0m in \u001b[0;36m<module>\u001b[0;34m\u001b[0m\n\u001b[0;32m----> 1\u001b[0;31m \u001b[0mfacebook_dict\u001b[0m\u001b[0;34m[\u001b[0m\u001b[0;34m'founder'\u001b[0m\u001b[0;34m]\u001b[0m\u001b[0;34m\u001b[0m\u001b[0;34m\u001b[0m\u001b[0m\n\u001b[0m",
      "\u001b[0;31mKeyError\u001b[0m: 'founder'"
     ]
    }
   ],
   "source": [
    "facebook_dict['founder']"
   ]
  },
  {
   "cell_type": "code",
   "execution_count": 265,
   "id": "1fd5c4a0",
   "metadata": {},
   "outputs": [],
   "source": [
    "facebook_dict.get('founder')"
   ]
  },
  {
   "cell_type": "markdown",
   "id": "26c26547",
   "metadata": {},
   "source": [
    "## Iterate over dictionaries"
   ]
  },
  {
   "cell_type": "code",
   "execution_count": 266,
   "id": "2860e55f",
   "metadata": {},
   "outputs": [
    {
     "data": {
      "text/plain": [
       "{'jpg': 100, 'png': 20, 'csv': 10, 'py': 25}"
      ]
     },
     "execution_count": 266,
     "metadata": {},
     "output_type": "execute_result"
    }
   ],
   "source": [
    "file_counts = {'jpg': 100, 'png': 20, 'csv': 10, 'py': 25}\n",
    "file_counts"
   ]
  },
  {
   "cell_type": "markdown",
   "id": "cace298b",
   "metadata": {},
   "source": [
    "keys, values, items"
   ]
  },
  {
   "cell_type": "code",
   "execution_count": 269,
   "id": "f9448c65",
   "metadata": {},
   "outputs": [
    {
     "name": "stdout",
     "output_type": "stream",
     "text": [
      "jpg 100\n",
      "png 20\n",
      "csv 10\n",
      "py 25\n"
     ]
    }
   ],
   "source": [
    "for key, value in file_counts.items():\n",
    "    \n",
    "    print(key, value)"
   ]
  },
  {
   "cell_type": "code",
   "execution_count": 270,
   "id": "cd7ec30e",
   "metadata": {},
   "outputs": [
    {
     "name": "stdout",
     "output_type": "stream",
     "text": [
      "jpg\n",
      "png\n",
      "csv\n",
      "py\n"
     ]
    }
   ],
   "source": [
    "for key in file_counts.keys():\n",
    "    print(key)"
   ]
  },
  {
   "cell_type": "code",
   "execution_count": 271,
   "id": "b4dceccb",
   "metadata": {},
   "outputs": [
    {
     "name": "stdout",
     "output_type": "stream",
     "text": [
      "100\n",
      "20\n",
      "10\n",
      "25\n"
     ]
    }
   ],
   "source": [
    "for value in file_counts.values():\n",
    "    print(value)"
   ]
  },
  {
   "cell_type": "code",
   "execution_count": 272,
   "id": "2cd8cf2a",
   "metadata": {},
   "outputs": [
    {
     "data": {
      "text/plain": [
       "dict_keys(['jpg', 'png', 'csv', 'py'])"
      ]
     },
     "execution_count": 272,
     "metadata": {},
     "output_type": "execute_result"
    }
   ],
   "source": [
    "file_counts.keys()"
   ]
  },
  {
   "cell_type": "code",
   "execution_count": 273,
   "id": "89d25a36",
   "metadata": {},
   "outputs": [
    {
     "data": {
      "text/plain": [
       "True"
      ]
     },
     "execution_count": 273,
     "metadata": {},
     "output_type": "execute_result"
    }
   ],
   "source": [
    "'jpg' in file_counts.keys()"
   ]
  },
  {
   "cell_type": "code",
   "execution_count": 274,
   "id": "f0b157eb",
   "metadata": {},
   "outputs": [
    {
     "data": {
      "text/plain": [
       "False"
      ]
     },
     "execution_count": 274,
     "metadata": {},
     "output_type": "execute_result"
    }
   ],
   "source": [
    "'html' in file_counts.keys()"
   ]
  },
  {
   "cell_type": "markdown",
   "id": "302e24c2",
   "metadata": {},
   "source": [
    "Write a function that recieves a text and returns a dictionary with the count of each letter"
   ]
  },
  {
   "cell_type": "code",
   "execution_count": 278,
   "id": "54c088bd",
   "metadata": {},
   "outputs": [],
   "source": [
    "text = 'Me siento en Victoria porque ella es un angel. Como Selena y The Weekend, como Shakira y Pique'\n",
    "\n",
    "def letter_counter(text):\n",
    "    \n",
    "    text = text.lower()\n",
    "    results_dict = {}\n",
    "    \n",
    "    for character in text:\n",
    "        \n",
    "        if character.isalpha():\n",
    "        \n",
    "            if character in results_dict.keys():\n",
    "                results_dict[character] +=1\n",
    "\n",
    "            else:\n",
    "                results_dict[character] = 1\n",
    "            \n",
    "        \n",
    "    return results_dict"
   ]
  },
  {
   "cell_type": "code",
   "execution_count": 279,
   "id": "f95483fe",
   "metadata": {},
   "outputs": [
    {
     "data": {
      "text/plain": [
       "{'m': 3,\n",
       " 'e': 14,\n",
       " 's': 4,\n",
       " 'i': 5,\n",
       " 'n': 6,\n",
       " 't': 3,\n",
       " 'o': 7,\n",
       " 'v': 1,\n",
       " 'c': 3,\n",
       " 'r': 3,\n",
       " 'a': 6,\n",
       " 'p': 2,\n",
       " 'q': 2,\n",
       " 'u': 3,\n",
       " 'l': 4,\n",
       " 'g': 1,\n",
       " 'y': 2,\n",
       " 'h': 2,\n",
       " 'w': 1,\n",
       " 'k': 2,\n",
       " 'd': 1}"
      ]
     },
     "execution_count": 279,
     "metadata": {},
     "output_type": "execute_result"
    }
   ],
   "source": [
    "letter_counter(text)"
   ]
  },
  {
   "cell_type": "markdown",
   "id": "f22222f0",
   "metadata": {},
   "source": [
    "## Sets"
   ]
  },
  {
   "cell_type": "markdown",
   "id": "42e46204",
   "metadata": {},
   "source": [
    "<img src='https://preview.redd.it/g6vhhhsht6b91.jpg?auto=webp&s=514dc3782f6f4c2c631035dbf4490cc7738f1eae' width='400' align='left'>"
   ]
  },
  {
   "cell_type": "code",
   "execution_count": 284,
   "id": "fa106a5d",
   "metadata": {},
   "outputs": [],
   "source": [
    "dict_foo = {'key1': 6, 'key2': 7, 'key3': 8}"
   ]
  },
  {
   "cell_type": "code",
   "execution_count": 285,
   "id": "e432ffe3",
   "metadata": {},
   "outputs": [
    {
     "data": {
      "text/plain": [
       "dict"
      ]
     },
     "execution_count": 285,
     "metadata": {},
     "output_type": "execute_result"
    }
   ],
   "source": [
    "type(dict_foo)"
   ]
  },
  {
   "cell_type": "code",
   "execution_count": 286,
   "id": "33a27eef",
   "metadata": {},
   "outputs": [],
   "source": [
    "set_foo = {'key1', 'key2', 'key3'}"
   ]
  },
  {
   "cell_type": "code",
   "execution_count": 287,
   "id": "c2816739",
   "metadata": {},
   "outputs": [
    {
     "data": {
      "text/plain": [
       "set"
      ]
     },
     "execution_count": 287,
     "metadata": {},
     "output_type": "execute_result"
    }
   ],
   "source": [
    "type(set_foo)"
   ]
  },
  {
   "cell_type": "code",
   "execution_count": 288,
   "id": "3b9199b5",
   "metadata": {},
   "outputs": [
    {
     "data": {
      "text/plain": [
       "{'key1', 'key2', 'key3'}"
      ]
     },
     "execution_count": 288,
     "metadata": {},
     "output_type": "execute_result"
    }
   ],
   "source": [
    "set_foo = {'key1', 'key2', 'key3', 'key3', 'key3'}\n",
    "set_foo"
   ]
  },
  {
   "cell_type": "code",
   "execution_count": 289,
   "id": "019e14b9",
   "metadata": {},
   "outputs": [
    {
     "data": {
      "text/plain": [
       "{'key1': 6, 'key2': 20, 'key3': 8}"
      ]
     },
     "execution_count": 289,
     "metadata": {},
     "output_type": "execute_result"
    }
   ],
   "source": [
    "dict_foo = {'key1': 6, 'key2': 7, 'key3': 8, 'key2':20}\n",
    "dict_foo"
   ]
  },
  {
   "cell_type": "code",
   "execution_count": 290,
   "id": "505461fc",
   "metadata": {},
   "outputs": [],
   "source": [
    "set1 = {'key1', 'key2', 'key3', 'key3', 'key3'}\n",
    "set2 = { 'key3', 'key3', 'key3', 'key4'}"
   ]
  },
  {
   "cell_type": "code",
   "execution_count": 291,
   "id": "e21b556a",
   "metadata": {},
   "outputs": [
    {
     "data": {
      "text/plain": [
       "{'key1', 'key2', 'key3'}"
      ]
     },
     "execution_count": 291,
     "metadata": {},
     "output_type": "execute_result"
    }
   ],
   "source": [
    "set1"
   ]
  },
  {
   "cell_type": "code",
   "execution_count": 292,
   "id": "51541cfb",
   "metadata": {},
   "outputs": [
    {
     "data": {
      "text/plain": [
       "{'key3', 'key4'}"
      ]
     },
     "execution_count": 292,
     "metadata": {},
     "output_type": "execute_result"
    }
   ],
   "source": [
    "set2"
   ]
  },
  {
   "cell_type": "code",
   "execution_count": 293,
   "id": "a52cdb57",
   "metadata": {},
   "outputs": [
    {
     "data": {
      "text/plain": [
       "{'key3'}"
      ]
     },
     "execution_count": 293,
     "metadata": {},
     "output_type": "execute_result"
    }
   ],
   "source": [
    "set1.intersection(set2)"
   ]
  },
  {
   "cell_type": "markdown",
   "id": "25e76465",
   "metadata": {},
   "source": [
    "## Explicit casting"
   ]
  },
  {
   "cell_type": "code",
   "execution_count": 294,
   "id": "e0f7fc6b",
   "metadata": {},
   "outputs": [],
   "source": [
    "cadena = 'abcde'\n",
    "listas = ['a', 'b', 'c', 'd', 'e']\n",
    "tuplas = ('a', 'b', 'c', 'd', 'e')\n",
    "sets = {'a', 'b', 'c', 'd', 'e'}"
   ]
  },
  {
   "cell_type": "code",
   "execution_count": 296,
   "id": "a6c9706e",
   "metadata": {},
   "outputs": [
    {
     "data": {
      "text/plain": [
       "['a', 'b', 'c', 'd', 'e']"
      ]
     },
     "execution_count": 296,
     "metadata": {},
     "output_type": "execute_result"
    }
   ],
   "source": [
    "list(cadena)"
   ]
  },
  {
   "cell_type": "code",
   "execution_count": 297,
   "id": "50cb25c6",
   "metadata": {},
   "outputs": [
    {
     "data": {
      "text/plain": [
       "('a', 'b', 'c', 'd', 'e')"
      ]
     },
     "execution_count": 297,
     "metadata": {},
     "output_type": "execute_result"
    }
   ],
   "source": [
    "tuple(cadena)"
   ]
  },
  {
   "cell_type": "code",
   "execution_count": 298,
   "id": "6cb0a7d2",
   "metadata": {},
   "outputs": [
    {
     "data": {
      "text/plain": [
       "['e', 'a', 'b', 'c', 'd']"
      ]
     },
     "execution_count": 298,
     "metadata": {},
     "output_type": "execute_result"
    }
   ],
   "source": [
    "list(sets)"
   ]
  },
  {
   "cell_type": "code",
   "execution_count": 300,
   "id": "794fde39",
   "metadata": {},
   "outputs": [
    {
     "data": {
      "text/plain": [
       "['key1', 'key2', 'key3', 'key3', 'key3']"
      ]
     },
     "execution_count": 300,
     "metadata": {},
     "output_type": "execute_result"
    }
   ],
   "source": [
    "lista = ['key1', 'key2', 'key3', 'key3', 'key3']\n",
    "lista"
   ]
  },
  {
   "cell_type": "code",
   "execution_count": 301,
   "id": "cf97a383",
   "metadata": {},
   "outputs": [
    {
     "data": {
      "text/plain": [
       "{'key1', 'key2', 'key3'}"
      ]
     },
     "execution_count": 301,
     "metadata": {},
     "output_type": "execute_result"
    }
   ],
   "source": [
    "set(lista)"
   ]
  },
  {
   "cell_type": "code",
   "execution_count": 302,
   "id": "b8ed8f0f",
   "metadata": {},
   "outputs": [
    {
     "data": {
      "text/plain": [
       "['key3', 'key2', 'key1']"
      ]
     },
     "execution_count": 302,
     "metadata": {},
     "output_type": "execute_result"
    }
   ],
   "source": [
    "list(set(lista))"
   ]
  },
  {
   "cell_type": "markdown",
   "id": "86ca1de8",
   "metadata": {},
   "source": [
    "## Exercises"
   ]
  },
  {
   "cell_type": "markdown",
   "id": "df60ab2f",
   "metadata": {},
   "source": [
    "Complete the code to iterate through the keys and values of the car_prices dictionary, printing out some information about each one."
   ]
  },
  {
   "cell_type": "code",
   "execution_count": 59,
   "id": "1f441875",
   "metadata": {},
   "outputs": [
    {
     "name": "stdout",
     "output_type": "stream",
     "text": [
      "Ferrari costs 226570 dollars \n",
      "Twingo costs 2654 dollars \n",
      "\n"
     ]
    }
   ],
   "source": [
    "def car_listing(car_prices):\n",
    "    \n",
    "    result = \"\"\n",
    "    \n",
    "    for car, price in car_prices.items():\n",
    "        \n",
    "        result += f\"{car} costs {price} dollars \\n\"\n",
    "        \n",
    "    return result\n",
    "\n",
    "print(car_listing({\"Ferrari\":226570, \"Twingo\":2654}))"
   ]
  },
  {
   "cell_type": "markdown",
   "id": "ea963987",
   "metadata": {},
   "source": [
    "The email_list function receives a dictionary, which contains domain names as keys, and a list of users as values. Fill in the blanks to generate a list that contains complete email addresses (e.g. diana.prince@gmail.com)."
   ]
  },
  {
   "cell_type": "code",
   "execution_count": 60,
   "id": "d55d346a",
   "metadata": {},
   "outputs": [
    {
     "name": "stdout",
     "output_type": "stream",
     "text": [
      "['anthony.stark@avengers.com', 'thor.odinson@avengers.com', 'steve.rodgers@avengers.com', 'barbara.gordon@dccomics.com', 'bruce.wayne@dccomics.com', 'slade.wilson@dccomics.com', 'jean.gray@xmen.com', 'hank.mccoy@xmen.com']\n"
     ]
    }
   ],
   "source": [
    "def email_list(domains):\n",
    "    emails = []\n",
    "    \n",
    "    for domain, users in domains.items():\n",
    "        \n",
    "        for user in users:\n",
    "            emails.append(f'{user}@{domain}')\n",
    "    \n",
    "    return emails\n",
    "    \n",
    "print(email_list({\"avengers.com\": [\"anthony.stark\", \"thor.odinson\", \"steve.rodgers\"], \"dccomics.com\": [\"barbara.gordon\", \"bruce.wayne\", \"slade.wilson\"], \"xmen.com\": [\"jean.gray\", \"hank.mccoy\"]}))"
   ]
  },
  {
   "cell_type": "markdown",
   "id": "5932ecf8",
   "metadata": {},
   "source": [
    "Write a function that returns the total price of all the groceries in a dictionary"
   ]
  },
  {
   "cell_type": "code",
   "execution_count": 61,
   "id": "2a60bd1b",
   "metadata": {},
   "outputs": [
    {
     "name": "stdout",
     "output_type": "stream",
     "text": [
      "28.44\n"
     ]
    }
   ],
   "source": [
    "def add_prices(basket):\n",
    "\n",
    "    total = 0\n",
    "    \n",
    "    for price in basket.values():\n",
    "        total += price\n",
    "    \n",
    "    return round(total, 2)  \n",
    "\n",
    "\n",
    "groceries = {\"bananas\": 1.56, \"apples\": 2.50, \"oranges\": 0.99, \n",
    "             \"bread\": 4.59, \"coffee\": 6.99, \"milk\": 3.39, \n",
    "             \"eggs\": 2.98, \"cheese\": 5.44}\n",
    "\n",
    "# Should print 28.44\n",
    "print(add_prices(groceries)) "
   ]
  },
  {
   "cell_type": "markdown",
   "id": "654c118c",
   "metadata": {},
   "source": [
    "Taylor and Rory are hosting a party. They sent out invitations, and each one collected responses into dictionaries, with names of their friends and how many guests each friend is bringing. Each dictionary is a partial list, but Rory's list has more current information about the number of guests. Fill in the blanks to combine both dictionaries into one, with each friend listed only once, and the number of guests from Rory's dictionary taking precedence, if a name is included in both dictionaries. Then print the resulting dictionary."
   ]
  },
  {
   "cell_type": "code",
   "execution_count": 63,
   "id": "0095a7cf",
   "metadata": {},
   "outputs": [
    {
     "name": "stdout",
     "output_type": "stream",
     "text": [
      "{'David': 1, 'Nancy': 1, 'Robert': 4, 'Adam': 2, 'Samantha': 3, 'Chris': 5, 'Brenda': 3, 'Jose': 3, 'Charlotte': 2, 'Terry': 1}\n"
     ]
    }
   ],
   "source": [
    "def combine_guests(guests1, guests2):\n",
    "    # Combine both dictionaries into one, with each key listed \n",
    "    # only once, and the value from guests1 taking precedence\n",
    "\n",
    "    guests2.update(guests1)\n",
    "    return guests2\n",
    "\n",
    "Rorys_guests = { \"Adam\":2, \"Brenda\":3, \"David\":1, \"Jose\":3, \"Charlotte\":2, \"Terry\":1, \"Robert\":4}\n",
    "Taylors_guests = { \"David\":4, \"Nancy\":1, \"Robert\":2, \"Adam\":1, \"Samantha\":3, \"Chris\":5}\n",
    "\n",
    "print(combine_guests(Rorys_guests, Taylors_guests))"
   ]
  },
  {
   "cell_type": "markdown",
   "id": "49ead60a",
   "metadata": {},
   "source": [
    "Use a dictionary to count the frequency of letters in the input string. Only letters should be counted, not blank spaces, numbers, or punctuation. Upper case should be considered the same as lower case. For example, count_letters(\"This is a sentence.\") should return {'t': 2, 'h': 1, 'i': 2, 's': 3, 'a': 1, 'e': 3, 'n': 2, 'c': 1}.\n"
   ]
  },
  {
   "cell_type": "code",
   "execution_count": 64,
   "id": "ca1fefb5",
   "metadata": {},
   "outputs": [],
   "source": [
    "text = 'This is a sentence'"
   ]
  },
  {
   "cell_type": "code",
   "execution_count": 68,
   "id": "ef7c1235",
   "metadata": {},
   "outputs": [
    {
     "name": "stdout",
     "output_type": "stream",
     "text": [
      "{'a': 2, 'b': 2, 'c': 2}\n",
      "{'m': 1, 'a': 1, 't': 1, 'h': 1, 'i': 1, 's': 1, 'f': 1, 'u': 1, 'n': 1}\n",
      "{'t': 2, 'h': 1, 'i': 2, 's': 3, 'a': 1, 'e': 3, 'n': 2, 'c': 1}\n"
     ]
    }
   ],
   "source": [
    "def count_letters(text):\n",
    "    \n",
    "    text = text.lower()\n",
    "    result = {}\n",
    "    \n",
    "    for char in text:\n",
    "        \n",
    "        if char.isalpha():\n",
    "            if char in result.keys():\n",
    "                result[char] += 1\n",
    "            else:\n",
    "                result[char] = 1\n",
    "\n",
    "    return result\n",
    "\n",
    "print(count_letters(\"AaBbCc\"))\n",
    "# Should be {'a': 2, 'b': 2, 'c': 2}\n",
    "\n",
    "print(count_letters(\"Math is fun! 2+2=4\"))\n",
    "# Should be {'m': 1, 'a': 1, 't': 1, 'h': 1, 'i': 1, 's': 1, 'f': 1, 'u': 1, 'n': 1}\n",
    "\n",
    "print(count_letters(\"This is a sentence.\"))\n",
    "# Should be {'t': 2, 'h': 1, 'i': 2, 's': 3, 'a': 1, 'e': 3, 'n': 2, 'c': 1}"
   ]
  },
  {
   "cell_type": "markdown",
   "id": "25ce0b95",
   "metadata": {},
   "source": [
    "## Challenge"
   ]
  },
  {
   "cell_type": "markdown",
   "id": "e066eb70",
   "metadata": {},
   "source": [
    "The groups_per_user function receives a dictionary, which contains group names with the list of users. Users can belong to multiple groups. Fill in the blanks to return a dictionary with the users as keys and a list of their groups as values. "
   ]
  },
  {
   "cell_type": "code",
   "execution_count": 69,
   "id": "3ac4110d",
   "metadata": {},
   "outputs": [
    {
     "name": "stdout",
     "output_type": "stream",
     "text": [
      "{'admin': ['local', 'public', 'administrator'], 'userA': ['local'], 'userB': ['public']}\n"
     ]
    }
   ],
   "source": [
    "def groups_per_user(group_dictionary):\n",
    "\n",
    "    user_groups = {}\n",
    "    \n",
    "    for group, users in group_dictionary.items():\n",
    "        for user in users:\n",
    "            if user in user_groups.keys():\n",
    "                user_groups[user] += [group]\n",
    "            else:\n",
    "                user_groups[user] = [group]\n",
    "    \n",
    "    return(user_groups)\n",
    "\n",
    "\n",
    "# should return {'admin': ['local', 'public', 'administrator'], 'userA': ['local'], 'userB': ['public']}\n",
    "print(groups_per_user({\"local\": [\"admin\", \"userA\"], \"public\":  [\"admin\", \"userB\"], \"administrator\": [\"admin\"] }))"
   ]
  },
  {
   "cell_type": "markdown",
   "id": "d6a6b5b5",
   "metadata": {},
   "source": [
    "## Extra Excercises"
   ]
  },
  {
   "cell_type": "markdown",
   "id": "0686797a",
   "metadata": {},
   "source": [
    "The format_address function separates out parts of the address string into new strings: house_number and street_name, and returns: \"house number X on street named Y\". \n",
    "\n",
    "The format of the input string is: numeric house number, followed by the street name which may contain numbers, but never by themselves, and could be several words long. \n",
    "\n",
    "For example, \"123 Main Street\", \"1001 1st Ave\", or \"55 North Center Drive\". \n",
    "\n",
    "Complete the function"
   ]
  },
  {
   "cell_type": "code",
   "execution_count": 72,
   "id": "36e46a96",
   "metadata": {},
   "outputs": [
    {
     "name": "stdout",
     "output_type": "stream",
     "text": [
      "house number 123 on street named Main Street\n",
      "house number 1001 on street named 1st Ave\n",
      "house number 55 on street named North Center Drive\n"
     ]
    }
   ],
   "source": [
    "def format_address(address_string):\n",
    "    \n",
    "    words = address_string.split()\n",
    "    \n",
    "    return f\"house number {words[0]} on street named {' '.join(words[1:])}\"\n",
    "\n",
    "\n",
    "print(format_address(\"123 Main Street\"))\n",
    "# Should print: \"house number 123 on street named Main Street\"\n",
    "\n",
    "print(format_address(\"1001 1st Ave\"))\n",
    "# Should print: \"house number 1001 on street named 1st Ave\"\n",
    "\n",
    "print(format_address(\"55 North Center Drive\"))\n",
    "# Should print \"house number 55 on street named North Center Drive\""
   ]
  },
  {
   "cell_type": "markdown",
   "id": "cd0c836b",
   "metadata": {},
   "source": [
    "The highlight_word function changes the given word in a sentence to its upper-case version. \n",
    "\n",
    "For example, highlight_word(\"Have a nice day\", \"nice\") returns \"Have a NICE day\". \n",
    "\n",
    "BONUS: Can you write this function in just one line?"
   ]
  },
  {
   "cell_type": "code",
   "execution_count": 73,
   "id": "60043c0a",
   "metadata": {},
   "outputs": [
    {
     "name": "stdout",
     "output_type": "stream",
     "text": [
      "Have a NICE day\n",
      "Shhh, don't be so LOUD!\n",
      "Automating with Python is FUN\n"
     ]
    }
   ],
   "source": [
    "def highlight_word(sentence, word):\n",
    "    \n",
    "    return sentence.replace(word, word.upper())\n",
    "\n",
    "#Should return \"Have a NICE day\"\n",
    "print(highlight_word(\"Have a nice day\", \"nice\"))\n",
    "\n",
    "#Should return \"Shhh, don't be so LOUD!\"\n",
    "print(highlight_word(\"Shhh, don't be so loud!\", \"loud\"))\n",
    "\n",
    "#Should return \"Automating with Python is FUN\"\n",
    "print(highlight_word(\"Automating with Python is fun\", \"fun\"))"
   ]
  },
  {
   "cell_type": "markdown",
   "id": "187798cc",
   "metadata": {},
   "source": [
    "# Contact\n",
    "Manuel Montoya Gamio\n",
    "* Correo: manuel.montoya@pucp.edu.pe\n",
    "* Telegram / Whatsapp: +56942703126"
   ]
  }
 ],
 "metadata": {
  "kernelspec": {
   "display_name": "Python 3 (ipykernel)",
   "language": "python",
   "name": "python3"
  },
  "language_info": {
   "codemirror_mode": {
    "name": "ipython",
    "version": 3
   },
   "file_extension": ".py",
   "mimetype": "text/x-python",
   "name": "python",
   "nbconvert_exporter": "python",
   "pygments_lexer": "ipython3",
   "version": "3.9.7"
  }
 },
 "nbformat": 4,
 "nbformat_minor": 5
}
